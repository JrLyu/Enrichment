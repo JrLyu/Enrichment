{
 "cells": [
  {
   "attachments": {},
   "cell_type": "markdown",
   "metadata": {},
   "source": [
    "# CS 170"
   ]
  },
  {
   "attachments": {},
   "cell_type": "markdown",
   "metadata": {},
   "source": [
    "## Hello Word!"
   ]
  },
  {
   "cell_type": "code",
   "execution_count": 54,
   "metadata": {},
   "outputs": [
    {
     "name": "stdout",
     "output_type": "stream",
     "text": [
      "Hello CS 170 World!\n"
     ]
    }
   ],
   "source": [
    "System.out.println(\"Hello CS 170 World!\");"
   ]
  },
  {
   "attachments": {},
   "cell_type": "markdown",
   "metadata": {},
   "source": [
    "## Errors and Debugging\n",
    "\n",
    "### Does my program work?\n",
    "- It's very difficult to prove mathematically that a program works as expected\n",
    "    - There are advanced formal techniques used in very sensitive applications (flight controllers, medical devices, ...)\n",
    "- Instead, we try the program with a representative set of inputs and check the results: **Testing**.\n",
    "\n",
    "### Testing\n",
    "- Try all the examples that are given to you with the problem\n",
    "- Think of edge cases or extreme cases: zero, smallest or biggest possible values, boundaries of conditional statements, beginning and ending values in loops, etc. \n",
    "- It is helpful to write your test cases even before writing the code.\n",
    "    - It helps you understand the problem better.\n",
    "- Test your code often while you program\n",
    "    - Incrementally test and fix partial program\n",
    "\n",
    "\n",
    "### Errors\n",
    "- Syntax errors (compile-time errors)\n",
    "    - The code doesn't compile nor execute\n",
    "    - Relatively easy to find and fix\n",
    "    - Read the system messages\n",
    "    - Often the error is in the line before the line the system indicates\n",
    "-Logical errors (execution errors, run-time errors)\n",
    "    - The code executes, but it does not work as expected\n",
    "    - The program may crash\n",
    "    - The program may never end (infinite loops)\n",
    "    - The program may give incorrect results\n",
    "\n",
    "\n",
    "### Debugging Steps\n",
    "- Reproduce the problem\n",
    "    - Find the input values that trigger the problem\n",
    "    - What is the program supposed to do? (expected output)\n",
    "    - What is the program doing instead? (real output)\n",
    "- Examine the program behavior for that input\n",
    "    - Code tracing\n",
    "    - Visualize the internal state of the program with temporary print statements\n",
    "- Fix only one thing at a time\n",
    "    - Changing many things at the same time will get you out of control\n",
    "- Retest all your test cases\n",
    "    - Your fix might have broken something else\n",
    "- Clean up your code\n",
    "    - Remove all temporary print statements, temporary variables, breaks, etc. "
   ]
  },
  {
   "attachments": {},
   "cell_type": "markdown",
   "metadata": {},
   "source": [
    "## Values, Types, and Operators"
   ]
  },
  {
   "attachments": {},
   "cell_type": "markdown",
   "metadata": {},
   "source": [
    "### Values\n",
    "\n",
    "Every value has a type"
   ]
  },
  {
   "attachments": {},
   "cell_type": "markdown",
   "metadata": {},
   "source": [
    "`int`: ***Integers***"
   ]
  },
  {
   "cell_type": "code",
   "execution_count": 57,
   "metadata": {},
   "outputs": [
    {
     "name": "stdout",
     "output_type": "stream",
     "text": [
      "90\n",
      "0\n",
      "-5\n"
     ]
    }
   ],
   "source": [
    "System.out.println(90);\n",
    "System.out.println(0);\n",
    "System.out.println(-5);"
   ]
  },
  {
   "attachments": {},
   "cell_type": "markdown",
   "metadata": {},
   "source": [
    "`double`: ***float point numbers***\n",
    "\n",
    "***Note***: \n",
    "- Important: although `1` and `1.0` is the same mathematically, `1` is a value of type `int`, and `1.0` is a value of type `double`.\n",
    "\n",
    "- Tough the result only returns several digits of pi (around 15 digits), the value of `Math.PI` stored in the computer is larger. "
   ]
  },
  {
   "cell_type": "code",
   "execution_count": 58,
   "metadata": {},
   "outputs": [
    {
     "name": "stdout",
     "output_type": "stream",
     "text": [
      "5.2\n",
      "1.0\n",
      "-2.5\n",
      "3.141592653589793\n"
     ]
    }
   ],
   "source": [
    "System.out.println(5.2);\n",
    "System.out.println(1.0);\n",
    "System.out.println(-2.5);\n",
    "System.out.println(Math.PI);"
   ]
  },
  {
   "attachments": {},
   "cell_type": "markdown",
   "metadata": {},
   "source": [
    "`String`: Text Strings\n",
    "\n",
    "***Note***: \n",
    "- `String` is a Java type name, and `string` is a regular name.\n",
    "- Use `\\\"` we can include quotes in a string. This notation is called escaping the quotes\n",
    "- Without escaping the quotes, we will get syntax errors. "
   ]
  },
  {
   "cell_type": "code",
   "execution_count": 59,
   "metadata": {},
   "outputs": [
    {
     "name": "stdout",
     "output_type": "stream",
     "text": [
      "hello\n",
      "Hey you\n",
      "\n",
      "5\n",
      "hello \"stranger\"!!!\n"
     ]
    }
   ],
   "source": [
    "System.out.println(\"hello\");\n",
    "System.out.println(\"Hey you\");\n",
    "\n",
    "// Here gives an example of empty string. The result will be just an empty line.\n",
    "System.out.println(\"\");\n",
    "\n",
    "// The following example is not integer `5`, but the string `\"5\"`.\n",
    "System.out.println(\"5\");\n",
    "\n",
    "System.out.println(\"hello \\\"stranger\\\"!!!\");\n",
    "// System.out.println(\"hello \"stranger\"!!!\"); // ERROR! "
   ]
  },
  {
   "attachments": {},
   "cell_type": "markdown",
   "metadata": {},
   "source": [
    "***Object***\n",
    "\n",
    "> An Object is a type composed of multiple values (attributes) and also the definition of operations (methods)\n",
    "\n",
    "**E.g.** a `Turtle` is an Object."
   ]
  },
  {
   "attachments": {},
   "cell_type": "markdown",
   "metadata": {},
   "source": [
    "### Operators"
   ]
  },
  {
   "attachments": {},
   "cell_type": "markdown",
   "metadata": {},
   "source": [
    "***Arithmetic Operators***: `+`, `-`, `*`, `%`"
   ]
  },
  {
   "cell_type": "code",
   "execution_count": 62,
   "metadata": {},
   "outputs": [
    {
     "name": "stdout",
     "output_type": "stream",
     "text": [
      "--- Addition ---\n",
      "3\n",
      "3.5\n",
      "3.3\n",
      "3.0\n",
      "--- Subtraction ---\n",
      "-1\n",
      "1.5\n",
      "--- Multiplication ---\n",
      "6\n",
      "7.0\n",
      "--- Division ---\n",
      "1\n",
      "2\n",
      "1\n",
      "2.5\n",
      "2.5\n",
      "2.5\n",
      "--- Compare ---\n",
      "51.42857142857143\n",
      "51\n"
     ]
    }
   ],
   "source": [
    "System.out.println(\"--- Addition ---\");\n",
    "System.out.println(1 + 2); // 3 (int)\n",
    "System.out.println(1.2 + 2.3); // 3.5 (double)\n",
    "System.out.println(1 + 2.3); // 3.3 (double)\n",
    "System.out.println(1.0 + 2); // 3.0 (double)\n",
    "\n",
    "System.out.println(\"--- Subtraction ---\");\n",
    "System.out.println(1 - 2); // -1 (int)\n",
    "System.out.println(2.5 - 1); // 1.5 (double)\n",
    "\n",
    "System.out.println(\"--- Multiplication ---\");\n",
    "System.out.println(2 * 3); // 6 (int)\n",
    "System.out.println(2 * 3.5); // 7.0 (double)\n",
    "\n",
    "System.out.println(\"--- Division ---\");\n",
    "// Integer division: int / int = int\n",
    "System.out.println(3 / 2); // 1 (int)\n",
    "System.out.println(5 / 2); // 2 (int)\n",
    "System.out.println(5 / 3); // 1 (int)\n",
    "// Double division: double / double = double\n",
    "System.out.println(5.0 / 2.0); // 2.5 (double)\n",
    "// Double - Integer division: double / int = double; int / double = double\n",
    "// The way Java operate this is to promote the integer to the double, which makes the result double.\n",
    "System.out.println(5.0 / 2); // 2.5 (double)\n",
    "System.out.println(5 / 2.0); // 2.5 (double)\n",
    "\n",
    "System.out.println(\"--- Compare ---\");\n",
    "System.out.println(360.0 / 7);\n",
    "System.out.println(360 / 7); "
   ]
  },
  {
   "attachments": {},
   "cell_type": "markdown",
   "metadata": {},
   "source": [
    "***Modulo***: `%`\n",
    "\n",
    "- If `x % n` is `0`, then `x` is a multiple of `n`\n",
    "- If `x % n` is always between `0` and `n-1` (always smaller than `n`)"
   ]
  },
  {
   "cell_type": "code",
   "execution_count": 63,
   "metadata": {},
   "outputs": [
    {
     "name": "stdout",
     "output_type": "stream",
     "text": [
      "1\n",
      "1\n",
      "0\n",
      "1\n",
      "2\n",
      "3\n",
      "0\n"
     ]
    }
   ],
   "source": [
    "System.out.println(7 % 2); // 1\n",
    "System.out.println(7 % 3); // 1\n",
    "System.out.println(0 % 4); // 0\n",
    "System.out.println(1 % 4); // 1\n",
    "System.out.println(2 % 4); // 2\n",
    "System.out.println(3 % 4); // 3\n",
    "System.out.println(4 % 4); // 0"
   ]
  },
  {
   "attachments": {},
   "cell_type": "markdown",
   "metadata": {},
   "source": [
    "***String Concatenation***: `+`"
   ]
  },
  {
   "cell_type": "code",
   "execution_count": 64,
   "metadata": {},
   "outputs": [
    {
     "name": "stdout",
     "output_type": "stream",
     "text": [
      "helloeveryone\n",
      "hey you\n",
      "helloeveryone\n",
      "hello5\n"
     ]
    }
   ],
   "source": [
    "System.out.println(\"hello\" + \"everyone\"); // \"helloeveryone\"\n",
    "System.out.println(\"hey\" + \" you\"); // \"hey you\"\n",
    "System.out.println(\"hello\" + \"\" + \"everyone\"); // \"hello everyone\"\n",
    "System.out.println(\"hello\" + \"5\"); // \"hello5\""
   ]
  },
  {
   "attachments": {},
   "cell_type": "markdown",
   "metadata": {},
   "source": [
    "If we connect one string and an integer using `+`, we will get: \n",
    "\n",
    "```java\n",
    "String + int = String\n",
    "int + String = String\n",
    "```\n",
    "*The way java work here is to promote an integer to a string, which results the final output to be a string.*\n"
   ]
  },
  {
   "cell_type": "code",
   "execution_count": 65,
   "metadata": {},
   "outputs": [
    {
     "name": "stdout",
     "output_type": "stream",
     "text": [
      "hello5\n",
      "12\n",
      "33\n",
      "123\n",
      "15\n"
     ]
    }
   ],
   "source": [
    "System.out.println(\"hello\" + 5); // \"hello5\"\n",
    "System.out.println(1 + \"2\"); // \"12\"\n",
    "System.out.println(1 + 2 + \"3\"); // \"33\"\n",
    "    // Explanation: As Java reads the code from left to right, it will calculate `1+2` first, which is 3 (int).\n",
    "    // Then add `3` (int) to `\"3\"` (string), resulting the final `\"33\"` (string). If we want to overwrite the order, we need `()`\n",
    "System.out.println(\"1\" + 2 + 3); // \"123\"\n",
    "    // Explanation: First calculate `\"1\" + 2`, which is `\"12\"`. Then calculate `\"12\" + 3`, which is `\"123\"`\n",
    "System.out.println(\"1\" + (2 + 3)); // \"15\"\n",
    "    // Explanation: Because the `()`, we will first calculate `2 + 3`, which is `5` (int). \n",
    "    // Then, `5` (int) is promoted to the string `\"1\"`."
   ]
  },
  {
   "attachments": {},
   "cell_type": "markdown",
   "metadata": {},
   "source": [
    "***Length of a String***: `String.length()`\n",
    "\n",
    "***Note***: \n",
    "- the space is also a character.\n",
    "- Similarly, the quotation marks are also characters."
   ]
  },
  {
   "cell_type": "code",
   "execution_count": 66,
   "metadata": {},
   "outputs": [
    {
     "name": "stdout",
     "output_type": "stream",
     "text": [
      "5\n",
      "0\n",
      "7\n",
      "9\n"
     ]
    }
   ],
   "source": [
    "System.out.println(\"hello\".length()); // 5\n",
    "System.out.println(\"\".length()); // 0\n",
    "System.out.println(\"hey you\".length()); // 7\n",
    "System.out.println(\"hey \\\"you\\\"\".length()); // 9"
   ]
  },
  {
   "attachments": {},
   "cell_type": "markdown",
   "metadata": {},
   "source": [
    "### Type Conversions"
   ]
  },
  {
   "attachments": {},
   "cell_type": "markdown",
   "metadata": {},
   "source": [
    "`int` $\\rightarrow$ `double`"
   ]
  },
  {
   "cell_type": "code",
   "execution_count": 67,
   "metadata": {},
   "outputs": [
    {
     "name": "stdout",
     "output_type": "stream",
     "text": [
      "5.0\n",
      "5.0\n"
     ]
    }
   ],
   "source": [
    "System.out.println(1.0 * 5); // 5.0\n",
    "System.out.println(0.0 + 5); // 5.0"
   ]
  },
  {
   "attachments": {},
   "cell_type": "markdown",
   "metadata": {},
   "source": [
    "Or, we can use a type cast, which is a direct way to convert the types. "
   ]
  },
  {
   "cell_type": "code",
   "execution_count": 68,
   "metadata": {},
   "outputs": [
    {
     "name": "stdout",
     "output_type": "stream",
     "text": [
      "5.0\n"
     ]
    }
   ],
   "source": [
    "System.out.println((double)5); // 5.0"
   ]
  },
  {
   "attachments": {},
   "cell_type": "markdown",
   "metadata": {},
   "source": [
    "`double` $\\rightarrow$ `int`\n",
    "\n",
    "We will use type cast to convert double to int. \n",
    "\n",
    "However, if double value is not mathematically equal to an integer, we will have information loss. \n",
    "\n",
    "***Note***: anything after the decimal place will be omitted. Or, in other word, the type cast will always round down.\n"
   ]
  },
  {
   "cell_type": "code",
   "execution_count": 69,
   "metadata": {},
   "outputs": [
    {
     "name": "stdout",
     "output_type": "stream",
     "text": [
      "5\n",
      "5\n",
      "3\n"
     ]
    }
   ],
   "source": [
    "System.out.println((int)5.0); // 5 (int)\n",
    "System.out.println((int)5.7); // 5 (int)\n",
    "System.out.println((int)Math.PI); // 3"
   ]
  },
  {
   "attachments": {},
   "cell_type": "markdown",
   "metadata": {},
   "source": [
    "`int` or `double` $\\rightarrow$ `String`\n",
    "\n",
    "***Note***: We cannot type cast a number to `String`*"
   ]
  },
  {
   "cell_type": "code",
   "execution_count": 70,
   "metadata": {},
   "outputs": [
    {
     "name": "stdout",
     "output_type": "stream",
     "text": [
      "5\n",
      "3.141592653589793\n",
      "Math.PI\n"
     ]
    }
   ],
   "source": [
    "System.out.println(\"\" + 5); // \"5\"\n",
    "// System.out.println((String)5); // ERROR! \n",
    "System.out.println(\"\" + Math.PI); // \"3.14159...\"\n",
    "System.out.println(\"\" + \"Math.PI\"); // \"Math.PI\""
   ]
  },
  {
   "attachments": {},
   "cell_type": "markdown",
   "metadata": {},
   "source": [
    "`String` $\\rightarrow$ `int`\n",
    "\n",
    "We can use `Integer.parseInt()` (method) to convert a string to an integer.\n",
    "\n",
    "```java\n",
    "Integer.parseInt(\"String\")\n",
    "```\n",
    "\n",
    "***Note***: If we are trying to convert a string that cannot be converted into an integer, we will get a logic error"
   ]
  },
  {
   "cell_type": "code",
   "execution_count": 72,
   "metadata": {},
   "outputs": [
    {
     "name": "stdout",
     "output_type": "stream",
     "text": [
      "5\n",
      "7\n",
      "52\n"
     ]
    }
   ],
   "source": [
    "System.out.println(Integer.parseInt(\"5\")); // 5 (int)\n",
    "System.out.println(Integer.parseInt(\"5\") + 2); // 7 (int)\n",
    "System.out.println(Integer.parseInt(\"5\" + 2)); // 52 (int)\n",
    "// System.out.println(Integer.parseInt(\"hello5\")); // ERROR"
   ]
  },
  {
   "attachments": {},
   "cell_type": "markdown",
   "metadata": {},
   "source": [
    "`String` $\\rightarrow$ `double`\n",
    "\n",
    "We can use `Double.parseDouble()` (method) to convert a string to a double"
   ]
  },
  {
   "cell_type": "code",
   "execution_count": null,
   "metadata": {},
   "outputs": [],
   "source": [
    "System.out.println(Double.parseDouble(\"5.7\")); // 5.7 (double)\n",
    "System.out.println(Double.parseDouble(\"5\")); // 5.0 (double)\n",
    "// System.out.println(Double.parseDouble(Math.PI)); // ERROR: Math.PI is already a double.\n",
    "// System.out.println(Double.parseDouble(\"Math.PI\")); // ERROR: \"Math.PI\" is a text string, and does not represent any numbers."
   ]
  },
  {
   "attachments": {},
   "cell_type": "markdown",
   "metadata": {},
   "source": [
    "### Operator Precedence\n",
    "\n",
    "We can modify the precedence using parentheses\n"
   ]
  },
  {
   "cell_type": "code",
   "execution_count": 73,
   "metadata": {},
   "outputs": [
    {
     "name": "stdout",
     "output_type": "stream",
     "text": [
      "7\n",
      "9\n",
      "33\n",
      "123\n"
     ]
    }
   ],
   "source": [
    "System.out.println(1 + 2 * 3); // 7\n",
    "System.out.println((1 + 2) * 3); // 9\n",
    "System.out.println(1 + 2 + \"3\"); // \"33\"\n",
    "System.out.println(1 + (2 + \"3\")); // \"123\""
   ]
  },
  {
   "attachments": {},
   "cell_type": "markdown",
   "metadata": {},
   "source": [
    "## Variables"
   ]
  },
  {
   "attachments": {},
   "cell_type": "markdown",
   "metadata": {},
   "source": [
    "### Declare a Variable and Assign Values"
   ]
  },
  {
   "cell_type": "code",
   "execution_count": 74,
   "metadata": {},
   "outputs": [
    {
     "name": "stdout",
     "output_type": "stream",
     "text": [
      "3\n"
     ]
    }
   ],
   "source": [
    "int x; // declare a variable named x of type int\n",
    "x = 3; // assign value 3 to variable x\n",
    "System.out.println(x);"
   ]
  },
  {
   "attachments": {},
   "cell_type": "markdown",
   "metadata": {},
   "source": [
    "### Variables Whose Value is Dependent on Other Variables"
   ]
  },
  {
   "cell_type": "code",
   "execution_count": 75,
   "metadata": {},
   "outputs": [
    {
     "name": "stdout",
     "output_type": "stream",
     "text": [
      "x contains 3\n",
      "y contains 5\n",
      "z contains 8\n"
     ]
    }
   ],
   "source": [
    "int y = 5; // declare a variable and assign a value to it (in the same line)\n",
    "int z;\n",
    "z = x + y;\n",
    "System.out.println(\"x contains \" + x); // 3\n",
    "System.out.println(\"y contains \" + y); // 5\n",
    "System.out.println(\"z contains \" + z); // 8"
   ]
  },
  {
   "attachments": {},
   "cell_type": "markdown",
   "metadata": {},
   "source": [
    "### Reassign Variables"
   ]
  },
  {
   "cell_type": "code",
   "execution_count": 76,
   "metadata": {},
   "outputs": [
    {
     "name": "stdout",
     "output_type": "stream",
     "text": [
      "x contains 30\n",
      "y contains 50\n",
      "z contains 8\n"
     ]
    }
   ],
   "source": [
    "x = 30; // variable reassignment (the variable has been assigned a value)\n",
    "y = 50;\n",
    "System.out.println(\"x contains \" + x); // 30\n",
    "System.out.println(\"y contains \" + y); // 50\n",
    "System.out.println(\"z contains \" + z); // 8\n",
    "// IMPORTANT: \"=\" is only an assignment operator, which in this case, the value of z is not reassigned, so the value of z is not changed. "
   ]
  },
  {
   "cell_type": "code",
   "execution_count": 77,
   "metadata": {},
   "outputs": [
    {
     "name": "stdout",
     "output_type": "stream",
     "text": [
      "x contains 31\n"
     ]
    }
   ],
   "source": [
    "x = x + 1; // this does not make sense mathematically, but it means to reassign the value (x+1) to x in Java.\n",
    "System.out.println(\"x contains \" + x); // 31"
   ]
  },
  {
   "cell_type": "code",
   "execution_count": 78,
   "metadata": {},
   "outputs": [
    {
     "name": "stdout",
     "output_type": "stream",
     "text": [
      "x contains 5\n"
     ]
    }
   ],
   "source": [
    "// x = 5.2; // ERROR: because we have specified the type of x is int\n",
    "x = (int)5.2; // we have to convert 5.2 (double) to an int\n",
    "System.out.println(\"x contains \" + x); // 5\n",
    "double k = 5;\n",
    "System.out.println(\"k contains \" + k); // 5.0\n",
    "// double x = 5.2; // ERROR: becasue we cannot re-declare a variable\n",
    "// Note: the same variable name can be reused in another method."
   ]
  },
  {
   "attachments": {},
   "cell_type": "markdown",
   "metadata": {},
   "source": [
    "## Methods\n",
    "\n",
    "- `void` the method will not return anything\n",
    "- `int` the method will return int\n",
    "- `double` the method will return double\n",
    "- `String` the method will return String"
   ]
  },
  {
   "attachments": {},
   "cell_type": "markdown",
   "metadata": {},
   "source": [
    "***Example1***"
   ]
  },
  {
   "cell_type": "code",
   "execution_count": 79,
   "metadata": {},
   "outputs": [],
   "source": [
    "public static int addOne(int x) { // \"int\": declaring the method will return a value of int\n",
    "    System.out.println(\"x contains: \" + x);\n",
    "    return x + 1;\n",
    "}"
   ]
  },
  {
   "cell_type": "code",
   "execution_count": 80,
   "metadata": {},
   "outputs": [
    {
     "name": "stdout",
     "output_type": "stream",
     "text": [
      "x contains: 1\n",
      "a contains: 1\n",
      "b contains: 2\n"
     ]
    }
   ],
   "source": [
    "int a;\n",
    "int b;\n",
    "a = 1;\n",
    "b = addOne(a);\n",
    "System.out.println(\"a contains: \" + a);\n",
    "System.out.println(\"b contains: \" + b);"
   ]
  },
  {
   "cell_type": "code",
   "execution_count": 81,
   "metadata": {},
   "outputs": [
    {
     "name": "stdout",
     "output_type": "stream",
     "text": [
      "x contains: 2\n",
      "c contains: 3\n"
     ]
    }
   ],
   "source": [
    "int c = addOne(b);\n",
    "System.out.println(\"c contains: \"+ c);\n",
    "//System.out.println(\"x contains: \" +x); // ERROR! There is not x in main"
   ]
  },
  {
   "attachments": {},
   "cell_type": "markdown",
   "metadata": {},
   "source": [
    "***Example2***"
   ]
  },
  {
   "cell_type": "code",
   "execution_count": 82,
   "metadata": {},
   "outputs": [],
   "source": [
    "public static int sum(int x, int y) {\n",
    "    int z = x + y;\n",
    "    return z;\n",
    "}"
   ]
  },
  {
   "cell_type": "code",
   "execution_count": null,
   "metadata": {},
   "outputs": [],
   "source": [
    "int d = sum(10, 15); \n",
    "System.out.println(\"d contains: \"+ d);"
   ]
  },
  {
   "attachments": {},
   "cell_type": "markdown",
   "metadata": {},
   "source": [
    "## For Loop and Accumulation\n",
    "\n",
    "Accumulation strategy:\n",
    "1. Initialize a variable that will contain the result\n",
    "2. Update the result inside a loop\n",
    "3. After the loop, finalize (if needed) and return the result"
   ]
  },
  {
   "attachments": {},
   "cell_type": "markdown",
   "metadata": {},
   "source": [
    "***Example1***"
   ]
  },
  {
   "cell_type": "code",
   "execution_count": 1,
   "metadata": {},
   "outputs": [],
   "source": [
    "// sumN calculates the sum from 1 to n.\n",
    "public static int sumN(int n) {\n",
    "    int result = 0;\n",
    "    for (int i = 1; i <= n; i++) {\n",
    "        result = result + i; // we can also use result += 1\n",
    "    }\n",
    "    return result;\n",
    "}"
   ]
  },
  {
   "cell_type": "code",
   "execution_count": 5,
   "metadata": {},
   "outputs": [
    {
     "name": "stdout",
     "output_type": "stream",
     "text": [
      "------ Test Cases for sumN ------\n",
      "0\n",
      "1\n",
      "3\n",
      "15\n",
      "55\n"
     ]
    }
   ],
   "source": [
    "System.out.println(\"------ Test Cases for sumN ------\");\n",
    "System.out.println(sumN(0)); // 0\n",
    "System.out.println(sumN(1)); // 1\n",
    "System.out.println(sumN(2)); // 3\n",
    "System.out.println(sumN(5)); // 15\n",
    "System.out.println(sumN(10)); // 55"
   ]
  },
  {
   "attachments": {},
   "cell_type": "markdown",
   "metadata": {},
   "source": [
    "***Example2***"
   ]
  },
  {
   "cell_type": "code",
   "execution_count": 3,
   "metadata": {},
   "outputs": [],
   "source": [
    "// sumN calculates the product from 1 to n. (factorial of n)\n",
    "public static int multN(int n) {\n",
    "    int result = 1;\n",
    "    for (int i = 1; i <= n; i++) {\n",
    "        // result = result * i; we can also use\n",
    "        result *= i;\n",
    "    }\n",
    "    return result;\n",
    "}"
   ]
  },
  {
   "cell_type": "code",
   "execution_count": 6,
   "metadata": {},
   "outputs": [
    {
     "name": "stdout",
     "output_type": "stream",
     "text": [
      "------ Test Cases for sumtN ------\n",
      "1\n",
      "2\n",
      "6\n",
      "120\n",
      "3628800\n",
      "1\n"
     ]
    }
   ],
   "source": [
    "System.out.println(\"------ Test Cases for sumtN ------\");\n",
    "System.out.println(multN(1)); // 1\n",
    "System.out.println(multN(2)); // 2\n",
    "System.out.println(multN(3)); // 6\n",
    "System.out.println(multN(5)); // 120\n",
    "System.out.println(multN(10)); // 3,628,800\n",
    "System.out.println(multN(0)); // 1 \n",
    "    //because the loop starts at i = 1, the loop is completed before it even started. \n",
    "    //The initial result (result = 1) is returned. "
   ]
  },
  {
   "attachments": {},
   "cell_type": "markdown",
   "metadata": {},
   "source": [
    "***Example3***"
   ]
  },
  {
   "cell_type": "code",
   "execution_count": 7,
   "metadata": {},
   "outputs": [],
   "source": [
    "// sumMult5 sums all the positive integers multiple of 5 up to n (included)\n",
    "// We can use the conditional statement to address this problem, but we can also complete the task without using the conditional statements. \n",
    "public static int sumMult5(int n) {\n",
    "    int result = 0;\n",
    "    for (int i = 5; i <= n; i += 5) {\n",
    "        result += i;\n",
    "    }\n",
    "    return result; \n",
    "}"
   ]
  },
  {
   "cell_type": "code",
   "execution_count": 8,
   "metadata": {},
   "outputs": [
    {
     "name": "stdout",
     "output_type": "stream",
     "text": [
      "------ Test Cases for sumMult5 ------\n",
      "0\n",
      "0\n",
      "5\n",
      "5\n",
      "15\n",
      "30\n",
      "30\n"
     ]
    }
   ],
   "source": [
    "System.out.println(\"------ Test Cases for sumMult5 ------\");\n",
    "System.out.println(sumMult5(0)); // 0\n",
    "System.out.println(sumMult5(3)); // 0\n",
    "System.out.println(sumMult5(5)); // 5\n",
    "System.out.println(sumMult5(6)); // 5\n",
    "System.out.println(sumMult5(12)); // 15\n",
    "System.out.println(sumMult5(15)); // 30\n",
    "System.out.println(sumMult5(16)); // 30"
   ]
  },
  {
   "attachments": {},
   "cell_type": "markdown",
   "metadata": {},
   "source": [
    "***Example 4***\n",
    ": We can also accumulate Strings"
   ]
  },
  {
   "cell_type": "code",
   "execution_count": 9,
   "metadata": {},
   "outputs": [],
   "source": [
    "// We can also accumulate strings.\n",
    "    // multiplyString will repeat the String s by n times. \n",
    "    public static String multiplyString(String s, int n) {\n",
    "        String result = \"\";\n",
    "        for (int i = 0; i < n; i++) {\n",
    "            result += s;\n",
    "        }\n",
    "        return result;\n",
    "    }"
   ]
  },
  {
   "cell_type": "code",
   "execution_count": 10,
   "metadata": {},
   "outputs": [
    {
     "name": "stdout",
     "output_type": "stream",
     "text": [
      "------ Test Cases for multiplyString ------\n",
      "heyheyhey\n",
      "\n",
      "hey\n",
      "\n",
      "hhhhh\n",
      "33333\n"
     ]
    }
   ],
   "source": [
    "System.out.println(\"------ Test Cases for multiplyString ------\");\n",
    "System.out.println(multiplyString(\"hey\", 3)); // \"heyheyhey\"\n",
    "System.out.println(multiplyString(\"hey\", 0)); // \"\"\n",
    "System.out.println(multiplyString(\"hey\", 1)); // \"hey\"\n",
    "System.out.println(multiplyString(\"\", 100)); // \"\"\n",
    "System.out.println(multiplyString(\"h\", 5)); // \"hhhhh\"\n",
    "System.out.println(multiplyString(\"3\", 5)); // \"33333\""
   ]
  },
  {
   "attachments": {},
   "cell_type": "markdown",
   "metadata": {},
   "source": [
    "## Boolean Expression"
   ]
  },
  {
   "attachments": {},
   "cell_type": "markdown",
   "metadata": {},
   "source": [
    "### Boolean Values"
   ]
  },
  {
   "cell_type": "code",
   "execution_count": 11,
   "metadata": {},
   "outputs": [
    {
     "name": "stdout",
     "output_type": "stream",
     "text": [
      "------ Boolean Values Test ------\n",
      "true\n",
      "false\n",
      "true\n"
     ]
    }
   ],
   "source": [
    "System.out.println(\"------ Boolean Values Test ------\");\n",
    "System.out.println(true);\n",
    "System.out.println(false);\n",
    "System.out.println(\"true\"); // this is a string, not a Boolean value"
   ]
  },
  {
   "attachments": {},
   "cell_type": "markdown",
   "metadata": {},
   "source": [
    "### Boolean Expressions\n",
    "\n",
    "Expressions that evaluate to a boolean value: `<`, `>`, `==`, `!=`"
   ]
  },
  {
   "cell_type": "code",
   "execution_count": 12,
   "metadata": {},
   "outputs": [
    {
     "name": "stdout",
     "output_type": "stream",
     "text": [
      "------ Boolean Expressions Test ------\n",
      "false\n",
      "true\n",
      "false\n",
      "true\n"
     ]
    }
   ],
   "source": [
    "System.out.println(\"------ Boolean Expressions Test ------\");\n",
    "System.out.println(5 < 2); // false\n",
    "System.out.println(2 < 5); // true\n",
    "// System.out.println(5 = 2); // ERROR! \n",
    "System.out.println(5 == 2); // false\n",
    "System.out.println(5 == 5); // true\n",
    "// WARNING: do not use == to compare two strings"
   ]
  },
  {
   "attachments": {},
   "cell_type": "markdown",
   "metadata": {},
   "source": [
    "### Boolean Variables"
   ]
  },
  {
   "cell_type": "code",
   "execution_count": 13,
   "metadata": {},
   "outputs": [
    {
     "name": "stdout",
     "output_type": "stream",
     "text": [
      "------ Boolean Variables Test ------\n",
      "true\n",
      "false\n"
     ]
    }
   ],
   "source": [
    "System.out.println(\"------ Boolean Variables Test ------\");\n",
    "Boolean x = true;\n",
    "Boolean y = 5 < 2;\n",
    "System.out.println(x); // true\n",
    "System.out.println(y); // false"
   ]
  },
  {
   "attachments": {},
   "cell_type": "markdown",
   "metadata": {},
   "source": [
    "### Boolean Operators"
   ]
  },
  {
   "attachments": {},
   "cell_type": "markdown",
   "metadata": {},
   "source": [
    "Relational (comparison) Operators\n",
    "-  `<` less than\n",
    "-  `>` greater than\n",
    "-  `<=` less or equal\n",
    "-  `>=` greater or equal\n",
    "-  `==` equals\n",
    "-  `!=` not equal"
   ]
  },
  {
   "attachments": {},
   "cell_type": "markdown",
   "metadata": {},
   "source": [
    "Boolean (logical) Operators\n",
    "- `&&` and\n",
    "- `||` or\n",
    "- `!` not\n",
    "\n",
    "***Note***: When evaluating expressions involving both `&&` and `||`, Java will prioritize `&&`."
   ]
  },
  {
   "cell_type": "code",
   "execution_count": 14,
   "metadata": {},
   "outputs": [
    {
     "name": "stdout",
     "output_type": "stream",
     "text": [
      "------ Boolean Operators Test ------\n",
      "false\n",
      "true\n",
      "true\n",
      "false\n",
      "false\n",
      "false\n",
      "true\n",
      "true\n",
      "true\n",
      "false\n"
     ]
    }
   ],
   "source": [
    "System.out.println(\"------ Boolean Operators Test ------\");\n",
    "System.out.println(!true); // false\n",
    "System.out.println(!false); // true\n",
    "// && requires both conditions to be satisfied\n",
    "System.out.println(true && true); // true\n",
    "System.out.println(true && false); // false\n",
    "System.out.println(false && true); // false\n",
    "System.out.println(false && false); // false\n",
    "// || requires either condition to be satisfied\n",
    "System.out.println(true || true); // true\n",
    "System.out.println(true || false); // true\n",
    "System.out.println(false || true); // true\n",
    "System.out.println(false || false); // false"
   ]
  },
  {
   "attachments": {},
   "cell_type": "markdown",
   "metadata": {},
   "source": [
    "## Conditionals\n",
    "\n",
    "``` java\n",
    "if (condtion) {\n",
    "    body\n",
    "} else if (condition) {\n",
    "    body\n",
    "} else {\n",
    "\n",
    "}\n",
    "```"
   ]
  },
  {
   "attachments": {},
   "cell_type": "markdown",
   "metadata": {},
   "source": [
    "***Example1***"
   ]
  },
  {
   "cell_type": "code",
   "execution_count": 15,
   "metadata": {},
   "outputs": [],
   "source": [
    "// smallestNumber returns the smaller of two numbers\n",
    "public static double smallerNumber(double x, double y) {\n",
    "    if (x < y) {\n",
    "        return x;\n",
    "    } else {\n",
    "        return y;\n",
    "    }\n",
    "}"
   ]
  },
  {
   "cell_type": "code",
   "execution_count": 16,
   "metadata": {},
   "outputs": [
    {
     "name": "stdout",
     "output_type": "stream",
     "text": [
      "------ Test smallerNumber ------\n",
      "2.0\n",
      "2.0\n",
      "5.0\n"
     ]
    }
   ],
   "source": [
    "System.out.println(\"------ Test smallerNumber ------\");\n",
    "System.out.println(smallerNumber(5, 2)); // 2.0\n",
    "System.out.println(smallerNumber(2, 5)); // 2.0\n",
    "System.out.println(smallerNumber(5, 5)); // 5.0"
   ]
  },
  {
   "attachments": {},
   "cell_type": "markdown",
   "metadata": {},
   "source": [
    "***Example2***"
   ]
  },
  {
   "cell_type": "code",
   "execution_count": 17,
   "metadata": {},
   "outputs": [],
   "source": [
    "// longerString returns the longer of two strings\n",
    "public static String longerString(String s1, String s2) {\n",
    "    if (s1.length() > s2.length()) { // If we change < to <=, then the first one will be returned\n",
    "        return s1;\n",
    "    } else {\n",
    "        return s2; // If two strings have the same length, the later one will be returned\n",
    "    }\n",
    "}"
   ]
  },
  {
   "cell_type": "code",
   "execution_count": 18,
   "metadata": {},
   "outputs": [
    {
     "name": "stdout",
     "output_type": "stream",
     "text": [
      "------ Test longerString -----\n",
      "mathematics\n",
      "mathematics\n",
      "bbb\n",
      "aaa\n"
     ]
    }
   ],
   "source": [
    "System.out.println(\"------ Test longerString -----\");\n",
    "System.out.println(longerString(\"economics\", \"mathematics\")); // \"mathematics\"\n",
    "System.out.println(longerString(\"mathematics\", \"economics\")); // \"mathematics\"\n",
    "System.out.println(longerString(\"aaa\", \"bbb\")); // \"bbb\"\n",
    "System.out.println(longerString(\"bbb\", \"aaa\")); // \"aaa\""
   ]
  },
  {
   "attachments": {},
   "cell_type": "markdown",
   "metadata": {},
   "source": [
    "***Example3***\n",
    "\n",
    "Write a method named stateOfWater(double temp) that takes a number temp representing a temperature in degrees Celsius. The method returns the physical statement of water at that temperature: \n",
    "- \"solid\" if the temperature is below 0; \n",
    "- \"liquid\" if the temperature is between 0 and 100 (extremes included); and \n",
    "- \"gas\" if the temperature is above 100"
   ]
  },
  {
   "cell_type": "code",
   "execution_count": 19,
   "metadata": {},
   "outputs": [],
   "source": [
    "public static String stateOfWater(double temp) {\n",
    "    String state; // to avoid too many returns, we can introduce a variable here.\n",
    "    if (temp < 0) {\n",
    "        state = \"solid\";\n",
    "    } else if (temp > 100) {\n",
    "        state = \"gas\";\n",
    "    } else {\n",
    "        state = \"liquid\";\n",
    "    }\n",
    "    return state;\n",
    "}"
   ]
  },
  {
   "cell_type": "code",
   "execution_count": 20,
   "metadata": {},
   "outputs": [
    {
     "name": "stdout",
     "output_type": "stream",
     "text": [
      "------ Test stateOfWater -----\n",
      "solid\n",
      "liquid\n",
      "liquid\n",
      "liquid\n",
      "gas\n"
     ]
    }
   ],
   "source": [
    "System.out.println(\"------ Test stateOfWater -----\");\n",
    "System.out.println(stateOfWater(-10)); // \"solid\"\n",
    "System.out.println(stateOfWater(0)); // \"liquid\" (edge case)\n",
    "System.out.println(stateOfWater(30)); // \"liquid\"\n",
    "System.out.println(stateOfWater(100)); // \"liquid\" (edge case)\n",
    "System.out.println(stateOfWater(150)); // \"gas\""
   ]
  },
  {
   "cell_type": "code",
   "execution_count": 21,
   "metadata": {},
   "outputs": [],
   "source": [
    "/* or we can use \n",
    "String state;\n",
    "if (temp < 0) {\n",
    "    state = \"solid\";\n",
    "} else if (temp <= 100) { // whenever we can simply a logical expression, try to do so. \n",
    "    state = \"liquid\";\n",
    "} else {\n",
    "    state = \"gas\";\n",
    "}\n",
    "return state;\n",
    "*/"
   ]
  },
  {
   "attachments": {},
   "cell_type": "markdown",
   "metadata": {},
   "source": [
    "***Example4***"
   ]
  },
  {
   "cell_type": "code",
   "execution_count": 22,
   "metadata": {},
   "outputs": [],
   "source": [
    "// Return a letter grade given the number of points\n",
    "public static String letterGrade(int points) {\n",
    "    String letter;\n",
    "    if (points >= 900) {\n",
    "        letter = \"A\";\n",
    "    } else if (points >= 800) {\n",
    "        letter = \"B\";\n",
    "    } else if (points >= 700) {\n",
    "        letter = \"C\";\n",
    "    } else if (points >= 600) {\n",
    "        letter = \"D\";\n",
    "    } else {\n",
    "        letter = \"F\";\n",
    "    }\n",
    "    return letter;\n",
    "}"
   ]
  },
  {
   "cell_type": "code",
   "execution_count": 23,
   "metadata": {},
   "outputs": [
    {
     "name": "stdout",
     "output_type": "stream",
     "text": [
      "------ Test letterGrade -----\n",
      "A\n",
      "A\n",
      "B\n",
      "B\n",
      "C\n",
      "C\n",
      "D\n",
      "D\n",
      "F\n",
      "F\n",
      "F\n"
     ]
    }
   ],
   "source": [
    "System.out.println(\"------ Test letterGrade -----\");\n",
    "System.out.println(letterGrade(1000)); // \"A\"\n",
    "System.out.println(letterGrade(900)); // \"A\" (edge case)\n",
    "System.out.println(letterGrade(850)); // \"B\"\n",
    "System.out.println(letterGrade(800)); // \"B\" (edge case)\n",
    "System.out.println(letterGrade(750)); // \"C\"\n",
    "System.out.println(letterGrade(700)); // \"C\" (edge case)\n",
    "System.out.println(letterGrade(650)); // \"D\"\n",
    "System.out.println(letterGrade(600)); // \"D\" (edge case)\n",
    "System.out.println(letterGrade(550)); // \"F\"\n",
    "System.out.println(letterGrade(500)); // \"F\" (edge case)\n",
    "System.out.println(letterGrade(0)); // \"F\""
   ]
  },
  {
   "attachments": {},
   "cell_type": "markdown",
   "metadata": {},
   "source": [
    "***Example4*** - WRONG\n",
    "\n",
    "Here's a wrong code for example4."
   ]
  },
  {
   "cell_type": "code",
   "execution_count": 24,
   "metadata": {},
   "outputs": [],
   "source": [
    "public static String wrongLetterGrade(int points) {\n",
    "    String letter;\n",
    "    if (points >= 900) {\n",
    "        letter = \"A\";\n",
    "    } if (points >= 800) {\n",
    "        letter = \"B\";\n",
    "    } if (points >= 700) {\n",
    "        letter = \"C\";\n",
    "    } if (points >= 600) {\n",
    "        letter = \"D\"; // This code will keep returning \"D\" as long as points >= 600 because java will keep reassigning variables\n",
    "    } else {\n",
    "        letter = \"F\";\n",
    "    }\n",
    "    return letter;\n",
    "}"
   ]
  },
  {
   "cell_type": "code",
   "execution_count": 25,
   "metadata": {},
   "outputs": [
    {
     "name": "stdout",
     "output_type": "stream",
     "text": [
      "------ Test wrongLetterGrade -----\n",
      "D\n",
      "D\n",
      "D\n",
      "D\n",
      "D\n",
      "D\n",
      "D\n",
      "D\n",
      "F\n",
      "F\n",
      "F\n"
     ]
    }
   ],
   "source": [
    "System.out.println(\"------ Test wrongLetterGrade -----\");\n",
    "System.out.println(wrongLetterGrade(1000)); // \"D\"\n",
    "System.out.println(wrongLetterGrade(900)); // \"D\" (edge case)\n",
    "System.out.println(wrongLetterGrade(850)); // \"D\"\n",
    "System.out.println(wrongLetterGrade(800)); // \"D\" (edge case)\n",
    "System.out.println(wrongLetterGrade(750)); // \"D\"\n",
    "System.out.println(wrongLetterGrade(700)); // \"D\" (edge case)\n",
    "System.out.println(wrongLetterGrade(650)); // \"D\"\n",
    "System.out.println(wrongLetterGrade(600)); // \"D\" (edge case)\n",
    "System.out.println(wrongLetterGrade(550)); // \"F\"\n",
    "System.out.println(wrongLetterGrade(500)); // \"F\" (edge case)\n",
    "System.out.println(wrongLetterGrade(0)); // \"F\""
   ]
  },
  {
   "attachments": {},
   "cell_type": "markdown",
   "metadata": {},
   "source": [
    "## While Loop"
   ]
  },
  {
   "attachments": {},
   "cell_type": "markdown",
   "metadata": {},
   "source": [
    "***Example1***\n",
    ": simple repetition"
   ]
  },
  {
   "cell_type": "code",
   "execution_count": 26,
   "metadata": {},
   "outputs": [],
   "source": [
    "public static void manyHellos(int n) {\n",
    "    int i = n; // initialitation\n",
    "    while (i > 0) {\n",
    "        // loop body\n",
    "        System.out.println(\"Hello \" + i);\n",
    "        i--; // equivalent to i = i - 1 or i -= 1\n",
    "    }\n",
    "    System.out.println(\"Goodbye\");\n",
    "}"
   ]
  },
  {
   "cell_type": "code",
   "execution_count": 27,
   "metadata": {},
   "outputs": [
    {
     "name": "stdout",
     "output_type": "stream",
     "text": [
      "------ Test manyHellos ------\n",
      "Hello 3\n",
      "Hello 2\n",
      "Hello 1\n",
      "Goodbye\n"
     ]
    }
   ],
   "source": [
    "System.out.println(\"------ Test manyHellos ------\");\n",
    "manyHellos(3);"
   ]
  },
  {
   "attachments": {},
   "cell_type": "markdown",
   "metadata": {},
   "source": [
    "***Example2***\n",
    ": Accumulation\n",
    "\n",
    "Problem: Sum up the first n integers (including n) using a while loop"
   ]
  },
  {
   "cell_type": "code",
   "execution_count": 29,
   "metadata": {},
   "outputs": [],
   "source": [
    "public static int sumN(int n) {\n",
    "    int result = 0;\n",
    "    int i = 1;\n",
    "    while (i <= n) {\n",
    "        result += i;\n",
    "        i++;\n",
    "    } // the variable i does not disappear here because we declared the value i before the while loop.\n",
    "    // Using the for loop method, the variable i will disappear after the loop is completed. \n",
    "    return result;\n",
    "}"
   ]
  },
  {
   "cell_type": "code",
   "execution_count": 30,
   "metadata": {},
   "outputs": [
    {
     "name": "stdout",
     "output_type": "stream",
     "text": [
      "------ Test sumN ------\n",
      "10\n",
      "15\n"
     ]
    }
   ],
   "source": [
    "System.out.println(\"------ Test sumN ------\");\n",
    "System.out.println(sumN(4)); // 10\n",
    "System.out.println(sumN(5)); // 15"
   ]
  },
  {
   "cell_type": "code",
   "execution_count": 31,
   "metadata": {},
   "outputs": [],
   "source": [
    "public static int sumN_v2(int n) {\n",
    "    int result = 0;\n",
    "    while (n > 0) {\n",
    "        result += n;\n",
    "        n--;\n",
    "    }\n",
    "    return result;\n",
    "}"
   ]
  },
  {
   "cell_type": "code",
   "execution_count": 32,
   "metadata": {},
   "outputs": [
    {
     "name": "stdout",
     "output_type": "stream",
     "text": [
      "------ Test sumN_v2 ------\n",
      "10\n",
      "15\n"
     ]
    }
   ],
   "source": [
    "System.out.println(\"------ Test sumN_v2 ------\");\n",
    "System.out.println(sumN_v2(4)); // 10\n",
    "System.out.println(sumN_v2(5)); // 15"
   ]
  },
  {
   "attachments": {},
   "cell_type": "markdown",
   "metadata": {},
   "source": [
    "***Example3***\n",
    "Compound interest\n",
    "\n",
    "Problem: Given an initial amount of money and a fixed (compound) interest rate. How many years will it take to reach a certain final amount?"
   ]
  },
  {
   "cell_type": "code",
   "execution_count": 33,
   "metadata": {},
   "outputs": [],
   "source": [
    "public static int yearsToTarget(double initMoney, double interestRate, double targetMoney) {\n",
    "    int year = 0;\n",
    "    double money = initMoney;\n",
    "\n",
    "    System.out.println(\"Year\\tMoney\"); // header - \\t is a tab\n",
    "    System.out.println(year + \"\\t\" + money);\n",
    "\n",
    "    while (money < targetMoney) {\n",
    "        year ++;\n",
    "        money *= (1 + interestRate);\n",
    "        System.out.println(year + \"\\t\" + Math.round(money * 100) / 100.0);\n",
    "    } // if it was simple interest: money += initMoney * interestRate\n",
    "    return year;\n",
    "}\n",
    "// NOTE: we can solve example 3 with a FOR loop, but it is less intuitive:\n",
    "// for (double money = initMoney; money < targetMoney; money *= 1 + interestRate) {}"
   ]
  },
  {
   "cell_type": "code",
   "execution_count": 34,
   "metadata": {},
   "outputs": [
    {
     "name": "stdout",
     "output_type": "stream",
     "text": [
      "------ Test yearsToTarget ------\n",
      "Year\tMoney\n",
      "0\t1000.0\n",
      "1\t1050.0\n",
      "2\t1102.5\n",
      "3\t1157.63\n",
      "4\t1215.51\n",
      "5\t1276.28\n",
      "6\t1340.1\n",
      "7\t1407.1\n",
      "8\t1477.46\n",
      "9\t1551.33\n",
      "10\t1628.89\n",
      "11\t1710.34\n",
      "12\t1795.86\n",
      "13\t1885.65\n",
      "14\t1979.93\n",
      "15\t2078.93\n",
      "15\n"
     ]
    }
   ],
   "source": [
    "System.out.println(\"------ Test yearsToTarget ------\");\n",
    "System.out.println(yearsToTarget(1000, 0.05, 2000)); // 15"
   ]
  },
  {
   "attachments": {},
   "cell_type": "markdown",
   "metadata": {},
   "source": [
    "***Example4***\n",
    "Buy or Make?\n",
    "\n",
    "Problem: You own a factory. You need to decide whether it's cheaper to buy a certain product from an external supplier, or make it in your factory. If you buy it, the product costs p money per unit of product. If you make it, the product costs c per unit (with c smaller than p), plus a fixed initial amount k to purchase and set up the production machine. Can you calculate the break even quantity, i.e., the minimum quantity for which making the product is the same or cheaper than buying it?"
   ]
  },
  {
   "cell_type": "code",
   "execution_count": 35,
   "metadata": {},
   "outputs": [],
   "source": [
    "public static int breakEvenQuantity(double p, double c, double k) {\n",
    "    int quantity = 0;\n",
    "    double costBuy = 0;\n",
    "    double costMake = k;\n",
    "\n",
    "    while (costBuy < costMake) {\n",
    "        quantity++;\n",
    "        costBuy += p;\n",
    "        costMake += c;\n",
    "        // To avoid an infinite loop:\n",
    "        if (quantity > Math.pow(10,7)) {\n",
    "            System.out.println(\"Warning: you might have an Infinite Loop.\\nBreak the loop automatically.\");\n",
    "            break;\n",
    "        }\n",
    "    }\n",
    "    return quantity;\n",
    "}"
   ]
  },
  {
   "cell_type": "code",
   "execution_count": 36,
   "metadata": {},
   "outputs": [
    {
     "name": "stdout",
     "output_type": "stream",
     "text": [
      "------ Test breakEvenQuantity ------\n",
      "2000\n",
      "3334\n",
      "Warning: you might have an Infinite Loop.\n",
      "Break the loop automatically.\n",
      "10000001\n"
     ]
    }
   ],
   "source": [
    "System.out.println(\"------ Test breakEvenQuantity ------\");\n",
    "System.out.println(breakEvenQuantity(1, 0.5, 1000)); // 2000\n",
    "System.out.println(breakEvenQuantity(1, 0.7, 1000)); // more than 2000\n",
    "System.out.println(breakEvenQuantity(1, 1.5, 1000)); // INFINITE LOOP: Press CTRL+C to stop"
   ]
  },
  {
   "attachments": {},
   "cell_type": "markdown",
   "metadata": {},
   "source": [
    "## Strings and Characters"
   ]
  },
  {
   "attachments": {},
   "cell_type": "markdown",
   "metadata": {},
   "source": [
    "### Characters"
   ]
  },
  {
   "cell_type": "code",
   "execution_count": 37,
   "metadata": {},
   "outputs": [],
   "source": [
    "char c = 'A'; // one single chracter\n",
    "String s1 = \"ABCD\"; // String with many characters\n",
    "String s2 = \"A\"; // String with one chracter\n",
    "String s3 = \"\"; // emtpy String\n",
    "// char c2 = '' // ERROR: there is no empy char"
   ]
  },
  {
   "cell_type": "code",
   "execution_count": 38,
   "metadata": {},
   "outputs": [
    {
     "name": "stdout",
     "output_type": "stream",
     "text": [
      "A\n",
      "ABCD\n",
      "A\n",
      "\n"
     ]
    }
   ],
   "source": [
    "// You don't see the quotes when you print\n",
    "System.out.println(c);\n",
    "System.out.println(s1);\n",
    "System.out.println(s2);\n",
    "System.out.println(s3);"
   ]
  },
  {
   "attachments": {},
   "cell_type": "markdown",
   "metadata": {},
   "source": [
    "A char is actually a number: see @ [this website](https://www.asciitable.com/)"
   ]
  },
  {
   "cell_type": "code",
   "execution_count": 39,
   "metadata": {},
   "outputs": [
    {
     "name": "stdout",
     "output_type": "stream",
     "text": [
      "66\n",
      "B\n",
      "A1\n"
     ]
    }
   ],
   "source": [
    "System.out.println('A' + 1); // 66 (int): 'A' = 65 and 65 + 1 = 6\n",
    "System.out.println((char)('A' + 1)); // 'B' (char) - type casting\n",
    "// You cannot do \"character arithmetic\" with Strings\n",
    "System.out.println(\"A\" + 1); // \"A1\" (String)"
   ]
  },
  {
   "attachments": {},
   "cell_type": "markdown",
   "metadata": {},
   "source": [
    "### Operations with Strings\n",
    "\n",
    "See more @ [this website](https://docs.oracle.com/javase/8/docs/api/java/lang/String.html)\n",
    "\n",
    "All the operations, unless otherwise specified, will not modify the original String."
   ]
  },
  {
   "attachments": {},
   "cell_type": "markdown",
   "metadata": {},
   "source": [
    "### `String.charAt(index)`"
   ]
  },
  {
   "cell_type": "code",
   "execution_count": 40,
   "metadata": {},
   "outputs": [
    {
     "name": "stdout",
     "output_type": "stream",
     "text": [
      "C\n"
     ]
    }
   ],
   "source": [
    "char k = s1.charAt(2); // picks the char at index 2 in s1\n",
    "System.out.println(k); // 'C' (char)"
   ]
  },
  {
   "attachments": {},
   "cell_type": "markdown",
   "metadata": {},
   "source": [
    "### `String.length()`"
   ]
  },
  {
   "cell_type": "code",
   "execution_count": 41,
   "metadata": {},
   "outputs": [
    {
     "name": "stdout",
     "output_type": "stream",
     "text": [
      "4\n"
     ]
    }
   ],
   "source": [
    "int n = s1.length(); // number of characters in a String\n",
    "System.out.println(n); // 4 (int)"
   ]
  },
  {
   "attachments": {},
   "cell_type": "markdown",
   "metadata": {},
   "source": [
    "### `String.substring(beginIndex, endIndex)`\n",
    "\n",
    "***Note***: The beginIndex is included, but endIntex is excluded."
   ]
  },
  {
   "cell_type": "code",
   "execution_count": 42,
   "metadata": {},
   "outputs": [
    {
     "name": "stdout",
     "output_type": "stream",
     "text": [
      "lo Ev\n",
      "eryone\n"
     ]
    }
   ],
   "source": [
    "String s4 = \"Hello Everyone\";\n",
    "// String.substring(beginIndex, endIndex) picks the string between the two indices. \n",
    "System.out.println(s4.substring(3,8)); // \"lo Ev\" (String)\n",
    "System.out.println(s4.substring(8)); // \"eryone\" (String) // picks from the beinIndex to the end"
   ]
  },
  {
   "attachments": {},
   "cell_type": "markdown",
   "metadata": {},
   "source": [
    "### `String.toUpperCase()` and `String.toLowerCase()`"
   ]
  },
  {
   "cell_type": "code",
   "execution_count": 43,
   "metadata": {},
   "outputs": [
    {
     "name": "stdout",
     "output_type": "stream",
     "text": [
      "HELLO EVERYONE\n",
      "hello everyone\n",
      "ELL\n"
     ]
    }
   ],
   "source": [
    "System.out.println(s4.toUpperCase()); // \"HELLO EVERYONE\"\n",
    "System.out.println(s4.toLowerCase()); // \"hello everyone\"\n",
    "System.out.println(s4.toUpperCase().substring(1,4)); // \"ELL\""
   ]
  },
  {
   "attachments": {},
   "cell_type": "markdown",
   "metadata": {},
   "source": [
    "### Compare two Strings for Equality: String1.equals(String2)\n",
    "\n",
    "You cannot use `==` between two strings (weird results)\n",
    "\n",
    "We can use `==` to compare two chars (because they are fundamentally numbers)"
   ]
  },
  {
   "cell_type": "code",
   "execution_count": 44,
   "metadata": {},
   "outputs": [
    {
     "name": "stdout",
     "output_type": "stream",
     "text": [
      "false\n",
      "true\n"
     ]
    }
   ],
   "source": [
    "String x = \"hey\";\n",
    "String y = \"you\";\n",
    "String z = \"HEY\";\n",
    "System.out.println(x.equals(y)); // false\n",
    "System.out.println(x.toUpperCase().equals(z)); // true\n",
    "// System.out.println(x == y); // DON'T DO THIS!!!!!!!\n",
    "// System.out.println(x == z); // DON'T DO THIS!!!!!!!"
   ]
  },
  {
   "attachments": {},
   "cell_type": "markdown",
   "metadata": {},
   "source": [
    "### Compare Two Strings Alphabetically (Alphanumerically): `String1.compareTo(String2)`\n",
    "\n",
    "- If the two strings are equal, we will get 0\n",
    "- If the String1 comes before String2, we will get negative values\n",
    "- If the String1 comes after String2, we will get positive results"
   ]
  },
  {
   "cell_type": "code",
   "execution_count": 45,
   "metadata": {},
   "outputs": [
    {
     "name": "stdout",
     "output_type": "stream",
     "text": [
      "-17\n",
      "49\n",
      "0\n",
      "-1\n",
      "31\n",
      "31\n",
      "32\n",
      "-20\n"
     ]
    }
   ],
   "source": [
    "System.out.println(x.compareTo(y)); // < 0 (int) --> x comes before y\n",
    "System.out.println(y.compareTo(z)); // > 0\n",
    "System.out.println(x.compareTo(x)); // 0\n",
    "System.out.println(\"apple\".compareTo(\"banana\")); // < 0\n",
    "System.out.println(\"apple\".compareTo(\"BANANA\")); // > 0 --> upper cases comes before lower cases\n",
    "System.out.println(\"apple\".compareTo(\"Banana\")); // > 0 \n",
    "System.out.println(\"apple\".compareTo(\"Apple\")); // > 0\n",
    "System.out.println(\"apple\".compareTo(\"apply\")); // < 0 --> the last letter e comes before the letter y. "
   ]
  },
  {
   "attachments": {},
   "cell_type": "markdown",
   "metadata": {},
   "source": [
    "### Examples of Using Those Methods"
   ]
  },
  {
   "attachments": {},
   "cell_type": "markdown",
   "metadata": {},
   "source": [
    "***Example1***"
   ]
  },
  {
   "cell_type": "code",
   "execution_count": 48,
   "metadata": {},
   "outputs": [],
   "source": [
    "public static String mySubstring(String s, int start, int end) {\n",
    "    String result = \"\";\n",
    "    for (int i = start; i < end; i++) {\n",
    "        result += s.charAt(i);\n",
    "    }\n",
    "    return result;\n",
    "}\n",
    "\n",
    "public static String mySubstring(String s, int start, int end, int step) {\n",
    "    String result = \"\";\n",
    "    for (int i = start; i < end; i += step) {\n",
    "        result += s.charAt(i);\n",
    "    }\n",
    "    return result;\n",
    "}"
   ]
  },
  {
   "cell_type": "code",
   "execution_count": 49,
   "metadata": {},
   "outputs": [
    {
     "name": "stdout",
     "output_type": "stream",
     "text": [
      "------ Test mySubstring ------\n",
      "lo Ev\n",
      "minat\n",
      "l v\n",
      "lE\n"
     ]
    }
   ],
   "source": [
    "System.out.println(\"------ Test mySubstring ------\");\n",
    "System.out.println(mySubstring(s4, 3, 8)); // \"lo Ev\"\n",
    "System.out.println(mySubstring(\"Examination\", 3, 8)); // \"minat\"\n",
    "System.out.println(mySubstring(s4, 3, 8, 2)); // \"l v\"\n",
    "System.out.println(mySubstring(s4, 3, 8, 3)); // \"lE\""
   ]
  },
  {
   "attachments": {},
   "cell_type": "markdown",
   "metadata": {},
   "source": [
    "***Example2***"
   ]
  },
  {
   "cell_type": "code",
   "execution_count": 50,
   "metadata": {},
   "outputs": [],
   "source": [
    "public static String reverse(String s) {\n",
    "    String result = \"\";\n",
    "    for (int i = s.length() - 1; i >=0; i--) {\n",
    "        result += s.charAt(i);\n",
    "    }\n",
    "    return result;\n",
    "} // Or, we can do a while loop\n",
    "\n",
    "public static String reverse2(String s) {\n",
    "    String result = \"\";\n",
    "    for (int i = 0; i < s.length(); i++) {\n",
    "        result += s.charAt(s.length() - i - 1);\n",
    "    }\n",
    "    return result;\n",
    "}"
   ]
  },
  {
   "cell_type": "code",
   "execution_count": 51,
   "metadata": {},
   "outputs": [
    {
     "name": "stdout",
     "output_type": "stream",
     "text": [
      "------ Test reverse ------\n",
      "EDCBA\n",
      "EDCBA\n"
     ]
    }
   ],
   "source": [
    "System.out.println(\"------ Test reverse ------\");\n",
    "System.out.println(reverse(\"ABCDE\"));\n",
    "System.out.println(reverse2(\"ABCDE\"));"
   ]
  },
  {
   "attachments": {},
   "cell_type": "markdown",
   "metadata": {},
   "source": [
    "***Example3***\n",
    "```java\n",
    "mergeStrings(\"ABCD\", \"1234\") -> \"A1B2C3D4\"\n",
    "mergeStrings(\"AB\", \"1234\") -> \"A1B234\"\n",
    "mergeStrings(\"ABCD\", \"12\") -> \"A1B2CD\"\n",
    "```"
   ]
  },
  {
   "cell_type": "code",
   "execution_count": 52,
   "metadata": {},
   "outputs": [],
   "source": [
    "public static String mergeStrings(String s1, String s2) {\n",
    "    String result = \"\";\n",
    "    if (s1.length() == s2.length()) {\n",
    "        for (int i = 0; i < s1.length(); i++) {\n",
    "            result += s1.charAt(i);\n",
    "            result += s2.charAt(i);\n",
    "        }\n",
    "    } else if (s1.length() < s2.length()) {\n",
    "        for (int i = 0; i < s1.length(); i++) {\n",
    "            result += s1.charAt(i);\n",
    "            result += s2.charAt(i);\n",
    "        }\n",
    "        result += s2.substring(s1.length());\n",
    "    } else {\n",
    "        for (int i = 0; i < s2.length(); i++) {\n",
    "            result += s1.charAt(i);\n",
    "            result += s2.charAt(i);\n",
    "        }\n",
    "        result += s1.substring(s2.length());\n",
    "    }\n",
    "    return result;\n",
    "}"
   ]
  },
  {
   "cell_type": "code",
   "execution_count": 53,
   "metadata": {},
   "outputs": [
    {
     "name": "stdout",
     "output_type": "stream",
     "text": [
      "A1B2C3D4\n",
      "A1B234\n",
      "A1B2CD\n"
     ]
    }
   ],
   "source": [
    "System.out.println(mergeStrings(\"ABCD\", \"1234\")); // \"A1B2C3D4\"\n",
    "System.out.println(mergeStrings(\"AB\", \"1234\")); // \"A1B234\"\n",
    "System.out.println(mergeStrings(\"ABCD\", \"12\")); // \"A1B2CD\""
   ]
  },
  {
   "attachments": {},
   "cell_type": "markdown",
   "metadata": {},
   "source": [
    "## Arrays"
   ]
  },
  {
   "attachments": {},
   "cell_type": "markdown",
   "metadata": {},
   "source": [
    "We now learn how to create an array"
   ]
  },
  {
   "cell_type": "code",
   "execution_count": 1,
   "metadata": {},
   "outputs": [
    {
     "name": "stdout",
     "output_type": "stream",
     "text": [
      "15\n",
      "[I@65244a62\n"
     ]
    }
   ],
   "source": [
    "int[] a; // declare an array of integers named a\n",
    "a = new int[4]; // create an array with 4 slots\n",
    "\n",
    "a[0] = 7; // assign 7 to the first element of a\n",
    "a[1] = 3;\n",
    "a[2] = 15;\n",
    "a[3] = 9;\n",
    "// a[4] = 1; // ERROR: Index out of bound\n",
    "\n",
    "System.out.println(a[2]); // print the element with index 2 in a -- 15\n",
    "System.out.println(a); // weird output -- an identifier of the array"
   ]
  },
  {
   "cell_type": "code",
   "execution_count": 2,
   "metadata": {},
   "outputs": [
    {
     "name": "stdout",
     "output_type": "stream",
     "text": [
      "7\n",
      "3\n",
      "15\n",
      "9\n"
     ]
    }
   ],
   "source": [
    "// use a for loop to print all the element of the array\n",
    "for (int i = 0; i < a.length; i++) { // String.length() vs. array.length\n",
    "    System.out.println(a[i]);\n",
    "}"
   ]
  },
  {
   "cell_type": "code",
   "execution_count": 3,
   "metadata": {},
   "outputs": [
    {
     "name": "stdout",
     "output_type": "stream",
     "text": [
      "7 3 15 9 \n",
      "hello\n"
     ]
    }
   ],
   "source": [
    "// print all the elements on the same line\n",
    "for (int i = 0; i < a.length; i++) {\n",
    "    System.out.print(a[i] + \" \"); \n",
    "}\n",
    "// if we use print(), our next print will also be on the same line. \n",
    "System.out.println(); // we add a println() outside the for loop. \n",
    "System.out.println(\"hello\");"
   ]
  },
  {
   "cell_type": "code",
   "execution_count": 4,
   "metadata": {},
   "outputs": [],
   "source": [
    "// empty array (array with no element)\n",
    "int[] b = new int[0];"
   ]
  },
  {
   "cell_type": "code",
   "execution_count": 7,
   "metadata": {},
   "outputs": [
    {
     "name": "stdout",
     "output_type": "stream",
     "text": [
      "5 2 3 3 13 24 \n"
     ]
    }
   ],
   "source": [
    "// create and initialize an array in one line\n",
    "int[] c = {5, 2, 3, 3, 13, 24}; // valid only when we create the variable in this same line\n",
    "\n",
    "for (int i = 0; i < c.length; i++) { // String.length() vs. array.length\n",
    "    System.out.print(c[i] + \" \");\n",
    "}\n",
    "System.out.println();"
   ]
  },
  {
   "cell_type": "code",
   "execution_count": 8,
   "metadata": {},
   "outputs": [
    {
     "name": "stdout",
     "output_type": "stream",
     "text": [
      "5 2 3 3 13 24 \n"
     ]
    }
   ],
   "source": [
    "// an alternative way\n",
    "int[] d = new int[]{5, 2, 3, 3, 13, 24}; // better - more general\n",
    "\n",
    "for (int i = 0; i < d.length; i++) { // String.length() vs. array.length\n",
    "    System.out.print(d[i] + \" \");\n",
    "}\n",
    "System.out.println();"
   ]
  },
  {
   "attachments": {},
   "cell_type": "markdown",
   "metadata": {},
   "source": [
    "### Writing Method of Arrays"
   ]
  },
  {
   "attachments": {},
   "cell_type": "markdown",
   "metadata": {},
   "source": [
    "***Example 1***"
   ]
  },
  {
   "cell_type": "code",
   "execution_count": 15,
   "metadata": {},
   "outputs": [],
   "source": [
    "// calculate the sum of all elements in array x\n",
    "public static int sumAll(int[] x) {\n",
    "    int result = 0;\n",
    "    for (int i = 0; i < x.length; i++) {\n",
    "        result += x[i];\n",
    "    }\n",
    "    return result;\n",
    "}"
   ]
  },
  {
   "cell_type": "code",
   "execution_count": 16,
   "metadata": {},
   "outputs": [
    {
     "name": "stdout",
     "output_type": "stream",
     "text": [
      "------ Test sumAll ------\n",
      "Sum: 34\n",
      "Sum: 0\n"
     ]
    }
   ],
   "source": [
    "// Test sumAll\n",
    "System.out.println(\"------ Test sumAll ------\");\n",
    "System.out.println(\"Sum: \" + sumAll(a)); // 7+3+15+9=34\n",
    "System.out.println(\"Sum: \" + sumAll(b)); // 0 - empty array\n"
   ]
  },
  {
   "attachments": {},
   "cell_type": "markdown",
   "metadata": {},
   "source": [
    "***Example 2*** \n",
    "\n",
    "return a string representation of an array such as [a[0], a[1], ..., a[n-1]]\n",
    "\n",
    "make sure the method doesn't crash if the array is empty (zero elements)"
   ]
  },
  {
   "cell_type": "code",
   "execution_count": 9,
   "metadata": {},
   "outputs": [],
   "source": [
    "public static String arrayToString(int[] x) {\n",
    "    String result = \"[\";\n",
    "    for (int i = 0; i < x.length - 1; i++) {\n",
    "        result += x[i] + \", \";\n",
    "    }\n",
    "    if (x.length != 0) {\n",
    "        result += x[x.length - 1];\n",
    "    }\n",
    "    result += \"]\";\n",
    "    return result;\n",
    "}"
   ]
  },
  {
   "cell_type": "code",
   "execution_count": 11,
   "metadata": {},
   "outputs": [],
   "source": [
    "// alternative solution\n",
    "public static String arrayToString2(int[] x) {\n",
    "    String result = \"[\";\n",
    "    if (x.length != 0) {\n",
    "        result += + x[0];\n",
    "    } \n",
    "    for (int i = 1; i < x.length; i++) {\n",
    "        result += \", \" + x[i];\n",
    "    }\n",
    "    result += \"]\";\n",
    "    return result;\n",
    "}"
   ]
  },
  {
   "cell_type": "code",
   "execution_count": 13,
   "metadata": {},
   "outputs": [],
   "source": [
    "// alternative solution\n",
    "public static String arrayToString3(int[] x) {\n",
    "    String result = \"[\";\n",
    "    for (int i = 0; i < x.length; i++) {\n",
    "        result += x[i];\n",
    "        if (i != x.length - 1) {\n",
    "            result += \", \";\n",
    "        }\n",
    "    }\n",
    "    result += \"]\";\n",
    "    return result;\n",
    "}"
   ]
  },
  {
   "cell_type": "code",
   "execution_count": 14,
   "metadata": {},
   "outputs": [
    {
     "name": "stdout",
     "output_type": "stream",
     "text": [
      "------ Test arrayToString ------\n",
      "a: [7, 3, 15, 9]\n",
      "b: []\n",
      "[10, 9, 8]\n",
      "------ Test arrayToString2 ------\n",
      "a: [7, 3, 15, 9]\n",
      "b: []\n",
      "------ Test arrayToString3 ------\n",
      "a: [7, 3, 15, 9]\n",
      "b: []\n"
     ]
    }
   ],
   "source": [
    "// Test arrayToString\n",
    "System.out.println(\"------ Test arrayToString ------\");\n",
    "System.out.println(\"a: \" + arrayToString(a)); // [7, 3, 15, 9]\n",
    "System.out.println(\"b: \" + arrayToString(b)); // []\n",
    "System.out.println(arrayToString(new int[]{10, 9, 8})); // [10, 9, 8]\n",
    "// System.out.println(arrayToString({4, 9, 8}); // ERROR: the input is not an array\n",
    "System.out.println(\"------ Test arrayToString2 ------\");\n",
    "System.out.println(\"a: \" + arrayToString2(a)); // [7, 3, 15, 9]\n",
    "System.out.println(\"b: \" + arrayToString2(b)); // []\n",
    "System.out.println(\"------ Test arrayToString3 ------\");\n",
    "System.out.println(\"a: \" + arrayToString3(a)); // [7, 3, 15, 9]\n",
    "System.out.println(\"b: \" + arrayToString3(b)); // []"
   ]
  },
  {
   "cell_type": "markdown",
   "metadata": {},
   "source": [
    "***Example 3***"
   ]
  },
  {
   "cell_type": "code",
   "execution_count": 17,
   "metadata": {},
   "outputs": [],
   "source": [
    "// find the minimum element in array x, assuming x is not empty\n",
    "public static int minValue(int[] x) {\n",
    "    int result = x[0];\n",
    "    for (int i = 0; i < x.length; i++) {\n",
    "        if (x[i] < result) {\n",
    "            result = x[i];\n",
    "        }\n",
    "    }\n",
    "    return result;\n",
    "}"
   ]
  },
  {
   "cell_type": "code",
   "execution_count": 18,
   "metadata": {},
   "outputs": [
    {
     "name": "stdout",
     "output_type": "stream",
     "text": [
      "------ Test minValue ------\n",
      "Min of a: 3\n",
      "Min of d: 2\n",
      "Min of [10, 9, 8]: 8\n"
     ]
    }
   ],
   "source": [
    "// Test minValue\n",
    "System.out.println(\"------ Test minValue ------\");\n",
    "System.out.println(\"Min of a: \" + minValue(a)); // 3\n",
    "System.out.println(\"Min of d: \" + minValue(d)); // 2\n",
    "System.out.println(\"Min of [10, 9, 8]: \" + minValue(new int[]{10, 9, 8})); // 8"
   ]
  },
  {
   "attachments": {},
   "cell_type": "markdown",
   "metadata": {},
   "source": [
    "***Example 4***"
   ]
  },
  {
   "cell_type": "code",
   "execution_count": 19,
   "metadata": {},
   "outputs": [],
   "source": [
    "// find the INDEX of the minimum element in array x, assuming x is not empty\n",
    "public static int minIndex(int[] x) {\n",
    "    int result = 0;\n",
    "    for (int i = 0; i < x.length; i++) {\n",
    "        if (x[i] < x[result]) {\n",
    "            result = i;\n",
    "        }\n",
    "    }\n",
    "    return result;\n",
    "}"
   ]
  },
  {
   "cell_type": "code",
   "execution_count": 20,
   "metadata": {},
   "outputs": [
    {
     "name": "stdout",
     "output_type": "stream",
     "text": [
      "------ Test minIndex ------\n",
      "Index of min of a: 1\n",
      "Index of min of d: 1\n",
      "Index of min of [10, 9, 8]: 2\n",
      "Index of min of [5, 4, 7, 4, 6]: 1\n"
     ]
    }
   ],
   "source": [
    "// Test minIndex\n",
    "System.out.println(\"------ Test minIndex ------\");\n",
    "System.out.println(\"Index of min of a: \" + minIndex(a)); // 1\n",
    "System.out.println(\"Index of min of d: \" + minIndex(d)); // 1\n",
    "System.out.println(\"Index of min of [10, 9, 8]: \" + minIndex(new int[]{10, 9, 8})); // 2\n",
    "System.out.println(\"Index of min of [5, 4, 7, 4, 6]: \" + minIndex(new int[]{5, 4, 7, 4, 6})); // 1 - since we used < in our code, we will get the first index for the minimum index. \n",
    "// If we want to get the other 4, we simply need to change our code from < to <=.\n",
    "// If we want to return both the 4s, we need to change our method to return an array of indeces. "
   ]
  },
  {
   "attachments": {},
   "cell_type": "markdown",
   "metadata": {},
   "source": [
    "### Values and References"
   ]
  },
  {
   "cell_type": "code",
   "execution_count": 21,
   "metadata": {},
   "outputs": [
    {
     "name": "stdout",
     "output_type": "stream",
     "text": [
      "------ Values of Integers ------\n",
      "a: 5. b: 7\n",
      "a: 7. b: 7\n",
      "a: 7. b: 8\n"
     ]
    }
   ],
   "source": [
    "System.out.println(\"------ Values of Integers ------\");\n",
    "int a = 5;\n",
    "int b = 7;\n",
    "System.out.println(\"a: \" + a + \". b: \" + b); // 5, 7\n",
    "a = b;\n",
    "System.out.println(\"a: \" + a + \". b: \" + b); // 7, 7\n",
    "b = 8;\n",
    "System.out.println(\"a: \" + a + \". b: \" + b); // 7, 8"
   ]
  },
  {
   "cell_type": "code",
   "execution_count": 22,
   "metadata": {},
   "outputs": [
    {
     "name": "stdout",
     "output_type": "stream",
     "text": [
      "------ Values and References of Arrays ------\n",
      "x[0]: 5. y[0]: 7\n",
      "x[0]: 7. y[0]: 7\n",
      "x[0]: 8. y[0]: 8\n"
     ]
    }
   ],
   "source": [
    "System.out.println(\"------ Values and References of Arrays ------\");\n",
    "int[] x = new int[3];\n",
    "int[] y = new int[3];\n",
    "x[0] = 5;\n",
    "y[0] = 7;\n",
    "System.out.println(\"x[0]: \" + x[0] + \". y[0]: \" + y[0]); // 5, 7\n",
    "x = y;\n",
    "System.out.println(\"x[0]: \" + x[0] + \". y[0]: \" + y[0]); // 7, 7\n",
    "y[0] = 8;\n",
    "System.out.println(\"x[0]: \" + x[0] + \". y[0]: \" + y[0]); // 8, 8"
   ]
  },
  {
   "attachments": {},
   "cell_type": "markdown",
   "metadata": {},
   "source": [
    "<font size = 4> \n",
    "Array is stored in Java in a different way from integers. Whenever we declare a new integer, the value of that integer will be stored and updated in the main memory space. However, we will not create the arrays in the main memory space but rather in the heap memory space. In the main memory space, the array will not have the full elements. They will only have a reference number that refers the array to an array in the heap memory space. The assignment between arrays x = y assigns the reference number of y to x. Hence, when we update the elements in y, the elements in x also updates since they now refer to the same array in the heap memory."
   ]
  },
  {
   "attachments": {},
   "cell_type": "markdown",
   "metadata": {},
   "source": [
    "***Example 1***"
   ]
  },
  {
   "cell_type": "code",
   "execution_count": 23,
   "metadata": {},
   "outputs": [],
   "source": [
    "public static void f(int k) {\n",
    "    k += 1;\n",
    "}\n",
    "\n",
    "public static void g(int[] h) {\n",
    "    h[0] += 1;\n",
    "}"
   ]
  },
  {
   "cell_type": "code",
   "execution_count": 24,
   "metadata": {},
   "outputs": [
    {
     "name": "stdout",
     "output_type": "stream",
     "text": [
      "------ Examples involving Methods ------\n",
      "k: 10\n",
      "k: 10\n",
      "h[0]: 10\n",
      "h[0]: 11\n"
     ]
    }
   ],
   "source": [
    "System.out.println(\"------ Examples involving Methods ------\");\n",
    "int k = 10;\n",
    "System.out.println(\"k: \" + k);// 10\n",
    "f(k); // we we call a method, Java promotes the variable value to a different memory space (the k in the method is different from the k in this main memory space)\n",
    "// After finish running f(k), everything in the method memory will be destoryed.\n",
    "// The way the method f() is written is useless. It does all the work, but does not return the desired output. \n",
    "System.out.println(\"k: \" + k); \n",
    "\n",
    "int[] h = new int[3];\n",
    "h[0] = 10;\n",
    "System.out.println(\"h[0]: \" + h[0]); // 10\n",
    "g(h);\n",
    "System.out.println(\"h[0]: \" + h[0]); // 11"
   ]
  },
  {
   "attachments": {},
   "cell_type": "markdown",
   "metadata": {},
   "source": [
    "***Example 2***\n",
    "Returns a string repreentation of an array of integers in the following format: [a0, a1, a2, ... an-1]\n",
    "\n",
    " @param a an array of integers\n",
    " \n",
    " @param n the number of elements in a (n <= a.length)"
   ]
  },
  {
   "cell_type": "code",
   "execution_count": 5,
   "metadata": {},
   "outputs": [],
   "source": [
    "/**\n",
    " * Returns a string repreentation of an array of integers in the following format: [a0, a1, a2, ... an-1]\n",
    " * @param a an array of integers\n",
    " * @param n the number of elements in a (n <= a.length)\n",
    " */\n",
    "public static String arrayToString(int[] a, int n) {\n",
    "    String result = \"[\";\n",
    "    for (int i = 0; i < n - 1; i++) {\n",
    "        result = result + a[i] + \", \";\n",
    "    }\n",
    "    if (n > 0) {\n",
    "        result = result +a[n-1];\n",
    "    }\n",
    "    result += \"]\";\n",
    "    return result;\n",
    "}"
   ]
  },
  {
   "cell_type": "code",
   "execution_count": 6,
   "metadata": {},
   "outputs": [
    {
     "name": "stdout",
     "output_type": "stream",
     "text": [
      "[5, 3, 7, 9]\n",
      "[5, 3, 7, 9]\n"
     ]
    }
   ],
   "source": [
    "int[] t = new int[10]; // array with 10 slots\n",
    "t[0] = 5;\n",
    "t[1] = 3;\n",
    "t[2] = 7;\n",
    "t[3] = 9;\n",
    "System.out.println(arrayToString(t, 4));\n",
    "int[] t2 = new int[]{5,3,7,9};\n",
    "System.out.println(arrayToString(t2, t2.length));"
   ]
  },
  {
   "attachments": {},
   "cell_type": "markdown",
   "metadata": {},
   "source": [
    "***Example 3***\n",
    "Inserts an interger x into position pos in a given array. All the original elements after pos are shifted forward. Assume that there is enough free space in the array to nsert the new element.\n",
    "\n",
    "@param a an array of integers\n",
    "\n",
    "@param n number of elements in a\n",
    "\n",
    "@param x element to be inserted\n",
    "\n",
    "@param pos index at which x should be inserted"
   ]
  },
  {
   "cell_type": "code",
   "execution_count": 7,
   "metadata": {},
   "outputs": [],
   "source": [
    "/**\n",
    " * Inserts an interger x into position pos in a given array. All the original elements after pos are shifted forward. Assume that there is enough free space in the array to nsert the new element.\n",
    " * @param a an array of integers\n",
    " * @param n number of elements in a\n",
    " * @param x element to be inserted\n",
    " * @param pos index at which x should be inserted\n",
    " */\n",
    "public static void insert(int[] a, int n, int x, int pos) {\n",
    "    for (int i = n - 1; i >= pos; i--) {\n",
    "        a[i + 1] = a[i];\n",
    "    }\n",
    "    a[pos] = x;\n",
    "}"
   ]
  },
  {
   "cell_type": "code",
   "execution_count": 8,
   "metadata": {},
   "outputs": [
    {
     "name": "stdout",
     "output_type": "stream",
     "text": [
      "------ Test insert ------\n",
      "Before insert: [5, 3, 7, 9]\n",
      "After insert: [5, 3, 10, 7, 9]\n"
     ]
    }
   ],
   "source": [
    "// test insert\n",
    "System.out.println(\"------ Test insert ------\");\n",
    "System.out.println(\"Before insert: \" + arrayToString(t, 4)); // [5, 3, 7, 9]\n",
    "insert(t, 4, 10, 2);\n",
    "System.out.println(\"After insert: \" + arrayToString(t, 5)); // [5, 3, 10, 7, 9]"
   ]
  },
  {
   "attachments": {},
   "cell_type": "markdown",
   "metadata": {},
   "source": [
    "***Example 4***\n",
    "Remove the element at index pos from a given array.\n",
    "All the element after pos are shifted backward.\n",
    "\n",
    "@param a an array of integers\n",
    "\n",
    "@param n number of elements in a\n",
    "\n",
    "@param pos index of the element to be removed\n",
    "\n",
    "@return the element that was removed"
   ]
  },
  {
   "cell_type": "code",
   "execution_count": 9,
   "metadata": {},
   "outputs": [],
   "source": [
    "/**\n",
    " * Remove the element at index pos from a given array.\n",
    " * All the element after pos are shifted backward.\n",
    " * @param a an array of integers\n",
    " * @param n number of elements in a\n",
    " * @param pos index of the element to be removed\n",
    " * @return the element that was removed\n",
    " */\n",
    "public static int remove(int[]a, int n, int pos) {\n",
    "    int result = a[pos];\n",
    "    for (int i = pos + 1; i < n; i++) {\n",
    "        a[i - 1] = a[i];\n",
    "    }\n",
    "    return result;\n",
    "}"
   ]
  },
  {
   "cell_type": "code",
   "execution_count": 10,
   "metadata": {},
   "outputs": [
    {
     "name": "stdout",
     "output_type": "stream",
     "text": [
      "------ Test remove ------\n",
      "Before remove: [5, 3, 10, 7, 9]\n",
      "After remove: \n",
      "q: 3; t: [5, 10, 7, 9]\n"
     ]
    }
   ],
   "source": [
    "// test remove\n",
    "System.out.println(\"------ Test remove ------\");\n",
    "System.out.println(\"Before remove: \" + arrayToString(t, 5)); // [5, 3, 10, 7, 9]\n",
    "int q = remove(t, 5, 1);\n",
    "System.out.println(\"After remove: \"); \n",
    "System.out.println(\"q: \" + q + \"; t: \" + arrayToString(t, 4));// 3; [5, 10, 7, 9]"
   ]
  },
  {
   "attachments": {},
   "cell_type": "markdown",
   "metadata": {},
   "source": [
    "## 2D Array"
   ]
  },
  {
   "cell_type": "code",
   "execution_count": 1,
   "metadata": {},
   "outputs": [
    {
     "name": "stdout",
     "output_type": "stream",
     "text": [
      "[[D@5f100d9a\n"
     ]
    }
   ],
   "source": [
    "int[][] x = new int[2][3]; // matrix with 2 rows and 3 columns\n",
    "x[0][0] = 100; // assign 100 to the element at row 0 and col 0\n",
    "\n",
    "double[][] y = new double[2][3];\n",
    "y[0][0] = 10;\n",
    "y[0][1] = 20;\n",
    "y[0][2] = 30;\n",
    "y[1][0] = 40;\n",
    "y[1][1] = 50;\n",
    "y[1][2] = 60;\n",
    "\n",
    "System.out.println(y); // does NOT print the content of the 2D array"
   ]
  },
  {
   "attachments": {},
   "cell_type": "markdown",
   "metadata": {},
   "source": [
    "***Example 1***"
   ]
  },
  {
   "cell_type": "code",
   "execution_count": 2,
   "metadata": {},
   "outputs": [],
   "source": [
    "/**\n",
    " * Returns a string reprensentation of a 2D array of doubles in the format: \n",
    " * [\n",
    " *  [ x[0][0], x[0][1], ..., x[0][m-1] ]\n",
    " *  [ x[1][0], x[0][1], ..., x[0][m-1] ]\n",
    " *  [ ...          ...          ...    ]\n",
    " *  [ x[n-1][0], x[n-1][1], ..., x[n-1][m-1] ]\n",
    " * ]\n",
    " * \n",
    " * @param x a matrix (2D array) of doubles\n",
    " * @param n number of rows of x[][]\n",
    " * @param m number of columns of x[][]\n",
    " * @return a String representation of x[][]\n",
    " */\n",
    "public static String matrixToString(double[][] x, int n, int m) {\n",
    "    String result = \"[\\n\";\n",
    "    for (int row = 0; row < n; row++) {\n",
    "        result += \"  [\";\n",
    "        for (int col = 0; col < m - 1; col++) {\n",
    "            result += x[row][col] + \", \";\n",
    "        }   \n",
    "        result += x[row][m - 1] + \"]\\n\";\n",
    "    }\n",
    "    result += \"]\";\n",
    "    return result;\n",
    "}"
   ]
  },
  {
   "cell_type": "code",
   "execution_count": 3,
   "metadata": {},
   "outputs": [
    {
     "name": "stdout",
     "output_type": "stream",
     "text": [
      "[\n",
      "  [10.0, 20.0, 30.0]\n",
      "  [40.0, 50.0, 60.0]\n",
      "]\n"
     ]
    }
   ],
   "source": [
    "System.out.println(matrixToString(y, 2, 3));"
   ]
  },
  {
   "cell_type": "code",
   "execution_count": 4,
   "metadata": {},
   "outputs": [
    {
     "name": "stdout",
     "output_type": "stream",
     "text": [
      "[\n",
      "  [15.0, 25.0, 35.0]\n",
      "  [45.0, 55.0, 65.0]\n",
      "]\n"
     ]
    }
   ],
   "source": [
    "// y.length: number of rows\n",
    "// y[0].length: number of columns\n",
    "\n",
    "double[][] w = new double[][]{{15, 25, 35}, {45, 55, 65}};\n",
    "System.out.println(matrixToString(w, w.length, w[0].length));"
   ]
  },
  {
   "attachments": {},
   "cell_type": "markdown",
   "metadata": {},
   "source": [
    "***Example 2***\n",
    "Print 2D Arrays"
   ]
  },
  {
   "cell_type": "code",
   "execution_count": 1,
   "metadata": {},
   "outputs": [],
   "source": [
    "/**\n",
    " * Returns a string representation of a 2D array of doubles in the format:\n",
    " * [\n",
    " *  [x[0][0], x[0][1], x[0][m-1]]\n",
    " *  [x[1][0], x[1][1], x[1][m-1]]\n",
    " *  [...        ...        ...      ]\n",
    " *  [x[n-1][0], x[n-1][1], x[n-1][m-1]]\n",
    " * ]\n",
    " *\n",
    " * @param x a matrix (2D array) of doubles\n",
    " * @param n number of rows of x[][]\n",
    " * @param m number of columns of x[][]\n",
    " * @return a String representation of x[][]\n",
    " */\n",
    "public static String matrixToString(double[][] x, int n, int m) {\n",
    "    if (x == null) {\n",
    "        return null;\n",
    "    }\n",
    "    String result = \"[\\n\";\n",
    "    for (int row = 0; row < n; row++) {\n",
    "        result += \" [\";\n",
    "        for (int col = 0; col < m - 1; col++) {\n",
    "            result += x[row][col] + \", \";\n",
    "        }\n",
    "        result += x[row][m - 1] + \"]\\n\";\n",
    "    }\n",
    "    result += \"]\";\n",
    "    return result;\n",
    "}"
   ]
  },
  {
   "cell_type": "code",
   "execution_count": 17,
   "metadata": {},
   "outputs": [],
   "source": [
    "/**\n",
    " * Returns a string representation of a 2D array of strings in the format:\n",
    " * [\n",
    " *  [x[0][0], x[0][1], ...]\n",
    " *  [x[1][0], x[1][1], ...]\n",
    " *  [...]\n",
    " *  [x[n-1][0], x[n-1][1], ...]\n",
    " * ]\n",
    " *\n",
    " * @param x a 2D array of strings\n",
    " * @return a String representation of x[][]\n",
    " */\n",
    "public static String array2DToString(String[][] x) {\n",
    "    if (x == null) {\n",
    "        return null;\n",
    "    }\n",
    "    String result = \"[\\n\";\n",
    "    for (int row = 0; row < x.length; row++) {\n",
    "        result += \" [\";\n",
    "        for (int col = 0; col < x[row].length - 1; col++) {\n",
    "            result += x[row][col] + \", \";\n",
    "        }\n",
    "        result += x[row][x[row].length - 1] + \"]\\n\";\n",
    "    }\n",
    "    result += \"]\";\n",
    "    return result;\n",
    "}"
   ]
  },
  {
   "attachments": {},
   "cell_type": "markdown",
   "metadata": {},
   "source": [
    "***Example 3***\n",
    "Returns a new matrix that contains the transpose of a given matrix with n rows and m columns.\n",
    "\n",
    "@param x a matrix (array of arrays) of doubles\n",
    "\n",
    "@param n number of rows of x[][]\n",
    "\n",
    "@param m number of columns of x[][]\n",
    "\n",
    "@return the transpose of x[][]"
   ]
  },
  {
   "cell_type": "code",
   "execution_count": 2,
   "metadata": {},
   "outputs": [],
   "source": [
    "/**\n",
    " * Returns a new matrix that contains the transpose of a given matrix with n rows and m columns.\n",
    " * \n",
    " * @param x a matrix (array of arrays) of doubles\n",
    " * @param n number of rows of x[][]\n",
    " * @param m number of columns of x[][]\n",
    " * @return the transpose of x[][]\n",
    " */\n",
    "public static double[][] transpose(double[][] x, int n, int m) {\n",
    "    double[][] result = new double[m][n];\n",
    "    for (int row = 0; row < n; row++) {\n",
    "        for (int col = 0; col < m; col++) {\n",
    "            result[col][row] = x[row][col];\n",
    "        }\n",
    "    }\n",
    "    return result;\n",
    "}"
   ]
  },
  {
   "cell_type": "code",
   "execution_count": 3,
   "metadata": {},
   "outputs": [
    {
     "name": "stdout",
     "output_type": "stream",
     "text": [
      "------ Test transpose ------\n",
      "Matrix y is: \n",
      "[\n",
      " [10.0, 20.0, 30.0]\n",
      " [40.0, 50.0, 60.0]\n",
      "]\n",
      "Transpose of y is: \n",
      "[\n",
      " [10.0, 40.0]\n",
      " [20.0, 50.0]\n",
      " [30.0, 60.0]\n",
      "]\n"
     ]
    }
   ],
   "source": [
    "// test transpose\n",
    "System.out.println(\"------ Test transpose ------\");\n",
    "double[][] y = new double[][]{{10, 20, 30}, {40, 50, 60}};\n",
    "System.out.println(\"Matrix y is: \\n\" + matrixToString(y, 2, 3));\n",
    "double[][] yt = transpose(y, 2, 3);\n",
    "System.out.println(\"Transpose of y is: \\n\" + matrixToString(yt, 3, 2));"
   ]
  },
  {
   "attachments": {},
   "cell_type": "markdown",
   "metadata": {},
   "source": [
    "***Example 4***\n",
    "Checks whether a given square matrix is triangular.m A triangular matrix is a special kind of square matrix where either all the entries below or all the entries above the main diagonal are zero. https://en.wikipedia.org/wiki/Triangular_matrix\n",
    "\n",
    "@param x a matrix of doubles\n",
    "\n",
    "@param n number of rows and columns of x[][]\n",
    "\n",
    "@return true if x[][] is triangular, false otherwise"
   ]
  },
  {
   "cell_type": "code",
   "execution_count": 8,
   "metadata": {},
   "outputs": [],
   "source": [
    "/**\n",
    " * Checks whether a given square matrix is lower triangular. \n",
    " * A lower triangular matrix is a special kind of square matrix where all the \n",
    " * entries above the main diagonal are zero. \n",
    " * https://en.wikipedia.org/wiki/Triangular_matrix\n",
    " * \n",
    " * @param x a matrix of doubles\n",
    " * @param n number of rows and columns of x[][]\n",
    " * @return true if x[][] is lower triangular, false otherwise\n",
    " */\n",
    "public static boolean isLowerTriangular(double[][] x, int n) {\n",
    "    boolean result = true;\n",
    "    for (int row = 0; row < n - 1; row++) {\n",
    "        for (int col = row + 1; col < n; col++) {\n",
    "            if (x[row][col] != 0) {\n",
    "                result = false;\n",
    "            }\n",
    "        }\n",
    "    }\n",
    "    return result;\n",
    "}"
   ]
  },
  {
   "cell_type": "code",
   "execution_count": 9,
   "metadata": {},
   "outputs": [],
   "source": [
    "/**\n",
    " * Checks whether a given square matrix is upper triangular.\n",
    " * An upper triangular matrix is a special kind of square matrix\n",
    " * where all the entries below the main diagonal are zero.\n",
    " * https://en.wikipedia.org/wiki/Triangular_matrix\n",
    " *\n",
    " * @param x a matrix of doubles\n",
    " * @param n number of rows and columns of x[][]\n",
    " * @return true if x[][] is upper triangular, false otherwise\n",
    " */\n",
    "public static boolean isUpperTriangular(double[][] x, int n) {\n",
    "    boolean result = true;\n",
    "    for (int row = 1; row < n; row++) {\n",
    "        for (int col = 1; col < row; col++) {\n",
    "            if (x[row][col] != 0) {\n",
    "                result = false;\n",
    "            }\n",
    "        }\n",
    "    }\n",
    "    return result;\n",
    "}"
   ]
  },
  {
   "cell_type": "code",
   "execution_count": 10,
   "metadata": {},
   "outputs": [],
   "source": [
    "public static boolean isTriangular(double[][] x, int n) {\n",
    "    return isLowerTriangular(x, n) || isUpperTriangular(x, n);\n",
    "}"
   ]
  },
  {
   "cell_type": "code",
   "execution_count": 11,
   "metadata": {},
   "outputs": [
    {
     "name": "stdout",
     "output_type": "stream",
     "text": [
      "------ Test isTriangular ------\n",
      "[\n",
      " [1.0, 0.0, 0.0]\n",
      " [1.0, 1.0, 0.0]\n",
      " [1.0, 1.0, 1.0]\n",
      "]\n",
      "Is lower triangular: true\n",
      "Is upper triangular: false\n",
      "Is triangular: true\n"
     ]
    }
   ],
   "source": [
    "// test isTriangular\n",
    "System.out.println(\"------ Test isTriangular ------\");\n",
    "double[][] z1 = new double[][]{{1, 0, 0},\n",
    "                               {1, 1, 0},\n",
    "                               {1, 1, 1}};\n",
    "System.out.println(matrixToString(z1, 3, 3));\n",
    "System.out.println(\"Is lower triangular: \" + isLowerTriangular(z1, 3)); // true\n",
    "System.out.println(\"Is upper triangular: \" + isUpperTriangular(z1, 3)); // false\n",
    "System.out.println(\"Is triangular: \" + isTriangular(z1, 3)); // true"
   ]
  },
  {
   "cell_type": "code",
   "execution_count": 12,
   "metadata": {},
   "outputs": [
    {
     "name": "stdout",
     "output_type": "stream",
     "text": [
      "[\n",
      " [1.0, 0.0, 0.0]\n",
      " [1.0, 1.0, 3.0]\n",
      " [1.0, 1.0, 1.0]\n",
      "]\n",
      "Is lower triangular: false\n",
      "Is upper triangular: false\n",
      "Is triangular: false\n"
     ]
    }
   ],
   "source": [
    "double[][] z2 = new double[][]{{1, 0, 0},\n",
    "                                   {1, 1, 3},\n",
    "                                   {1, 1, 1}};\n",
    "System.out.println(matrixToString(z2, 3, 3));\n",
    "System.out.println(\"Is lower triangular: \" + isLowerTriangular(z2, 3)); // false\n",
    "System.out.println(\"Is upper triangular: \" + isUpperTriangular(z2, 3)); // false\n",
    "System.out.println(\"Is triangular: \" + isTriangular(z2, 3)); // false"
   ]
  },
  {
   "cell_type": "code",
   "execution_count": 13,
   "metadata": {},
   "outputs": [
    {
     "name": "stdout",
     "output_type": "stream",
     "text": [
      "[\n",
      " [1.0, 0.0, 0.0]\n",
      " [0.0, 1.0, 3.0]\n",
      " [0.0, 0.0, 1.0]\n",
      "]\n",
      "Is lower triangular: false\n",
      "Is upper triangular: true\n",
      "Is triangular: true\n"
     ]
    }
   ],
   "source": [
    "double[][] z3 = new double[][]{{1, 0, 0},\n",
    "                                   {0, 1, 3},\n",
    "                                   {0, 0, 1}};\n",
    "    System.out.println(matrixToString(z3, 3, 3));\n",
    "    System.out.println(\"Is lower triangular: \" + isLowerTriangular(z3, 3)); // false\n",
    "    System.out.println(\"Is upper triangular: \" + isUpperTriangular(z3, 3)); // true\n",
    "    System.out.println(\"Is triangular: \" + isTriangular(z3, 3)); // true"
   ]
  },
  {
   "attachments": {},
   "cell_type": "markdown",
   "metadata": {},
   "source": [
    "***Example 5***\n",
    "Given an array of strings, creates a 2D array of strings where each row contains an array whose elements are the individual characters of the corresponding input string. For example, given the array {\"apple\", \"book\", \"car\"}\n",
    "the method would return the 2D array:\n",
    "\n",
    "    ```\n",
    "    {{\"a\", \"p\", \"p\", \"l\", \"e\"},\n",
    "     {\"b\", \"o\", \"o\", \"k\"},\n",
    "     {\"c\", \"a\", \"r\"}}\n",
    "     ```\n",
    "\n",
    "@param s an array of strings\n",
    "\n",
    "@return a 2D array of strings containing all the individual characters from the input strings (see example above)"
   ]
  },
  {
   "cell_type": "code",
   "execution_count": 14,
   "metadata": {},
   "outputs": [],
   "source": [
    "public static String[][] splitStrings(String[] s) {\n",
    "    String[][] result = new String[s.length][];\n",
    "    for (int i = 0; i < s.length; i++) {\n",
    "        result[i] = new String[s[i].length()];\n",
    "        for (int j = 0; j < result[i].length; j++) {\n",
    "            result[i][j] = \"\" + s[i].charAt(j);\n",
    "        }\n",
    "    }\n",
    "    return result;\n",
    "}"
   ]
  },
  {
   "cell_type": "code",
   "execution_count": 18,
   "metadata": {},
   "outputs": [
    {
     "name": "stdout",
     "output_type": "stream",
     "text": [
      "------ Test splitStrings ------\n",
      "[\n",
      " [a, p, p, l, e]\n",
      " [b, o, o, k]\n",
      " [c, a, r]\n",
      "]\n"
     ]
    }
   ],
   "source": [
    "// test splitStrings\n",
    "System.out.println(\"------ Test splitStrings ------\");\n",
    "String[][] q = splitStrings(new String[]{\"apple\", \"book\", \"car\"});\n",
    "System.out.println(array2DToString(q));"
   ]
  },
  {
   "attachments": {},
   "cell_type": "markdown",
   "metadata": {},
   "source": [
    "## Recursion"
   ]
  },
  {
   "attachments": {},
   "cell_type": "markdown",
   "metadata": {},
   "source": [
    "To use recursion, we need to define the base cases in our method, and then we call the method within the method. "
   ]
  },
  {
   "attachments": {},
   "cell_type": "markdown",
   "metadata": {},
   "source": [
    "***Example 1***"
   ]
  },
  {
   "cell_type": "code",
   "execution_count": 1,
   "metadata": {},
   "outputs": [],
   "source": [
    "// This method will return the value of 2 to the power of n.\n",
    "// Assume n is also greater than 0.\n",
    "public static int powerOfTwo(int n) {\n",
    "    if (n == 0) { // define the base case\n",
    "        return 1;\n",
    "    }  else { // the recursion part\n",
    "        return 2 * powerOfTwo(n-1);\n",
    "    }\n",
    "}"
   ]
  },
  {
   "cell_type": "code",
   "execution_count": 2,
   "metadata": {},
   "outputs": [
    {
     "name": "stdout",
     "output_type": "stream",
     "text": [
      "------ Test powerOfTwo ------\n",
      "1\n",
      "2\n",
      "4\n",
      "16\n",
      "32\n",
      "131072\n"
     ]
    }
   ],
   "source": [
    "// test powerOfTwo\n",
    "System.out.println(\"------ Test powerOfTwo ------\");\n",
    "System.out.println(powerOfTwo(0)); // 1\n",
    "System.out.println(powerOfTwo(1)); // 2\n",
    "System.out.println(powerOfTwo(2)); // 4\n",
    "System.out.println(powerOfTwo(4)); // 16\n",
    "System.out.println(powerOfTwo(5)); // 32\n",
    "System.out.println(powerOfTwo(17)); // 131072"
   ]
  },
  {
   "attachments": {},
   "cell_type": "markdown",
   "metadata": {},
   "source": [
    "***Example 2***"
   ]
  },
  {
   "cell_type": "code",
   "execution_count": 3,
   "metadata": {},
   "outputs": [],
   "source": [
    "public static int factorial(int n) {\n",
    "    if (n == 0) { // define the base case\n",
    "        return 1;\n",
    "    } else { // the recursion part\n",
    "        return n * factorial(n - 1);\n",
    "    }\n",
    "}"
   ]
  },
  {
   "cell_type": "code",
   "execution_count": 4,
   "metadata": {},
   "outputs": [
    {
     "name": "stdout",
     "output_type": "stream",
     "text": [
      "------ Test factorial ------\n",
      "1\n",
      "1\n",
      "2\n",
      "6\n",
      "24\n",
      "120\n"
     ]
    }
   ],
   "source": [
    "// test factorial\n",
    "System.out.println(\"------ Test factorial ------\");\n",
    "System.out.println(factorial(0)); // 1\n",
    "System.out.println(factorial(1)); // 1\n",
    "System.out.println(factorial(2)); // 2\n",
    "System.out.println(factorial(3)); // 6\n",
    "System.out.println(factorial(4)); // 24\n",
    "System.out.println(factorial(5)); // 120"
   ]
  },
  {
   "attachments": {},
   "cell_type": "markdown",
   "metadata": {},
   "source": [
    "***Example 3***"
   ]
  },
  {
   "cell_type": "code",
   "execution_count": 5,
   "metadata": {},
   "outputs": [],
   "source": [
    "// ABCDE -> EDCBA\n",
    "public static String reverse(String s) {\n",
    "    if (s.length() <= 1) { // define the base cases\n",
    "        return s;\n",
    "    } else { // the recursion part\n",
    "        return s.charAt(s.length() - 1) + reverse(s.substring(0, s.length() - 1));\n",
    "    }\n",
    "}"
   ]
  },
  {
   "cell_type": "code",
   "execution_count": 6,
   "metadata": {},
   "outputs": [
    {
     "name": "stdout",
     "output_type": "stream",
     "text": [
      "------ Test reverse ------\n",
      "\n",
      "A\n",
      "EDCBA\n"
     ]
    }
   ],
   "source": [
    "//test reverse\n",
    "System.out.println(\"------ Test reverse ------\");       \n",
    "System.out.println(\"\"); // \"\"\n",
    "System.out.println(reverse(\"A\")); // \"A\"\n",
    "System.out.println(reverse(\"ABCDE\")); // \"EDCBA\""
   ]
  },
  {
   "attachments": {},
   "cell_type": "markdown",
   "metadata": {},
   "source": [
    "***Example 4***"
   ]
  },
  {
   "cell_type": "code",
   "execution_count": 7,
   "metadata": {},
   "outputs": [],
   "source": [
    "// kayak is a pallindrome becuase its reverse is the same as itself\n",
    "// computer is not a pallindrome\n",
    "// \"\" and \"x\" are pallindromes.\n",
    "public static boolean isPallindrome(String s) {\n",
    "    if (s.length() <= 1) { // define the base cases\n",
    "        return true;\n",
    "    } else { // the recursion part\n",
    "        return s.charAt(0) == s.charAt(s.length() - 1) && \n",
    "               isPallindrome(s.substring(1, s.length() - 1));\n",
    "    }\n",
    "}"
   ]
  },
  {
   "cell_type": "code",
   "execution_count": 8,
   "metadata": {},
   "outputs": [
    {
     "name": "stdout",
     "output_type": "stream",
     "text": [
      "------ Test isPallindrome ------\n",
      "true\n",
      "true\n",
      "true\n",
      "false\n",
      "true\n",
      "true\n",
      "false\n",
      "false\n"
     ]
    }
   ],
   "source": [
    "//test isPallindrome\n",
    "System.out.println(\"------ Test isPallindrome ------\");\n",
    "System.out.println(isPallindrome(\"\")); // true\n",
    "System.out.println(isPallindrome(\"A\")); // true\n",
    "System.out.println(isPallindrome(\"AA\")); // true\n",
    "System.out.println(isPallindrome(\"AB\")); // false\n",
    "System.out.println(isPallindrome(\"AYA\")); // true\n",
    "System.out.println(isPallindrome(\"KAYAK\")); // true\n",
    "System.out.println(isPallindrome(\"KAYAY\")); // false\n",
    "System.out.println(isPallindrome(\"KAYYK\")); // false"
   ]
  },
  {
   "attachments": {},
   "cell_type": "markdown",
   "metadata": {},
   "source": [
    "***Example 5***"
   ]
  },
  {
   "cell_type": "code",
   "execution_count": 9,
   "metadata": {},
   "outputs": [],
   "source": [
    "// sums all the digits of n.\n",
    "// For example, addDigits(1234) = 1+2+3+4 = 10\n",
    "public static int addDigits(int n) {\n",
    "    if (n < 10) {\n",
    "        return n;\n",
    "    } else {\n",
    "        return addDigits(n / 10) + n % 10;\n",
    "    }\n",
    "}"
   ]
  },
  {
   "cell_type": "code",
   "execution_count": 10,
   "metadata": {},
   "outputs": [
    {
     "name": "stdout",
     "output_type": "stream",
     "text": [
      "------ Test addDigits ------\n",
      "5\n",
      "10\n",
      "11\n"
     ]
    }
   ],
   "source": [
    "// test addDigits\n",
    "System.out.println(\"------ Test addDigits ------\");\n",
    "System.out.println(addDigits(5)); // 5\n",
    "System.out.println(addDigits(37)); // 10\n",
    "System.out.println(addDigits(1325)); // 11"
   ]
  },
  {
   "attachments": {},
   "cell_type": "markdown",
   "metadata": {},
   "source": [
    "***Example 6***"
   ]
  },
  {
   "cell_type": "code",
   "execution_count": 11,
   "metadata": {},
   "outputs": [],
   "source": [
    "/**\n",
    "* sums the first n elements of array x (0 <= n <= x.length)\n",
    "* @param x an array of integers\n",
    "* @param n the number of elements that we want to add\n",
    "* @return the summation of the first n elements of array x\n",
    "*  */ \n",
    "public static int sum(int[] x, int n) {\n",
    "    if (n == 0) {\n",
    "        return 0;\n",
    "    } else {\n",
    "        return sum(x, n - 1) + x[n - 1];\n",
    "    }\n",
    "}"
   ]
  },
  {
   "cell_type": "code",
   "execution_count": 12,
   "metadata": {},
   "outputs": [],
   "source": [
    "/**\n",
    "* alternative version of sum\n",
    "* @param x an array of integers\n",
    "* @param n the number of elements that we want to add\n",
    "* @param start where to start the addition\n",
    "* @return the summation of the n elements of array x, starting from the index start.\n",
    "* */ \n",
    "public static int sum2(int[] x, int n, int start) {\n",
    "    if (n == start) {\n",
    "        return 0;\n",
    "    } else {\n",
    "        return sum2(x, n, start + 1) + x[start];\n",
    "    }\n",
    "}"
   ]
  },
  {
   "cell_type": "code",
   "execution_count": 14,
   "metadata": {},
   "outputs": [
    {
     "name": "stdout",
     "output_type": "stream",
     "text": [
      "------ Test sum and sum2------\n",
      "0\n",
      "5\n",
      "6\n",
      "0\n",
      "5\n",
      "6\n"
     ]
    }
   ],
   "source": [
    "// test sum and sum2\n",
    "System.out.println(\"------ Test sum and sum2------\");\n",
    "int[] x1 = {};\n",
    "int[] x2 = {5};\n",
    "int[] x3 = {2, 1, 3};\n",
    "System.out.println(sum(x1, x1.length)); // 0\n",
    "System.out.println(sum(x2, x2.length)); // 5\n",
    "System.out.println(sum(x3, x3.length)); // 6\n",
    "System.out.println(sum2(x1, x1.length, 0)); // 0\n",
    "System.out.println(sum2(x2, x2.length, 0)); // 5\n",
    "System.out.println(sum2(x3, x3.length, 0)); // 6"
   ]
  },
  {
   "attachments": {},
   "cell_type": "markdown",
   "metadata": {},
   "source": [
    "***Example 7***"
   ]
  },
  {
   "cell_type": "code",
   "execution_count": 15,
   "metadata": {},
   "outputs": [],
   "source": [
    "// counts the number of odd elements in x\n",
    "public static int oddCount(int[] x, int n) {\n",
    "    if (n == 0) {\n",
    "        return 0;\n",
    "    } else if (x[n - 1] % 2 == 1) { // odd\n",
    "        return 1 + oddCount(x, n - 1);\n",
    "    } else { // even\n",
    "        return oddCount(x, n - 1);\n",
    "    }\n",
    "}"
   ]
  },
  {
   "cell_type": "code",
   "execution_count": 16,
   "metadata": {},
   "outputs": [],
   "source": [
    "// alternative version of oddCount\n",
    "public static int oddCount2(int[] x, int n) {\n",
    "    if (n == 0) {\n",
    "        return 0;\n",
    "    } else {\n",
    "        return x[n - 1] % 2 + oddCount2(x, n - 1);\n",
    "    }\n",
    "}"
   ]
  },
  {
   "cell_type": "code",
   "execution_count": 17,
   "metadata": {},
   "outputs": [
    {
     "name": "stdout",
     "output_type": "stream",
     "text": [
      "------ Test oddCount and oddCount2 ------\n",
      "0\n",
      "0\n",
      "3\n",
      "0\n",
      "0\n",
      "3\n"
     ]
    }
   ],
   "source": [
    "// test oddCount and oddCount2\n",
    "System.out.println(\"------ Test oddCount and oddCount2 ------\");\n",
    "int[] x4 = {};\n",
    "int[] x5 = {2, 4};\n",
    "int[] x6 = {1, 2, 3, 4, 5};\n",
    "System.out.println(oddCount(x4, x4.length)); // 0\n",
    "System.out.println(oddCount(x5, x5.length)); // 0\n",
    "System.out.println(oddCount(x6, x6.length)); // 3\n",
    "System.out.println(oddCount2(x4, x4.length)); // 0\n",
    "System.out.println(oddCount2(x5, x5.length)); // 0\n",
    "System.out.println(oddCount2(x6, x6.length)); // 3"
   ]
  },
  {
   "attachments": {},
   "cell_type": "markdown",
   "metadata": {},
   "source": [
    "***Example 8***"
   ]
  },
  {
   "cell_type": "code",
   "execution_count": 18,
   "metadata": {},
   "outputs": [],
   "source": [
    "// returns the minimum element in x, assume that x is not empty\n",
    "public static int min(int[] x, int n) {\n",
    "    if (n == 1) {\n",
    "        return x[0];\n",
    "    } else {\n",
    "        int k = min(x, n - 1);\n",
    "        if (x[n - 1] < k) {\n",
    "            return x[n - 1];\n",
    "        } else {\n",
    "            return k;\n",
    "        }\n",
    "    }\n",
    "}"
   ]
  },
  {
   "cell_type": "code",
   "execution_count": 19,
   "metadata": {},
   "outputs": [],
   "source": [
    "// returns the index of the minimum element in x, assume that x is not empty\n",
    "public static int minIndex(int[] x, int n) {\n",
    "    if (n == 1) {\n",
    "        return 0;\n",
    "    } else {\n",
    "        int k = minIndex(x, n - 1);\n",
    "        if (x[n - 1] < x[k]) {\n",
    "            return n - 1;\n",
    "        } else {\n",
    "            return k;\n",
    "        }\n",
    "    }\n",
    "}"
   ]
  },
  {
   "cell_type": "code",
   "execution_count": 20,
   "metadata": {},
   "outputs": [
    {
     "name": "stdout",
     "output_type": "stream",
     "text": [
      "------ Test min and minIndex------\n",
      "1\n",
      "2\n"
     ]
    }
   ],
   "source": [
    "//test min and minIndex\n",
    "System.out.println(\"------ Test min and minIndex------\");\n",
    "int[] x7 = {2, 5, 1, 4, 3};\n",
    "System.out.println(min(x7, x7.length)); // 1\n",
    "System.out.println(minIndex(x7, x7.length)); // 2"
   ]
  },
  {
   "attachments": {},
   "cell_type": "markdown",
   "metadata": {},
   "source": [
    "***Example 9***\n",
    "\n",
    "Trace the code"
   ]
  },
  {
   "cell_type": "code",
   "execution_count": 21,
   "metadata": {},
   "outputs": [],
   "source": [
    "public static void f1(int x, int y) {\n",
    "    if (x == y) {\n",
    "        System.out.println(\"done \"+ x + \" \" + y);\n",
    "    } else if (x > y) {\n",
    "        System.out.println(\"swap \"+ x + \" \" + y);\n",
    "        f1(y, x);\n",
    "    } else {\n",
    "        System.out.println(\"cut \"+ x + \" \" + y);\n",
    "        f1(x, y / 2);\n",
    "    }\n",
    "}"
   ]
  },
  {
   "attachments": {},
   "cell_type": "markdown",
   "metadata": {},
   "source": [
    "What will the following code return?"
   ]
  },
  {
   "cell_type": "code",
   "execution_count": 22,
   "metadata": {},
   "outputs": [
    {
     "name": "stdout",
     "output_type": "stream",
     "text": [
      "swap 3 2\n",
      "cut 2 3\n",
      "swap 2 1\n",
      "cut 1 2\n",
      "done 1 1\n"
     ]
    }
   ],
   "source": [
    "f1(3, 2);"
   ]
  },
  {
   "attachments": {},
   "cell_type": "markdown",
   "metadata": {},
   "source": [
    "***Answer***: \n",
    "\n",
    "```java\n",
    "swap 3 2\n",
    "cut 2 3\n",
    "swap 2 1\n",
    "cut 1 2\n",
    "done 1 1 \n",
    "```"
   ]
  },
  {
   "attachments": {},
   "cell_type": "markdown",
   "metadata": {},
   "source": [
    "***Example 10***\n",
    "\n",
    "Trace the code"
   ]
  },
  {
   "cell_type": "code",
   "execution_count": 23,
   "metadata": {},
   "outputs": [],
   "source": [
    "public static int f2(int n) {\n",
    "    if (n < 3) {\n",
    "        System.out.println(\"end\");\n",
    "        return n;\n",
    "    } else {\n",
    "        System.out.println(\"go \" + n);\n",
    "        return 1 + f2(n / 2);\n",
    "    }\n",
    "}"
   ]
  },
  {
   "attachments": {},
   "cell_type": "markdown",
   "metadata": {},
   "source": [
    "What will the following code return? "
   ]
  },
  {
   "cell_type": "code",
   "execution_count": 24,
   "metadata": {},
   "outputs": [
    {
     "name": "stdout",
     "output_type": "stream",
     "text": [
      "go 20\n",
      "go 10\n",
      "go 5\n",
      "end\n",
      "5\n"
     ]
    }
   ],
   "source": [
    "System.out.println(f2(20));"
   ]
  },
  {
   "attachments": {},
   "cell_type": "markdown",
   "metadata": {},
   "source": [
    "***Answer***:\n",
    "\n",
    "```java\n",
    "go 20\n",
    "go 10\n",
    "go 5\n",
    "end\n",
    "5\n",
    "```"
   ]
  },
  {
   "attachments": {},
   "cell_type": "markdown",
   "metadata": {},
   "source": [
    "***Example 11***\n",
    "\n",
    "Trace the code."
   ]
  },
  {
   "cell_type": "code",
   "execution_count": 25,
   "metadata": {},
   "outputs": [],
   "source": [
    "public static int f3(int n) {\n",
    "    if (n > 5) {\n",
    "        return n - 5;\n",
    "    } else {\n",
    "        System.out.println(n);\n",
    "        return f3(n + 2) + f3(n + 3);\n",
    "    }\n",
    "}"
   ]
  },
  {
   "attachments": {},
   "cell_type": "markdown",
   "metadata": {},
   "source": [
    "What will the code return?"
   ]
  },
  {
   "cell_type": "code",
   "execution_count": 26,
   "metadata": {},
   "outputs": [
    {
     "name": "stdout",
     "output_type": "stream",
     "text": [
      "1\n",
      "3\n",
      "5\n",
      "4\n",
      "9\n"
     ]
    }
   ],
   "source": [
    "System.out.println(f3(1));"
   ]
  },
  {
   "attachments": {},
   "cell_type": "markdown",
   "metadata": {},
   "source": [
    "***Answer***: \n",
    "\n",
    "```java\n",
    "1\n",
    "3\n",
    "5\n",
    "4\n",
    "9\n",
    "```"
   ]
  },
  {
   "cell_type": "code",
   "execution_count": null,
   "metadata": {},
   "outputs": [],
   "source": []
  }
 ],
 "metadata": {
  "kernelspec": {
   "display_name": "Java",
   "language": "java",
   "name": "java"
  },
  "language_info": {
   "codemirror_mode": "java",
   "file_extension": ".jshell",
   "mimetype": "text/x-java-source",
   "name": "java",
   "pygments_lexer": "java",
   "version": "19.0.1+10-21"
  },
  "orig_nbformat": 4
 },
 "nbformat": 4,
 "nbformat_minor": 2
}

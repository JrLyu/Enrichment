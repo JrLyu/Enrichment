{
 "cells": [
  {
   "cell_type": "markdown",
   "metadata": {},
   "source": [
    "# Hello World in Julia"
   ]
  },
  {
   "cell_type": "markdown",
   "metadata": {},
   "source": [
    "- [Hello World in Julia](#hello-world-in-julia)\n",
    "- [Introduction](##introduction)\n",
    "  - [Operations](###operations)\n",
    "  - [Strings](###strings)\n",
    "  - [Assignment](###assignment)\n",
    "  - [Comparison and Logical Operators](#comparison-and-logical-operators)\n",
    "  - [More on `prinln()`](#more-on-println)\n",
    "- [Programming Structure](#programming-sturcutree)\n",
    "  - [Annotations](#annotations)\n",
    "  - [Combined Expressions](#combined-expressions)\n",
    "  - [Conditionals](#conditionals)\n",
    "  - [Loops](#loops)\n",
    "  - [Defining Functions](#defining-functions)\n",
    "- [Data Structures in Julia](#data-structures-in-julia)"
   ]
  },
  {
   "cell_type": "markdown",
   "metadata": {},
   "source": [
    "## Introduction"
   ]
  },
  {
   "cell_type": "code",
   "execution_count": null,
   "metadata": {},
   "outputs": [],
   "source": [
    "println(\"Hello World!\")"
   ]
  },
  {
   "cell_type": "code",
   "execution_count": null,
   "metadata": {},
   "outputs": [],
   "source": [
    "name = \"Richard\"\n",
    "println(\"Hello $(name)!\")"
   ]
  },
  {
   "cell_type": "code",
   "execution_count": null,
   "metadata": {},
   "outputs": [],
   "source": [
    "println(\"1 + 1 = $(1 + 1)\")"
   ]
  },
  {
   "cell_type": "code",
   "execution_count": null,
   "metadata": {},
   "outputs": [],
   "source": [
    "😄 = \"smile\"\n",
    "ϵ = 2.793e-5\n",
    "\n",
    "println(\"$(😄) = $(ϵ)\")"
   ]
  },
  {
   "cell_type": "code",
   "execution_count": null,
   "metadata": {},
   "outputs": [],
   "source": [
    "π"
   ]
  },
  {
   "cell_type": "markdown",
   "metadata": {},
   "source": [
    "### Operations"
   ]
  },
  {
   "cell_type": "code",
   "execution_count": null,
   "metadata": {},
   "outputs": [],
   "source": [
    "println(typeof(π))\n",
    "println(typeof(1.234))\n",
    "println(typeof(1))\n",
    "println(typeof(\"Hello World!\"))"
   ]
  },
  {
   "cell_type": "code",
   "execution_count": null,
   "metadata": {},
   "outputs": [],
   "source": [
    "(1.3 + 2.5)*2.0 - 3.6/1.2 + 1.2^2"
   ]
  },
  {
   "cell_type": "code",
   "execution_count": null,
   "metadata": {},
   "outputs": [],
   "source": [
    "10 + 2*3 - 3*4"
   ]
  },
  {
   "cell_type": "code",
   "execution_count": null,
   "metadata": {},
   "outputs": [],
   "source": [
    "10/2 # always return Float64"
   ]
  },
  {
   "cell_type": "code",
   "execution_count": null,
   "metadata": {},
   "outputs": [],
   "source": [
    "5 ÷ 2 # integer division"
   ]
  },
  {
   "cell_type": "code",
   "execution_count": null,
   "metadata": {},
   "outputs": [],
   "source": [
    "10 % 3"
   ]
  },
  {
   "cell_type": "code",
   "execution_count": null,
   "metadata": {},
   "outputs": [],
   "source": [
    "divrem(10, 3)"
   ]
  },
  {
   "cell_type": "code",
   "execution_count": null,
   "metadata": {},
   "outputs": [],
   "source": [
    "\"\"\"\n",
    "other operations: \n",
    "    log, exp, sqrt, sin cos, tan\n",
    "    round(Int, x), round(x, digits=2), round(x)\n",
    "    floor(Int, x), floor(x), ceil(Int, x), ceil(x)\n",
    "    factorial(n), binomial(n, k)\n",
    "    gcd(x, y), lcm(x, y)\n",
    "    ndigits()\n",
    "    evalpoly\n",
    "\"\"\""
   ]
  },
  {
   "cell_type": "markdown",
   "metadata": {},
   "source": [
    "### Strings"
   ]
  },
  {
   "cell_type": "code",
   "execution_count": null,
   "metadata": {},
   "outputs": [],
   "source": [
    "\"--+\" ^ 3 # string repetition"
   ]
  },
  {
   "cell_type": "code",
   "execution_count": null,
   "metadata": {},
   "outputs": [],
   "source": [
    "string(:name)\n",
    "Symbol(\"name\")"
   ]
  },
  {
   "cell_type": "code",
   "execution_count": 3,
   "metadata": {},
   "outputs": [
    {
     "name": "stdout",
     "output_type": "stream",
     "text": [
      "Fruit\n",
      "2\n"
     ]
    }
   ],
   "source": [
    "@enum Fruit apple pear orange\n",
    "\n",
    "my_order = orange\n",
    "## orange::Fruit = 2\n",
    "\n",
    "println(typeof(my_order))\n",
    "println(Integer(my_order))"
   ]
  },
  {
   "cell_type": "markdown",
   "metadata": {},
   "source": [
    "### Assignment"
   ]
  },
  {
   "cell_type": "code",
   "execution_count": 5,
   "metadata": {},
   "outputs": [
    {
     "data": {
      "text/plain": [
       "128.0"
      ]
     },
     "metadata": {},
     "output_type": "display_data"
    }
   ],
   "source": [
    "x = 123\n",
    "y = 1+3/2\n",
    "\n",
    "x + y*2"
   ]
  },
  {
   "cell_type": "code",
   "execution_count": 6,
   "metadata": {},
   "outputs": [
    {
     "data": {
      "text/plain": [
       "128.0"
      ]
     },
     "metadata": {},
     "output_type": "display_data"
    }
   ],
   "source": [
    "x + 2y"
   ]
  },
  {
   "cell_type": "code",
   "execution_count": 7,
   "metadata": {},
   "outputs": [
    {
     "data": {
      "text/plain": [
       "1"
      ]
     },
     "metadata": {},
     "output_type": "display_data"
    }
   ],
   "source": [
    "x = y = z = 1"
   ]
  },
  {
   "cell_type": "code",
   "execution_count": 8,
   "metadata": {},
   "outputs": [
    {
     "data": {
      "text/plain": [
       "223"
      ]
     },
     "metadata": {},
     "output_type": "display_data"
    }
   ],
   "source": [
    "x = 123\n",
    "x += 100"
   ]
  },
  {
   "cell_type": "code",
   "execution_count": null,
   "metadata": {},
   "outputs": [],
   "source": [
    "\"\"\"\n",
    "Compare: y = x, y = copy(x), y = deepcopy(x)\n",
    "\"\"\""
   ]
  },
  {
   "cell_type": "markdown",
   "metadata": {},
   "source": [
    "### Comparison and Logical Operators"
   ]
  },
  {
   "cell_type": "code",
   "execution_count": 11,
   "metadata": {},
   "outputs": [
    {
     "data": {
      "text/plain": [
       "true"
      ]
     },
     "metadata": {},
     "output_type": "display_data"
    }
   ],
   "source": [
    "1 == 1.0        ## true\n",
    "2 != 2.0001     ## true\n",
    "3.5 > -1        ## true\n",
    "3.5 < -1.5      ## false\n",
    "3.5 >= 3.5      ## true\n",
    "3.5 <= 3.5      ## true"
   ]
  },
  {
   "cell_type": "code",
   "execution_count": 12,
   "metadata": {},
   "outputs": [
    {
     "data": {
      "text/plain": [
       "true"
      ]
     },
     "metadata": {},
     "output_type": "display_data"
    }
   ],
   "source": [
    "\"abc\" == \"ABC\"  ## false\n",
    "\"ab\" < \"abc\"    ## true"
   ]
  },
  {
   "cell_type": "code",
   "execution_count": 13,
   "metadata": {},
   "outputs": [
    {
     "name": "stdout",
     "output_type": "stream",
     "text": [
      "false\n",
      "true\n"
     ]
    }
   ],
   "source": [
    "age = 35; sex = \"F\"\n",
    "\n",
    "println(age < 18)\n",
    "println(sex == \"F\")\n",
    "\n",
    "age < 18 && sex == \"F\"  ## false\n",
    "age >= 18 || sex == \"M\" ## true"
   ]
  },
  {
   "cell_type": "markdown",
   "metadata": {},
   "source": [
    "### More on `println()`"
   ]
  },
  {
   "cell_type": "code",
   "execution_count": 14,
   "metadata": {},
   "outputs": [
    {
     "name": "stdout",
     "output_type": "stream",
     "text": [
      "128.0\n"
     ]
    }
   ],
   "source": [
    "x = 123\n",
    "y = 1+3/2\n",
    "\n",
    "println(x + 2y)"
   ]
  },
  {
   "cell_type": "code",
   "execution_count": 16,
   "metadata": {},
   "outputs": [
    {
     "name": "stdout",
     "output_type": "stream",
     "text": [
      "x = 123, y = 2.5, x+2y = 128.0\n"
     ]
    }
   ],
   "source": [
    "println(\"x = \", x, \", y = \", y, \", x+2y = \", x+2y)"
   ]
  },
  {
   "cell_type": "code",
   "execution_count": 17,
   "metadata": {},
   "outputs": [
    {
     "name": "stdout",
     "output_type": "stream",
     "text": [
      "x = 123, y = 2.5, x+2y = 128.0\n"
     ]
    }
   ],
   "source": [
    "println(\"x = $x, y = $y, x+2y = $(x+2y)\")"
   ]
  },
  {
   "cell_type": "code",
   "execution_count": 18,
   "metadata": {},
   "outputs": [
    {
     "name": "stdout",
     "output_type": "stream",
     "text": [
      "1 + 2 = 3\n"
     ]
    },
    {
     "data": {
      "text/plain": [
       "3"
      ]
     },
     "metadata": {},
     "output_type": "display_data"
    }
   ],
   "source": [
    "@show 1+2"
   ]
  },
  {
   "cell_type": "code",
   "execution_count": 19,
   "metadata": {},
   "outputs": [
    {
     "data": {
      "text/plain": [
       "3"
      ]
     },
     "metadata": {},
     "output_type": "display_data"
    }
   ],
   "source": [
    "display(1+2)"
   ]
  },
  {
   "cell_type": "markdown",
   "metadata": {},
   "source": [
    "## Programming Sturcutre"
   ]
  },
  {
   "cell_type": "markdown",
   "metadata": {},
   "source": [
    "### Annotations"
   ]
  },
  {
   "cell_type": "code",
   "execution_count": 20,
   "metadata": {},
   "outputs": [
    {
     "data": {
      "text/plain": [
       "f (generic function with 1 method)"
      ]
     },
     "metadata": {},
     "output_type": "display_data"
    }
   ],
   "source": [
    "# this is an annotation\n",
    "function f(x)\n",
    "    #=\n",
    "    This is a comment:\n",
    "    This function evaluates a polynomial x^2 + 1\n",
    "    =#\n",
    "    return x^2 + 1 # return value\n",
    "end"
   ]
  },
  {
   "cell_type": "markdown",
   "metadata": {},
   "source": [
    "### Combined Expressions"
   ]
  },
  {
   "cell_type": "code",
   "execution_count": 21,
   "metadata": {},
   "outputs": [
    {
     "name": "stdout",
     "output_type": "stream",
     "text": [
      "3\n"
     ]
    }
   ],
   "source": [
    "z = begin\n",
    "    x = 1\n",
    "    y = 2\n",
    "    x + y\n",
    "end\n",
    "\n",
    "println(z)"
   ]
  },
  {
   "cell_type": "code",
   "execution_count": 22,
   "metadata": {},
   "outputs": [
    {
     "name": "stdout",
     "output_type": "stream",
     "text": [
      "3\n"
     ]
    }
   ],
   "source": [
    "z = (x = 1; y = 2; x + y)\n",
    "println(z)"
   ]
  },
  {
   "cell_type": "code",
   "execution_count": 23,
   "metadata": {},
   "outputs": [
    {
     "name": "stdout",
     "output_type": "stream",
     "text": [
      "x = 3\n"
     ]
    }
   ],
   "source": [
    "x = 1 + 2; println(\"x = $x\")"
   ]
  },
  {
   "cell_type": "markdown",
   "metadata": {},
   "source": [
    "### Conditionals"
   ]
  },
  {
   "cell_type": "code",
   "execution_count": 24,
   "metadata": {},
   "outputs": [
    {
     "name": "stdout",
     "output_type": "stream",
     "text": [
      "x is negative, x = -1.44\n"
     ]
    }
   ],
   "source": [
    "#=\n",
    "The expression cond && expr will evaluate expr only if cond is true.\n",
    "=#\n",
    "x = -1.44\n",
    "x < 0 && println(\"x is negative, x = $x\")"
   ]
  },
  {
   "cell_type": "code",
   "execution_count": 25,
   "metadata": {},
   "outputs": [
    {
     "data": {
      "text/plain": [
       "true"
      ]
     },
     "metadata": {},
     "output_type": "display_data"
    }
   ],
   "source": [
    "#=\n",
    "The expression cond || expr will evaluate expr only if cond is false.\n",
    "=#\n",
    "x < 0 || (y = sqrt(x))"
   ]
  },
  {
   "cell_type": "code",
   "execution_count": 26,
   "metadata": {},
   "outputs": [
    {
     "name": "stdout",
     "output_type": "stream",
     "text": [
      "√1.44 = 1.2\n"
     ]
    }
   ],
   "source": [
    "x = 1.44\n",
    "if x >= 0\n",
    "    y = sqrt(x)\n",
    "    println(\"√$x = $y\")\n",
    "end"
   ]
  },
  {
   "cell_type": "code",
   "execution_count": 27,
   "metadata": {},
   "outputs": [
    {
     "name": "stdout",
     "output_type": "stream",
     "text": [
      "√-1.44 = 1.2 * i\n"
     ]
    }
   ],
   "source": [
    "x = -1.44\n",
    "if x >= 0\n",
    "    y = sqrt(x)\n",
    "    println(\"√$x = $y\")\n",
    "else\n",
    "    y = sqrt(-x)\n",
    "    println(\"√$x = $y * i\")\n",
    "end"
   ]
  },
  {
   "cell_type": "code",
   "execution_count": 28,
   "metadata": {},
   "outputs": [
    {
     "name": "stdout",
     "output_type": "stream",
     "text": [
      "adult\n"
     ]
    }
   ],
   "source": [
    "age = 25\n",
    "if age < 18\n",
    "    println(\"not an adult\")\n",
    "elseif age < 60\n",
    "    println(\"adult\")\n",
    "else\n",
    "    println(\"senior\")\n",
    "end"
   ]
  },
  {
   "cell_type": "code",
   "execution_count": 29,
   "metadata": {},
   "outputs": [
    {
     "data": {
      "text/plain": [
       "1.2"
      ]
     },
     "metadata": {},
     "output_type": "display_data"
    }
   ],
   "source": [
    "x = -1.44\n",
    "y = x >= 0 ? sqrt(x) : sqrt(-x)"
   ]
  },
  {
   "cell_type": "code",
   "execution_count": 30,
   "metadata": {},
   "outputs": [
    {
     "ename": "DomainError",
     "evalue": "DomainError with -1.44:\nsqrt will only return a complex result if called with a complex argument. Try sqrt(Complex(x)).",
     "output_type": "error",
     "traceback": [
      "DomainError with -1.44:\n",
      "sqrt will only return a complex result if called with a complex argument. Try sqrt(Complex(x)).\n",
      "\n",
      "Stacktrace:\n",
      " [1] throw_complex_domainerror(f::Symbol, x::Float64)\n",
      "   @ Base.Math ./math.jl:33\n",
      " [2] sqrt(x::Float64)\n",
      "   @ Base.Math ./math.jl:677\n",
      " [3] top-level scope\n",
      "   @ ~/Documents/GitHub/Enrichment/Julia/HelloWorld.ipynb:2"
     ]
    }
   ],
   "source": [
    "x = -1.44\n",
    "y = ifelse(x >= 0, sqrt(x), sqrt(-x))"
   ]
  },
  {
   "cell_type": "markdown",
   "metadata": {},
   "source": [
    "### Loops"
   ]
  },
  {
   "cell_type": "markdown",
   "metadata": {},
   "source": [
    "```julia\n",
    "for loopvar = a:b\n",
    "    # do something\n",
    "end\n",
    "```"
   ]
  },
  {
   "cell_type": "code",
   "execution_count": 31,
   "metadata": {},
   "outputs": [
    {
     "name": "stdout",
     "output_type": "stream",
     "text": [
      "i = 1, i^3 = 1\n",
      "i = 2, i^3 = 8\n",
      "i = 3, i^3 = 27\n"
     ]
    }
   ],
   "source": [
    "for i = 1:3\n",
    "    y = i^3\n",
    "    println(\"i = $i, i^3 = $y\")\n",
    "end"
   ]
  },
  {
   "cell_type": "code",
   "execution_count": 32,
   "metadata": {},
   "outputs": [
    {
     "name": "stdout",
     "output_type": "stream",
     "text": [
      "120"
     ]
    }
   ],
   "source": [
    "n = 5; p = 1\n",
    "for i = 1:n\n",
    "    global p\n",
    "    p *= i\n",
    "end\n",
    "print(p)"
   ]
  },
  {
   "cell_type": "code",
   "execution_count": 36,
   "metadata": {},
   "outputs": [
    {
     "name": "stdout",
     "output_type": "stream",
     "text": [
      "1×1=1 \n",
      "2×1=2 2×2=4 \n",
      "3×1=3 3×2=6 3×3=9 "
     ]
    },
    {
     "name": "stdout",
     "output_type": "stream",
     "text": [
      "\n",
      "4×1=4 4×2=8 4×3=12 4×4=16 \n",
      "5×1=5 5×2=10 5×3=15 5×4=20 5×5=25 \n",
      "6×1=6 6×2=12 6×3=18 6×4=24 6×5=30 6×6=36 \n",
      "7×1=7 7×2=14 7×3=21 7×4=28 7×5=35 7×6=42 7×7=49 \n",
      "8×1=8 8×2=16 8×3=24 8×4=32 8×5=40 8×6=48 8×7=56 8×8=64 \n",
      "9×1=9 9×2=18 9×3=27 9×4=36 9×5=45 9×6=54 9×7=63 9×8=72 9×9=81 \n"
     ]
    }
   ],
   "source": [
    "for i = 1:9\n",
    "    for j = 1:i\n",
    "        print(\"$i×$j=$(i*j) \")\n",
    "    end\n",
    "    println()\n",
    "end"
   ]
  },
  {
   "cell_type": "code",
   "execution_count": 37,
   "metadata": {},
   "outputs": [
    {
     "name": "stdout",
     "output_type": "stream",
     "text": [
      "1×1=1 \n",
      "2×1=2 2×2=4 \n",
      "3×1=3 3×2=6 3×3=9 \n",
      "4×1=4 4×2=8 4×3=12 4×4=16 \n",
      "5×1=5 5×2=10 5×3=15 5×4=20 5×5=25 \n",
      "6×1=6 6×2=12 6×3=18 6×4=24 6×5=30 6×6=36 \n",
      "7×1=7 7×2=14 7×3=21 7×4=28 7×5=35 7×6=42 7×7=49 \n",
      "8×1=8 8×2=16 8×3=24 8×4=32 8×5=40 8×6=48 8×7=56 8×8=64 \n",
      "9×1=9 9×2=18 9×3=27 9×4=36 9×5=45 9×6=54 9×7=63 9×8=72 9×9=81 \n"
     ]
    }
   ],
   "source": [
    "for i = 1:9, j = 1:i\n",
    "    print(\"$i×$j=$(i*j) \")\n",
    "    j == i && println()\n",
    "end"
   ]
  },
  {
   "cell_type": "code",
   "execution_count": 38,
   "metadata": {},
   "outputs": [
    {
     "name": "stdout",
     "output_type": "stream",
     "text": [
      "120\n"
     ]
    }
   ],
   "source": [
    "s = 1; i = 0\n",
    "while i < 5\n",
    "    global i, s\n",
    "    i += 1\n",
    "    s *= i\n",
    "end\n",
    "println(s)"
   ]
  },
  {
   "cell_type": "markdown",
   "metadata": {},
   "source": [
    "***Example***: \n",
    "\n",
    "\n",
    "Find the greatest common divisor of two numbers:\n",
    "\n",
    "$$\n",
    "210 \\mod 24 = 18 \\\\\n",
    "24 \\mod 18 = 6 \\\\\n",
    "18 \\mod 6 = 0\n",
    "$$\n",
    "\n",
    "Then, the gcd is 6."
   ]
  },
  {
   "cell_type": "code",
   "execution_count": 44,
   "metadata": {},
   "outputs": [
    {
     "name": "stdout",
     "output_type": "stream",
     "text": [
      "6\n"
     ]
    }
   ],
   "source": [
    "function mygcd(m::Int, n::Int)\n",
    "    local r\n",
    "    while n ≠ 0\n",
    "        r = m % n\n",
    "        m, n = n, r\n",
    "    end\n",
    "    return m\n",
    "end\n",
    "\n",
    "println(mygcd(210, 24))"
   ]
  },
  {
   "cell_type": "markdown",
   "metadata": {},
   "source": [
    "***Example:***\n",
    "\n",
    "Find the square root of a number is equivalent to find the root of the following equation:\n",
    "\n",
    "$$\n",
    "f(u)=u^2-x=0\n",
    "$$\n",
    "\n",
    "With the Newton's method, we can find the root of the equation:\n",
    "\n",
    "$$\n",
    "u_n = u_{n-1} - \\dfrac{f(u_{n-1})}{f'(u_{n-1})} = u_{n-1}=\\dfrac{u_{n-1}^2-x}{2u_{n-1}}=\\dfrac{1}{2}\\left(u_{n-1}+\\dfrac{x}{u_{n-1}}\\right)\n",
    "$$\n",
    "\n",
    "Given an initial value $u_0$, we repeat the above process until $\\left|u_n-u_{n-1}\\right|\\leq\\epsilon$, where $\\epsilon$ is a small number such as $10^{-6}$."
   ]
  },
  {
   "cell_type": "code",
   "execution_count": 49,
   "metadata": {},
   "outputs": [
    {
     "name": "stdout",
     "output_type": "stream",
     "text": [
      "1.414213562373095\n"
     ]
    }
   ],
   "source": [
    "function mysqrt(x::Real, eps::Float64=1E-6)\n",
    "    u = 1.0\n",
    "    u1 = 0.0\n",
    "    while abs(u - u1) >= eps\n",
    "        u1 = u\n",
    "        u = 0.5 * (u + x/u)\n",
    "    end\n",
    "    return u\n",
    "end\n",
    "\n",
    "println(mysqrt(2))"
   ]
  },
  {
   "cell_type": "markdown",
   "metadata": {},
   "source": [
    "***Example:***\n",
    "\n",
    "Mathematician Srinivasa Ramanujan found an infinite series that can be used to generate a numerical approximation of $1/\\pi$:\n",
    "\n",
    "$$\n",
    "\\dfrac{1}{\\pi}= \\dfrac{2\\sqrt{2}}{9801}\\sum_{k=0}^{\\infty}\\dfrac{(4k)!(1103+26390k)}{(k!)^4 396^{4k}}\n",
    "$$"
   ]
  },
  {
   "cell_type": "code",
   "execution_count": 51,
   "metadata": {},
   "outputs": [
    {
     "name": "stdout",
     "output_type": "stream",
     "text": [
      "k = 2, estimate = 0.3183098861837907\n",
      "Error = s - 1/π = 0.0\n"
     ]
    }
   ],
   "source": [
    "k = 0; x = 2*sqrt(2)/9801; y = 1103\n",
    "z = x*y\n",
    "s = z\n",
    "while z > 1E-15\n",
    "    k += 1\n",
    "    k4 = 4*k\n",
    "    x *= k4*(k4-1)*(k4-2)*(k4-3)/k^4/396^4\n",
    "    y += 26390\n",
    "    z = x*y\n",
    "    s += z\n",
    "end\n",
    "\n",
    "println(\"k = $k, estimate = $s\")\n",
    "println(\"Error = s - 1/π = $(s - 1/π)\")"
   ]
  },
  {
   "cell_type": "markdown",
   "metadata": {},
   "source": [
    "```julia\n",
    "while true\n",
    "    # do something\n",
    "    cond && break\n",
    "end\n",
    "```"
   ]
  },
  {
   "cell_type": "markdown",
   "metadata": {},
   "source": [
    "***Example:***\n",
    "\n",
    "To estimate the value of $\\log(1+x)$, we can use Tyalor's series:\n",
    "\n",
    "$$\n",
    "\\log(1+x)=x+\\sum_{k=2}^\\infty(-1)^{k-1}\\dfrac{x^k}{k}\n",
    "$$\n",
    "\n",
    "In practice, we cannot evaluate the infinite series. Instead, we will set some level of precision such as `eps = 0.0001`."
   ]
  },
  {
   "cell_type": "code",
   "execution_count": 1,
   "metadata": {},
   "outputs": [
    {
     "name": "stdout",
     "output_type": "stream",
     "text": [
      "esp = 0.0001, log(1+1.0) = 0.6931971730609582, Iterations = 10001\n"
     ]
    }
   ],
   "source": [
    "eps = 0.0001; x = 1.0\n",
    "y = x; xk = x; sgn = 1; k =1\n",
    "\n",
    "while true\n",
    "    global k, sgn, xk, y, eps\n",
    "    k += 1; sgn *= -1; xk *= x\n",
    "    item = xk / k\n",
    "    y += sgn*item\n",
    "    item < eps && break\n",
    "end\n",
    "\n",
    "println(\"esp = $eps, log(1+$x) = $y, Iterations = $k\")"
   ]
  },
  {
   "cell_type": "code",
   "execution_count": 3,
   "metadata": {},
   "outputs": [
    {
     "name": "stdout",
     "output_type": "stream",
     "text": [
      "1\n",
      "1\n",
      "2\n",
      "4\n",
      "3\n",
      "4\n",
      "16\n",
      "5\n",
      "25\n"
     ]
    }
   ],
   "source": [
    "for i = 1:5\n",
    "    println(i)\n",
    "    if i == 3\n",
    "        continue\n",
    "    end\n",
    "    y = i*i\n",
    "    println(y)\n",
    "end"
   ]
  },
  {
   "cell_type": "markdown",
   "metadata": {},
   "source": [
    "### Defining Functions"
   ]
  },
  {
   "cell_type": "code",
   "execution_count": 4,
   "metadata": {},
   "outputs": [
    {
     "data": {
      "text/plain": [
       "f (generic function with 1 method)"
      ]
     },
     "metadata": {},
     "output_type": "display_data"
    }
   ],
   "source": [
    "f(x) = x^2 + 3x + 1"
   ]
  },
  {
   "cell_type": "code",
   "execution_count": 5,
   "metadata": {},
   "outputs": [
    {
     "data": {
      "text/plain": [
       "5.510000000000001"
      ]
     },
     "metadata": {},
     "output_type": "display_data"
    }
   ],
   "source": [
    "f(2)    ## 11\n",
    "f(1.1)"
   ]
  },
  {
   "cell_type": "code",
   "execution_count": null,
   "metadata": {},
   "outputs": [],
   "source": [
    "function mysum(A)\n",
    "    s = 0.0     # s = zero(eltype(A))\n",
    "    for a in A\n",
    "        s += a\n",
    "    end\n",
    "    s\n",
    "end"
   ]
  },
  {
   "cell_type": "markdown",
   "metadata": {},
   "source": [
    "***Example:***\n",
    "\n",
    "Write a function to calculate the standard deviation of a sample:\n",
    "\n",
    "$$\n",
    "s = \\sqrt{\\dfrac{1}{n-1}\\sum_{i=1}^n(x_i-x)^2}\n",
    "$$"
   ]
  },
  {
   "cell_type": "code",
   "execution_count": 6,
   "metadata": {},
   "outputs": [
    {
     "data": {
      "text/plain": [
       "mysd (generic function with 1 method)"
      ]
     },
     "metadata": {},
     "output_type": "display_data"
    }
   ],
   "source": [
    "# mysd: Input numeric vector x, output its sample standard deivation\n",
    "function mysd(x)\n",
    "    n = length(x)\n",
    "    mx = sum(x) / n\n",
    "    s = 0.0\n",
    "    for z in x\n",
    "        s += (z - mx)^2\n",
    "    end\n",
    "    sqrt(s/(n-1))\n",
    "end"
   ]
  },
  {
   "cell_type": "code",
   "execution_count": 7,
   "metadata": {},
   "outputs": [
    {
     "data": {
      "text/plain": [
       "1.5811388300841898"
      ]
     },
     "metadata": {},
     "output_type": "display_data"
    }
   ],
   "source": [
    "mysd([1, 2, 3, 4, 5])"
   ]
  },
  {
   "cell_type": "code",
   "execution_count": 10,
   "metadata": {},
   "outputs": [
    {
     "data": {
      "text/plain": [
       "vectorization (generic function with 1 method)"
      ]
     },
     "metadata": {},
     "output_type": "display_data"
    }
   ],
   "source": [
    "# vectorization\n",
    "function vectorization(x)\n",
    "    n = length(x)\n",
    "    mx = sum(x)/n\n",
    "    sqrt( sum(x .- mx) / (n-1) )\n",
    "  end"
   ]
  },
  {
   "cell_type": "code",
   "execution_count": 12,
   "metadata": {},
   "outputs": [
    {
     "data": {
      "text/plain": [
       "0.0"
      ]
     },
     "metadata": {},
     "output_type": "display_data"
    }
   ],
   "source": [
    "mysd_vectorization([1, 2, 3, 4, 5])\n",
    "# vectorization is not necessarily faster than loop,\n",
    "# especially in the case of Julia"
   ]
  },
  {
   "cell_type": "code",
   "execution_count": 13,
   "metadata": {},
   "outputs": [
    {
     "data": {
      "text/plain": [
       "f_quad (generic function with 4 methods)"
      ]
     },
     "metadata": {},
     "output_type": "display_data"
    }
   ],
   "source": [
    "f_quad(x, a=1, b=0, c=0) = a*x^2 + b*x + c"
   ]
  },
  {
   "cell_type": "code",
   "execution_count": 16,
   "metadata": {},
   "outputs": [
    {
     "data": {
      "text/plain": [
       "f_quad2 (generic function with 5 methods)"
      ]
     },
     "metadata": {},
     "output_type": "display_data"
    }
   ],
   "source": [
    "function f_quad2(x, a=1, b=0, c=0, descending=true)\n",
    "    if descending\n",
    "        return a*x^2 + b*x + c\n",
    "    else\n",
    "        return cx^2 + b*x + a\n",
    "    end\n",
    "end"
   ]
  },
  {
   "cell_type": "code",
   "execution_count": 18,
   "metadata": {},
   "outputs": [
    {
     "name": "stdout",
     "output_type": "stream",
     "text": [
      "(3.0, 11.0)\n"
     ]
    }
   ],
   "source": [
    "function summ(x)\n",
    "    xm = sum(x) / length(x)\n",
    "    xs = sum(x .^2) / length(x)\n",
    "    return xm, xs\n",
    "end\n",
    "\n",
    "res1, res2 = summ([1,2,3,4,5])\n",
    "println(\"($res1, $res2)\")"
   ]
  },
  {
   "cell_type": "markdown",
   "metadata": {},
   "source": [
    "## Data Structures in Julia"
   ]
  },
  {
   "cell_type": "markdown",
   "metadata": {},
   "source": [
    "### Vectors"
   ]
  },
  {
   "cell_type": "code",
   "execution_count": 1,
   "metadata": {},
   "outputs": [
    {
     "data": {
      "text/plain": [
       "7-element Vector{Int64}:\n",
       "  2\n",
       "  3\n",
       "  5\n",
       "  7\n",
       " 11\n",
       " 13\n",
       " 17"
      ]
     },
     "metadata": {},
     "output_type": "display_data"
    }
   ],
   "source": [
    "v1 = [2, 3, 5, 7, 11, 13, 17]"
   ]
  },
  {
   "cell_type": "code",
   "execution_count": 2,
   "metadata": {},
   "outputs": [
    {
     "data": {
      "text/plain": [
       "4-element Vector{Float64}:\n",
       " 1.5\n",
       " 3.0\n",
       " 4.0\n",
       " 9.12"
      ]
     },
     "metadata": {},
     "output_type": "display_data"
    }
   ],
   "source": [
    "v2 = [1.5, 3, 4, 9.12]"
   ]
  },
  {
   "cell_type": "code",
   "execution_count": 3,
   "metadata": {},
   "outputs": [
    {
     "data": {
      "text/plain": [
       "4-element Vector{Any}:\n",
       " 123\n",
       "   3.14\n",
       "    \"math\"\n",
       "    [1, 2, 3]"
      ]
     },
     "metadata": {},
     "output_type": "display_data"
    }
   ],
   "source": [
    "v3 = [\"apple\", \"orange\", \"banana\"]\n",
    "v4 = [123, 3.14, \"math\", [1, 2, 3]]"
   ]
  },
  {
   "cell_type": "code",
   "execution_count": 4,
   "metadata": {},
   "outputs": [
    {
     "data": {
      "text/plain": [
       "7"
      ]
     },
     "metadata": {},
     "output_type": "display_data"
    }
   ],
   "source": [
    "length(v1)"
   ]
  },
  {
   "cell_type": "code",
   "execution_count": 5,
   "metadata": {},
   "outputs": [
    {
     "data": {
      "text/plain": [
       "5:-1:1"
      ]
     },
     "metadata": {},
     "output_type": "display_data"
    }
   ],
   "source": [
    "1:5\n",
    "1:2:7\n",
    "5:-1:1"
   ]
  },
  {
   "cell_type": "code",
   "execution_count": 6,
   "metadata": {},
   "outputs": [
    {
     "data": {
      "text/plain": [
       "5-element Vector{Int64}:\n",
       " 5\n",
       " 4\n",
       " 3\n",
       " 2\n",
       " 1"
      ]
     },
     "metadata": {},
     "output_type": "display_data"
    }
   ],
   "source": [
    "# To convert a range to a vector, use collect\n",
    "collect(5:-1:1)"
   ]
  },
  {
   "cell_type": "code",
   "execution_count": 7,
   "metadata": {},
   "outputs": [
    {
     "data": {
      "text/plain": [
       "3"
      ]
     },
     "metadata": {},
     "output_type": "display_data"
    }
   ],
   "source": [
    "## Julia starts its indenxing at 1\n",
    "v1[2]"
   ]
  },
  {
   "cell_type": "code",
   "execution_count": 8,
   "metadata": {},
   "outputs": [
    {
     "data": {
      "text/plain": [
       "17"
      ]
     },
     "metadata": {},
     "output_type": "display_data"
    }
   ],
   "source": [
    "v1[end]"
   ]
  },
  {
   "cell_type": "code",
   "execution_count": 10,
   "metadata": {},
   "outputs": [
    {
     "name": "stdout",
     "output_type": "stream",
     "text": [
      "v1 = [2, 0, 5, 7, 11, 13, 17]\n"
     ]
    }
   ],
   "source": [
    "# Directly modify the element of a vector\n",
    "v1[2] = 0\n",
    "@show v1;"
   ]
  },
  {
   "cell_type": "code",
   "execution_count": 11,
   "metadata": {},
   "outputs": [
    {
     "data": {
      "text/plain": [
       "3-element Vector{Int64}:\n",
       " 0\n",
       " 5\n",
       " 7"
      ]
     },
     "metadata": {},
     "output_type": "display_data"
    }
   ],
   "source": [
    "v1[2:4]"
   ]
  },
  {
   "cell_type": "code",
   "execution_count": 12,
   "metadata": {},
   "outputs": [
    {
     "data": {
      "text/plain": [
       "6-element Vector{Int64}:\n",
       "  0\n",
       "  5\n",
       "  7\n",
       " 11\n",
       " 13\n",
       " 17"
      ]
     },
     "metadata": {},
     "output_type": "display_data"
    }
   ],
   "source": [
    "v1[2:end]"
   ]
  },
  {
   "cell_type": "code",
   "execution_count": 13,
   "metadata": {},
   "outputs": [
    {
     "data": {
      "text/plain": [
       "3-element Vector{Int64}:\n",
       " 0\n",
       " 5\n",
       " 7"
      ]
     },
     "metadata": {},
     "output_type": "display_data"
    }
   ],
   "source": [
    "v1[2:(end-3)]"
   ]
  },
  {
   "cell_type": "code",
   "execution_count": 14,
   "metadata": {},
   "outputs": [
    {
     "data": {
      "text/plain": [
       "4-element Vector{Int64}:\n",
       "  2\n",
       "  5\n",
       " 11\n",
       " 17"
      ]
     },
     "metadata": {},
     "output_type": "display_data"
    }
   ],
   "source": [
    "v1[1:2:7]"
   ]
  },
  {
   "cell_type": "code",
   "execution_count": 15,
   "metadata": {},
   "outputs": [
    {
     "data": {
      "text/plain": [
       "7-element Vector{Int64}:\n",
       " 17\n",
       " 13\n",
       " 11\n",
       "  7\n",
       "  5\n",
       "  0\n",
       "  2"
      ]
     },
     "metadata": {},
     "output_type": "display_data"
    }
   ],
   "source": [
    "v1[end:-1:1]\n",
    "# is equivalent to\n",
    "reverse(v1)"
   ]
  },
  {
   "cell_type": "code",
   "execution_count": 16,
   "metadata": {},
   "outputs": [
    {
     "name": "stdout",
     "output_type": "stream",
     "text": [
      "v2 = [0.0, 0.0, 0.0, 0.0]\n"
     ]
    }
   ],
   "source": [
    "v2[:] .= 0;\n",
    "@show v2;"
   ]
  },
  {
   "cell_type": "code",
   "execution_count": 17,
   "metadata": {},
   "outputs": [
    {
     "name": "stdout",
     "output_type": "stream",
     "text": [
      "v2 = [0, 0, 0, 7, 9, 11, 13, 15, 17]\n"
     ]
    }
   ],
   "source": [
    "v2 = collect(1:2:17)\n",
    "v2[1:3] .= 0;\n",
    "@show v2;"
   ]
  },
  {
   "cell_type": "code",
   "execution_count": 18,
   "metadata": {},
   "outputs": [
    {
     "name": "stdout",
     "output_type": "stream",
     "text": [
      "v2 = [101, 303, 505, 7, 9, 11, 13, 15, 17]\n"
     ]
    }
   ],
   "source": [
    "v2[1:3] = [101, 303, 505];\n",
    "@show v2;"
   ]
  },
  {
   "cell_type": "code",
   "execution_count": 19,
   "metadata": {},
   "outputs": [
    {
     "data": {
      "text/plain": [
       "Int64"
      ]
     },
     "metadata": {},
     "output_type": "display_data"
    }
   ],
   "source": [
    "eltype(v2)"
   ]
  },
  {
   "cell_type": "code",
   "execution_count": 21,
   "metadata": {},
   "outputs": [
    {
     "data": {
      "text/plain": [
       "3-element Vector{Int64}:\n",
       " 0\n",
       " 0\n",
       " 0"
      ]
     },
     "metadata": {},
     "output_type": "display_data"
    }
   ],
   "source": [
    "zeros(3)\n",
    "zeros(Int64, 3)"
   ]
  },
  {
   "cell_type": "code",
   "execution_count": 23,
   "metadata": {},
   "outputs": [
    {
     "data": {
      "text/plain": [
       "3-element Vector{Float64}:\n",
       " 0.0\n",
       " 0.0\n",
       " 1.0e-323"
      ]
     },
     "metadata": {},
     "output_type": "display_data"
    }
   ],
   "source": [
    "Vector{Float64}(undef, 3)"
   ]
  },
  {
   "cell_type": "code",
   "execution_count": 25,
   "metadata": {},
   "outputs": [
    {
     "name": "stdout",
     "output_type": "stream",
     "text": [
      "y1 = [1, 1, 4493757664]\n",
      "y1 = [100, 100, 100]\n"
     ]
    }
   ],
   "source": [
    "y1 = Vector{Int}(undef, 3);\n",
    "@show y1;\n",
    "fill!(y1, 100);\n",
    "@show y1;"
   ]
  },
  {
   "cell_type": "markdown",
   "metadata": {},
   "source": [
    "### Stored by Reference"
   ]
  },
  {
   "cell_type": "code",
   "execution_count": 26,
   "metadata": {},
   "outputs": [
    {
     "name": "stdout",
     "output_type": "stream",
     "text": [
      "x1 = [1, 100, 3]\n"
     ]
    }
   ],
   "source": [
    "x1 = [1, 2, 3]\n",
    "x2 = x1\n",
    "x2[2] = 100\n",
    "@show x1;"
   ]
  },
  {
   "cell_type": "code",
   "execution_count": 27,
   "metadata": {},
   "outputs": [
    {
     "data": {
      "text/plain": [
       "true"
      ]
     },
     "metadata": {},
     "output_type": "display_data"
    }
   ],
   "source": [
    "x2 === x1"
   ]
  },
  {
   "cell_type": "code",
   "execution_count": 28,
   "metadata": {},
   "outputs": [
    {
     "name": "stdout",
     "output_type": "stream",
     "text": [
      "x1 = [1, 2, 3]\n",
      "x2 === x1 = false\n"
     ]
    }
   ],
   "source": [
    "# to make a hard copy\n",
    "x1 = [1, 2, 3]\n",
    "x2 = copy(x1)\n",
    "x2[2] = -100\n",
    "@show x1;\n",
    "@show x2 === x1;"
   ]
  },
  {
   "cell_type": "code",
   "execution_count": 29,
   "metadata": {},
   "outputs": [
    {
     "name": "stdout",
     "output_type": "stream",
     "text": [
      "x1 = [1, 2, 3]\n"
     ]
    }
   ],
   "source": [
    "x1 = [1, 2, 3]\n",
    "x2 = x1[:]\n",
    "x2[2] = -100\n",
    "@show x1;"
   ]
  },
  {
   "cell_type": "code",
   "execution_count": 30,
   "metadata": {},
   "outputs": [
    {
     "name": "stdout",
     "output_type": "stream",
     "text": [
      "x0 = [333, 4]\n"
     ]
    }
   ],
   "source": [
    "x0 = [3, 4]\n",
    "x1 = [1, 2, x0]\n",
    "x1[3][1] = 333\n",
    "@show x0;"
   ]
  },
  {
   "cell_type": "code",
   "execution_count": 31,
   "metadata": {},
   "outputs": [
    {
     "name": "stdout",
     "output_type": "stream",
     "text": [
      "x2 = Any[111, 2, [333, 4]]\n",
      "x1 = Any[1, 2, [333, 4]]\n",
      "x0 = [333, 4]\n"
     ]
    }
   ],
   "source": [
    "# copy() is a shallow copy\n",
    "x0 = [3, 4]\n",
    "x1 = [1, 2, x0]\n",
    "x2 = copy(x1)\n",
    "x2[1] = 111\n",
    "x2[3][1] = 333\n",
    "@show x2;\n",
    "@show x1;\n",
    "@show x0;"
   ]
  },
  {
   "cell_type": "code",
   "execution_count": 32,
   "metadata": {},
   "outputs": [
    {
     "name": "stdout",
     "output_type": "stream",
     "text": [
      "x2 = Any[111, 2, [333, 4]]\n",
      "x1 = Any[1, 2, [3, 4]]\n",
      "x0 = [3, 4]\n"
     ]
    }
   ],
   "source": [
    "# usually, we use deepcopy() to solve this problem\n",
    "x0 = [3, 4]\n",
    "x1 = [1, 2, x0]\n",
    "x2 = deepcopy(x1)\n",
    "x2[1] = 111\n",
    "x2[3][1] = 333\n",
    "@show x2;\n",
    "@show x1;\n",
    "@show x0;"
   ]
  },
  {
   "cell_type": "markdown",
   "metadata": {},
   "source": [
    "### Functions on Vectors"
   ]
  },
  {
   "cell_type": "code",
   "execution_count": 34,
   "metadata": {},
   "outputs": [
    {
     "data": {
      "text/plain": [
       "true"
      ]
     },
     "metadata": {},
     "output_type": "display_data"
    }
   ],
   "source": [
    "# to test if an element is in a vector, we use the in operator\n",
    "1 in [1, 2, 3]"
   ]
  },
  {
   "cell_type": "code",
   "execution_count": 33,
   "metadata": {},
   "outputs": [
    {
     "data": {
      "text/plain": [
       "4-element Vector{Union{Nothing, Int64}}:\n",
       " 1\n",
       " 3\n",
       "  nothing\n",
       " 3"
      ]
     },
     "metadata": {},
     "output_type": "display_data"
    }
   ],
   "source": [
    "# indexin(a, b) returns the index of each element of a in b (at their first occurrence)\n",
    "# if an element of a is not in b, the corresponding index is nothing\n",
    "indexin([1, 3, 5, 3], [1, 2, 3])"
   ]
  },
  {
   "cell_type": "code",
   "execution_count": 37,
   "metadata": {},
   "outputs": [
    {
     "name": "stdout",
     "output_type": "stream",
     "text": [
      "v3 = [2, 3, 5, 7]\n",
      "v3 = [1, 2, 3, 5, 7]\n"
     ]
    }
   ],
   "source": [
    "# push!(v, x): add x to the end of v\n",
    "# pushfirst!(v, x): add x to the beginning of v\n",
    "# insert!(v, k, xi): insert xi at the k-th position of v\n",
    "\n",
    "v3 = [2, 3, 5]\n",
    "push!(v3, 7)\n",
    "@show v3;\n",
    "\n",
    "pushfirst!(v3, 1)\n",
    "@show v3;"
   ]
  },
  {
   "cell_type": "code",
   "execution_count": 38,
   "metadata": {},
   "outputs": [
    {
     "name": "stdout",
     "output_type": "stream",
     "text": [
      "v3 = [2, 3, 5, 7, 11]\n"
     ]
    }
   ],
   "source": [
    "# append!(v, u): append u to v\n",
    "v3 = [2, 3, 5]\n",
    "append!(v3, [7, 11])\n",
    "@show v3;"
   ]
  },
  {
   "cell_type": "code",
   "execution_count": null,
   "metadata": {},
   "outputs": [],
   "source": [
    "# pop!(v): return the last element of v and remove it from v\n",
    "# popfirst!(v)\n",
    "# splice!(v, k): remove the k-th element of v\n",
    "# empty!(x): remove all elements of x"
   ]
  },
  {
   "cell_type": "code",
   "execution_count": 39,
   "metadata": {},
   "outputs": [
    {
     "name": "stdout",
     "output_type": "stream",
     "text": [
      "x = [0, 2, 0, 4, 0]\n"
     ]
    }
   ],
   "source": [
    "# replace!(): replace the elements of a vector\n",
    "\n",
    "x = [1, 2, 1, 4, 1]\n",
    "replace!(x, 1 => 0)\n",
    "@show x;"
   ]
  },
  {
   "cell_type": "code",
   "execution_count": 40,
   "metadata": {},
   "outputs": [
    {
     "name": "stdout",
     "output_type": "stream",
     "text": [
      "x = [0, 2, 0, 3, 0]\n"
     ]
    }
   ],
   "source": [
    "x = [1, 2, 1, 4, 1]\n",
    "replace!(x, 1 => 0, 4 => 3)\n",
    "@show x;"
   ]
  },
  {
   "cell_type": "code",
   "execution_count": 41,
   "metadata": {},
   "outputs": [
    {
     "name": "stdout",
     "output_type": "stream",
     "text": [
      "x = [0, 2, 0, 4, 1]\n"
     ]
    }
   ],
   "source": [
    "x = [1, 2, 1, 4, 1]\n",
    "replace!(x, 1 => 0, 4 => 3, count = 2)\n",
    "@show x;"
   ]
  },
  {
   "cell_type": "code",
   "execution_count": 42,
   "metadata": {},
   "outputs": [
    {
     "name": "stdout",
     "output_type": "stream",
     "text": [
      "v3 = [1, 2, -2, 1]\n",
      "v1 = [1, 2]\n"
     ]
    }
   ],
   "source": [
    "# vcat(): concatenate vectors vertically\n",
    "\n",
    "v1 = [1, 2]; v2 = [-2, 1]\n",
    "v3 = vcat(v1, v2)\n",
    "@show v3;\n",
    "v3[1] = 111;\n",
    "@show v1;"
   ]
  },
  {
   "cell_type": "code",
   "execution_count": 44,
   "metadata": {},
   "outputs": [
    {
     "name": "stdout",
     "output_type": "stream",
     "text": [
      "[7, 13]"
     ]
    }
   ],
   "source": [
    "# filter!(f, x): remove the elements of x that do not satisfy f\n",
    "x = [2, 3, 5, 7, 11, 13]\n",
    "filter!(a -> a % 3 == 1, x)\n",
    "show(x)"
   ]
  },
  {
   "cell_type": "code",
   "execution_count": 45,
   "metadata": {},
   "outputs": [],
   "source": [
    "# unique(v): remove the duplicated elements of v\n",
    "# unique!(v): remove the duplicated elements of v (with modification of v)\n",
    "# sort(v): sort the elements of v\n",
    "# sort!(v): sort the elements of v (with modification of v)\n",
    "# sortperm(v): return the permutation of v that sorts v\n",
    "# maximum(v)\n",
    "# minimum(v)\n",
    "# argmax(v): return the index of the maximum element of v\n",
    "# argmin(v): return the index of the minimum element of v\n",
    "# findmax(v): return the maximum element and its index of v\n",
    "# findmin(v): return the minimum element and its index of v\n",
    "# sum(v): return the sum of the elements of v\n",
    "# prod(v): return the product of the elements of v\n",
    "# all(v): return true if all elements of v are true\n",
    "# any(v): return true if any element of v is true\n",
    "# x == y: return true if x and y are equal"
   ]
  },
  {
   "cell_type": "code",
   "execution_count": 47,
   "metadata": {},
   "outputs": [
    {
     "data": {
      "text/plain": [
       "5.00053872274413e6"
      ]
     },
     "metadata": {},
     "output_type": "display_data"
    }
   ],
   "source": [
    "A = rand(10^7)\n",
    "sum(A)"
   ]
  },
  {
   "cell_type": "markdown",
   "metadata": {},
   "source": [
    "### Broadcasting"
   ]
  },
  {
   "cell_type": "code",
   "execution_count": 48,
   "metadata": {},
   "outputs": [
    {
     "data": {
      "text/plain": [
       "3-element Vector{Float64}:\n",
       " 1.0\n",
       " 1.4142135623730951\n",
       " 1.7320508075688772"
      ]
     },
     "metadata": {},
     "output_type": "display_data"
    }
   ],
   "source": [
    "sqrt.([1, 2, 3])"
   ]
  },
  {
   "cell_type": "code",
   "execution_count": 49,
   "metadata": {},
   "outputs": [
    {
     "data": {
      "text/plain": [
       "10000000-element Vector{Float64}:\n",
       " 0.5847799575000322\n",
       " 0.7650489784752608\n",
       " 0.4042215528181087\n",
       " 0.6842523125039824\n",
       " 0.11816506705686577\n",
       " 0.6790223060904469\n",
       " 0.35056273341919114\n",
       " 0.5006947052019792\n",
       " 0.3341273080216024\n",
       " 0.7692388188380528\n",
       " ⋮\n",
       " 0.005487331139294377\n",
       " 0.7629337634185556\n",
       " 0.7475310036875435\n",
       " 0.09839706927523575\n",
       " 0.6857507960793201\n",
       " 0.5439201833684921\n",
       " 0.748838177873198\n",
       " 0.7622490230490543\n",
       " 0.6957685832424391"
      ]
     },
     "metadata": {},
     "output_type": "display_data"
    }
   ],
   "source": [
    "sin.(A)"
   ]
  },
  {
   "cell_type": "markdown",
   "metadata": {},
   "source": [
    "### Tuples"
   ]
  },
  {
   "cell_type": "code",
   "execution_count": 50,
   "metadata": {},
   "outputs": [
    {
     "data": {
      "text/plain": [
       "(1, \"John\", 5.1)"
      ]
     },
     "metadata": {},
     "output_type": "display_data"
    }
   ],
   "source": [
    "(1, 2, 3)\n",
    "(1, \"John\", 5.1)"
   ]
  },
  {
   "cell_type": "code",
   "execution_count": 51,
   "metadata": {},
   "outputs": [
    {
     "data": {
      "text/plain": [
       "(1,)"
      ]
     },
     "metadata": {},
     "output_type": "display_data"
    }
   ],
   "source": [
    "# Single element tuple\n",
    "(1,)"
   ]
  },
  {
   "cell_type": "code",
   "execution_count": 54,
   "metadata": {},
   "outputs": [
    {
     "name": "stdout",
     "output_type": "stream",
     "text": [
      "typeof(x) = NTuple{4, Char}\n"
     ]
    }
   ],
   "source": [
    "x = ('a', 'b', 'c', 'd')\n",
    "@show typeof(x);"
   ]
  },
  {
   "cell_type": "code",
   "execution_count": 55,
   "metadata": {},
   "outputs": [
    {
     "data": {
      "text/plain": [
       "'a': ASCII/Unicode U+0061 (category Ll: Letter, lowercase)"
      ]
     },
     "metadata": {},
     "output_type": "display_data"
    }
   ],
   "source": [
    "x[1]"
   ]
  },
  {
   "cell_type": "code",
   "execution_count": 56,
   "metadata": {},
   "outputs": [
    {
     "data": {
      "text/plain": [
       "('b', 'c')"
      ]
     },
     "metadata": {},
     "output_type": "display_data"
    }
   ],
   "source": [
    "x[2:3]"
   ]
  },
  {
   "cell_type": "code",
   "execution_count": 57,
   "metadata": {},
   "outputs": [],
   "source": [
    "# Illegal!: x[2] = 'x'"
   ]
  },
  {
   "cell_type": "code",
   "execution_count": 58,
   "metadata": {},
   "outputs": [
    {
     "data": {
      "text/plain": [
       "true"
      ]
     },
     "metadata": {},
     "output_type": "display_data"
    }
   ],
   "source": [
    "(1, 3, 5) < (1, 3, 6)"
   ]
  },
  {
   "cell_type": "code",
   "execution_count": 59,
   "metadata": {},
   "outputs": [
    {
     "name": "stdout",
     "output_type": "stream",
     "text": [
      "a=13, b=17\n",
      "a=17, b=13\n"
     ]
    }
   ],
   "source": [
    "a, b = 13, 17\n",
    "println(\"a=$a, b=$b\")\n",
    "a, b = b, a # exchange a and b\n",
    "println(\"a=$a, b=$b\")"
   ]
  },
  {
   "cell_type": "code",
   "execution_count": 60,
   "metadata": {},
   "outputs": [
    {
     "name": "stdout",
     "output_type": "stream",
     "text": [
      "a=19, b=23\n",
      "c=29, d=31\n"
     ]
    }
   ],
   "source": [
    "a, b = [19, 23]\n",
    "println(\"a=$a, b=$b\")\n",
    "c, d = (29, 31)\n",
    "println(\"c=$c, d=$d\")"
   ]
  },
  {
   "cell_type": "code",
   "execution_count": 62,
   "metadata": {},
   "outputs": [
    {
     "data": {
      "text/plain": [
       "3-element Vector{Int64}:\n",
       " 1\n",
       " 2\n",
       " 3"
      ]
     },
     "metadata": {},
     "output_type": "display_data"
    }
   ],
   "source": [
    "# convert tuples to vectors\n",
    "collect((1, 2, 3))"
   ]
  },
  {
   "cell_type": "code",
   "execution_count": 64,
   "metadata": {},
   "outputs": [
    {
     "data": {
      "text/plain": [
       "3-element Vector{Tuple{String, Int64}}:\n",
       " (\"a\", 3)\n",
       " (\"b\", 1)\n",
       " (\"c\", 2)"
      ]
     },
     "metadata": {},
     "output_type": "display_data"
    }
   ],
   "source": [
    "# pair two vectors: zip()\n",
    "x = [\"a\", \"b\", \"c\"]\n",
    "y = [3, 1, 2]\n",
    "collect(zip(x, y))"
   ]
  },
  {
   "cell_type": "code",
   "execution_count": 107,
   "metadata": {},
   "outputs": [
    {
     "data": {
      "text/plain": [
       "(name = \"Roger\", age = \"0\", wechat = \"xx\")"
      ]
     },
     "metadata": {},
     "output_type": "display_data"
    }
   ],
   "source": [
    "info = (name=\"Roger\", age=\"0\", wechat=\"xx\")"
   ]
  },
  {
   "cell_type": "code",
   "execution_count": 108,
   "metadata": {},
   "outputs": [
    {
     "name": "stdout",
     "output_type": "stream",
     "text": [
      "Roger\n",
      "0\n",
      "xx\n"
     ]
    }
   ],
   "source": [
    "println(info.name)\n",
    "println(info.age)\n",
    "println(info.wechat)"
   ]
  },
  {
   "cell_type": "markdown",
   "metadata": {},
   "source": [
    "### Named Tuples"
   ]
  },
  {
   "cell_type": "code",
   "execution_count": 67,
   "metadata": {},
   "outputs": [
    {
     "name": "stdout",
     "output_type": "stream",
     "text": [
      "tn1[:name] = \"John\"\n",
      "tn1[1] = \"John\"\n"
     ]
    }
   ],
   "source": [
    "tn1 = (; name=\"John\", age=32)\n",
    "@show tn1[:name];\n",
    "@show tn1[1];"
   ]
  },
  {
   "cell_type": "code",
   "execution_count": 69,
   "metadata": {},
   "outputs": [
    {
     "name": "stdout",
     "output_type": "stream",
     "text": [
      "tn1.name = \"John\"\n"
     ]
    }
   ],
   "source": [
    "@show tn1.name;"
   ]
  },
  {
   "cell_type": "markdown",
   "metadata": {},
   "source": [
    "### Dictionaries"
   ]
  },
  {
   "cell_type": "code",
   "execution_count": 70,
   "metadata": {},
   "outputs": [
    {
     "data": {
      "text/plain": [
       "Dict{String, Any} with 2 entries:\n",
       "  \"name\" => \"Li Ming\"\n",
       "  \"age\"  => 18"
      ]
     },
     "metadata": {},
     "output_type": "display_data"
    }
   ],
   "source": [
    "d = Dict(\"name\" => \"Li Ming\", \"age\" => 18)"
   ]
  },
  {
   "cell_type": "code",
   "execution_count": 71,
   "metadata": {},
   "outputs": [
    {
     "data": {
      "text/plain": [
       "Dict{Char, Int64} with 4 entries:\n",
       "  'a' => 1\n",
       "  'c' => 3\n",
       "  'd' => 4\n",
       "  'b' => 2"
      ]
     },
     "metadata": {},
     "output_type": "display_data"
    }
   ],
   "source": [
    "d2orig = [('a', 1), ('b', 2), ('c', 3), ('d', 4)]\n",
    "d2 = Dict(d2orig)"
   ]
  },
  {
   "cell_type": "code",
   "execution_count": 72,
   "metadata": {},
   "outputs": [
    {
     "data": {
      "text/plain": [
       "Dict{Char, Int64} with 4 entries:\n",
       "  'a' => 1\n",
       "  'c' => 3\n",
       "  'd' => 4\n",
       "  'b' => 2"
      ]
     },
     "metadata": {},
     "output_type": "display_data"
    }
   ],
   "source": [
    "x = ['a', 'b', 'c', 'd']\n",
    "y = [1, 2, 3, 4]\n",
    "d2 = Dict(zip(x, y))"
   ]
  },
  {
   "cell_type": "code",
   "execution_count": 73,
   "metadata": {},
   "outputs": [
    {
     "data": {
      "text/plain": [
       "4"
      ]
     },
     "metadata": {},
     "output_type": "display_data"
    }
   ],
   "source": [
    "length(d2)"
   ]
  },
  {
   "cell_type": "code",
   "execution_count": 74,
   "metadata": {},
   "outputs": [
    {
     "data": {
      "text/plain": [
       "Dict{String, Int64} with 3 entries:\n",
       "  \"pear\"   => 2\n",
       "  \"orange\" => 3\n",
       "  \"apple\"  => 1"
      ]
     },
     "metadata": {},
     "output_type": "display_data"
    }
   ],
   "source": [
    "Dict{String, Int64}(\"apple\" => 1, \"pear\" => 2, \"orange\" => 3)"
   ]
  },
  {
   "cell_type": "code",
   "execution_count": 75,
   "metadata": {},
   "outputs": [
    {
     "data": {
      "text/plain": [
       "Pair{String, Int64}"
      ]
     },
     "metadata": {},
     "output_type": "display_data"
    }
   ],
   "source": [
    "x = \"apple\" => 1\n",
    "typeof(x)"
   ]
  },
  {
   "cell_type": "code",
   "execution_count": 76,
   "metadata": {},
   "outputs": [
    {
     "name": "stdout",
     "output_type": "stream",
     "text": [
      "(first(x), last(x)) = (\"apple\", 1)\n"
     ]
    }
   ],
   "source": [
    "@show (first(x), last(x));"
   ]
  },
  {
   "cell_type": "code",
   "execution_count": 77,
   "metadata": {},
   "outputs": [
    {
     "data": {
      "text/plain": [
       "4-element Vector{Pair{Char, Int64}}:\n",
       " 'a' => 1\n",
       " 'c' => 3\n",
       " 'd' => 4\n",
       " 'b' => 2"
      ]
     },
     "metadata": {},
     "output_type": "display_data"
    }
   ],
   "source": [
    "collect(d2)"
   ]
  },
  {
   "cell_type": "code",
   "execution_count": 78,
   "metadata": {},
   "outputs": [
    {
     "data": {
      "text/plain": [
       "18"
      ]
     },
     "metadata": {},
     "output_type": "display_data"
    }
   ],
   "source": [
    "d = Dict(\"name\" => \"Li Ming\", \"age\" => 18)\n",
    "d[\"age\"]"
   ]
  },
  {
   "cell_type": "code",
   "execution_count": 79,
   "metadata": {},
   "outputs": [
    {
     "data": {
      "text/plain": [
       "18"
      ]
     },
     "metadata": {},
     "output_type": "display_data"
    }
   ],
   "source": [
    "get(d, \"age\", 0)"
   ]
  },
  {
   "cell_type": "code",
   "execution_count": 80,
   "metadata": {},
   "outputs": [
    {
     "data": {
      "text/plain": [
       "false"
      ]
     },
     "metadata": {},
     "output_type": "display_data"
    }
   ],
   "source": [
    "haskey(d, \"gender\")"
   ]
  },
  {
   "cell_type": "code",
   "execution_count": 81,
   "metadata": {},
   "outputs": [
    {
     "name": "stdout",
     "output_type": "stream",
     "text": [
      "d = Dict{String, Any}(\"name\" => \"Li Ming\", \"gender\" => \"Male\", \"age\" => 18)\n"
     ]
    }
   ],
   "source": [
    "d[\"gender\"] = \"Male\";\n",
    "@show d;"
   ]
  },
  {
   "cell_type": "code",
   "execution_count": null,
   "metadata": {},
   "outputs": [],
   "source": [
    "# delete!(d, key): delete the key-value pair of key in d\n",
    "# get!(d, key, default): return the value of key in d, if key is not in d, add key to d with value default\n",
    "# pop!(d, key): return the value of key in d and delete the key-value pair of key in d\n",
    "# merge(dict1, dict2): merge dict2 into dict1"
   ]
  },
  {
   "cell_type": "code",
   "execution_count": 83,
   "metadata": {},
   "outputs": [
    {
     "name": "stdout",
     "output_type": "stream",
     "text": [
      "a => 1\n",
      "c => 3\n",
      "d => 4\n",
      "b => 2\n"
     ]
    }
   ],
   "source": [
    "d2 = Dict('a' => 1, 'b' => 2, 'c' => 3, 'd' => 4)\n",
    "for k in keys(d2)\n",
    "    println(\"$k => $(d2[k])\")\n",
    "end"
   ]
  },
  {
   "cell_type": "code",
   "execution_count": 84,
   "metadata": {},
   "outputs": [
    {
     "name": "stdout",
     "output_type": "stream",
     "text": [
      "'a' in keys(d2) = true\n",
      "'g' ∈ keys(d2) = false\n"
     ]
    }
   ],
   "source": [
    "@show 'a' in keys(d2);\n",
    "@show 'g' ∈ keys(d2);"
   ]
  },
  {
   "cell_type": "code",
   "execution_count": 85,
   "metadata": {},
   "outputs": [
    {
     "name": "stdout",
     "output_type": "stream",
     "text": [
      "a => 1\n",
      "b => 2\n",
      "c => 3\n",
      "d => 4\n"
     ]
    }
   ],
   "source": [
    "for k in sort(collect(keys(d2)))\n",
    "    println(\"$k => $(d2[k])\")\n",
    "end"
   ]
  },
  {
   "cell_type": "code",
   "execution_count": 87,
   "metadata": {},
   "outputs": [
    {
     "name": "stdout",
     "output_type": "stream",
     "text": [
      "a ==> 1\n",
      "b ==> 2\n",
      "c ==> 3\n",
      "d ==> 4\n"
     ]
    }
   ],
   "source": [
    "d2p = collect(d2)\n",
    "sort!(d2p, by=first)\n",
    "for (k, v) in d2p\n",
    "    println(\"$k ==> $v\")\n",
    "end"
   ]
  },
  {
   "cell_type": "code",
   "execution_count": 88,
   "metadata": {},
   "outputs": [
    {
     "data": {
      "text/plain": [
       "4-element Vector{Int64}:\n",
       " 1\n",
       " 3\n",
       " 4\n",
       " 2"
      ]
     },
     "metadata": {},
     "output_type": "display_data"
    }
   ],
   "source": [
    "collect(values(d2))"
   ]
  },
  {
   "cell_type": "code",
   "execution_count": 89,
   "metadata": {},
   "outputs": [
    {
     "name": "stdout",
     "output_type": "stream",
     "text": [
      "a => 1\n",
      "c => 3\n",
      "d => 4\n",
      "b => 2\n"
     ]
    }
   ],
   "source": [
    "for (k, v) in d2\n",
    "    println(\"$k => $v\")\n",
    "end"
   ]
  },
  {
   "cell_type": "code",
   "execution_count": 90,
   "metadata": {},
   "outputs": [
    {
     "data": {
      "text/plain": [
       "4-element Vector{Tuple{Char, Int64}}:\n",
       " ('a', 1)\n",
       " ('c', 3)\n",
       " ('d', 4)\n",
       " ('b', 2)"
      ]
     },
     "metadata": {},
     "output_type": "display_data"
    }
   ],
   "source": [
    "[(k, v) for (k, v) in d2]"
   ]
  },
  {
   "cell_type": "code",
   "execution_count": 91,
   "metadata": {},
   "outputs": [
    {
     "data": {
      "text/plain": [
       "Dict{Int64, Int64} with 4 entries:\n",
       "  5 => 25\n",
       "  7 => 49\n",
       "  2 => 4\n",
       "  3 => 9"
      ]
     },
     "metadata": {},
     "output_type": "display_data"
    }
   ],
   "source": [
    "Dict(x => x*x for x in [2, 3, 5, 7])"
   ]
  },
  {
   "cell_type": "code",
   "execution_count": 92,
   "metadata": {},
   "outputs": [
    {
     "name": "stdout",
     "output_type": "stream",
     "text": [
      "freqs = Dict{Any, Any}(\"M\" => 3, \"F\" => 2)\n"
     ]
    }
   ],
   "source": [
    "# Application of Dictionary\n",
    "sex = [\"F\", \"M\", \"M\", \"F\", \"M\"]\n",
    "freqs = Dict()\n",
    "for xi in sex\n",
    "    freqs[xi] = get(freqs, xi, 0) + 1\n",
    "end\n",
    "@show freqs;"
   ]
  },
  {
   "cell_type": "code",
   "execution_count": 93,
   "metadata": {},
   "outputs": [
    {
     "data": {
      "text/plain": [
       "Dict{Any, Any} with 2 entries:\n",
       "  \"M\" => 3\n",
       "  \"F\" => 2"
      ]
     },
     "metadata": {},
     "output_type": "display_data"
    }
   ],
   "source": [
    "function freqd(x)\n",
    "    y = Dict()\n",
    "    for xi in x\n",
    "        y[xi] = get(y, xi, 0) + 1\n",
    "    end\n",
    "    return y\n",
    "end\n",
    "freqd(sex)"
   ]
  },
  {
   "cell_type": "code",
   "execution_count": 94,
   "metadata": {},
   "outputs": [
    {
     "data": {
      "text/plain": [
       "Dict{String, Int64} with 2 entries:\n",
       "  \"M\" => 3\n",
       "  \"F\" => 2"
      ]
     },
     "metadata": {},
     "output_type": "display_data"
    }
   ],
   "source": [
    "using StatsBase\n",
    "StatsBase.countmap(sex)"
   ]
  },
  {
   "cell_type": "code",
   "execution_count": 95,
   "metadata": {},
   "outputs": [
    {
     "data": {
      "text/plain": [
       "([\"M\", \"F\"], [3, 2])"
      ]
     },
     "metadata": {},
     "output_type": "display_data"
    }
   ],
   "source": [
    "function freq(x)\n",
    "    y = StatsBase.countmap(x)\n",
    "    return keys(y), values(y)\n",
    "end\n",
    "freq(sex)"
   ]
  },
  {
   "cell_type": "code",
   "execution_count": 96,
   "metadata": {},
   "outputs": [
    {
     "name": "stdout",
     "output_type": "stream",
     "text": [
      "d3 = (['n', 'd', 'i', 's', 'l', 'u', 'o', 'm', 'e', 't'], [2, 1, 3, 2, 2, 1, 1, 1, 1, 1])\n"
     ]
    }
   ],
   "source": [
    "d3 = freq(\"disillusionment\")\n",
    "@show d3;"
   ]
  },
  {
   "cell_type": "markdown",
   "metadata": {},
   "source": [
    "### Set"
   ]
  },
  {
   "cell_type": "code",
   "execution_count": 97,
   "metadata": {},
   "outputs": [
    {
     "data": {
      "text/plain": [
       "Set{Int64} with 3 elements:\n",
       "  2\n",
       "  3\n",
       "  1"
      ]
     },
     "metadata": {},
     "output_type": "display_data"
    }
   ],
   "source": [
    "Set(1:3)"
   ]
  },
  {
   "cell_type": "code",
   "execution_count": 98,
   "metadata": {},
   "outputs": [
    {
     "data": {
      "text/plain": [
       "Set{Int64} with 3 elements:\n",
       "  2\n",
       "  3\n",
       "  1"
      ]
     },
     "metadata": {},
     "output_type": "display_data"
    }
   ],
   "source": [
    "# set has no orders and no duplicated elements\n",
    "Set([1, 2, 3, 2, 1])"
   ]
  },
  {
   "cell_type": "code",
   "execution_count": 99,
   "metadata": {},
   "outputs": [
    {
     "data": {
      "text/plain": [
       "Set{Char} with 3 elements:\n",
       "  'k'\n",
       "  'e'\n",
       "  'p'"
      ]
     },
     "metadata": {},
     "output_type": "display_data"
    }
   ],
   "source": [
    "Set(\"keep\")"
   ]
  },
  {
   "cell_type": "code",
   "execution_count": 100,
   "metadata": {},
   "outputs": [
    {
     "data": {
      "text/plain": [
       "Set{String} with 1 element:\n",
       "  \"keep\""
      ]
     },
     "metadata": {},
     "output_type": "display_data"
    }
   ],
   "source": [
    "Set([\"keep\"])"
   ]
  },
  {
   "cell_type": "code",
   "execution_count": 103,
   "metadata": {},
   "outputs": [],
   "source": [
    "# Illegal: Set(1, 2, 3)"
   ]
  },
  {
   "cell_type": "code",
   "execution_count": null,
   "metadata": {},
   "outputs": [],
   "source": [
    "# union(A, B), A ∪ B\n",
    "# intersect(A, B), A ∩ B\n",
    "# setdiff(A, B), A \\ B\n",
    "# symdiff(A, B), (A \\ B) ∪ (B \\ A)\n",
    "# issetequal(A, B), A == B\n",
    "# issubset(A, B), A ⊆ B; ⊈: not subset\n",
    "# ⊇: superset; ⊉: not superset\n",
    "# ∈, ∋, ∉, ∌"
   ]
  },
  {
   "cell_type": "code",
   "execution_count": 104,
   "metadata": {},
   "outputs": [
    {
     "data": {
      "text/plain": [
       "true"
      ]
     },
     "metadata": {},
     "output_type": "display_data"
    }
   ],
   "source": [
    "Set(\"cat\") ⊆ Set(\"atomic\")"
   ]
  },
  {
   "cell_type": "code",
   "execution_count": 105,
   "metadata": {},
   "outputs": [
    {
     "data": {
      "text/plain": [
       "true"
      ]
     },
     "metadata": {},
     "output_type": "display_data"
    }
   ],
   "source": [
    "length(Set(\"keep\")) < length(\"keep\")"
   ]
  },
  {
   "cell_type": "markdown",
   "metadata": {},
   "source": [
    "### Self-defined Data Types"
   ]
  },
  {
   "cell_type": "code",
   "execution_count": 109,
   "metadata": {},
   "outputs": [],
   "source": [
    "mutable struct Rectangle\n",
    "    xll::Real\n",
    "    yll::Real\n",
    "    width::Real\n",
    "    height::Real\n",
    "end"
   ]
  },
  {
   "cell_type": "code",
   "execution_count": 111,
   "metadata": {},
   "outputs": [
    {
     "name": "stdout",
     "output_type": "stream",
     "text": [
      "rect1.width = 2\n"
     ]
    }
   ],
   "source": [
    "rect1 = Rectangle(0, 0, 2, 1)\n",
    "@show rect1.width;"
   ]
  },
  {
   "cell_type": "code",
   "execution_count": 112,
   "metadata": {},
   "outputs": [
    {
     "data": {
      "text/plain": [
       "move (generic function with 1 method)"
      ]
     },
     "metadata": {},
     "output_type": "display_data"
    }
   ],
   "source": [
    "function move(rect::Rectangle, offset)\n",
    "    Rectangle(rect.xll + offset[1], rect.yll + offset[2], rect.width, rect.height)\n",
    "end"
   ]
  },
  {
   "cell_type": "code",
   "execution_count": 113,
   "metadata": {},
   "outputs": [
    {
     "data": {
      "text/plain": [
       "Rectangle(20, 10, 2, 1)"
      ]
     },
     "metadata": {},
     "output_type": "display_data"
    }
   ],
   "source": [
    "rect2 = move(rect1, (20, 10))"
   ]
  },
  {
   "cell_type": "markdown",
   "metadata": {},
   "source": [
    "#### Application: Complex Numbers"
   ]
  },
  {
   "cell_type": "code",
   "execution_count": null,
   "metadata": {},
   "outputs": [],
   "source": [
    "1 + 1im"
   ]
  },
  {
   "cell_type": "code",
   "execution_count": null,
   "metadata": {},
   "outputs": [],
   "source": [
    "struct MyComplex\n",
    "    real::Float64\n",
    "    imag::Float64\n",
    "end\n",
    "\n",
    "# A complex number is an object of tpe MyComplex\n",
    "a = MyComplex(1.0, 2.0)"
   ]
  },
  {
   "cell_type": "code",
   "execution_count": null,
   "metadata": {},
   "outputs": [],
   "source": [
    "# Refine definitions of * for complex numbers\n",
    "import Base: *\n",
    "\n",
    "*(a::MyComplex, b::MyComplex) = MyComplex(a.real * b.real - a.imag * b.imag, a.real * b.imag + a.imag * b.real)"
   ]
  },
  {
   "cell_type": "code",
   "execution_count": null,
   "metadata": {},
   "outputs": [],
   "source": [
    "b = MyComplex(3.0, 4.0)\n",
    "a * b"
   ]
  },
  {
   "cell_type": "code",
   "execution_count": null,
   "metadata": {},
   "outputs": [],
   "source": [
    "# Refine the show method (toString method in Java)\n",
    "import Base: show\n",
    "\n",
    "show(io::IO, ::MIME\"text/plain\", x::MyComplex) = print(io, \"$(x.real) + $(x.imag)im\")"
   ]
  },
  {
   "cell_type": "code",
   "execution_count": null,
   "metadata": {},
   "outputs": [],
   "source": [
    "a * b"
   ]
  },
  {
   "cell_type": "code",
   "execution_count": null,
   "metadata": {},
   "outputs": [],
   "source": [
    "# Parameterized types\n",
    "struct MyComplex2{T <: Real}\n",
    "    real::T\n",
    "    imag::T\n",
    "end\n",
    "\n",
    "MyComplex2{Float32}(1.0f0, 2.0f0)"
   ]
  },
  {
   "cell_type": "code",
   "execution_count": null,
   "metadata": {},
   "outputs": [],
   "source": [
    "# Define a constructor\n",
    "struct MyComplex3{T <: Real}\n",
    "    real::T\n",
    "    imag::T\n",
    "\n",
    "    MyComplex3(real::T) where {T <: Real} = new{T}(real, 0)\n",
    "end\n",
    "\n",
    "MyComplex3(1.0)"
   ]
  },
  {
   "cell_type": "markdown",
   "metadata": {},
   "source": [
    "## Methods"
   ]
  },
  {
   "cell_type": "markdown",
   "metadata": {},
   "source": [
    "### Passing by Sharing"
   ]
  },
  {
   "cell_type": "code",
   "execution_count": 115,
   "metadata": {},
   "outputs": [
    {
     "name": "stdout",
     "output_type": "stream",
     "text": [
      "Inside f() before changing, n=1\n",
      "Inside f() after changing, n=-1\n",
      "Out of f(), n=1\n"
     ]
    }
   ],
   "source": [
    "function f(n)\n",
    "    println(\"Inside f() before changing, n=$n\")\n",
    "    n = -1\n",
    "    println(\"Inside f() after changing, n=$n\")\n",
    "    return\n",
    "end\n",
    "\n",
    "function test()\n",
    "    n = 1\n",
    "    f(n)\n",
    "    println(\"Out of f(), n=$n\")\n",
    "end\n",
    "\n",
    "test()"
   ]
  },
  {
   "cell_type": "code",
   "execution_count": 116,
   "metadata": {},
   "outputs": [
    {
     "name": "stdout",
     "output_type": "stream",
     "text": [
      "xx = [2, 4, 6]\n"
     ]
    }
   ],
   "source": [
    "function double!(x)\n",
    "    for i in eachindex(x)\n",
    "        x[i] *= 2\n",
    "    end\n",
    "end\n",
    "\n",
    "xx = [1, 2, 3]\n",
    "double!(xx)\n",
    "@show xx;"
   ]
  },
  {
   "cell_type": "code",
   "execution_count": 117,
   "metadata": {},
   "outputs": [
    {
     "name": "stdout",
     "output_type": "stream",
     "text": [
      "xx = [1, 2, 3]\n"
     ]
    }
   ],
   "source": [
    "function double_wrong(x)\n",
    "    x = 2 .* x\n",
    "     return x\n",
    "end\n",
    "\n",
    "xx = [1, 2, 3]\n",
    "double_wrong(xx)\n",
    "@show xx;"
   ]
  },
  {
   "cell_type": "markdown",
   "metadata": {},
   "source": [
    "### Unnamed Functions"
   ]
  },
  {
   "cell_type": "code",
   "execution_count": 118,
   "metadata": {},
   "outputs": [
    {
     "data": {
      "text/plain": [
       "#19 (generic function with 1 method)"
      ]
     },
     "metadata": {},
     "output_type": "display_data"
    }
   ],
   "source": [
    "x -> x^2 + 1"
   ]
  },
  {
   "cell_type": "code",
   "execution_count": 119,
   "metadata": {},
   "outputs": [
    {
     "data": {
      "text/plain": [
       "#21 (generic function with 1 method)"
      ]
     },
     "metadata": {},
     "output_type": "display_data"
    }
   ],
   "source": [
    "function (x)\n",
    "    x^2 + 1\n",
    "end"
   ]
  },
  {
   "cell_type": "code",
   "execution_count": 120,
   "metadata": {},
   "outputs": [
    {
     "name": "stdout",
     "output_type": "stream",
     "text": [
      "[4, 8]"
     ]
    }
   ],
   "source": [
    "make_power(α) = x -> x^α\n",
    "f2 = make_power(2)\n",
    "f3 = make_power(3)\n",
    "[f2(2), f3(2)] |> show"
   ]
  },
  {
   "cell_type": "markdown",
   "metadata": {},
   "source": [
    "### Chaining and Composite Functions"
   ]
  },
  {
   "cell_type": "code",
   "execution_count": 121,
   "metadata": {},
   "outputs": [
    {
     "data": {
      "text/plain": [
       "55"
      ]
     },
     "metadata": {},
     "output_type": "display_data"
    }
   ],
   "source": [
    "# x |> f is equivalent to f(x)\n",
    "# x |> f |> g is equivalent to g(f(x))\n",
    "\n",
    "[1:5;] |> (x -> x .^ 2) |> sum"
   ]
  },
  {
   "cell_type": "code",
   "execution_count": 122,
   "metadata": {},
   "outputs": [
    {
     "data": {
      "text/plain": [
       "55"
      ]
     },
     "metadata": {},
     "output_type": "display_data"
    }
   ],
   "source": [
    "# g(f.(x)) is equivalent to x .|> f |> g\n",
    "[1:5;] .|> (x -> x ^ 2) |> sum"
   ]
  },
  {
   "cell_type": "code",
   "execution_count": 123,
   "metadata": {},
   "outputs": [
    {
     "name": "stdout",
     "output_type": "stream",
     "text": [
      "y = ['A', 'P', 'O']\n"
     ]
    }
   ],
   "source": [
    "funcs = [uppercase, lowercase, first]\n",
    "fruits = [\"apple\", \"pear\", \"orange\"]\n",
    "fnew = funcs[1] ∘ funcs[3]\n",
    "y = map(fnew, fruits);\n",
    "@show y;"
   ]
  },
  {
   "cell_type": "markdown",
   "metadata": {},
   "source": [
    "### Functions with Variable Number of Arguments"
   ]
  },
  {
   "cell_type": "code",
   "execution_count": 124,
   "metadata": {},
   "outputs": [
    {
     "name": "stdout",
     "output_type": "stream",
     "text": [
      "x=11\n",
      "Other Variables: (1, 2, 3)\n"
     ]
    }
   ],
   "source": [
    "function f_vara1(x, args...)\n",
    "    println(\"x=$x\")\n",
    "    println(\"Other Variables: $args\")\n",
    "end\n",
    "\n",
    "f_vara1(11, 1, 2, 3)"
   ]
  },
  {
   "cell_type": "markdown",
   "metadata": {},
   "source": [
    "### Recursion"
   ]
  },
  {
   "cell_type": "code",
   "execution_count": 127,
   "metadata": {},
   "outputs": [
    {
     "data": {
      "text/plain": [
       "120"
      ]
     },
     "metadata": {},
     "output_type": "display_data"
    }
   ],
   "source": [
    "function myfact(n)\n",
    "    if (n == 1) || (n == 0)\n",
    "        return 1\n",
    "    else\n",
    "        return n * myfact(n-1)\n",
    "    end\n",
    "end\n",
    "\n",
    "myfact(5)"
   ]
  },
  {
   "cell_type": "code",
   "execution_count": 128,
   "metadata": {},
   "outputs": [
    {
     "name": "stdout",
     "output_type": "stream",
     "text": [
      "[(0, 0), (1, 1), (2, 1), (3, 2), (4, 3), (5, 5), (6, 8), (7, 13), (8, 21), (9, 34)]"
     ]
    }
   ],
   "source": [
    "function myfib(n)\n",
    "    if n <= 0\n",
    "        return 0\n",
    "    elseif n == 1 || n == 2\n",
    "        return 1\n",
    "    else \n",
    "        return myfib(n-1) + myfib(n-2)\n",
    "    end\n",
    "end\n",
    "\n",
    "show([(n, myfib(n)) for n = 0:9])"
   ]
  },
  {
   "cell_type": "code",
   "execution_count": 129,
   "metadata": {},
   "outputs": [
    {
     "name": "stdout",
     "output_type": "stream",
     "text": [
      "[1, 1, 2, 3, 5, 8, 13, 21, 34, 55]"
     ]
    }
   ],
   "source": [
    "function myfib2(n)\n",
    "    local f1, f2, f3\n",
    "\n",
    "    if n <= 0\n",
    "        return 0\n",
    "    elseif n == 1 || n == 2\n",
    "        return 1\n",
    "    end\n",
    "\n",
    "    f1 = 1\n",
    "    f2 = 1\n",
    "    for i = 3:n\n",
    "        f3 = f1 + f2\n",
    "        f1, f2 = f2, f3\n",
    "    end\n",
    "    return f3\n",
    "end\n",
    "\n",
    "myfib.(1:10) |> show"
   ]
  },
  {
   "cell_type": "markdown",
   "metadata": {},
   "source": [
    "### Closure"
   ]
  },
  {
   "cell_type": "code",
   "execution_count": 130,
   "metadata": {},
   "outputs": [
    {
     "name": "stdout",
     "output_type": "stream",
     "text": [
      "1, 1\n"
     ]
    }
   ],
   "source": [
    "function counter_old()\n",
    "    n = 0\n",
    "    n = n + 1\n",
    "    return n\n",
    "end\n",
    "\n",
    "println(counter_old(), \", \", counter_old())"
   ]
  },
  {
   "cell_type": "code",
   "execution_count": 131,
   "metadata": {},
   "outputs": [
    {
     "name": "stdout",
     "output_type": "stream",
     "text": [
      "typeof(my_counter) = var\"#counter#31\"\n",
      "1, 2\n"
     ]
    }
   ],
   "source": [
    "# convert the function into a closure\n",
    "\n",
    "function make_counter()\n",
    "    n = 0\n",
    "    function counter()\n",
    "        n += 1\n",
    "        return n\n",
    "    end\n",
    "end\n",
    "\n",
    "my_counter = make_counter()\n",
    "@show typeof(my_counter)\n",
    "\n",
    "println(my_counter(), \", \", my_counter())"
   ]
  },
  {
   "cell_type": "code",
   "execution_count": 133,
   "metadata": {},
   "outputs": [
    {
     "name": "stdout",
     "output_type": "stream",
     "text": [
      "[0, 1, 1, 2, 3, 5, 8, 13, 21, 34]"
     ]
    }
   ],
   "source": [
    "# convert myfib into closure\n",
    "\n",
    "function makefib()\n",
    "    saved = Dict(0 => 0, 1 => 1)\n",
    "    function fib(n)\n",
    "        if n ∉ keys(saved)\n",
    "            saved[n] = fib(n-1) + fib(n-2)\n",
    "        end\n",
    "        return saved[n]\n",
    "    end\n",
    "end\n",
    "\n",
    "myfibnew = makefib()\n",
    "show(myfibnew.(0:9))"
   ]
  },
  {
   "cell_type": "markdown",
   "metadata": {},
   "source": [
    "### Functional Programming"
   ]
  },
  {
   "cell_type": "markdown",
   "metadata": {},
   "source": [
    "#### `map()`"
   ]
  },
  {
   "cell_type": "code",
   "execution_count": 134,
   "metadata": {},
   "outputs": [
    {
     "data": {
      "text/plain": [
       "3-element Vector{Int64}:\n",
       "  2\n",
       "  5\n",
       " 10"
      ]
     },
     "metadata": {},
     "output_type": "display_data"
    }
   ],
   "source": [
    "map(x -> x^2 + 1, [1, 2, 3])"
   ]
  },
  {
   "cell_type": "code",
   "execution_count": 135,
   "metadata": {},
   "outputs": [
    {
     "name": "stdout",
     "output_type": "stream",
     "text": [
      "[0, 0, 80, 100]"
     ]
    }
   ],
   "source": [
    "function fwins(x)\n",
    "    if x < 0\n",
    "        y = 0\n",
    "    elseif x > 100\n",
    "        y = 100\n",
    "    else\n",
    "        y = x\n",
    "    end\n",
    "    return y\n",
    "end\n",
    "\n",
    "fwins.([-1, 0, 80, 120]) |> show"
   ]
  },
  {
   "cell_type": "code",
   "execution_count": 136,
   "metadata": {},
   "outputs": [
    {
     "data": {
      "text/plain": [
       "4-element Vector{Int64}:\n",
       "   0\n",
       "   0\n",
       "  80\n",
       " 100"
      ]
     },
     "metadata": {},
     "output_type": "display_data"
    }
   ],
   "source": [
    "map([-1, 0, 80, 120]) do x\n",
    "    if x < 0\n",
    "        y = 0\n",
    "    elseif x > 100\n",
    "        y = 100\n",
    "    else\n",
    "        y = x\n",
    "    end\n",
    "    return y\n",
    "end"
   ]
  },
  {
   "cell_type": "code",
   "execution_count": 137,
   "metadata": {},
   "outputs": [
    {
     "name": "stdout",
     "output_type": "stream",
     "text": [
      "[12, 24, 36]"
     ]
    }
   ],
   "source": [
    "map((x, y) -> 2*x + y, [1, 2, 3], [10, 20, 30]) |> show"
   ]
  },
  {
   "cell_type": "markdown",
   "metadata": {},
   "source": [
    "#### `filter()`"
   ]
  },
  {
   "cell_type": "code",
   "execution_count": 138,
   "metadata": {},
   "outputs": [
    {
     "name": "stdout",
     "output_type": "stream",
     "text": [
      "[1, 2, 3]"
     ]
    }
   ],
   "source": [
    "filter(x -> x>0, [-2, 0, 1, 2, 3]) |> show"
   ]
  },
  {
   "cell_type": "markdown",
   "metadata": {},
   "source": [
    "#### `reduce()`"
   ]
  },
  {
   "cell_type": "code",
   "execution_count": 139,
   "metadata": {},
   "outputs": [
    {
     "data": {
      "text/plain": [
       "6"
      ]
     },
     "metadata": {},
     "output_type": "display_data"
    }
   ],
   "source": [
    "reduce(+, 1:3)"
   ]
  },
  {
   "cell_type": "code",
   "execution_count": 140,
   "metadata": {},
   "outputs": [
    {
     "data": {
      "text/plain": [
       "1×3 Matrix{Int64}:\n",
       " 6  15  24"
      ]
     },
     "metadata": {},
     "output_type": "display_data"
    }
   ],
   "source": [
    "mat = reshape([1:9;], 3, 3)\n",
    "\n",
    "reduce(+, mat, dims = 1)"
   ]
  },
  {
   "cell_type": "code",
   "execution_count": 142,
   "metadata": {},
   "outputs": [
    {
     "data": {
      "text/plain": [
       "3×1 Matrix{Int64}:\n",
       " 12\n",
       " 15\n",
       " 18"
      ]
     },
     "metadata": {},
     "output_type": "display_data"
    }
   ],
   "source": [
    "reduce(+, mat, dims = 2)"
   ]
  },
  {
   "cell_type": "code",
   "execution_count": 143,
   "metadata": {},
   "outputs": [
    {
     "data": {
      "text/plain": [
       "14"
      ]
     },
     "metadata": {},
     "output_type": "display_data"
    }
   ],
   "source": [
    "mapreduce(x -> x ^ 2, +, [1:3;])"
   ]
  },
  {
   "cell_type": "markdown",
   "metadata": {},
   "source": [
    "#### `accumulate()`"
   ]
  },
  {
   "cell_type": "code",
   "execution_count": 144,
   "metadata": {},
   "outputs": [
    {
     "name": "stdout",
     "output_type": "stream",
     "text": [
      "[1, 3, 6, 10]"
     ]
    }
   ],
   "source": [
    "cumsum(1:4) |> show"
   ]
  },
  {
   "cell_type": "code",
   "execution_count": 145,
   "metadata": {},
   "outputs": [
    {
     "name": "stdout",
     "output_type": "stream",
     "text": [
      "[1, 3, 6, 10, 15]"
     ]
    }
   ],
   "source": [
    "accumulate(+, 1:5) |> show"
   ]
  },
  {
   "cell_type": "code",
   "execution_count": 146,
   "metadata": {},
   "outputs": [
    {
     "data": {
      "text/plain": [
       "3×3 Matrix{Int64}:\n",
       " 1   4   7\n",
       " 3   9  15\n",
       " 6  15  24"
      ]
     },
     "metadata": {},
     "output_type": "display_data"
    }
   ],
   "source": [
    "mat = reshape([1:9;], 3, 3)\n",
    "accumulate(+, mat, dims=1)"
   ]
  },
  {
   "cell_type": "code",
   "execution_count": 147,
   "metadata": {},
   "outputs": [
    {
     "data": {
      "text/plain": [
       "3×3 Matrix{Int64}:\n",
       " 1  5  12\n",
       " 2  7  15\n",
       " 3  9  18"
      ]
     },
     "metadata": {},
     "output_type": "display_data"
    }
   ],
   "source": [
    "accumulate(+, mat, dims=2)"
   ]
  },
  {
   "cell_type": "markdown",
   "metadata": {},
   "source": [
    "### Exception Handling\n",
    "\n",
    "```julia\n",
    "try\n",
    "    something\n",
    "catch\n",
    "    something\n",
    "finally\n",
    "    code that will always execute\n",
    "end\n",
    "```"
   ]
  },
  {
   "cell_type": "code",
   "execution_count": 148,
   "metadata": {},
   "outputs": [
    {
     "name": "stdout",
     "output_type": "stream",
     "text": [
      "√2=1.4142135623730951\n",
      "√-2: Domain Error!\n",
      "√a: Other Errors!\n"
     ]
    }
   ],
   "source": [
    "x = [2, -2, \"a\"]\n",
    "for xi in x\n",
    "    try\n",
    "        y = sqrt(xi)\n",
    "        println(\"√$(xi)=$(y)\")\n",
    "    catch ex\n",
    "        if isa(ex, DomainError)\n",
    "            println(\"√$(xi): Domain Error!\")\n",
    "        else\n",
    "            println(\"√$(xi): Other Errors!\")\n",
    "        end\n",
    "    end\n",
    "end"
   ]
  },
  {
   "cell_type": "code",
   "execution_count": null,
   "metadata": {},
   "outputs": [],
   "source": [
    "abstract type TypeA end\n",
    "\n",
    "struct TypeB <: TypeA end\n",
    "struct TypeC <: TypeA end\n",
    "\n",
    "wooo(a1::TypeA, a2::TypeA) = println(\"A/A\")\n",
    "wooo(a::TypeA, b::TypeB) = println(\"A/B\")\n",
    "\n",
    "callme(a1::TypeA, a2::TypeA) = wooo(a1, a2)\n",
    "\n",
    "b = TypeB(); c = TypeC();\n",
    "callme(c, b)"
   ]
  },
  {
   "cell_type": "code",
   "execution_count": null,
   "metadata": {},
   "outputs": [],
   "source": [
    "wooo(a1::TypeA, a2::TypeA) = println(\"A/A\")"
   ]
  }
 ],
 "metadata": {
  "kernelspec": {
   "display_name": "Julia 1.9.4",
   "language": "julia",
   "name": "julia-1.9"
  },
  "language_info": {
   "file_extension": ".jl",
   "mimetype": "application/julia",
   "name": "julia",
   "version": "1.9.4"
  }
 },
 "nbformat": 4,
 "nbformat_minor": 2
}

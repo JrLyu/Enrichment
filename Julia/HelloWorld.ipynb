{
 "cells": [
  {
   "cell_type": "markdown",
   "metadata": {},
   "source": [
    "# Hello World in Julia"
   ]
  },
  {
   "cell_type": "markdown",
   "metadata": {},
   "source": [
    "- [Hello World in Julia](#hello-world-in-julia)\n",
    "- [Introduction](##introduction)\n",
    "  - [Operations](###operations)\n",
    "  - [Strings](###strings)\n",
    "  - [Assignment](###assignment)\n",
    "  - [Comparison and Logical Operators](#comparison-and-logical-operators)\n",
    "  - [More on `prinln()`](#more-on-println)\n",
    "- [Programming Structure](#programming-sturcutree)\n",
    "  - [Annotations](#annotations)\n",
    "  - [Combined Expressions](#combined-expressions)\n",
    "  - [Conditionals](#conditionals)\n",
    "  - [Loops](#loops)\n",
    "  - [Defining Functions](#defining-functions)\n",
    "- [Data Structures in Julia](#data-structures-in-julia)"
   ]
  },
  {
   "cell_type": "markdown",
   "metadata": {},
   "source": [
    "## Introduction"
   ]
  },
  {
   "cell_type": "code",
   "execution_count": null,
   "metadata": {},
   "outputs": [],
   "source": [
    "println(\"Hello World!\")"
   ]
  },
  {
   "cell_type": "code",
   "execution_count": null,
   "metadata": {},
   "outputs": [],
   "source": [
    "name = \"Richard\"\n",
    "println(\"Hello $(name)!\")"
   ]
  },
  {
   "cell_type": "code",
   "execution_count": null,
   "metadata": {},
   "outputs": [],
   "source": [
    "println(\"1 + 1 = $(1 + 1)\")"
   ]
  },
  {
   "cell_type": "code",
   "execution_count": null,
   "metadata": {},
   "outputs": [],
   "source": [
    "😄 = \"smile\"\n",
    "ϵ = 2.793e-5\n",
    "\n",
    "println(\"$(😄) = $(ϵ)\")"
   ]
  },
  {
   "cell_type": "code",
   "execution_count": null,
   "metadata": {},
   "outputs": [],
   "source": [
    "π"
   ]
  },
  {
   "cell_type": "markdown",
   "metadata": {},
   "source": [
    "### Operations"
   ]
  },
  {
   "cell_type": "code",
   "execution_count": null,
   "metadata": {},
   "outputs": [],
   "source": [
    "println(typeof(π))\n",
    "println(typeof(1.234))\n",
    "println(typeof(1))\n",
    "println(typeof(\"Hello World!\"))"
   ]
  },
  {
   "cell_type": "code",
   "execution_count": null,
   "metadata": {},
   "outputs": [],
   "source": [
    "(1.3 + 2.5)*2.0 - 3.6/1.2 + 1.2^2"
   ]
  },
  {
   "cell_type": "code",
   "execution_count": null,
   "metadata": {},
   "outputs": [],
   "source": [
    "10 + 2*3 - 3*4"
   ]
  },
  {
   "cell_type": "code",
   "execution_count": null,
   "metadata": {},
   "outputs": [],
   "source": [
    "10/2 # always return Float64"
   ]
  },
  {
   "cell_type": "code",
   "execution_count": null,
   "metadata": {},
   "outputs": [],
   "source": [
    "5 ÷ 2 # integer division"
   ]
  },
  {
   "cell_type": "code",
   "execution_count": null,
   "metadata": {},
   "outputs": [],
   "source": [
    "10 % 3"
   ]
  },
  {
   "cell_type": "code",
   "execution_count": null,
   "metadata": {},
   "outputs": [],
   "source": [
    "divrem(10, 3)"
   ]
  },
  {
   "cell_type": "code",
   "execution_count": null,
   "metadata": {},
   "outputs": [],
   "source": [
    "\"\"\"\n",
    "other operations: \n",
    "    log, exp, sqrt, sin cos, tan\n",
    "    round(Int, x), round(x, digits=2), round(x)\n",
    "    floor(Int, x), floor(x), ceil(Int, x), ceil(x)\n",
    "    factorial(n), binomial(n, k)\n",
    "    gcd(x, y), lcm(x, y)\n",
    "    ndigits()\n",
    "    evalpoly\n",
    "\"\"\""
   ]
  },
  {
   "cell_type": "markdown",
   "metadata": {},
   "source": [
    "### Strings"
   ]
  },
  {
   "cell_type": "code",
   "execution_count": null,
   "metadata": {},
   "outputs": [],
   "source": [
    "\"--+\" ^ 3 # string repetition"
   ]
  },
  {
   "cell_type": "code",
   "execution_count": null,
   "metadata": {},
   "outputs": [],
   "source": [
    "string(:name)\n",
    "Symbol(\"name\")"
   ]
  },
  {
   "cell_type": "code",
   "execution_count": 3,
   "metadata": {},
   "outputs": [
    {
     "name": "stdout",
     "output_type": "stream",
     "text": [
      "Fruit\n",
      "2\n"
     ]
    }
   ],
   "source": [
    "@enum Fruit apple pear orange\n",
    "\n",
    "my_order = orange\n",
    "## orange::Fruit = 2\n",
    "\n",
    "println(typeof(my_order))\n",
    "println(Integer(my_order))"
   ]
  },
  {
   "cell_type": "markdown",
   "metadata": {},
   "source": [
    "### Assignment"
   ]
  },
  {
   "cell_type": "code",
   "execution_count": 5,
   "metadata": {},
   "outputs": [
    {
     "data": {
      "text/plain": [
       "128.0"
      ]
     },
     "metadata": {},
     "output_type": "display_data"
    }
   ],
   "source": [
    "x = 123\n",
    "y = 1+3/2\n",
    "\n",
    "x + y*2"
   ]
  },
  {
   "cell_type": "code",
   "execution_count": 6,
   "metadata": {},
   "outputs": [
    {
     "data": {
      "text/plain": [
       "128.0"
      ]
     },
     "metadata": {},
     "output_type": "display_data"
    }
   ],
   "source": [
    "x + 2y"
   ]
  },
  {
   "cell_type": "code",
   "execution_count": 7,
   "metadata": {},
   "outputs": [
    {
     "data": {
      "text/plain": [
       "1"
      ]
     },
     "metadata": {},
     "output_type": "display_data"
    }
   ],
   "source": [
    "x = y = z = 1"
   ]
  },
  {
   "cell_type": "code",
   "execution_count": 8,
   "metadata": {},
   "outputs": [
    {
     "data": {
      "text/plain": [
       "223"
      ]
     },
     "metadata": {},
     "output_type": "display_data"
    }
   ],
   "source": [
    "x = 123\n",
    "x += 100"
   ]
  },
  {
   "cell_type": "code",
   "execution_count": null,
   "metadata": {},
   "outputs": [],
   "source": [
    "\"\"\"\n",
    "Compare: y = x, y = copy(x), y = deepcopy(x)\n",
    "\"\"\""
   ]
  },
  {
   "cell_type": "markdown",
   "metadata": {},
   "source": [
    "### Comparison and Logical Operators"
   ]
  },
  {
   "cell_type": "code",
   "execution_count": 11,
   "metadata": {},
   "outputs": [
    {
     "data": {
      "text/plain": [
       "true"
      ]
     },
     "metadata": {},
     "output_type": "display_data"
    }
   ],
   "source": [
    "1 == 1.0        ## true\n",
    "2 != 2.0001     ## true\n",
    "3.5 > -1        ## true\n",
    "3.5 < -1.5      ## false\n",
    "3.5 >= 3.5      ## true\n",
    "3.5 <= 3.5      ## true"
   ]
  },
  {
   "cell_type": "code",
   "execution_count": 12,
   "metadata": {},
   "outputs": [
    {
     "data": {
      "text/plain": [
       "true"
      ]
     },
     "metadata": {},
     "output_type": "display_data"
    }
   ],
   "source": [
    "\"abc\" == \"ABC\"  ## false\n",
    "\"ab\" < \"abc\"    ## true"
   ]
  },
  {
   "cell_type": "code",
   "execution_count": 13,
   "metadata": {},
   "outputs": [
    {
     "name": "stdout",
     "output_type": "stream",
     "text": [
      "false\n",
      "true\n"
     ]
    }
   ],
   "source": [
    "age = 35; sex = \"F\"\n",
    "\n",
    "println(age < 18)\n",
    "println(sex == \"F\")\n",
    "\n",
    "age < 18 && sex == \"F\"  ## false\n",
    "age >= 18 || sex == \"M\" ## true"
   ]
  },
  {
   "cell_type": "markdown",
   "metadata": {},
   "source": [
    "### More on `println()`"
   ]
  },
  {
   "cell_type": "code",
   "execution_count": 14,
   "metadata": {},
   "outputs": [
    {
     "name": "stdout",
     "output_type": "stream",
     "text": [
      "128.0\n"
     ]
    }
   ],
   "source": [
    "x = 123\n",
    "y = 1+3/2\n",
    "\n",
    "println(x + 2y)"
   ]
  },
  {
   "cell_type": "code",
   "execution_count": 16,
   "metadata": {},
   "outputs": [
    {
     "name": "stdout",
     "output_type": "stream",
     "text": [
      "x = 123, y = 2.5, x+2y = 128.0\n"
     ]
    }
   ],
   "source": [
    "println(\"x = \", x, \", y = \", y, \", x+2y = \", x+2y)"
   ]
  },
  {
   "cell_type": "code",
   "execution_count": 17,
   "metadata": {},
   "outputs": [
    {
     "name": "stdout",
     "output_type": "stream",
     "text": [
      "x = 123, y = 2.5, x+2y = 128.0\n"
     ]
    }
   ],
   "source": [
    "println(\"x = $x, y = $y, x+2y = $(x+2y)\")"
   ]
  },
  {
   "cell_type": "code",
   "execution_count": 18,
   "metadata": {},
   "outputs": [
    {
     "name": "stdout",
     "output_type": "stream",
     "text": [
      "1 + 2 = 3\n"
     ]
    },
    {
     "data": {
      "text/plain": [
       "3"
      ]
     },
     "metadata": {},
     "output_type": "display_data"
    }
   ],
   "source": [
    "@show 1+2"
   ]
  },
  {
   "cell_type": "code",
   "execution_count": 19,
   "metadata": {},
   "outputs": [
    {
     "data": {
      "text/plain": [
       "3"
      ]
     },
     "metadata": {},
     "output_type": "display_data"
    }
   ],
   "source": [
    "display(1+2)"
   ]
  },
  {
   "cell_type": "markdown",
   "metadata": {},
   "source": [
    "## Programming Sturcutre"
   ]
  },
  {
   "cell_type": "markdown",
   "metadata": {},
   "source": [
    "### Annotations"
   ]
  },
  {
   "cell_type": "code",
   "execution_count": 20,
   "metadata": {},
   "outputs": [
    {
     "data": {
      "text/plain": [
       "f (generic function with 1 method)"
      ]
     },
     "metadata": {},
     "output_type": "display_data"
    }
   ],
   "source": [
    "# this is an annotation\n",
    "function f(x)\n",
    "    #=\n",
    "    This is a comment:\n",
    "    This function evaluates a polynomial x^2 + 1\n",
    "    =#\n",
    "    return x^2 + 1 # return value\n",
    "end"
   ]
  },
  {
   "cell_type": "markdown",
   "metadata": {},
   "source": [
    "### Combined Expressions"
   ]
  },
  {
   "cell_type": "code",
   "execution_count": 21,
   "metadata": {},
   "outputs": [
    {
     "name": "stdout",
     "output_type": "stream",
     "text": [
      "3\n"
     ]
    }
   ],
   "source": [
    "z = begin\n",
    "    x = 1\n",
    "    y = 2\n",
    "    x + y\n",
    "end\n",
    "\n",
    "println(z)"
   ]
  },
  {
   "cell_type": "code",
   "execution_count": 22,
   "metadata": {},
   "outputs": [
    {
     "name": "stdout",
     "output_type": "stream",
     "text": [
      "3\n"
     ]
    }
   ],
   "source": [
    "z = (x = 1; y = 2; x + y)\n",
    "println(z)"
   ]
  },
  {
   "cell_type": "code",
   "execution_count": 23,
   "metadata": {},
   "outputs": [
    {
     "name": "stdout",
     "output_type": "stream",
     "text": [
      "x = 3\n"
     ]
    }
   ],
   "source": [
    "x = 1 + 2; println(\"x = $x\")"
   ]
  },
  {
   "cell_type": "markdown",
   "metadata": {},
   "source": [
    "### Conditionals"
   ]
  },
  {
   "cell_type": "code",
   "execution_count": 24,
   "metadata": {},
   "outputs": [
    {
     "name": "stdout",
     "output_type": "stream",
     "text": [
      "x is negative, x = -1.44\n"
     ]
    }
   ],
   "source": [
    "#=\n",
    "The expression cond && expr will evaluate expr only if cond is true.\n",
    "=#\n",
    "x = -1.44\n",
    "x < 0 && println(\"x is negative, x = $x\")"
   ]
  },
  {
   "cell_type": "code",
   "execution_count": 25,
   "metadata": {},
   "outputs": [
    {
     "data": {
      "text/plain": [
       "true"
      ]
     },
     "metadata": {},
     "output_type": "display_data"
    }
   ],
   "source": [
    "#=\n",
    "The expression cond || expr will evaluate expr only if cond is false.\n",
    "=#\n",
    "x < 0 || (y = sqrt(x))"
   ]
  },
  {
   "cell_type": "code",
   "execution_count": 26,
   "metadata": {},
   "outputs": [
    {
     "name": "stdout",
     "output_type": "stream",
     "text": [
      "√1.44 = 1.2\n"
     ]
    }
   ],
   "source": [
    "x = 1.44\n",
    "if x >= 0\n",
    "    y = sqrt(x)\n",
    "    println(\"√$x = $y\")\n",
    "end"
   ]
  },
  {
   "cell_type": "code",
   "execution_count": 27,
   "metadata": {},
   "outputs": [
    {
     "name": "stdout",
     "output_type": "stream",
     "text": [
      "√-1.44 = 1.2 * i\n"
     ]
    }
   ],
   "source": [
    "x = -1.44\n",
    "if x >= 0\n",
    "    y = sqrt(x)\n",
    "    println(\"√$x = $y\")\n",
    "else\n",
    "    y = sqrt(-x)\n",
    "    println(\"√$x = $y * i\")\n",
    "end"
   ]
  },
  {
   "cell_type": "code",
   "execution_count": 28,
   "metadata": {},
   "outputs": [
    {
     "name": "stdout",
     "output_type": "stream",
     "text": [
      "adult\n"
     ]
    }
   ],
   "source": [
    "age = 25\n",
    "if age < 18\n",
    "    println(\"not an adult\")\n",
    "elseif age < 60\n",
    "    println(\"adult\")\n",
    "else\n",
    "    println(\"senior\")\n",
    "end"
   ]
  },
  {
   "cell_type": "code",
   "execution_count": 29,
   "metadata": {},
   "outputs": [
    {
     "data": {
      "text/plain": [
       "1.2"
      ]
     },
     "metadata": {},
     "output_type": "display_data"
    }
   ],
   "source": [
    "x = -1.44\n",
    "y = x >= 0 ? sqrt(x) : sqrt(-x)"
   ]
  },
  {
   "cell_type": "code",
   "execution_count": 30,
   "metadata": {},
   "outputs": [
    {
     "ename": "DomainError",
     "evalue": "DomainError with -1.44:\nsqrt will only return a complex result if called with a complex argument. Try sqrt(Complex(x)).",
     "output_type": "error",
     "traceback": [
      "DomainError with -1.44:\n",
      "sqrt will only return a complex result if called with a complex argument. Try sqrt(Complex(x)).\n",
      "\n",
      "Stacktrace:\n",
      " [1] throw_complex_domainerror(f::Symbol, x::Float64)\n",
      "   @ Base.Math ./math.jl:33\n",
      " [2] sqrt(x::Float64)\n",
      "   @ Base.Math ./math.jl:677\n",
      " [3] top-level scope\n",
      "   @ ~/Documents/GitHub/Enrichment/Julia/HelloWorld.ipynb:2"
     ]
    }
   ],
   "source": [
    "x = -1.44\n",
    "y = ifelse(x >= 0, sqrt(x), sqrt(-x))"
   ]
  },
  {
   "cell_type": "markdown",
   "metadata": {},
   "source": [
    "### Loops"
   ]
  },
  {
   "cell_type": "markdown",
   "metadata": {},
   "source": [
    "```julia\n",
    "for loopvar = a:b\n",
    "    # do something\n",
    "end\n",
    "```"
   ]
  },
  {
   "cell_type": "code",
   "execution_count": 31,
   "metadata": {},
   "outputs": [
    {
     "name": "stdout",
     "output_type": "stream",
     "text": [
      "i = 1, i^3 = 1\n",
      "i = 2, i^3 = 8\n",
      "i = 3, i^3 = 27\n"
     ]
    }
   ],
   "source": [
    "for i = 1:3\n",
    "    y = i^3\n",
    "    println(\"i = $i, i^3 = $y\")\n",
    "end"
   ]
  },
  {
   "cell_type": "code",
   "execution_count": 32,
   "metadata": {},
   "outputs": [
    {
     "name": "stdout",
     "output_type": "stream",
     "text": [
      "120"
     ]
    }
   ],
   "source": [
    "n = 5; p = 1\n",
    "for i = 1:n\n",
    "    global p\n",
    "    p *= i\n",
    "end\n",
    "print(p)"
   ]
  },
  {
   "cell_type": "code",
   "execution_count": 36,
   "metadata": {},
   "outputs": [
    {
     "name": "stdout",
     "output_type": "stream",
     "text": [
      "1×1=1 \n",
      "2×1=2 2×2=4 \n",
      "3×1=3 3×2=6 3×3=9 "
     ]
    },
    {
     "name": "stdout",
     "output_type": "stream",
     "text": [
      "\n",
      "4×1=4 4×2=8 4×3=12 4×4=16 \n",
      "5×1=5 5×2=10 5×3=15 5×4=20 5×5=25 \n",
      "6×1=6 6×2=12 6×3=18 6×4=24 6×5=30 6×6=36 \n",
      "7×1=7 7×2=14 7×3=21 7×4=28 7×5=35 7×6=42 7×7=49 \n",
      "8×1=8 8×2=16 8×3=24 8×4=32 8×5=40 8×6=48 8×7=56 8×8=64 \n",
      "9×1=9 9×2=18 9×3=27 9×4=36 9×5=45 9×6=54 9×7=63 9×8=72 9×9=81 \n"
     ]
    }
   ],
   "source": [
    "for i = 1:9\n",
    "    for j = 1:i\n",
    "        print(\"$i×$j=$(i*j) \")\n",
    "    end\n",
    "    println()\n",
    "end"
   ]
  },
  {
   "cell_type": "code",
   "execution_count": 37,
   "metadata": {},
   "outputs": [
    {
     "name": "stdout",
     "output_type": "stream",
     "text": [
      "1×1=1 \n",
      "2×1=2 2×2=4 \n",
      "3×1=3 3×2=6 3×3=9 \n",
      "4×1=4 4×2=8 4×3=12 4×4=16 \n",
      "5×1=5 5×2=10 5×3=15 5×4=20 5×5=25 \n",
      "6×1=6 6×2=12 6×3=18 6×4=24 6×5=30 6×6=36 \n",
      "7×1=7 7×2=14 7×3=21 7×4=28 7×5=35 7×6=42 7×7=49 \n",
      "8×1=8 8×2=16 8×3=24 8×4=32 8×5=40 8×6=48 8×7=56 8×8=64 \n",
      "9×1=9 9×2=18 9×3=27 9×4=36 9×5=45 9×6=54 9×7=63 9×8=72 9×9=81 \n"
     ]
    }
   ],
   "source": [
    "for i = 1:9, j = 1:i\n",
    "    print(\"$i×$j=$(i*j) \")\n",
    "    j == i && println()\n",
    "end"
   ]
  },
  {
   "cell_type": "code",
   "execution_count": 38,
   "metadata": {},
   "outputs": [
    {
     "name": "stdout",
     "output_type": "stream",
     "text": [
      "120\n"
     ]
    }
   ],
   "source": [
    "s = 1; i = 0\n",
    "while i < 5\n",
    "    global i, s\n",
    "    i += 1\n",
    "    s *= i\n",
    "end\n",
    "println(s)"
   ]
  },
  {
   "cell_type": "markdown",
   "metadata": {},
   "source": [
    "***Example***: \n",
    "\n",
    "\n",
    "Find the greatest common divisor of two numbers:\n",
    "\n",
    "$$\n",
    "210 \\mod 24 = 18 \\\\\n",
    "24 \\mod 18 = 6 \\\\\n",
    "18 \\mod 6 = 0\n",
    "$$\n",
    "\n",
    "Then, the gcd is 6."
   ]
  },
  {
   "cell_type": "code",
   "execution_count": 44,
   "metadata": {},
   "outputs": [
    {
     "name": "stdout",
     "output_type": "stream",
     "text": [
      "6\n"
     ]
    }
   ],
   "source": [
    "function mygcd(m::Int, n::Int)\n",
    "    local r\n",
    "    while n ≠ 0\n",
    "        r = m % n\n",
    "        m, n = n, r\n",
    "    end\n",
    "    return m\n",
    "end\n",
    "\n",
    "println(mygcd(210, 24))"
   ]
  },
  {
   "cell_type": "markdown",
   "metadata": {},
   "source": [
    "***Example:***\n",
    "\n",
    "Find the square root of a number is equivalent to find the root of the following equation:\n",
    "\n",
    "$$\n",
    "f(u)=u^2-x=0\n",
    "$$\n",
    "\n",
    "With the Newton's method, we can find the root of the equation:\n",
    "\n",
    "$$\n",
    "u_n = u_{n-1} - \\dfrac{f(u_{n-1})}{f'(u_{n-1})} = u_{n-1}=\\dfrac{u_{n-1}^2-x}{2u_{n-1}}=\\dfrac{1}{2}\\left(u_{n-1}+\\dfrac{x}{u_{n-1}}\\right)\n",
    "$$\n",
    "\n",
    "Given an initial value $u_0$, we repeat the above process until $\\left|u_n-u_{n-1}\\right|\\leq\\epsilon$, where $\\epsilon$ is a small number such as $10^{-6}$."
   ]
  },
  {
   "cell_type": "code",
   "execution_count": 49,
   "metadata": {},
   "outputs": [
    {
     "name": "stdout",
     "output_type": "stream",
     "text": [
      "1.414213562373095\n"
     ]
    }
   ],
   "source": [
    "function mysqrt(x::Real, eps::Float64=1E-6)\n",
    "    u = 1.0\n",
    "    u1 = 0.0\n",
    "    while abs(u - u1) >= eps\n",
    "        u1 = u\n",
    "        u = 0.5 * (u + x/u)\n",
    "    end\n",
    "    return u\n",
    "end\n",
    "\n",
    "println(mysqrt(2))"
   ]
  },
  {
   "cell_type": "markdown",
   "metadata": {},
   "source": [
    "***Example:***\n",
    "\n",
    "Mathematician Srinivasa Ramanujan found an infinite series that can be used to generate a numerical approximation of $1/\\pi$:\n",
    "\n",
    "$$\n",
    "\\dfrac{1}{\\pi}= \\dfrac{2\\sqrt{2}}{9801}\\sum_{k=0}^{\\infty}\\dfrac{(4k)!(1103+26390k)}{(k!)^4 396^{4k}}\n",
    "$$"
   ]
  },
  {
   "cell_type": "code",
   "execution_count": 51,
   "metadata": {},
   "outputs": [
    {
     "name": "stdout",
     "output_type": "stream",
     "text": [
      "k = 2, estimate = 0.3183098861837907\n",
      "Error = s - 1/π = 0.0\n"
     ]
    }
   ],
   "source": [
    "k = 0; x = 2*sqrt(2)/9801; y = 1103\n",
    "z = x*y\n",
    "s = z\n",
    "while z > 1E-15\n",
    "    k += 1\n",
    "    k4 = 4*k\n",
    "    x *= k4*(k4-1)*(k4-2)*(k4-3)/k^4/396^4\n",
    "    y += 26390\n",
    "    z = x*y\n",
    "    s += z\n",
    "end\n",
    "\n",
    "println(\"k = $k, estimate = $s\")\n",
    "println(\"Error = s - 1/π = $(s - 1/π)\")"
   ]
  },
  {
   "cell_type": "markdown",
   "metadata": {},
   "source": [
    "```julia\n",
    "while true\n",
    "    # do something\n",
    "    cond && break\n",
    "end\n",
    "```"
   ]
  },
  {
   "cell_type": "markdown",
   "metadata": {},
   "source": [
    "***Example:***\n",
    "\n",
    "To estimate the value of $\\log(1+x)$, we can use Tyalor's series:\n",
    "\n",
    "$$\n",
    "\\log(1+x)=x+\\sum_{k=2}^\\infty(-1)^{k-1}\\dfrac{x^k}{k}\n",
    "$$\n",
    "\n",
    "In practice, we cannot evaluate the infinite series. Instead, we will set some level of precision such as `eps = 0.0001`."
   ]
  },
  {
   "cell_type": "code",
   "execution_count": 1,
   "metadata": {},
   "outputs": [
    {
     "name": "stdout",
     "output_type": "stream",
     "text": [
      "esp = 0.0001, log(1+1.0) = 0.6931971730609582, Iterations = 10001\n"
     ]
    }
   ],
   "source": [
    "eps = 0.0001; x = 1.0\n",
    "y = x; xk = x; sgn = 1; k =1\n",
    "\n",
    "while true\n",
    "    global k, sgn, xk, y, eps\n",
    "    k += 1; sgn *= -1; xk *= x\n",
    "    item = xk / k\n",
    "    y += sgn*item\n",
    "    item < eps && break\n",
    "end\n",
    "\n",
    "println(\"esp = $eps, log(1+$x) = $y, Iterations = $k\")"
   ]
  },
  {
   "cell_type": "code",
   "execution_count": 3,
   "metadata": {},
   "outputs": [
    {
     "name": "stdout",
     "output_type": "stream",
     "text": [
      "1\n",
      "1\n",
      "2\n",
      "4\n",
      "3\n",
      "4\n",
      "16\n",
      "5\n",
      "25\n"
     ]
    }
   ],
   "source": [
    "for i = 1:5\n",
    "    println(i)\n",
    "    if i == 3\n",
    "        continue\n",
    "    end\n",
    "    y = i*i\n",
    "    println(y)\n",
    "end"
   ]
  },
  {
   "cell_type": "markdown",
   "metadata": {},
   "source": [
    "### Defining Functions"
   ]
  },
  {
   "cell_type": "code",
   "execution_count": 4,
   "metadata": {},
   "outputs": [
    {
     "data": {
      "text/plain": [
       "f (generic function with 1 method)"
      ]
     },
     "metadata": {},
     "output_type": "display_data"
    }
   ],
   "source": [
    "f(x) = x^2 + 3x + 1"
   ]
  },
  {
   "cell_type": "code",
   "execution_count": 5,
   "metadata": {},
   "outputs": [
    {
     "data": {
      "text/plain": [
       "5.510000000000001"
      ]
     },
     "metadata": {},
     "output_type": "display_data"
    }
   ],
   "source": [
    "f(2)    ## 11\n",
    "f(1.1)"
   ]
  },
  {
   "cell_type": "code",
   "execution_count": null,
   "metadata": {},
   "outputs": [],
   "source": [
    "function mysum(A)\n",
    "    s = 0.0     # s = zero(eltype(A))\n",
    "    for a in A\n",
    "        s += a\n",
    "    end\n",
    "    s\n",
    "end"
   ]
  },
  {
   "cell_type": "markdown",
   "metadata": {},
   "source": [
    "***Example:***\n",
    "\n",
    "Write a function to calculate the standard deviation of a sample:\n",
    "\n",
    "$$\n",
    "s = \\sqrt{\\dfrac{1}{n-1}\\sum_{i=1}^n(x_i-x)^2}\n",
    "$$"
   ]
  },
  {
   "cell_type": "code",
   "execution_count": 6,
   "metadata": {},
   "outputs": [
    {
     "data": {
      "text/plain": [
       "mysd (generic function with 1 method)"
      ]
     },
     "metadata": {},
     "output_type": "display_data"
    }
   ],
   "source": [
    "# mysd: Input numeric vector x, output its sample standard deivation\n",
    "function mysd(x)\n",
    "    n = length(x)\n",
    "    mx = sum(x) / n\n",
    "    s = 0.0\n",
    "    for z in x\n",
    "        s += (z - mx)^2\n",
    "    end\n",
    "    sqrt(s/(n-1))\n",
    "end"
   ]
  },
  {
   "cell_type": "code",
   "execution_count": 7,
   "metadata": {},
   "outputs": [
    {
     "data": {
      "text/plain": [
       "1.5811388300841898"
      ]
     },
     "metadata": {},
     "output_type": "display_data"
    }
   ],
   "source": [
    "mysd([1, 2, 3, 4, 5])"
   ]
  },
  {
   "cell_type": "code",
   "execution_count": 10,
   "metadata": {},
   "outputs": [
    {
     "data": {
      "text/plain": [
       "vectorization (generic function with 1 method)"
      ]
     },
     "metadata": {},
     "output_type": "display_data"
    }
   ],
   "source": [
    "# vectorization\n",
    "function vectorization(x)\n",
    "    n = length(x)\n",
    "    mx = sum(x)/n\n",
    "    sqrt( sum(x .- mx) / (n-1) )\n",
    "  end"
   ]
  },
  {
   "cell_type": "code",
   "execution_count": 12,
   "metadata": {},
   "outputs": [
    {
     "data": {
      "text/plain": [
       "0.0"
      ]
     },
     "metadata": {},
     "output_type": "display_data"
    }
   ],
   "source": [
    "mysd_vectorization([1, 2, 3, 4, 5])\n",
    "# vectorization is not necessarily faster than loop,\n",
    "# especially in the case of Julia"
   ]
  },
  {
   "cell_type": "code",
   "execution_count": 13,
   "metadata": {},
   "outputs": [
    {
     "data": {
      "text/plain": [
       "f_quad (generic function with 4 methods)"
      ]
     },
     "metadata": {},
     "output_type": "display_data"
    }
   ],
   "source": [
    "f_quad(x, a=1, b=0, c=0) = a*x^2 + b*x + c"
   ]
  },
  {
   "cell_type": "code",
   "execution_count": 16,
   "metadata": {},
   "outputs": [
    {
     "data": {
      "text/plain": [
       "f_quad2 (generic function with 5 methods)"
      ]
     },
     "metadata": {},
     "output_type": "display_data"
    }
   ],
   "source": [
    "function f_quad2(x, a=1, b=0, c=0, descending=true)\n",
    "    if descending\n",
    "        return a*x^2 + b*x + c\n",
    "    else\n",
    "        return cx^2 + b*x + a\n",
    "    end\n",
    "end"
   ]
  },
  {
   "cell_type": "code",
   "execution_count": 18,
   "metadata": {},
   "outputs": [
    {
     "name": "stdout",
     "output_type": "stream",
     "text": [
      "(3.0, 11.0)\n"
     ]
    }
   ],
   "source": [
    "function summ(x)\n",
    "    xm = sum(x) / length(x)\n",
    "    xs = sum(x .^2) / length(x)\n",
    "    return xm, xs\n",
    "end\n",
    "\n",
    "res1, res2 = summ([1,2,3,4,5])\n",
    "println(\"($res1, $res2)\")"
   ]
  },
  {
   "cell_type": "markdown",
   "metadata": {},
   "source": [
    "## Data Structures in Julia"
   ]
  },
  {
   "cell_type": "code",
   "execution_count": null,
   "metadata": {},
   "outputs": [],
   "source": [
    "A = rand(10^7)\n",
    "mysum(A)"
   ]
  },
  {
   "cell_type": "code",
   "execution_count": null,
   "metadata": {},
   "outputs": [],
   "source": [
    "1 in [1, 2, 3]"
   ]
  },
  {
   "cell_type": "markdown",
   "metadata": {},
   "source": [
    "## Types in Julia"
   ]
  },
  {
   "cell_type": "code",
   "execution_count": null,
   "metadata": {},
   "outputs": [],
   "source": [
    "is_even(x::Int) = x % 2 == 0\n",
    "\n",
    "is_even(2)"
   ]
  },
  {
   "cell_type": "markdown",
   "metadata": {},
   "source": [
    "## Arrays and Multidimensional Arrays"
   ]
  },
  {
   "cell_type": "code",
   "execution_count": null,
   "metadata": {},
   "outputs": [],
   "source": [
    "rand(10)"
   ]
  },
  {
   "cell_type": "code",
   "execution_count": null,
   "metadata": {},
   "outputs": [],
   "source": [
    "rand(10, 20)"
   ]
  },
  {
   "cell_type": "code",
   "execution_count": null,
   "metadata": {},
   "outputs": [],
   "source": [
    "rand(10, 20, 30)"
   ]
  },
  {
   "cell_type": "code",
   "execution_count": null,
   "metadata": {},
   "outputs": [],
   "source": [
    "rand(Int, 10)\n",
    "rand(Int, 10, 20)\n",
    "rand(Int, 10, 20, 30)"
   ]
  },
  {
   "cell_type": "code",
   "execution_count": null,
   "metadata": {},
   "outputs": [],
   "source": [
    "[i for i in 1:10]"
   ]
  },
  {
   "cell_type": "code",
   "execution_count": null,
   "metadata": {},
   "outputs": [],
   "source": [
    "[(i, j) for i in 1:5, j in 1:6]"
   ]
  },
  {
   "cell_type": "markdown",
   "metadata": {},
   "source": [
    "### Tuples"
   ]
  },
  {
   "cell_type": "code",
   "execution_count": null,
   "metadata": {},
   "outputs": [],
   "source": [
    "info = (name=\"Roger\", age=\"0\", wechat=\"不告诉你\")"
   ]
  },
  {
   "cell_type": "code",
   "execution_count": null,
   "metadata": {},
   "outputs": [],
   "source": [
    "println(info.name)\n",
    "println(info.age)\n",
    "println(info.wechat)"
   ]
  },
  {
   "cell_type": "markdown",
   "metadata": {},
   "source": [
    "## Broadcasting"
   ]
  },
  {
   "cell_type": "code",
   "execution_count": null,
   "metadata": {},
   "outputs": [],
   "source": [
    "sin.(A)"
   ]
  },
  {
   "cell_type": "markdown",
   "metadata": {},
   "source": [
    "## Data type: Complex Numbers"
   ]
  },
  {
   "cell_type": "code",
   "execution_count": null,
   "metadata": {},
   "outputs": [],
   "source": [
    "1 + 1im"
   ]
  },
  {
   "cell_type": "code",
   "execution_count": null,
   "metadata": {},
   "outputs": [],
   "source": [
    "struct MyComplex\n",
    "    real::Float64\n",
    "    imag::Float64\n",
    "end\n",
    "\n",
    "# A complex number is an object of tpe MyComplex\n",
    "a = MyComplex(1.0, 2.0)"
   ]
  },
  {
   "cell_type": "code",
   "execution_count": null,
   "metadata": {},
   "outputs": [],
   "source": [
    "# Refine definitions of * for complex numbers\n",
    "import Base: *\n",
    "\n",
    "*(a::MyComplex, b::MyComplex) = MyComplex(a.real * b.real - a.imag * b.imag, a.real * b.imag + a.imag * b.real)"
   ]
  },
  {
   "cell_type": "code",
   "execution_count": null,
   "metadata": {},
   "outputs": [],
   "source": [
    "b = MyComplex(3.0, 4.0)\n",
    "a * b"
   ]
  },
  {
   "cell_type": "code",
   "execution_count": null,
   "metadata": {},
   "outputs": [],
   "source": [
    "# Refine the show method (toString method in Java)\n",
    "import Base: show\n",
    "\n",
    "show(io::IO, ::MIME\"text/plain\", x::MyComplex) = print(io, \"$(x.real) + $(x.imag)im\")"
   ]
  },
  {
   "cell_type": "code",
   "execution_count": null,
   "metadata": {},
   "outputs": [],
   "source": [
    "a * b"
   ]
  },
  {
   "cell_type": "code",
   "execution_count": null,
   "metadata": {},
   "outputs": [],
   "source": [
    "# Parameterized types\n",
    "struct MyComplex2{T <: Real}\n",
    "    real::T\n",
    "    imag::T\n",
    "end\n",
    "\n",
    "MyComplex2{Float32}(1.0f0, 2.0f0)"
   ]
  },
  {
   "cell_type": "code",
   "execution_count": null,
   "metadata": {},
   "outputs": [],
   "source": [
    "# Define a constructor\n",
    "struct MyComplex3{T <: Real}\n",
    "    real::T\n",
    "    imag::T\n",
    "\n",
    "    MyComplex3(real::T) where {T <: Real} = new{T}(real, 0)\n",
    "end\n",
    "\n",
    "MyComplex3(1.0)"
   ]
  },
  {
   "cell_type": "markdown",
   "metadata": {},
   "source": [
    "## Overloading Methods"
   ]
  },
  {
   "cell_type": "code",
   "execution_count": null,
   "metadata": {},
   "outputs": [],
   "source": [
    "abstract type TypeA end\n",
    "\n",
    "struct TypeB <: TypeA end\n",
    "struct TypeC <: TypeA end\n",
    "\n",
    "wooo(a1::TypeA, a2::TypeA) = println(\"A/A\")\n",
    "wooo(a::TypeA, b::TypeB) = println(\"A/B\")\n",
    "\n",
    "callme(a1::TypeA, a2::TypeA) = wooo(a1, a2)\n",
    "\n",
    "b = TypeB(); c = TypeC();\n",
    "callme(c, b)"
   ]
  },
  {
   "cell_type": "code",
   "execution_count": null,
   "metadata": {},
   "outputs": [],
   "source": [
    "wooo(a1::TypeA, a2::TypeA) = println(\"A/A\")"
   ]
  }
 ],
 "metadata": {
  "kernelspec": {
   "display_name": "Julia 1.9.4",
   "language": "julia",
   "name": "julia-1.9"
  },
  "language_info": {
   "file_extension": ".jl",
   "mimetype": "application/julia",
   "name": "julia",
   "version": "1.9.4"
  }
 },
 "nbformat": 4,
 "nbformat_minor": 2
}

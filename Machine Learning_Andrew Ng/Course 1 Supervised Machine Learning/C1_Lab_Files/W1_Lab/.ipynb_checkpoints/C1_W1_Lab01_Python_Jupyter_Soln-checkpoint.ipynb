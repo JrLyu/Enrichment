{
 "cells": [
  {
   "cell_type": "markdown",
   "id": "9911338b",
   "metadata": {
    "toc": true
   },
   "source": [
    "<h1>Table of Contents<span class=\"tocSkip\"></span></h1>\n",
    "<div class=\"toc\"><ul class=\"toc-item\"><li><span><a href=\"#Optional-Lab:--Brief-Introduction-to-Python-and-Jupyter-Notebooks\" data-toc-modified-id=\"Optional-Lab:--Brief-Introduction-to-Python-and-Jupyter-Notebooks-1\"><span class=\"toc-item-num\">1&nbsp;&nbsp;</span>Optional Lab:  Brief Introduction to Python and Jupyter Notebooks</a></span><ul class=\"toc-item\"><li><span><a href=\"#Goals\" data-toc-modified-id=\"Goals-1.1\"><span class=\"toc-item-num\">1.1&nbsp;&nbsp;</span>Goals</a></span></li><li><span><a href=\"#Python\" data-toc-modified-id=\"Python-1.2\"><span class=\"toc-item-num\">1.2&nbsp;&nbsp;</span>Python</a></span><ul class=\"toc-item\"><li><span><a href=\"#Print-statement\" data-toc-modified-id=\"Print-statement-1.2.1\"><span class=\"toc-item-num\">1.2.1&nbsp;&nbsp;</span>Print statement</a></span></li></ul></li></ul></li><li><span><a href=\"#Congratulations!\" data-toc-modified-id=\"Congratulations!-2\"><span class=\"toc-item-num\">2&nbsp;&nbsp;</span>Congratulations!</a></span></li></ul></div>"
   ]
  },
  {
   "cell_type": "markdown",
   "id": "0b0ff34c",
   "metadata": {},
   "source": [
    "# Optional Lab:  Brief Introduction to Python and Jupyter Notebooks\n",
    "Welcome to the first optional lab! \n",
    "Optional labs are available to:\n",
    "- provide information - like this notebook\n",
    "- reinforce lecture material with hands-on examples\n",
    "- provide working examples of routines used in the graded labs"
   ]
  },
  {
   "cell_type": "markdown",
   "id": "03c5ce6b",
   "metadata": {},
   "source": [
    "## Goals\n",
    "In this lab, you will:\n",
    "- Get a brief introduction to Jupyter notebooks\n",
    "- Take a tour of Jupyter notebooks\n",
    "- Learn the difference between markdown cells and code cells\n",
    "- Practice some basic python\n"
   ]
  },
  {
   "cell_type": "markdown",
   "id": "01486406",
   "metadata": {},
   "source": [
    "The easiest way to become familiar with Jupyter notebooks is to take the tour available above in the Help menu:"
   ]
  },
  {
   "cell_type": "markdown",
   "id": "5db232b5",
   "metadata": {},
   "source": [
    "<figure>\n",
    "    <center> <img src=\"./images/C1W1L1_Tour.PNG\"  alt='missing' width=\"400\"  ><center/>\n",
    "<figure/>"
   ]
  },
  {
   "cell_type": "markdown",
   "id": "3572dff2",
   "metadata": {},
   "source": [
    "Jupyter notebooks have two types of cells that are used in this course. Cells such as this which contain documentation called `Markdown Cells`. The name is derived from the simple formatting language used in the cells. You will not be required to produce markdown cells. Its useful to understand the `cell pulldown` shown in graphic below. Occasionally, a cell will end up in the wrong mode and you may need to restore it to the right state:"
   ]
  },
  {
   "cell_type": "markdown",
   "id": "91373015",
   "metadata": {},
   "source": [
    "<figure>\n",
    "   <img src=\"./images/C1W1L1_Markdown.PNG\"  alt='missing' width=\"400\"  >\n",
    "<figure/>"
   ]
  },
  {
   "cell_type": "markdown",
   "id": "5963aad8",
   "metadata": {},
   "source": [
    "The other type of cell is the `code cell` where you will write your code:"
   ]
  },
  {
   "cell_type": "code",
   "execution_count": 1,
   "id": "d971881c",
   "metadata": {},
   "outputs": [
    {
     "name": "stdout",
     "output_type": "stream",
     "text": [
      "This is  code cell\n"
     ]
    }
   ],
   "source": [
    "#This is  a 'Code' Cell\n",
    "print(\"This is  code cell\")"
   ]
  },
  {
   "cell_type": "markdown",
   "id": "7b8733b6",
   "metadata": {},
   "source": [
    "## Python\n",
    "You can write your code in the code cells. \n",
    "To run the code, select the cell and either\n",
    "- hold the shift-key down and hit 'enter' or 'return'\n",
    "- click the 'run' arrow above\n",
    "<figure>\n",
    "    <img src=\"./images/C1W1L1_Run.PNG\"  width=\"400\"  >\n",
    "<figure/>\n",
    "\n",
    " "
   ]
  },
  {
   "cell_type": "markdown",
   "id": "8dc43276",
   "metadata": {},
   "source": [
    "### Print statement\n",
    "Print statements will generally use the python f-string style.  \n",
    "Try creating your own print in the following cell.  \n",
    "Try both methods of running the cell."
   ]
  },
  {
   "cell_type": "code",
   "execution_count": 2,
   "id": "9bae4977",
   "metadata": {},
   "outputs": [
    {
     "name": "stdout",
     "output_type": "stream",
     "text": [
      "f strings allow you to embed variables right in the strings!\n"
     ]
    }
   ],
   "source": [
    "# print statements\n",
    "variable = \"right in the strings!\"\n",
    "print(f\"f strings allow you to embed variables {variable}\")"
   ]
  },
  {
   "cell_type": "markdown",
   "id": "1c783fb5",
   "metadata": {},
   "source": [
    "# Congratulations!\n",
    "You now know how to find your way around a Jupyter Notebook."
   ]
  }
 ],
 "metadata": {
  "kernelspec": {
   "display_name": "Python 3 (ipykernel)",
   "language": "python",
   "name": "python3"
  },
  "language_info": {
   "codemirror_mode": {
    "name": "ipython",
    "version": 3
   },
   "file_extension": ".py",
   "mimetype": "text/x-python",
   "name": "python",
   "nbconvert_exporter": "python",
   "pygments_lexer": "ipython3",
   "version": "3.9.12"
  },
  "latex_envs": {
   "LaTeX_envs_menu_present": true,
   "autoclose": false,
   "autocomplete": false,
   "bibliofile": "biblio.bib",
   "cite_by": "apalike",
   "current_citInitial": 1,
   "eqLabelWithNumbers": true,
   "eqNumInitial": 1,
   "hotkeys": {
    "equation": "Ctrl-E",
    "itemize": "Ctrl-I"
   },
   "labels_anchors": false,
   "latex_user_defs": false,
   "report_style_numbering": false,
   "user_envs_cfg": false
  },
  "toc": {
   "base_numbering": 1,
   "nav_menu": {},
   "number_sections": true,
   "sideBar": true,
   "skip_h1_title": false,
   "title_cell": "Table of Contents",
   "title_sidebar": "Contents",
   "toc_cell": true,
   "toc_position": {},
   "toc_section_display": true,
   "toc_window_display": false
  },
  "varInspector": {
   "cols": {
    "lenName": 16,
    "lenType": 16,
    "lenVar": 40
   },
   "kernels_config": {
    "python": {
     "delete_cmd_postfix": "",
     "delete_cmd_prefix": "del ",
     "library": "var_list.py",
     "varRefreshCmd": "print(var_dic_list())"
    },
    "r": {
     "delete_cmd_postfix": ") ",
     "delete_cmd_prefix": "rm(",
     "library": "var_list.r",
     "varRefreshCmd": "cat(var_dic_list()) "
    }
   },
   "types_to_exclude": [
    "module",
    "function",
    "builtin_function_or_method",
    "instance",
    "_Feature"
   ],
   "window_display": false
  }
 },
 "nbformat": 4,
 "nbformat_minor": 5
}

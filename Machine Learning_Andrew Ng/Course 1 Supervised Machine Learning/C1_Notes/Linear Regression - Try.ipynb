{
 "cells": [
  {
   "cell_type": "markdown",
   "id": "d972e6cb",
   "metadata": {},
   "source": [
    "# Linear Regression - Try"
   ]
  },
  {
   "cell_type": "markdown",
   "id": "035882f3",
   "metadata": {},
   "source": [
    "## Preparation"
   ]
  },
  {
   "cell_type": "markdown",
   "id": "f0eb9ce6",
   "metadata": {},
   "source": [
    "### Importing relevant packages:"
   ]
  },
  {
   "cell_type": "code",
   "execution_count": 2,
   "id": "c3a52278",
   "metadata": {},
   "outputs": [],
   "source": [
    "import copy, math\n",
    "import numpy as np\n",
    "import matplotlib.pyplot as plt"
   ]
  },
  {
   "cell_type": "markdown",
   "id": "e5bc4bc2",
   "metadata": {},
   "source": [
    "### Defining the data"
   ]
  },
  {
   "cell_type": "code",
   "execution_count": 3,
   "id": "46b422aa",
   "metadata": {},
   "outputs": [],
   "source": [
    "x_train = np.array([1.2, 2.5, 3.9, 5.4, 6.8, 8.1, 9.3, 10.3])\n",
    "y_train = np.array([5.9, 6.8, 7.2, 7.7, 8.4, 9.1, 9.5, 9.8])"
   ]
  },
  {
   "cell_type": "code",
   "execution_count": 4,
   "id": "9a4dd848",
   "metadata": {},
   "outputs": [
    {
     "name": "stdout",
     "output_type": "stream",
     "text": [
      "X Shape: (8,), X Type:<class 'numpy.ndarray'>)\n",
      "[ 1.2  2.5  3.9  5.4  6.8  8.1  9.3 10.3]\n",
      "y Shape: (8,), y Type:<class 'numpy.ndarray'>)\n",
      "[5.9 6.8 7.2 7.7 8.4 9.1 9.5 9.8]\n"
     ]
    }
   ],
   "source": [
    "print(f\"X Shape: {x_train.shape}, X Type:{type(x_train)})\")\n",
    "print(x_train)\n",
    "print(f\"y Shape: {y_train.shape}, y Type:{type(y_train)})\")\n",
    "print(y_train)"
   ]
  },
  {
   "cell_type": "markdown",
   "id": "e908f322",
   "metadata": {},
   "source": [
    "### Define the initial w and b"
   ]
  },
  {
   "cell_type": "code",
   "execution_count": 5,
   "id": "b4f0a648",
   "metadata": {},
   "outputs": [],
   "source": [
    "w_init = 1\n",
    "b_init = 0"
   ]
  },
  {
   "cell_type": "markdown",
   "id": "3f0762bd",
   "metadata": {},
   "source": [
    "### (Optional) Z-Score Normalization to make the machine learning process faster"
   ]
  },
  {
   "cell_type": "code",
   "execution_count": 6,
   "id": "64bc1c1a",
   "metadata": {},
   "outputs": [],
   "source": [
    "def z_score_normal(x):\n",
    "    mu = np.mean(x)\n",
    "    sgm = np.std(x)\n",
    "    x_z = (x - mu) / sgm\n",
    "    return x_z"
   ]
  },
  {
   "cell_type": "code",
   "execution_count": 7,
   "id": "85eb41e1",
   "metadata": {},
   "outputs": [
    {
     "name": "stdout",
     "output_type": "stream",
     "text": [
      "[-1.55287446 -1.12675587 -0.66785893 -0.17618365  0.28271329  0.70883188\n",
      "  1.10217211  1.42995563]\n",
      "[-1.65999659 -0.9651143  -0.65627772 -0.270232    0.270232    0.81069601\n",
      "  1.11953258  1.35116001]\n"
     ]
    }
   ],
   "source": [
    "x_z = z_score_normal(x_train)\n",
    "y_z = z_score_normal(y_train)\n",
    "print(x_z)\n",
    "print(y_z)"
   ]
  },
  {
   "cell_type": "markdown",
   "id": "2ce6b2c5",
   "metadata": {},
   "source": [
    "### Plot the data onto a scatter plot"
   ]
  },
  {
   "cell_type": "code",
   "execution_count": 8,
   "id": "f319070b",
   "metadata": {},
   "outputs": [
    {
     "data": {
      "image/png": "[encoded data removed]",
      "text/plain": [
       "<Figure size 432x288 with 2 Axes>"
      ]
     },
     "metadata": {
      "needs_background": "light"
     },
     "output_type": "display_data"
    }
   ],
   "source": [
    "fig = plt.figure(1)\n",
    "ax1=plt.subplot(2,1,1)\n",
    "plt.scatter(x_train,y_train,marker='o')\n",
    "plt.xlabel(\"x trained\")\n",
    "plt.ylabel(\"y trained\")\n",
    "plt.title('y train vs. x train')\n",
    "ax2=plt.subplot(2,1,2)\n",
    "plt.scatter(x_z,y_z,color=\"r\",marker=\"*\",linestyle=\"dashed\")\n",
    "plt.xlabel(\"x_z normalized\")\n",
    "plt.ylabel(\"y_z normalized\")\n",
    "plt.title('y normalized vs. x normalized')\n",
    "plt.subplots_adjust(wspace=0,hspace=1)\n",
    "plt.show()"
   ]
  },
  {
   "cell_type": "markdown",
   "id": "f7f161f0",
   "metadata": {},
   "source": [
    "## Set up the model"
   ]
  },
  {
   "cell_type": "code",
   "execution_count": 9,
   "id": "da43ab3e",
   "metadata": {},
   "outputs": [],
   "source": [
    "def predict(x,w,b):\n",
    "    p = w * x + b\n",
    "    return p"
   ]
  },
  {
   "cell_type": "code",
   "execution_count": 21,
   "id": "2357a538",
   "metadata": {},
   "outputs": [
    {
     "data": {
      "text/plain": [
       "Text(0.5, 1.0, 'y train vs. x train')"
      ]
     },
     "execution_count": 21,
     "metadata": {},
     "output_type": "execute_result"
    },
    {
     "data": {
      "image/png": "[encoded data removed]",
      "text/plain": [
       "<Figure size 432x288 with 1 Axes>"
      ]
     },
     "metadata": {
      "needs_background": "light"
     },
     "output_type": "display_data"
    }
   ],
   "source": [
    "f_wb = predict(x_train,w_init,b_init)\n",
    "plt.scatter(x_train,y_train,marker='o')\n",
    "plt.plot(x_train,f_wb,marker='o',markersize=0.1,color=\"r\")\n",
    "plt.xlabel(\"x trained\")\n",
    "plt.ylabel(\"y trained\")\n",
    "plt.title('y train vs. x train')"
   ]
  },
  {
   "cell_type": "markdown",
   "id": "17a1ebe7",
   "metadata": {},
   "source": [
    "### Set up the cost function"
   ]
  },
  {
   "cell_type": "code",
   "execution_count": 11,
   "id": "f29a5f6b",
   "metadata": {},
   "outputs": [],
   "source": [
    "def compute_cost(x,y,w,b):\n",
    "    m = x.shape[0]\n",
    "    cost = 0.0\n",
    "    for i in range(m):\n",
    "        f_wb_i = predict(x[i],w,b)\n",
    "        cost = cost + (f_wb_i - y[i])**2\n",
    "    cost = cost / (2*m)\n",
    "    return cost"
   ]
  },
  {
   "cell_type": "code",
   "execution_count": 12,
   "id": "4410db69",
   "metadata": {},
   "outputs": [
    {
     "name": "stdout",
     "output_type": "stream",
     "text": [
      "Cost at initial w : 3.788125\n"
     ]
    }
   ],
   "source": [
    "cost = compute_cost(x_train, y_train, w_init, b_init)\n",
    "print(f'Cost at initial w : {cost}')"
   ]
  },
  {
   "cell_type": "markdown",
   "id": "eff4e195",
   "metadata": {},
   "source": [
    "### Set up the Gradient Descent"
   ]
  },
  {
   "cell_type": "code",
   "execution_count": 13,
   "id": "cf4f610f",
   "metadata": {},
   "outputs": [],
   "source": [
    "def compute_gradient(x,y,w,b):\n",
    "    m = x.shape[0]\n",
    "    dj_dw = 0.0\n",
    "    dj_db = 0.0\n",
    "    for i in range(m):\n",
    "        f_wb_i = predict(x[i],w,b)\n",
    "        dj_dw = dj_dw + (f_wb_i - y[i]) * x[i]\n",
    "        dj_db = dj_db + (f_wb_i - y[i])\n",
    "    dj_dw = dj_dw / m\n",
    "    dj_db = dj_db / m\n",
    "    return dj_dw, dj_db"
   ]
  },
  {
   "cell_type": "code",
   "execution_count": 14,
   "id": "a8ad8d4d",
   "metadata": {},
   "outputs": [
    {
     "name": "stdout",
     "output_type": "stream",
     "text": [
      "dj_db at initial w,b: -2.1125000000000003\n",
      "dj_dw at initial w,b: -7.17125\n"
     ]
    }
   ],
   "source": [
    "tmp_dj_dw, tmp_dj_db = compute_gradient(x_train, y_train, w_init, b_init)\n",
    "print(f'dj_db at initial w,b: {tmp_dj_db}')\n",
    "print(f'dj_dw at initial w,b: {tmp_dj_dw}')"
   ]
  },
  {
   "cell_type": "code",
   "execution_count": 15,
   "id": "cfd51ade",
   "metadata": {},
   "outputs": [],
   "source": [
    "def gradient_descent(x,y,w_int,b_int,cost_func,gradient_func,alpha,iteration): \n",
    "    w = copy.deepcopy(w_int)\n",
    "    b = b_int\n",
    "    J = cost_func(x,y,w_int,b_int)\n",
    "    for i in range(iteration):\n",
    "        dj_dw,dj_db = gradient_func(x,y,w,b)\n",
    "        w = w - alpha * dj_dw\n",
    "        b = b - alpha * dj_db\n",
    "        J = cost_func(x,y,w,b)\n",
    "        if i% math.ceil(iteration / 10) == 0:\n",
    "            print(f\"Iteration {i:4d}: Cost {J}\")\n",
    "    return w,b,J"
   ]
  },
  {
   "cell_type": "markdown",
   "id": "36dc2cc9",
   "metadata": {},
   "source": [
    "### Test the implement"
   ]
  },
  {
   "cell_type": "code",
   "execution_count": 16,
   "id": "03626bbf",
   "metadata": {},
   "outputs": [
    {
     "name": "stdout",
     "output_type": "stream",
     "text": [
      "Iteration    0: Cost 3.5396276341963144\n",
      "Iteration 1000: Cost 0.41388970025843985\n",
      "Iteration 2000: Cost 0.058919290052385005\n",
      "Iteration 3000: Cost 0.013364378202553005\n",
      "Iteration 4000: Cost 0.007518116277675127\n",
      "Iteration 5000: Cost 0.006767839806787594\n",
      "Iteration 6000: Cost 0.006671553531899341\n",
      "Iteration 7000: Cost 0.006659196691332465\n",
      "Iteration 8000: Cost 0.006657610883708547\n",
      "Iteration 9000: Cost 0.006657407370050952\n",
      "b,w found by gradient descent: 5.54,0.42287729023548026 \n"
     ]
    }
   ],
   "source": [
    "initial_w = 1\n",
    "initial_b = 0\n",
    "alpha = 5e-3\n",
    "iteration = 10000\n",
    "\n",
    "w_final, b_final,J = gradient_descent(x_train, y_train, initial_w, initial_b,\n",
    "                                                    compute_cost, compute_gradient, \n",
    "                                                    alpha, iteration)\n",
    "print(f\"b,w found by gradient descent: {b_final:0.2f},{w_final} \")"
   ]
  },
  {
   "cell_type": "markdown",
   "id": "c739252c",
   "metadata": {},
   "source": [
    "### Draw the diagram"
   ]
  },
  {
   "cell_type": "code",
   "execution_count": 17,
   "id": "fc87d294",
   "metadata": {},
   "outputs": [
    {
     "data": {
      "text/plain": [
       "[<matplotlib.lines.Line2D at 0x120823400>]"
      ]
     },
     "execution_count": 17,
     "metadata": {},
     "output_type": "execute_result"
    },
    {
     "data": {
      "image/png": "[encoded data removed]",
      "text/plain": [
       "<Figure size 432x288 with 1 Axes>"
      ]
     },
     "metadata": {
      "needs_background": "light"
     },
     "output_type": "display_data"
    }
   ],
   "source": [
    "plt.scatter(x_train,y_train,color=\"b\",marker='o')\n",
    "plt.xlabel(\"x trained\")\n",
    "plt.ylabel(\"y trained\")\n",
    "plt.title('y train vs. x train')\n",
    "f_final = predict(x_train,w_final,b_final)\n",
    "plt.plot(x_train,f_final,color=\"r\",marker=\"*\",)"
   ]
  },
  {
   "cell_type": "markdown",
   "id": "36d12d4c",
   "metadata": {},
   "source": [
    "## Do the prediction"
   ]
  },
  {
   "cell_type": "code",
   "execution_count": 18,
   "id": "f29f5373",
   "metadata": {},
   "outputs": [
    {
     "name": "stdout",
     "output_type": "stream",
     "text": [
      "Predicted value for x = 13 is 11.036531447018659\n"
     ]
    },
    {
     "data": {
      "text/plain": [
       "Text(13, 12.036531447018659, 'This is the predict value')"
      ]
     },
     "execution_count": 18,
     "metadata": {},
     "output_type": "execute_result"
    },
    {
     "data": {
      "image/png": "[encoded data removed]",
      "text/plain": [
       "<Figure size 432x288 with 1 Axes>"
      ]
     },
     "metadata": {
      "needs_background": "light"
     },
     "output_type": "display_data"
    }
   ],
   "source": [
    "x_value = 13\n",
    "y_predict = predict(x_value,w_final,b_final)\n",
    "print(f\"Predicted value for x = {x_value} is {y_predict}\")\n",
    "plt.scatter(x_train,y_train,color=\"b\",marker='*',s=100)\n",
    "plt.xlabel(\"x trained\")\n",
    "plt.ylabel(\"y trained\")\n",
    "plt.title('y train vs. x train')\n",
    "x = np.arange(0, 20, 0.1)\n",
    "y = predict(x,w_final,b_final)\n",
    "plt.plot(x,y,color=\"black\",marker=\".\",linewidth=0.1,markersize=1)\n",
    "plt.plot(x_value,y_predict,color=\"r\",marker=\"o\",markersize=10)\n",
    "plt.annotate(\"This is the predict value\", xy=(x_value,y_predict), xytext=(x_value, y_predict+1),\n",
    "            arrowprops=dict(facecolor='black', shrink=0.01),\n",
    "            )"
   ]
  },
  {
   "cell_type": "code",
   "execution_count": null,
   "id": "275983b9",
   "metadata": {},
   "outputs": [],
   "source": []
  }
 ],
 "metadata": {
  "kernelspec": {
   "display_name": "Python 3.10.1 64-bit",
   "language": "python",
   "name": "python3"
  },
  "language_info": {
   "codemirror_mode": {
    "name": "ipython",
    "version": 3
   },
   "file_extension": ".py",
   "mimetype": "text/x-python",
   "name": "python",
   "nbconvert_exporter": "python",
   "pygments_lexer": "ipython3",
   "version": "3.10.1"
  },
  "vscode": {
   "interpreter": {
    "hash": "aee8b7b246df8f9039afb4144a1f6fd8d2ca17a180786b69acc140d282b71a49"
   }
  }
 },
 "nbformat": 4,
 "nbformat_minor": 5
}

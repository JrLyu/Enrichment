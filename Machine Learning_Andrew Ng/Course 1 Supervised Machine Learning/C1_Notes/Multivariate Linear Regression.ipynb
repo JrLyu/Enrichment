{
 "cells": [
  {
   "cell_type": "markdown",
   "id": "0cb61115",
   "metadata": {
    "toc": true
   },
   "source": [
    "<h1>Table of Contents<span class=\"tocSkip\"></span></h1>\n",
    "<div class=\"toc\"><ul class=\"toc-item\"><li><span><a href=\"#Multivariate-Linear-Regression\" data-toc-modified-id=\"Multivariate-Linear-Regression-1\"><span class=\"toc-item-num\">1&nbsp;&nbsp;</span>Multivariate Linear Regression</a></span><ul class=\"toc-item\"><li><span><a href=\"#Preparation\" data-toc-modified-id=\"Preparation-1.1\"><span class=\"toc-item-num\">1.1&nbsp;&nbsp;</span>Preparation</a></span><ul class=\"toc-item\"><li><span><a href=\"#Importing-relevant-packages\" data-toc-modified-id=\"Importing-relevant-packages-1.1.1\"><span class=\"toc-item-num\">1.1.1&nbsp;&nbsp;</span>Importing relevant packages</a></span></li><li><span><a href=\"#Defining-Variables\" data-toc-modified-id=\"Defining-Variables-1.1.2\"><span class=\"toc-item-num\">1.1.2&nbsp;&nbsp;</span>Defining Variables</a></span></li><li><span><a href=\"#Define-the-initial-w-and-b\" data-toc-modified-id=\"Define-the-initial-w-and-b-1.1.3\"><span class=\"toc-item-num\">1.1.3&nbsp;&nbsp;</span>Define the initial w and b</a></span></li></ul></li><li><span><a href=\"#Set-up-the-model\" data-toc-modified-id=\"Set-up-the-model-1.2\"><span class=\"toc-item-num\">1.2&nbsp;&nbsp;</span>Set up the model</a></span><ul class=\"toc-item\"><li><span><a href=\"#Set-up-the-cost-function\" data-toc-modified-id=\"Set-up-the-cost-function-1.2.1\"><span class=\"toc-item-num\">1.2.1&nbsp;&nbsp;</span>Set up the cost function</a></span></li><li><span><a href=\"#Set-up-the-Gradient-Descent\" data-toc-modified-id=\"Set-up-the-Gradient-Descent-1.2.2\"><span class=\"toc-item-num\">1.2.2&nbsp;&nbsp;</span>Set up the Gradient Descent</a></span></li><li><span><a href=\"#Test-the-Implement\" data-toc-modified-id=\"Test-the-Implement-1.2.3\"><span class=\"toc-item-num\">1.2.3&nbsp;&nbsp;</span>Test the Implement</a></span></li></ul></li><li><span><a href=\"#Do-the-prediction\" data-toc-modified-id=\"Do-the-prediction-1.3\"><span class=\"toc-item-num\">1.3&nbsp;&nbsp;</span>Do the prediction</a></span></li><li><span><a href=\"#Regularization\" data-toc-modified-id=\"Regularization-1.4\"><span class=\"toc-item-num\">1.4&nbsp;&nbsp;</span>Regularization</a></span></li></ul></li></ul></div>"
   ]
  },
  {
   "cell_type": "markdown",
   "id": "ba98e6de",
   "metadata": {},
   "source": [
    "# Multivariate Linear Regression"
   ]
  },
  {
   "cell_type": "markdown",
   "id": "4d97c6a9",
   "metadata": {},
   "source": [
    "## Preparation"
   ]
  },
  {
   "cell_type": "markdown",
   "id": "1c19751f",
   "metadata": {},
   "source": [
    "### Importing relevant packages"
   ]
  },
  {
   "cell_type": "code",
   "execution_count": 21,
   "id": "e75b6587",
   "metadata": {
    "ExecuteTime": {
     "end_time": "2022-08-11T07:09:00.830595Z",
     "start_time": "2022-08-11T07:09:00.365985Z"
    }
   },
   "outputs": [],
   "source": [
    "import copy, math\n",
    "import numpy as np\n",
    "import matplotlib.pyplot as plt"
   ]
  },
  {
   "cell_type": "markdown",
   "id": "8dda3850",
   "metadata": {},
   "source": [
    "### Defining Variables"
   ]
  },
  {
   "cell_type": "code",
   "execution_count": 22,
   "id": "910d2b25",
   "metadata": {
    "ExecuteTime": {
     "end_time": "2022-08-11T07:09:01.589977Z",
     "start_time": "2022-08-11T07:09:01.580235Z"
    }
   },
   "outputs": [],
   "source": [
    "x_train = np.array(np.random.uniform(1,10,(2,3))) #Modify this. (2,3) means 2 training sets and 3 features\n",
    "y_train = np.array(np.random.uniform(1,10,2)) #Modify this."
   ]
  },
  {
   "cell_type": "code",
   "execution_count": 23,
   "id": "bbbf1037",
   "metadata": {
    "ExecuteTime": {
     "end_time": "2022-08-11T07:09:02.621122Z",
     "start_time": "2022-08-11T07:09:02.602689Z"
    }
   },
   "outputs": [
    {
     "name": "stdout",
     "output_type": "stream",
     "text": [
      "X Shape: (2, 3), X Type:<class 'numpy.ndarray'>)\n",
      "[[7.48740508 2.71735649 8.23433695]\n",
      " [1.16792687 3.72502867 6.03337478]]\n",
      "y Shape: (2,), y Type:<class 'numpy.ndarray'>)\n",
      "[2.19589131 5.25420704]\n"
     ]
    }
   ],
   "source": [
    "print(f\"X Shape: {x_train.shape}, X Type:{type(x_train)})\")\n",
    "print(x_train)\n",
    "print(f\"y Shape: {y_train.shape}, y Type:{type(y_train)})\")\n",
    "print(y_train)"
   ]
  },
  {
   "cell_type": "markdown",
   "id": "79e52b4c",
   "metadata": {},
   "source": [
    "### Define the initial w and b"
   ]
  },
  {
   "cell_type": "code",
   "execution_count": 24,
   "id": "cf1acb07",
   "metadata": {
    "ExecuteTime": {
     "end_time": "2022-08-11T07:09:03.347531Z",
     "start_time": "2022-08-11T07:09:03.334753Z"
    }
   },
   "outputs": [],
   "source": [
    "w_init = np.array([1,1,1]) #Modify this. \n",
    "b_init = 0"
   ]
  },
  {
   "cell_type": "markdown",
   "id": "5bef22e7",
   "metadata": {},
   "source": [
    "## Set up the model"
   ]
  },
  {
   "cell_type": "code",
   "execution_count": 25,
   "id": "ce315a7d",
   "metadata": {
    "ExecuteTime": {
     "end_time": "2022-08-11T07:09:04.069911Z",
     "start_time": "2022-08-11T07:09:04.062592Z"
    }
   },
   "outputs": [],
   "source": [
    "def predict(x,w,b):\n",
    "    p = np.dot(x, w) + b\n",
    "    return p"
   ]
  },
  {
   "cell_type": "code",
   "execution_count": 26,
   "id": "66b6eaed",
   "metadata": {
    "ExecuteTime": {
     "end_time": "2022-08-11T07:09:04.467005Z",
     "start_time": "2022-08-11T07:09:04.454271Z"
    }
   },
   "outputs": [
    {
     "name": "stdout",
     "output_type": "stream",
     "text": [
      "The initial predict is [18.43909851 10.92633032].\n"
     ]
    }
   ],
   "source": [
    "f_wb = predict(x_train,w_init,b_init)\n",
    "\n",
    "print(f\"The initial predict is {f_wb}.\")"
   ]
  },
  {
   "cell_type": "markdown",
   "id": "30a4501e",
   "metadata": {},
   "source": [
    "### Set up the cost function"
   ]
  },
  {
   "cell_type": "code",
   "execution_count": 27,
   "id": "fd4c62d5",
   "metadata": {
    "ExecuteTime": {
     "end_time": "2022-08-11T07:09:05.214321Z",
     "start_time": "2022-08-11T07:09:05.202624Z"
    }
   },
   "outputs": [],
   "source": [
    "def compute_cost(x,y,w,b):\n",
    "    m = x.shape[0]\n",
    "    cost = 0.0\n",
    "    for i in range(m):\n",
    "        f_wb_i = predict(x[i],w,b)\n",
    "        cost = cost + (f_wb_i - y[i])**2\n",
    "    cost = cost / (2*m)\n",
    "    return cost"
   ]
  },
  {
   "cell_type": "code",
   "execution_count": 28,
   "id": "9cfa25f1",
   "metadata": {
    "ExecuteTime": {
     "end_time": "2022-08-11T07:09:05.578311Z",
     "start_time": "2022-08-11T07:09:05.570365Z"
    }
   },
   "outputs": [
    {
     "name": "stdout",
     "output_type": "stream",
     "text": [
      "Cost at initial w : 74.00369069724296\n"
     ]
    }
   ],
   "source": [
    "cost = compute_cost(x_train, y_train, w_init, b_init)\n",
    "print(f'Cost at initial w : {cost}')"
   ]
  },
  {
   "cell_type": "markdown",
   "id": "9b142f29",
   "metadata": {},
   "source": [
    "### Set up the Gradient Descent"
   ]
  },
  {
   "cell_type": "code",
   "execution_count": 29,
   "id": "6ac112db",
   "metadata": {
    "ExecuteTime": {
     "end_time": "2022-08-11T07:09:06.334850Z",
     "start_time": "2022-08-11T07:09:06.278330Z"
    }
   },
   "outputs": [],
   "source": [
    "def compute_gradient(x,y,w,b): \n",
    "    m,n = x.shape\n",
    "    dj_dw = np.zeros((n,))\n",
    "    dj_db = 0.0\n",
    "    \n",
    "    for i in range(m):\n",
    "        error = predict(x[i],w,b)-y[i]\n",
    "        dj_db = dj_db + error\n",
    "        for j in range(n):\n",
    "            dj_dw[j] = dj_dw[j] + error * x[i,j]\n",
    "    dj_db = dj_db / m\n",
    "    dj_dw = dj_dw / m\n",
    "    \n",
    "    return dj_dw, dj_db"
   ]
  },
  {
   "cell_type": "code",
   "execution_count": 30,
   "id": "6b01277f",
   "metadata": {
    "ExecuteTime": {
     "end_time": "2022-08-11T07:09:06.637335Z",
     "start_time": "2022-08-11T07:09:06.629078Z"
    }
   },
   "outputs": [
    {
     "name": "stdout",
     "output_type": "stream",
     "text": [
      "dj_dw at initial w,b: \n",
      " [64.12204869 32.63370314 83.98704337]\n",
      "dj_db at initial w,b: 10.957665241691023\n"
     ]
    }
   ],
   "source": [
    "tmp_dj_dw, tmp_dj_db = compute_gradient(x_train, y_train, w_init, b_init)\n",
    "print(f'dj_dw at initial w,b: \\n {tmp_dj_dw}')\n",
    "print(f'dj_db at initial w,b: {tmp_dj_db}')"
   ]
  },
  {
   "cell_type": "code",
   "execution_count": 31,
   "id": "b7b90571",
   "metadata": {
    "ExecuteTime": {
     "end_time": "2022-08-11T07:09:06.941173Z",
     "start_time": "2022-08-11T07:09:06.930472Z"
    }
   },
   "outputs": [],
   "source": [
    "def gradient_descent(x,y,w_int,b_int,cost_func,gradient_func,alpha,iteration): \n",
    "    w = copy.deepcopy(w_int)\n",
    "    b = b_int\n",
    "    J = cost_func(x,y,w_int,b_int)\n",
    "    for i in range(iteration):\n",
    "        dj_dw,dj_db = gradient_func(x,y,w,b)\n",
    "        w = w - alpha * dj_dw\n",
    "        b = b - alpha * dj_db\n",
    "        J = cost_func(x,y,w,b)\n",
    "        if i% math.ceil(iteration / 10) == 0:\n",
    "            print(f\"Iteration {i:4d}: Cost {J}\")\n",
    "    return w,b,J"
   ]
  },
  {
   "cell_type": "markdown",
   "id": "ce3db7e2",
   "metadata": {},
   "source": [
    "### Test the Implement"
   ]
  },
  {
   "cell_type": "code",
   "execution_count": 32,
   "id": "ba639ffb",
   "metadata": {
    "ExecuteTime": {
     "end_time": "2022-08-11T07:09:07.890516Z",
     "start_time": "2022-08-11T07:09:07.690812Z"
    }
   },
   "outputs": [
    {
     "name": "stdout",
     "output_type": "stream",
     "text": [
      "Iteration    0: Cost 73.94195153831879\n",
      "Iteration 1000: Cost 32.5548650383712\n",
      "Iteration 2000: Cost 15.013939574834748\n",
      "Iteration 3000: Cost 7.537650975949608\n",
      "Iteration 4000: Cost 4.311811782278135\n",
      "Iteration 5000: Cost 2.8833662889408735\n",
      "Iteration 6000: Cost 2.217207919875875\n",
      "Iteration 7000: Cost 1.8764238719627304\n",
      "Iteration 8000: Cost 1.6764707888163632\n",
      "Iteration 9000: Cost 1.5392838532319897\n",
      "b,w found by gradient descent: -0.11,[0.12619805 0.72209441 0.09544635] \n"
     ]
    }
   ],
   "source": [
    "alpha = 5e-6 #Modify this.\n",
    "iteration = 10000 #Modify this.\n",
    "\n",
    "w_final, b_final,J = gradient_descent(x_train, y_train, w_init, b_init,\n",
    "                                                    compute_cost, compute_gradient, \n",
    "                                                    alpha, iteration)\n",
    "print(f\"b,w found by gradient descent: {b_final:0.2f},{w_final} \")"
   ]
  },
  {
   "cell_type": "markdown",
   "id": "28013447",
   "metadata": {},
   "source": [
    "## Do the prediction"
   ]
  },
  {
   "cell_type": "code",
   "execution_count": 33,
   "id": "0a9ce9f9",
   "metadata": {
    "ExecuteTime": {
     "end_time": "2022-08-11T07:09:09.279267Z",
     "start_time": "2022-08-11T07:09:09.268330Z"
    }
   },
   "outputs": [
    {
     "name": "stdout",
     "output_type": "stream",
     "text": [
      "Predicted value for x = [[14.29134834 14.63448274 15.01191477]] is [13.69717511]\n"
     ]
    }
   ],
   "source": [
    "x_value = np.array(np.random.uniform(10,20,(1,3))) #Modify this.\n",
    "y_predict = predict(x_value,w_final,b_final)\n",
    "print(f\"Predicted value for x = {x_value} is {y_predict}\")"
   ]
  }
 ],
 "metadata": {
  "kernelspec": {
   "display_name": "Python 3.10.1 64-bit",
   "language": "python",
   "name": "python3"
  },
  "language_info": {
   "codemirror_mode": {
    "name": "ipython",
    "version": 3
   },
   "file_extension": ".py",
   "mimetype": "text/x-python",
   "name": "python",
   "nbconvert_exporter": "python",
   "pygments_lexer": "ipython3",
   "version": "3.10.1"
  },
  "latex_envs": {
   "LaTeX_envs_menu_present": true,
   "autoclose": false,
   "autocomplete": false,
   "bibliofile": "biblio.bib",
   "cite_by": "apalike",
   "current_citInitial": 1,
   "eqLabelWithNumbers": true,
   "eqNumInitial": 1,
   "hotkeys": {
    "equation": "Ctrl-E",
    "itemize": "Ctrl-I"
   },
   "labels_anchors": false,
   "latex_user_defs": false,
   "report_style_numbering": false,
   "user_envs_cfg": false
  },
  "toc": {
   "base_numbering": 1,
   "nav_menu": {},
   "number_sections": true,
   "sideBar": true,
   "skip_h1_title": false,
   "title_cell": "Table of Contents",
   "title_sidebar": "Contents",
   "toc_cell": true,
   "toc_position": {},
   "toc_section_display": true,
   "toc_window_display": false
  },
  "varInspector": {
   "cols": {
    "lenName": 16,
    "lenType": 16,
    "lenVar": 40
   },
   "kernels_config": {
    "python": {
     "delete_cmd_postfix": "",
     "delete_cmd_prefix": "del ",
     "library": "var_list.py",
     "varRefreshCmd": "print(var_dic_list())"
    },
    "r": {
     "delete_cmd_postfix": ") ",
     "delete_cmd_prefix": "rm(",
     "library": "var_list.r",
     "varRefreshCmd": "cat(var_dic_list()) "
    }
   },
   "position": {
    "height": "504.85px",
    "left": "1182px",
    "right": "20px",
    "top": "805px",
    "width": "346px"
   },
   "types_to_exclude": [
    "module",
    "function",
    "builtin_function_or_method",
    "instance",
    "_Feature"
   ],
   "window_display": true
  },
  "vscode": {
   "interpreter": {
    "hash": "aee8b7b246df8f9039afb4144a1f6fd8d2ca17a180786b69acc140d282b71a49"
   }
  }
 },
 "nbformat": 4,
 "nbformat_minor": 5
}

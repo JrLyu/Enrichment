{
 "cells": [
  {
   "cell_type": "markdown",
   "id": "899111d3",
   "metadata": {
    "toc": true
   },
   "source": [
    "<h1>Table of Contents<span class=\"tocSkip\"></span></h1>\n",
    "<div class=\"toc\"><ul class=\"toc-item\"><li><span><a href=\"#Univariate-Linear-Regression\" data-toc-modified-id=\"Univariate-Linear-Regression-1\"><span class=\"toc-item-num\">1&nbsp;&nbsp;</span>Univariate Linear Regression</a></span><ul class=\"toc-item\"><li><span><a href=\"#Preparation\" data-toc-modified-id=\"Preparation-1.1\"><span class=\"toc-item-num\">1.1&nbsp;&nbsp;</span>Preparation</a></span><ul class=\"toc-item\"><li><span><a href=\"#Importing-relevant-packages\" data-toc-modified-id=\"Importing-relevant-packages-1.1.1\"><span class=\"toc-item-num\">1.1.1&nbsp;&nbsp;</span>Importing relevant packages</a></span></li><li><span><a href=\"#Defining-the-data\" data-toc-modified-id=\"Defining-the-data-1.1.2\"><span class=\"toc-item-num\">1.1.2&nbsp;&nbsp;</span>Defining the data</a></span></li><li><span><a href=\"#Define-the-initial-w-and-b\" data-toc-modified-id=\"Define-the-initial-w-and-b-1.1.3\"><span class=\"toc-item-num\">1.1.3&nbsp;&nbsp;</span>Define the initial w and b</a></span></li><li><span><a href=\"#(Optional)-Z-Score-Normalization-to-make-the-machine-learning-process-faster\" data-toc-modified-id=\"(Optional)-Z-Score-Normalization-to-make-the-machine-learning-process-faster-1.1.4\"><span class=\"toc-item-num\">1.1.4&nbsp;&nbsp;</span>(Optional) Z-Score Normalization to make the machine learning process faster</a></span></li><li><span><a href=\"#Plot-the-data-onto-a-scatter-plot\" data-toc-modified-id=\"Plot-the-data-onto-a-scatter-plot-1.1.5\"><span class=\"toc-item-num\">1.1.5&nbsp;&nbsp;</span>Plot the data onto a scatter plot</a></span></li></ul></li><li><span><a href=\"#Set-up-the-model\" data-toc-modified-id=\"Set-up-the-model-1.2\"><span class=\"toc-item-num\">1.2&nbsp;&nbsp;</span>Set up the model</a></span><ul class=\"toc-item\"><li><span><a href=\"#Set-up-the-cost-function\" data-toc-modified-id=\"Set-up-the-cost-function-1.2.1\"><span class=\"toc-item-num\">1.2.1&nbsp;&nbsp;</span>Set up the cost function</a></span></li><li><span><a href=\"#Set-up-the-Gradient-Descent\" data-toc-modified-id=\"Set-up-the-Gradient-Descent-1.2.2\"><span class=\"toc-item-num\">1.2.2&nbsp;&nbsp;</span>Set up the Gradient Descent</a></span></li><li><span><a href=\"#Test-the-implement\" data-toc-modified-id=\"Test-the-implement-1.2.3\"><span class=\"toc-item-num\">1.2.3&nbsp;&nbsp;</span>Test the implement</a></span></li><li><span><a href=\"#Draw-the-diagram\" data-toc-modified-id=\"Draw-the-diagram-1.2.4\"><span class=\"toc-item-num\">1.2.4&nbsp;&nbsp;</span>Draw the diagram</a></span></li></ul></li><li><span><a href=\"#Do-the-prediction\" data-toc-modified-id=\"Do-the-prediction-1.3\"><span class=\"toc-item-num\">1.3&nbsp;&nbsp;</span>Do the prediction</a></span></li><li><span><a href=\"#Regularization\" data-toc-modified-id=\"Regularization-1.4\"><span class=\"toc-item-num\">1.4&nbsp;&nbsp;</span>Regularization</a></span></li></ul></li></ul></div>"
   ]
  },
  {
   "cell_type": "markdown",
   "id": "d972e6cb",
   "metadata": {},
   "source": [
    "\n",
    "# Univariate Linear Regression"
   ]
  },
  {
   "cell_type": "markdown",
   "id": "035882f3",
   "metadata": {},
   "source": [
    "## Preparation"
   ]
  },
  {
   "cell_type": "markdown",
   "id": "f0eb9ce6",
   "metadata": {},
   "source": [
    "### Importing relevant packages"
   ]
  },
  {
   "cell_type": "code",
   "execution_count": 1,
   "id": "c3a52278",
   "metadata": {
    "ExecuteTime": {
     "end_time": "2022-08-11T07:02:37.765021Z",
     "start_time": "2022-08-11T07:02:37.185733Z"
    }
   },
   "outputs": [],
   "source": [
    "import copy, math\n",
    "import numpy as np\n",
    "import matplotlib.pyplot as plt"
   ]
  },
  {
   "cell_type": "markdown",
   "id": "e5bc4bc2",
   "metadata": {},
   "source": [
    "### Defining the data"
   ]
  },
  {
   "cell_type": "code",
   "execution_count": 2,
   "id": "46b422aa",
   "metadata": {
    "ExecuteTime": {
     "end_time": "2022-08-11T07:02:39.235263Z",
     "start_time": "2022-08-11T07:02:39.223985Z"
    }
   },
   "outputs": [],
   "source": [
    "x_train = np.array(np.random.uniform(1,10,100)) #Modify this.\n",
    "y_train = np.array(np.random.uniform(1,10,100)) #Modify this."
   ]
  },
  {
   "cell_type": "code",
   "execution_count": 3,
   "id": "9a4dd848",
   "metadata": {
    "ExecuteTime": {
     "end_time": "2022-08-11T07:02:39.840652Z",
     "start_time": "2022-08-11T07:02:39.784588Z"
    }
   },
   "outputs": [
    {
     "name": "stdout",
     "output_type": "stream",
     "text": [
      "X Shape: (100,), X Type:<class 'numpy.ndarray'>)\n",
      "[3.3156059  1.57250336 6.83926326 5.37758988 5.99716407 9.59724372\n",
      " 4.22702211 5.34030053 7.69180079 1.39681562 7.12729617 4.42328381\n",
      " 7.77693317 8.02020379 5.92453503 4.40600218 4.39960049 2.70944469\n",
      " 3.84765488 6.30762564 1.75838369 1.37836483 1.66402576 7.34238179\n",
      " 6.9768696  3.72302057 4.95908409 7.68975486 1.63057345 6.96711598\n",
      " 7.63943745 5.05502713 3.93524158 9.89307368 1.64851707 2.3076284\n",
      " 5.11484261 3.07535247 3.8039243  2.84598277 5.26741967 5.3989853\n",
      " 4.52563057 2.7154368  9.21633411 8.05452513 3.6510128  4.90136092\n",
      " 2.1793527  7.51601241 8.0458643  2.30435596 4.44369663 3.02591251\n",
      " 3.45298413 6.25209049 2.72673217 7.38507405 4.99577849 9.25437895\n",
      " 5.30577105 5.43302955 8.46182499 8.25965741 6.85113215 8.39882359\n",
      " 7.64042478 9.68589623 5.41207384 6.4370854  9.17914265 9.81844981\n",
      " 4.69423115 8.63113747 6.85616257 8.48147785 9.46808571 9.17933751\n",
      " 4.23037598 8.23780321 7.90469471 1.06963327 9.73967059 9.57277721\n",
      " 4.20923973 7.70065616 3.45854516 9.74208421 3.27897008 9.7882842\n",
      " 9.17626097 7.20947224 3.9885869  3.34849363 6.12886603 3.91532698\n",
      " 1.0888625  5.53818525 1.37372733 5.10811472]\n",
      "y Shape: (100,), y Type:<class 'numpy.ndarray'>)\n",
      "[3.43836904 9.79786809 3.27962132 6.57447446 3.0168822  8.80789329\n",
      " 1.46867343 8.50347692 4.37069774 8.9244599  4.81928163 4.79877177\n",
      " 4.87281727 1.95125784 2.00791871 1.04317302 1.71630911 7.196044\n",
      " 1.27392458 1.25571346 2.67228539 7.0641396  9.95991565 1.61817012\n",
      " 7.05550419 4.16974795 3.40434956 6.77353481 4.99724061 7.21114718\n",
      " 9.13428772 5.21042319 1.05062003 1.08910615 3.03319592 7.4026454\n",
      " 4.72815164 3.4844971  3.7945485  7.20638294 6.86950474 8.71027971\n",
      " 4.09081229 2.97238634 4.66699592 2.49344407 4.06221615 2.29164225\n",
      " 5.83352694 3.25599705 9.52190048 3.07550928 1.66084205 3.88757791\n",
      " 8.89071397 1.80563146 1.91334231 4.24641109 2.29171388 4.04264168\n",
      " 7.1473467  8.56417059 1.8903977  8.4981191  3.64518009 4.75469073\n",
      " 9.83782225 1.57412574 6.28743958 6.77027603 8.28953856 9.61387996\n",
      " 5.14434181 6.91172532 7.64763414 4.54473462 5.45321118 2.35782853\n",
      " 2.01607627 4.19842084 7.23702198 4.74802174 4.60332791 8.96641394\n",
      " 1.65942522 3.62863754 7.78598024 1.31843905 4.20020978 1.16081036\n",
      " 9.57211492 3.95940103 3.68354157 3.25830848 6.87100806 6.16377425\n",
      " 8.51136954 9.52812518 3.89648441 6.81683752]\n"
     ]
    }
   ],
   "source": [
    "print(f\"X Shape: {x_train.shape}, X Type:{type(x_train)})\")\n",
    "print(x_train)\n",
    "print(f\"y Shape: {y_train.shape}, y Type:{type(y_train)})\")\n",
    "print(y_train)"
   ]
  },
  {
   "cell_type": "markdown",
   "id": "e908f322",
   "metadata": {},
   "source": [
    "### Define the initial w and b"
   ]
  },
  {
   "cell_type": "code",
   "execution_count": 4,
   "id": "b4f0a648",
   "metadata": {
    "ExecuteTime": {
     "end_time": "2022-08-11T07:02:41.893100Z",
     "start_time": "2022-08-11T07:02:41.884512Z"
    }
   },
   "outputs": [],
   "source": [
    "w_init = 1\n",
    "b_init = 0"
   ]
  },
  {
   "cell_type": "markdown",
   "id": "3f0762bd",
   "metadata": {},
   "source": [
    "### (Optional) Z-Score Normalization to make the machine learning process faster"
   ]
  },
  {
   "cell_type": "code",
   "execution_count": 5,
   "id": "64bc1c1a",
   "metadata": {
    "ExecuteTime": {
     "end_time": "2022-08-11T07:02:42.668835Z",
     "start_time": "2022-08-11T07:02:42.661344Z"
    }
   },
   "outputs": [],
   "source": [
    "def z_score_normal(x):\n",
    "    mu = np.mean(x)\n",
    "    sgm = np.std(x)\n",
    "    x_z = (x - mu) / sgm\n",
    "    return x_z"
   ]
  },
  {
   "cell_type": "code",
   "execution_count": 6,
   "id": "85eb41e1",
   "metadata": {
    "ExecuteTime": {
     "end_time": "2022-08-11T07:02:43.091750Z",
     "start_time": "2022-08-11T07:02:43.075621Z"
    }
   },
   "outputs": [
    {
     "name": "stdout",
     "output_type": "stream",
     "text": [
      "[-0.91441961 -1.59715707  0.46572458 -0.10678285  0.13589163  1.54596888\n",
      " -0.55743661 -0.12138832  0.79964602 -1.66597035  0.57854116 -0.48056493\n",
      "  0.83299063  0.92827473  0.10744433 -0.48733379 -0.4898412  -1.15184051\n",
      " -0.70602696  0.25749305 -1.52435157 -1.67319715 -1.56130963  0.66278578\n",
      "  0.51962216 -0.75484366 -0.27070297  0.79884468 -1.57441221  0.51580187\n",
      "  0.77913638 -0.23312405 -0.67172105  1.66183939 -1.56738406 -1.30922369\n",
      " -0.20969556 -1.00852195 -0.72315533 -1.09836135 -0.14993426 -0.0984027\n",
      " -0.44047781 -1.14949352  1.3967744   0.9417177  -0.78304762 -0.29331195\n",
      " -1.35946665  0.73079332  0.93832542 -1.31050544 -0.47256965 -1.02788657\n",
      " -0.86061139  0.23574108 -1.14506936  0.67950746 -0.25633053  1.41167579\n",
      " -0.13491281 -0.08506827  1.10124868  1.0220638   0.47037339  1.07657233\n",
      "  0.77952309  1.58069224 -0.09327619  0.30819978  1.38220728  1.63261075\n",
      " -0.37444042  1.16756491  0.4723437   1.10894631  1.49538033  1.3822836\n",
      " -0.55612297  1.01350395  0.8830322  -1.79412096  1.60175455  1.53638585\n",
      " -0.5644016   0.80311449 -0.85843324  1.60269992 -0.92876911  1.62079551\n",
      "  1.38107858  0.61072784 -0.65082678 -0.90153817  0.18747658 -0.67952119\n",
      " -1.78658926 -0.04388094 -1.67501356 -0.21233074]\n",
      "[-5.89887123e-01  1.82041135e+00 -6.50053714e-01  5.98720665e-01\n",
      " -7.49633840e-01  1.44520337e+00 -1.33641673e+00  1.32982726e+00\n",
      " -2.36527461e-01  1.48938301e+00 -6.65107572e-02 -7.42841486e-02\n",
      " -4.62203436e-02 -1.15351357e+00 -1.13203867e+00 -1.49768462e+00\n",
      " -1.24256093e+00  8.34300244e-01 -1.41022802e+00 -1.41713018e+00\n",
      " -8.80238650e-01  7.84307475e-01  1.88182861e+00 -1.27975635e+00\n",
      "  7.81034588e-01 -3.12688957e-01 -6.02780764e-01  6.74166050e-01\n",
      "  9.37048670e-04  8.40024465e-01  1.56890935e+00  8.17348655e-02\n",
      " -1.49486215e+00 -1.48027561e+00 -7.43450814e-01  9.12603746e-01\n",
      " -1.01049714e-01 -5.72404238e-01 -4.54892400e-01  8.38218783e-01\n",
      "  7.10539383e-01  1.40820709e+00 -3.42606174e-01 -7.66498109e-01\n",
      " -1.24228197e-01 -9.48020870e-01 -3.53444329e-01 -1.02450529e+00\n",
      "  3.17895926e-01 -6.59007492e-01  1.71581753e+00 -7.27413731e-01\n",
      " -1.26358336e+00 -4.19633547e-01  1.47659304e+00 -1.20870707e+00\n",
      " -1.16788384e+00 -2.83633046e-01 -1.02447814e+00 -3.60863202e-01\n",
      "  8.15843598e-01  1.35283062e+00 -1.17658003e+00  1.32779660e+00\n",
      " -5.11504165e-01 -9.09911974e-02  1.83555428e+00 -1.29644950e+00\n",
      "  4.89932265e-01  6.72930948e-01  1.24874299e+00  1.75067845e+00\n",
      "  5.66895200e-02  7.26541305e-01  1.00545634e+00 -1.70566158e-01\n",
      "  1.73753360e-01 -9.99420188e-01 -1.12894689e+00 -3.01821713e-01\n",
      "  8.49831209e-01 -9.35187950e-02 -1.48358859e-01  1.50528391e+00\n",
      " -1.26412035e+00 -5.17773915e-01  1.05789056e+00 -1.39335670e+00\n",
      " -3.01143694e-01 -1.45309917e+00  1.73484918e+00 -3.92412038e-01\n",
      " -4.96964870e-01 -6.58131446e-01  7.11109151e-01  4.43062165e-01\n",
      "  1.33281862e+00  1.71817674e+00 -4.16257917e-01  6.90578108e-01]\n"
     ]
    }
   ],
   "source": [
    "x_z = z_score_normal(x_train)\n",
    "y_z = z_score_normal(y_train)\n",
    "print(x_z)\n",
    "print(y_z)"
   ]
  },
  {
   "cell_type": "markdown",
   "id": "2ce6b2c5",
   "metadata": {},
   "source": [
    "### Plot the data onto a scatter plot"
   ]
  },
  {
   "cell_type": "code",
   "execution_count": 7,
   "id": "f319070b",
   "metadata": {
    "ExecuteTime": {
     "end_time": "2022-08-11T07:02:44.955467Z",
     "start_time": "2022-08-11T07:02:44.799598Z"
    }
   },
   "outputs": [
    {
     "data": {
      "image/png": "[encoded data removed]",
      "text/plain": [
       "<Figure size 432x288 with 2 Axes>"
      ]
     },
     "metadata": {
      "needs_background": "light"
     },
     "output_type": "display_data"
    }
   ],
   "source": [
    "fig = plt.figure(1)\n",
    "ax1=plt.subplot(2,1,1)\n",
    "plt.scatter(x_train,y_train,marker='o')\n",
    "plt.xlabel(\"x trained\")\n",
    "plt.ylabel(\"y trained\")\n",
    "plt.title('y train vs. x train')\n",
    "ax2=plt.subplot(2,1,2)\n",
    "plt.scatter(x_z,y_z,color=\"r\",marker=\"*\",linestyle=\"dashed\")\n",
    "plt.xlabel(\"x_z normalized\")\n",
    "plt.ylabel(\"y_z normalized\")\n",
    "plt.title('y normalized vs. x normalized')\n",
    "plt.subplots_adjust(wspace=0,hspace=1)\n",
    "plt.show()"
   ]
  },
  {
   "cell_type": "markdown",
   "id": "f7f161f0",
   "metadata": {},
   "source": [
    "## Set up the model"
   ]
  },
  {
   "cell_type": "code",
   "execution_count": 8,
   "id": "da43ab3e",
   "metadata": {
    "ExecuteTime": {
     "end_time": "2022-08-11T07:02:47.023294Z",
     "start_time": "2022-08-11T07:02:47.016043Z"
    }
   },
   "outputs": [],
   "source": [
    "def predict(x,w,b):\n",
    "    p = w * x + b\n",
    "    return p"
   ]
  },
  {
   "cell_type": "code",
   "execution_count": 9,
   "id": "2357a538",
   "metadata": {
    "ExecuteTime": {
     "end_time": "2022-08-11T07:02:48.484715Z",
     "start_time": "2022-08-11T07:02:48.374744Z"
    }
   },
   "outputs": [
    {
     "data": {
      "text/plain": [
       "Text(0.5, 1.0, 'y train vs. x train')"
      ]
     },
     "execution_count": 9,
     "metadata": {},
     "output_type": "execute_result"
    },
    {
     "data": {
      "image/png": "[encoded data removed]",
      "text/plain": [
       "<Figure size 432x288 with 1 Axes>"
      ]
     },
     "metadata": {
      "needs_background": "light"
     },
     "output_type": "display_data"
    }
   ],
   "source": [
    "f_wb = predict(x_train,w_init,b_init)\n",
    "plt.scatter(x_train,y_train,marker='o')\n",
    "plt.plot(x_train,f_wb,marker='o',markersize=0.1,color=\"r\")\n",
    "plt.xlabel(\"x trained\")\n",
    "plt.ylabel(\"y trained\")\n",
    "plt.title('y train vs. x train')"
   ]
  },
  {
   "cell_type": "markdown",
   "id": "17a1ebe7",
   "metadata": {},
   "source": [
    "### Set up the cost function"
   ]
  },
  {
   "cell_type": "code",
   "execution_count": 10,
   "id": "f29a5f6b",
   "metadata": {
    "ExecuteTime": {
     "end_time": "2022-08-09T12:57:59.761043Z",
     "start_time": "2022-08-09T12:57:59.753840Z"
    }
   },
   "outputs": [],
   "source": [
    "def compute_cost(x,y,w,b):\n",
    "    m = x.shape[0]\n",
    "    cost = 0.0\n",
    "    for i in range(m):\n",
    "        f_wb_i = predict(x[i],w,b)\n",
    "        cost = cost + (f_wb_i - y[i])**2\n",
    "    cost = cost / (2*m)\n",
    "    return cost"
   ]
  },
  {
   "cell_type": "code",
   "execution_count": 11,
   "id": "4410db69",
   "metadata": {
    "ExecuteTime": {
     "end_time": "2022-08-09T12:58:00.947698Z",
     "start_time": "2022-08-09T12:58:00.940965Z"
    }
   },
   "outputs": [
    {
     "name": "stdout",
     "output_type": "stream",
     "text": [
      "Cost at initial w : 6.747739843224873\n"
     ]
    }
   ],
   "source": [
    "cost = compute_cost(x_train, y_train, w_init, b_init)\n",
    "print(f'Cost at initial w : {cost}')"
   ]
  },
  {
   "cell_type": "markdown",
   "id": "eff4e195",
   "metadata": {},
   "source": [
    "### Set up the Gradient Descent"
   ]
  },
  {
   "cell_type": "code",
   "execution_count": 12,
   "id": "cf4f610f",
   "metadata": {
    "ExecuteTime": {
     "end_time": "2022-08-09T12:58:01.995708Z",
     "start_time": "2022-08-09T12:58:01.983752Z"
    }
   },
   "outputs": [],
   "source": [
    "def compute_gradient(x,y,w,b):\n",
    "    m = x.shape[0]\n",
    "    dj_dw = 0.0\n",
    "    dj_db = 0.0\n",
    "    for i in range(m):\n",
    "        f_wb_i = predict(x[i],w,b)\n",
    "        dj_dw = dj_dw + (f_wb_i - y[i]) * x[i]\n",
    "        dj_db = dj_db + (f_wb_i - y[i])\n",
    "    dj_dw = dj_dw / m\n",
    "    dj_db = dj_db / m\n",
    "    return dj_dw, dj_db"
   ]
  },
  {
   "cell_type": "code",
   "execution_count": 13,
   "id": "a8ad8d4d",
   "metadata": {
    "ExecuteTime": {
     "end_time": "2022-08-09T12:58:03.022245Z",
     "start_time": "2022-08-09T12:58:03.013005Z"
    }
   },
   "outputs": [
    {
     "name": "stdout",
     "output_type": "stream",
     "text": [
      "dj_db at initial w,b: 0.20610315971693347\n",
      "dj_dw at initial w,b: 8.040104241617774\n"
     ]
    }
   ],
   "source": [
    "tmp_dj_dw, tmp_dj_db = compute_gradient(x_train, y_train, w_init, b_init)\n",
    "print(f'dj_db at initial w,b: {tmp_dj_db}')\n",
    "print(f'dj_dw at initial w,b: {tmp_dj_dw}')"
   ]
  },
  {
   "cell_type": "code",
   "execution_count": 14,
   "id": "cfd51ade",
   "metadata": {
    "ExecuteTime": {
     "end_time": "2022-08-09T12:58:04.064072Z",
     "start_time": "2022-08-09T12:58:04.050426Z"
    }
   },
   "outputs": [],
   "source": [
    "def gradient_descent(x,y,w_int,b_int,cost_func,gradient_func,alpha,iteration): \n",
    "    w = copy.deepcopy(w_int)\n",
    "    b = b_int\n",
    "    J = cost_func(x,y,w_int,b_int)\n",
    "    for i in range(iteration):\n",
    "        dj_dw,dj_db = gradient_func(x,y,w,b)\n",
    "        w = w - alpha * dj_dw\n",
    "        b = b - alpha * dj_db\n",
    "        J = cost_func(x,y,w,b)\n",
    "        if i% math.ceil(iteration / 10) == 0:\n",
    "            print(f\"Iteration {i:4d}: Cost {J}\")\n",
    "    return w,b,J"
   ]
  },
  {
   "cell_type": "markdown",
   "id": "36dc2cc9",
   "metadata": {},
   "source": [
    "### Test the implement"
   ]
  },
  {
   "cell_type": "code",
   "execution_count": 15,
   "id": "03626bbf",
   "metadata": {
    "ExecuteTime": {
     "end_time": "2022-08-09T12:58:06.656405Z",
     "start_time": "2022-08-09T12:58:05.289805Z"
    }
   },
   "outputs": [
    {
     "name": "stdout",
     "output_type": "stream",
     "text": [
      "Iteration    0: Cost 6.45483081022459\n",
      "Iteration 1000: Cost 3.6160367035500447\n",
      "Iteration 2000: Cost 3.2041758715337756\n",
      "Iteration 3000: Cost 3.130271983974231\n",
      "Iteration 4000: Cost 3.1170107457795826\n",
      "Iteration 5000: Cost 3.1146311627256678\n",
      "Iteration 6000: Cost 3.1142041727698757\n",
      "Iteration 7000: Cost 3.114127554127778\n",
      "Iteration 8000: Cost 3.1141138057567974\n",
      "Iteration 9000: Cost 3.114111338763135\n",
      "b,w found by gradient descent: 5.62,-0.047775098105693095 \n"
     ]
    }
   ],
   "source": [
    "alpha = 5e-3 #Modify this.\n",
    "iteration = 10000 #Modify this.\n",
    "\n",
    "w_final, b_final,J = gradient_descent(x_train, y_train, w_init, b_init,\n",
    "                                                    compute_cost, compute_gradient, \n",
    "                                                    alpha, iteration)\n",
    "print(f\"b,w found by gradient descent: {b_final:0.2f},{w_final} \")"
   ]
  },
  {
   "cell_type": "markdown",
   "id": "c739252c",
   "metadata": {},
   "source": [
    "### Draw the diagram"
   ]
  },
  {
   "cell_type": "code",
   "execution_count": 16,
   "id": "fc87d294",
   "metadata": {
    "ExecuteTime": {
     "end_time": "2022-08-09T12:58:08.702313Z",
     "start_time": "2022-08-09T12:58:08.604368Z"
    }
   },
   "outputs": [
    {
     "data": {
      "text/plain": [
       "[<matplotlib.lines.Line2D at 0x7f7778827d60>]"
      ]
     },
     "execution_count": 16,
     "metadata": {},
     "output_type": "execute_result"
    },
    {
     "data": {
      "image/png": "[encoded data removed]",
      "text/plain": [
       "<Figure size 432x288 with 1 Axes>"
      ]
     },
     "metadata": {
      "needs_background": "light"
     },
     "output_type": "display_data"
    }
   ],
   "source": [
    "plt.scatter(x_train,y_train,color=\"b\",marker='o')\n",
    "plt.xlabel(\"x trained\")\n",
    "plt.ylabel(\"y trained\")\n",
    "plt.title('y train vs. x train')\n",
    "f_final = predict(x_train,w_final,b_final)\n",
    "plt.plot(x_train,f_final,color=\"r\",marker=\"*\",)"
   ]
  },
  {
   "cell_type": "markdown",
   "id": "36d12d4c",
   "metadata": {},
   "source": [
    "## Do the prediction"
   ]
  },
  {
   "cell_type": "code",
   "execution_count": 17,
   "id": "f29f5373",
   "metadata": {
    "ExecuteTime": {
     "end_time": "2022-08-09T12:58:11.270645Z",
     "start_time": "2022-08-09T12:58:11.149284Z"
    }
   },
   "outputs": [
    {
     "name": "stdout",
     "output_type": "stream",
     "text": [
      "Predicted value for x = 13 is 4.997495708458136\n"
     ]
    },
    {
     "data": {
      "text/plain": [
       "Text(13, 5.997495708458136, 'This is the predict value')"
      ]
     },
     "execution_count": 17,
     "metadata": {},
     "output_type": "execute_result"
    },
    {
     "data": {
      "image/png": "[encoded data removed]",
      "text/plain": [
       "<Figure size 432x288 with 1 Axes>"
      ]
     },
     "metadata": {
      "needs_background": "light"
     },
     "output_type": "display_data"
    }
   ],
   "source": [
    "x_value = 13 #Modify this.\n",
    "y_predict = predict(x_value,w_final,b_final)\n",
    "print(f\"Predicted value for x = {x_value} is {y_predict}\")\n",
    "plt.scatter(x_train,y_train,color=\"b\",marker='*',s=100)\n",
    "plt.xlabel(\"x trained\")\n",
    "plt.ylabel(\"y trained\")\n",
    "plt.title('y train vs. x train')\n",
    "x = np.arange(0, 20, 0.1)\n",
    "y = predict(x,w_final,b_final)\n",
    "plt.plot(x,y,color=\"black\",marker=\".\",linewidth=0.1,markersize=1)\n",
    "plt.plot(x_value,y_predict,color=\"r\",marker=\"o\",markersize=10)\n",
    "plt.annotate(\"This is the predict value\", xy=(x_value,y_predict), xytext=(x_value, y_predict+1),\n",
    "            arrowprops=dict(facecolor='black', shrink=0.01),\n",
    "            )"
   ]
  }
 ],
 "metadata": {
  "kernelspec": {
   "display_name": "Python 3 (ipykernel)",
   "language": "python",
   "name": "python3"
  },
  "language_info": {
   "codemirror_mode": {
    "name": "ipython",
    "version": 3
   },
   "file_extension": ".py",
   "mimetype": "text/x-python",
   "name": "python",
   "nbconvert_exporter": "python",
   "pygments_lexer": "ipython3",
   "version": "3.9.12"
  },
  "latex_envs": {
   "LaTeX_envs_menu_present": true,
   "autoclose": false,
   "autocomplete": false,
   "bibliofile": "biblio.bib",
   "cite_by": "apalike",
   "current_citInitial": 1,
   "eqLabelWithNumbers": true,
   "eqNumInitial": 1,
   "hotkeys": {
    "equation": "Ctrl-E",
    "itemize": "Ctrl-I"
   },
   "labels_anchors": false,
   "latex_user_defs": false,
   "report_style_numbering": false,
   "user_envs_cfg": false
  },
  "toc": {
   "base_numbering": 1,
   "nav_menu": {},
   "number_sections": true,
   "sideBar": true,
   "skip_h1_title": false,
   "title_cell": "Table of Contents",
   "title_sidebar": "Contents",
   "toc_cell": true,
   "toc_position": {},
   "toc_section_display": true,
   "toc_window_display": false
  },
  "varInspector": {
   "cols": {
    "lenName": 16,
    "lenType": 16,
    "lenVar": 40
   },
   "kernels_config": {
    "python": {
     "delete_cmd_postfix": "",
     "delete_cmd_prefix": "del ",
     "library": "var_list.py",
     "varRefreshCmd": "print(var_dic_list())"
    },
    "r": {
     "delete_cmd_postfix": ") ",
     "delete_cmd_prefix": "rm(",
     "library": "var_list.r",
     "varRefreshCmd": "cat(var_dic_list()) "
    }
   },
   "types_to_exclude": [
    "module",
    "function",
    "builtin_function_or_method",
    "instance",
    "_Feature"
   ],
   "window_display": false
  },
  "vscode": {
   "interpreter": {
    "hash": "aee8b7b246df8f9039afb4144a1f6fd8d2ca17a180786b69acc140d282b71a49"
   }
  }
 },
 "nbformat": 4,
 "nbformat_minor": 5
}

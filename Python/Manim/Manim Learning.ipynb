{
 "cells": [
  {
   "cell_type": "markdown",
   "id": "dbe9d517",
   "metadata": {
    "toc": true
   },
   "source": [
    "<h1>Table of Contents<span class=\"tocSkip\"></span></h1>\n",
    "<div class=\"toc\"><ul class=\"toc-item\"><li><span><a href=\"#Importing-packages\" data-toc-modified-id=\"Importing-packages-1\"><span class=\"toc-item-num\">1&nbsp;&nbsp;</span>Importing packages</a></span></li><li><span><a href=\"#First-Attempt\" data-toc-modified-id=\"First-Attempt-2\"><span class=\"toc-item-num\">2&nbsp;&nbsp;</span>First Attempt</a></span></li><li><span><a href=\"#Move-an-object\" data-toc-modified-id=\"Move-an-object-3\"><span class=\"toc-item-num\">3&nbsp;&nbsp;</span>Move an object</a></span></li><li><span><a href=\"#Method-of-Animate\" data-toc-modified-id=\"Method-of-Animate-4\"><span class=\"toc-item-num\">4&nbsp;&nbsp;</span>Method of Animate</a></span></li><li><span><a href=\"#Using-LaTeX\" data-toc-modified-id=\"Using-LaTeX-5\"><span class=\"toc-item-num\">5&nbsp;&nbsp;</span>Using LaTeX</a></span></li><li><span><a href=\"#More-Professional-Examples\" data-toc-modified-id=\"More-Professional-Examples-6\"><span class=\"toc-item-num\">6&nbsp;&nbsp;</span>More Professional Examples</a></span></li></ul></div>"
   ]
  },
  {
   "cell_type": "markdown",
   "id": "e04c755a",
   "metadata": {},
   "source": [
    "# Importing packages"
   ]
  },
  {
   "cell_type": "code",
   "execution_count": 1,
   "id": "066e1ed2",
   "metadata": {
    "ExecuteTime": {
     "end_time": "2022-08-06T11:10:26.586030Z",
     "start_time": "2022-08-06T11:10:26.002089Z"
    }
   },
   "outputs": [
    {
     "name": "stderr",
     "output_type": "stream",
     "text": [
      "/Users/richardlyu/opt/anaconda3/lib/python3.9/site-packages/scipy/__init__.py:146: UserWarning: A NumPy version >=1.16.5 and <1.23.0 is required for this version of SciPy (detected version 1.23.1\n",
      "  warnings.warn(f\"A NumPy version >={np_minversion} and <{np_maxversion}\"\n"
     ]
    },
    {
     "data": {
      "text/html": [
       "<pre style=\"white-space:pre;overflow-x:auto;line-height:normal;font-family:Menlo,'DejaVu Sans Mono',consolas,'Courier New',monospace\">Manim Community <span style=\"color: #008000; text-decoration-color: #008000\">v0.16.0.post0</span>\n",
       "\n",
       "</pre>\n"
      ],
      "text/plain": [
       "Manim Community \u001b[32mv0.\u001b[0m\u001b[32m16.0\u001b[0m\u001b[32m.post0\u001b[0m\n",
       "\n"
      ]
     },
     "metadata": {},
     "output_type": "display_data"
    }
   ],
   "source": [
    "# Importing ManimCE.\n",
    "# This block needs to be run again when oepning this Jupyter Notebook for the first time. \n",
    "from manim import *\n",
    "import jupyter_manim\n",
    "\n",
    "# Set the width of the video. \n",
    "config.media_width = \"60%\""
   ]
  },
  {
   "cell_type": "markdown",
   "id": "50206d16",
   "metadata": {},
   "source": [
    "# First Attempt"
   ]
  },
  {
   "cell_type": "code",
   "execution_count": 2,
   "id": "638344de",
   "metadata": {
    "ExecuteTime": {
     "end_time": "2022-08-06T11:12:24.661077Z",
     "start_time": "2022-08-06T11:12:24.645226Z"
    }
   },
   "outputs": [],
   "source": [
    "class CircleToSquare(Scene):\n",
    "    def construct(self):\n",
    "        blue_circle = Circle(color=BLUE, fill_opacity=0.5)\n",
    "        green_square = Square(color=GREEN, fill_opacity=0.8)\n",
    "        self.play(Create(blue_circle))\n",
    "        self.wait()\n",
    "        \n",
    "        self.play(Transform(blue_circle, green_square))\n",
    "        self.wait()"
   ]
  },
  {
   "cell_type": "markdown",
   "id": "31a3e91f",
   "metadata": {},
   "source": [
    "`%%manim` means let the Jupyter Notebook to access Manim. `-v WARNING` makes all outcomes that will not be used invisible. `-qm` sets the quality of the video. You can try `-qh` and `ql` for high quality and low quality, respectively. \n",
    "\n",
    "`CircleToSquare` is the name of the actual object of the class `Scene`. \n",
    "\n",
    "The two code following: \n",
    "\n",
    "    blue_circle = Circle(color=BLUE, fill_opacity=0.5)\n",
    "    green_square = Square(color=GREEN, fill_opacity=0.8)` \n",
    "\n",
    "creates a circle and a square. However, they are not added to the scene. So we use `self.play(Create(blue_circle))` and `self.play(Transform(blue_circle, green_square))` to add them to the scene. "
   ]
  },
  {
   "cell_type": "code",
   "execution_count": 3,
   "id": "2672342a",
   "metadata": {
    "ExecuteTime": {
     "end_time": "2022-08-06T11:12:28.499807Z",
     "start_time": "2022-08-06T11:12:28.165591Z"
    }
   },
   "outputs": [
    {
     "name": "stderr",
     "output_type": "stream",
     "text": [
      "                                                                                \r"
     ]
    },
    {
     "data": {
      "text/html": [
       "<video src=\"media/jupyter/CircleToSquare@2023-01-18@15-23-06.mp4\" controls autoplay loop style=\"max-width: 60%;\"  >\n",
       "      Your browser does not support the <code>video</code> element.\n",
       "    </video>"
      ],
      "text/plain": [
       "<IPython.core.display.Video object>"
      ]
     },
     "metadata": {},
     "output_type": "display_data"
    }
   ],
   "source": [
    "# This is a magic command, and is only applicable in Jupyter Notebook. \n",
    "%manim -v WARNING -qm CircleToSquare\n"
   ]
  },
  {
   "cell_type": "markdown",
   "id": "b96c23c4",
   "metadata": {},
   "source": [
    "# Move an object"
   ]
  },
  {
   "cell_type": "code",
   "execution_count": 4,
   "id": "f0681cab",
   "metadata": {
    "ExecuteTime": {
     "end_time": "2022-08-06T11:13:02.318254Z",
     "start_time": "2022-08-06T11:13:02.305982Z"
    }
   },
   "outputs": [],
   "source": [
    "class HelloCircle(Scene):\n",
    "    def construct(self):\n",
    "        # blue_circle = Circle(color=BLUE, fill_opacity=0.5)\n",
    "        # 此处也可以先创建一个“默认的”圆圈，再通过 set 方法添加自己想要的属性！\n",
    "        circle = Circle()\n",
    "        blue_circle = circle.set_color(BLUE).set_opacity(0.5)\n",
    "        \n",
    "        label = Text(\"A wild circle appears!\")\n",
    "        label.next_to(blue_circle, DOWN, buff=0.5)\n",
    "        \n",
    "        self.play(Create(blue_circle), Write(label))\n",
    "        self.wait()"
   ]
  },
  {
   "cell_type": "code",
   "execution_count": 5,
   "id": "55e9ad10",
   "metadata": {
    "ExecuteTime": {
     "end_time": "2022-08-06T11:13:23.276365Z",
     "start_time": "2022-08-06T11:13:21.851059Z"
    }
   },
   "outputs": [
    {
     "name": "stderr",
     "output_type": "stream",
     "text": [
      "                                                                                  \r"
     ]
    },
    {
     "data": {
      "text/html": [
       "<video src=\"media/jupyter/HelloCircle@2023-01-18@15-23-08.mp4\" controls autoplay loop style=\"max-width: 60%;\"  >\n",
       "      Your browser does not support the <code>video</code> element.\n",
       "    </video>"
      ],
      "text/plain": [
       "<IPython.core.display.Video object>"
      ]
     },
     "metadata": {},
     "output_type": "display_data"
    }
   ],
   "source": [
    "%manim -v WARNING -qm HelloCircle"
   ]
  },
  {
   "cell_type": "markdown",
   "id": "10e13e57",
   "metadata": {},
   "source": [
    "You can use `Text` to create labels, and it's position is achieved by the following code\n",
    "\n",
    "    label.next_to(blue_circle, DOWN, buff=0.5)\n",
    "\n",
    "`next_to` is one way to identify the position of the object. The first argument (`blue_circle`) specifies which object the text is attached with. The second argument (`DOWN`) tells Manim the direction, and you can also choose from (`LEFT`, `UP,` or `RIGHT`). Lastly, the argument `buff=0.5` controls the direction between the blue circle and text. \n",
    "\n",
    "There are other ways to identify the position of the object, such as `shift`, `to_edge`, `to_cornor,` and `move_to`. For more information on those, visit the [Manim Documentation](https://docs.manim.community/en/stable/).\n",
    "\n",
    "Here, we integrate `Create(blue_circle)` and `Write(label)` into one `self.play` function. You could also use the following syntax (i.e., using `self.play` independently for every motion. \n",
    "\n",
    "    self.play(Create(blue_circle))\n",
    "    self.play(Write(label)\n",
    "    \n",
    " In this case, the two animation will appear in a sequence. \n",
    " \n",
    " Instead of writing \n",
    " \n",
    "     circle = Circle()\n",
    "     blue_circle = circle.set_color(BLUE).set_opacity(0.5)\n",
    "     \n",
    "in two lines, you can combine them together by writing `blue_circle = Circle().set_color(BLUE).set_opacity(0.5)`."
   ]
  },
  {
   "cell_type": "markdown",
   "id": "1b0c335c",
   "metadata": {},
   "source": [
    "# Method of Animate"
   ]
  },
  {
   "cell_type": "code",
   "execution_count": 6,
   "id": "c71b6993",
   "metadata": {
    "ExecuteTime": {
     "end_time": "2022-08-06T11:27:33.624367Z",
     "start_time": "2022-08-06T11:27:33.612218Z"
    }
   },
   "outputs": [],
   "source": [
    "class CircleAnnouncement(Scene):\n",
    "    def construct(self):\n",
    "        blue_circle = Circle(color=BLUE, fill_opacity=0.5)\n",
    "        announcement = Text(\"Let us draw a circle.\")\n",
    "        \n",
    "        self.play(Write(announcement))\n",
    "        self.wait()\n",
    "        \n",
    "        self.play(announcement.animate.next_to(blue_circle, UP, buff=0.5))\n",
    "        self.play(Create(blue_circle))"
   ]
  },
  {
   "cell_type": "code",
   "execution_count": 7,
   "id": "29f96e34",
   "metadata": {
    "ExecuteTime": {
     "end_time": "2022-08-06T11:27:54.099654Z",
     "start_time": "2022-08-06T11:27:52.161062Z"
    }
   },
   "outputs": [
    {
     "name": "stderr",
     "output_type": "stream",
     "text": [
      "                                                                                                              \r"
     ]
    },
    {
     "data": {
      "text/html": [
       "<video src=\"media/jupyter/CircleAnnouncement@2023-01-18@15-23-11.mp4\" controls autoplay loop style=\"max-width: 60%;\"  >\n",
       "      Your browser does not support the <code>video</code> element.\n",
       "    </video>"
      ],
      "text/plain": [
       "<IPython.core.display.Video object>"
      ]
     },
     "metadata": {},
     "output_type": "display_data"
    }
   ],
   "source": [
    "%manim -v WARNING -qm CircleAnnouncement"
   ]
  },
  {
   "cell_type": "markdown",
   "id": "9a0b8324",
   "metadata": {},
   "source": [
    "By using `.animate` we can demonstrate the motion of how functions like `next_to`, `shit`, `rotate`, or `scale` influence an object. In other words, it creates an animation to showcase the object's movement. "
   ]
  },
  {
   "cell_type": "code",
   "execution_count": 8,
   "id": "d22ef01d",
   "metadata": {
    "ExecuteTime": {
     "end_time": "2022-08-06T11:32:16.240203Z",
     "start_time": "2022-08-06T11:32:16.224116Z"
    }
   },
   "outputs": [],
   "source": [
    "class AnimateSyntax(Scene):\n",
    "    def construct(self):\n",
    "        triangle = Triangle(color=RED, fill_opacity=1)\n",
    "        self.play(DrawBorderThenFill(triangle))\n",
    "        self.play(triangle.animate.shift(LEFT))\n",
    "        self.play(triangle.animate.shift(RIGHT).scale(2))\n",
    "        self.play(triangle.animate.rotate(PI/3))\n",
    "        self.play(triangle.animate.set_color(GREEN))"
   ]
  },
  {
   "cell_type": "code",
   "execution_count": 9,
   "id": "69535051",
   "metadata": {
    "ExecuteTime": {
     "end_time": "2022-08-06T11:32:24.476218Z",
     "start_time": "2022-08-06T11:32:22.764941Z"
    }
   },
   "outputs": [
    {
     "name": "stderr",
     "output_type": "stream",
     "text": [
      "                                                                                           \r"
     ]
    },
    {
     "data": {
      "text/html": [
       "<video src=\"media/jupyter/AnimateSyntax@2023-01-18@15-23-13.mp4\" controls autoplay loop style=\"max-width: 60%;\"  >\n",
       "      Your browser does not support the <code>video</code> element.\n",
       "    </video>"
      ],
      "text/plain": [
       "<IPython.core.display.Video object>"
      ]
     },
     "metadata": {},
     "output_type": "display_data"
    }
   ],
   "source": [
    "%manim -v WARNING -qm AnimateSyntax"
   ]
  },
  {
   "cell_type": "code",
   "execution_count": 10,
   "id": "bcfb80b2",
   "metadata": {
    "ExecuteTime": {
     "end_time": "2022-08-06T11:33:02.196143Z",
     "start_time": "2022-08-06T11:33:02.185916Z"
    }
   },
   "outputs": [],
   "source": [
    "class DifferentRotations(Scene):\n",
    "    def construct(self):\n",
    "        left_square = Square(color=BLUE, fill_opacity=0.7).shift(2*LEFT)\n",
    "        right_square = Square(color=GREEN, fill_opacity=0.7).shift(2*RIGHT)\n",
    "        self.play(left_square.animate.rotate(PI), Rotate(right_square, angle=PI), run_time=2)\n",
    "        self.wait()"
   ]
  },
  {
   "cell_type": "code",
   "execution_count": 11,
   "id": "2a5fa7ba",
   "metadata": {
    "ExecuteTime": {
     "end_time": "2022-08-06T11:33:07.897409Z",
     "start_time": "2022-08-06T11:33:07.040269Z"
    },
    "scrolled": true
   },
   "outputs": [
    {
     "name": "stderr",
     "output_type": "stream",
     "text": [
      "                                                                                             \r"
     ]
    },
    {
     "data": {
      "text/html": [
       "<video src=\"media/jupyter/DifferentRotations@2023-01-18@15-23-14.mp4\" controls autoplay loop style=\"max-width: 60%;\"  >\n",
       "      Your browser does not support the <code>video</code> element.\n",
       "    </video>"
      ],
      "text/plain": [
       "<IPython.core.display.Video object>"
      ]
     },
     "metadata": {},
     "output_type": "display_data"
    }
   ],
   "source": [
    "%manim -v WARNING -qm DifferentRotations"
   ]
  },
  {
   "cell_type": "markdown",
   "id": "81e5504f",
   "metadata": {},
   "source": [
    "# Using LaTeX"
   ]
  },
  {
   "cell_type": "code",
   "execution_count": 12,
   "id": "f2192989",
   "metadata": {
    "ExecuteTime": {
     "end_time": "2022-08-06T11:33:33.728591Z",
     "start_time": "2022-08-06T11:33:33.712528Z"
    }
   },
   "outputs": [],
   "source": [
    "class CauchyIntegralFormula(Scene):\n",
    "    def construct(self):\n",
    "        formula = MathTex(r\"[z^n]f(z) = \\frac{1}{2\\pi i}\\oint_{\\gamma} \\frac{f(z)}{z^{n+1}}~dz\")\n",
    "        self.play(Write(formula), run_time=3)\n",
    "        self.wait()"
   ]
  },
  {
   "cell_type": "code",
   "execution_count": 13,
   "id": "45d45578",
   "metadata": {
    "ExecuteTime": {
     "end_time": "2022-08-06T11:33:42.593791Z",
     "start_time": "2022-08-06T11:33:39.675902Z"
    }
   },
   "outputs": [
    {
     "name": "stderr",
     "output_type": "stream",
     "text": [
      "                                                                                                                                                       \r"
     ]
    },
    {
     "data": {
      "text/html": [
       "<video src=\"media/jupyter/CauchyIntegralFormula@2023-01-18@15-23-17.mp4\" controls autoplay loop style=\"max-width: 60%;\"  >\n",
       "      Your browser does not support the <code>video</code> element.\n",
       "    </video>"
      ],
      "text/plain": [
       "<IPython.core.display.Video object>"
      ]
     },
     "metadata": {},
     "output_type": "display_data"
    }
   ],
   "source": [
    "%manim -v WARNING -qm CauchyIntegralFormula"
   ]
  },
  {
   "cell_type": "code",
   "execution_count": 14,
   "id": "6befa554",
   "metadata": {
    "ExecuteTime": {
     "end_time": "2022-08-06T11:33:57.702084Z",
     "start_time": "2022-08-06T11:33:57.687908Z"
    }
   },
   "outputs": [],
   "source": [
    "class TransformEquation(Scene):\n",
    "    def construct(self):\n",
    "        eq1 = MathTex(\"42 {{ a^2 }} + {{ b^2 }} = {{ c^2 }}\")\n",
    "        eq2 = MathTex(\"42 {{ a^2 }} = {{ c^2 }} - {{ b^2 }}\")\n",
    "        eq3 = MathTex(r\"a^2 = \\frac{c^2 - b^2}{42}\")\n",
    "        self.add(eq1)\n",
    "        self.wait()\n",
    "        self.play(TransformMatchingTex(eq1, eq2))\n",
    "        self.wait()\n",
    "        self.play(TransformMatchingShapes(eq2, eq3))\n",
    "        self.wait()"
   ]
  },
  {
   "cell_type": "code",
   "execution_count": 15,
   "id": "0c5de3a9",
   "metadata": {
    "ExecuteTime": {
     "end_time": "2022-08-06T11:34:05.282324Z",
     "start_time": "2022-08-06T11:33:58.768082Z"
    }
   },
   "outputs": [
    {
     "name": "stderr",
     "output_type": "stream",
     "text": [
      "                                                                                           \r"
     ]
    },
    {
     "data": {
      "text/html": [
       "<video src=\"media/jupyter/TransformEquation@2023-01-18@15-23-26.mp4\" controls autoplay loop style=\"max-width: 60%;\"  >\n",
       "      Your browser does not support the <code>video</code> element.\n",
       "    </video>"
      ],
      "text/plain": [
       "<IPython.core.display.Video object>"
      ]
     },
     "metadata": {},
     "output_type": "display_data"
    }
   ],
   "source": [
    "%manim -v WARNING -qm TransformEquation"
   ]
  },
  {
   "cell_type": "markdown",
   "id": "a01238b8",
   "metadata": {},
   "source": [
    "By adding extra `{` and `}` signs in the LaTeX equation, you tell Manim how to break your equation down into small parts, instead of regarding them as a complete TeX string. This will help you when using`TrasnformMatchingTex`. However, it may not that useful when using `TransformMatchingShapes`. "
   ]
  },
  {
   "cell_type": "markdown",
   "id": "25df070e",
   "metadata": {},
   "source": [
    "# More Professional Examples"
   ]
  },
  {
   "cell_type": "code",
   "execution_count": 16,
   "id": "f31a466b",
   "metadata": {
    "ExecuteTime": {
     "end_time": "2022-08-06T11:36:52.003557Z",
     "start_time": "2022-08-06T11:36:51.988941Z"
    }
   },
   "outputs": [],
   "source": [
    "class FormulaEmphasis(Scene):\n",
    "    def construct(self):\n",
    "        product_formula = MathTex(\n",
    "            r\"\\frac{d}{dx} f(x)g(x) =\",\n",
    "            r\"f(x) \\frac{d}{dx} g(x)\",\n",
    "            r\"+\",\n",
    "            r\"g(x) \\frac{d}{dx} f(x)\"\n",
    "        )\n",
    "        self.play(Write(product_formula))\n",
    "        box1 = SurroundingRectangle(product_formula[1], buff=0.1)\n",
    "        box2 = SurroundingRectangle(product_formula[3], buff=0.1)\n",
    "        self.play(Create(box1))\n",
    "        self.wait()\n",
    "        self.play(Transform(box1, box2))\n",
    "        self.wait()"
   ]
  },
  {
   "cell_type": "code",
   "execution_count": 17,
   "id": "12150680",
   "metadata": {
    "ExecuteTime": {
     "end_time": "2022-08-06T11:36:58.191692Z",
     "start_time": "2022-08-06T11:36:53.756708Z"
    }
   },
   "outputs": [
    {
     "name": "stderr",
     "output_type": "stream",
     "text": [
      "                                                                                                                                                          \r"
     ]
    },
    {
     "data": {
      "text/html": [
       "<video src=\"media/jupyter/FormulaEmphasis@2023-01-18@15-23-32.mp4\" controls autoplay loop style=\"max-width: 60%;\"  >\n",
       "      Your browser does not support the <code>video</code> element.\n",
       "    </video>"
      ],
      "text/plain": [
       "<IPython.core.display.Video object>"
      ]
     },
     "metadata": {},
     "output_type": "display_data"
    }
   ],
   "source": [
    "%manim -v WARNING -qm FormulaEmphasis"
   ]
  },
  {
   "cell_type": "code",
   "execution_count": 18,
   "id": "a5d652dd",
   "metadata": {
    "ExecuteTime": {
     "end_time": "2022-08-06T11:37:12.279788Z",
     "start_time": "2022-08-06T11:37:12.260299Z"
    }
   },
   "outputs": [],
   "source": [
    "class PlotExample(Scene):\n",
    "    def construct(self):\n",
    "        plot_axes = Axes(\n",
    "            x_range=[0, 1, 0.05],\n",
    "            y_range=[0, 1, 0.05],\n",
    "            x_length=9,\n",
    "            y_length=5.5,\n",
    "            axis_config={\n",
    "                \"numbers_to_include\": np.arange(0, 1 + 0.1, 0.1),\n",
    "                \"font_size\": 24,\n",
    "            },\n",
    "            tips=False,\n",
    "        )\n",
    "\n",
    "        y_label = plot_axes.get_y_axis_label(\"y\", edge=LEFT, direction=LEFT, buff=0.4)\n",
    "        x_label = plot_axes.get_x_axis_label(\"x\")\n",
    "        plot_labels = VGroup(x_label, y_label)\n",
    "\n",
    "        plots = VGroup()\n",
    "        for n in np.arange(1, 20 + 0.5, 0.5):\n",
    "            plots += plot_axes.plot(lambda x: x**n, color=WHITE)\n",
    "            plots += plot_axes.plot(\n",
    "                lambda x: x**(1 / n), color=WHITE, use_smoothing=False\n",
    "            )\n",
    "\n",
    "        extras = VGroup()\n",
    "        extras += plot_axes.get_horizontal_line(plot_axes.c2p(1, 1, 0), color=BLUE)\n",
    "        extras += plot_axes.get_vertical_line(plot_axes.c2p(1, 1, 0), color=BLUE)\n",
    "        extras += Dot(point=plot_axes.c2p(1, 1, 0), color=YELLOW)\n",
    "        title = Title(\n",
    "            r\"Graphs of $y=x^{\\frac{1}{n}}$ and $y=x^n (n=1, 1.5, 2, 2.5, 3, \\dots, 20)$\",\n",
    "            include_underline=False,\n",
    "            font_size=40,\n",
    "        )\n",
    "        \n",
    "        self.play(Write(title))\n",
    "        self.play(Create(plot_axes), Create(plot_labels), Create(extras))\n",
    "        self.play(AnimationGroup(*[Create(plot) for plot in plots], lag_ratio=0.05))"
   ]
  },
  {
   "cell_type": "code",
   "execution_count": 19,
   "id": "3623cc0f",
   "metadata": {
    "ExecuteTime": {
     "end_time": "2022-08-06T11:37:39.729043Z",
     "start_time": "2022-08-06T11:37:19.112657Z"
    }
   },
   "outputs": [
    {
     "name": "stderr",
     "output_type": "stream",
     "text": [
      "                                                                                                                                                          \r"
     ]
    },
    {
     "data": {
      "text/html": [
       "<video src=\"media/jupyter/PlotExample@2023-01-18@15-24-05.mp4\" controls autoplay loop style=\"max-width: 60%;\"  >\n",
       "      Your browser does not support the <code>video</code> element.\n",
       "    </video>"
      ],
      "text/plain": [
       "<IPython.core.display.Video object>"
      ]
     },
     "metadata": {},
     "output_type": "display_data"
    }
   ],
   "source": [
    "%manim -v WARNING -qm PlotExample"
   ]
  },
  {
   "cell_type": "code",
   "execution_count": 20,
   "id": "38b48599",
   "metadata": {
    "ExecuteTime": {
     "end_time": "2022-08-06T11:37:50.251489Z",
     "start_time": "2022-08-06T11:37:50.225643Z"
    }
   },
   "outputs": [],
   "source": [
    "import networkx as nx\n",
    "\n",
    "nxgraph = nx.erdos_renyi_graph(14, 0.5)\n",
    "\n",
    "class ErdosRenyiGraph(Scene):\n",
    "    def construct(self):\n",
    "        G = Graph.from_networkx(nxgraph, layout=\"spring\", layout_scale=3.5)\n",
    "        self.play(Create(G))\n",
    "        self.play(*[G[v].animate.move_to(5*RIGHT*np.cos(ind/7 * PI) +\n",
    "                                         3*UP*np.sin(ind/7 * PI))\n",
    "                    for ind, v in enumerate(G.vertices)])\n",
    "        self.play(Uncreate(G))"
   ]
  },
  {
   "cell_type": "code",
   "execution_count": 21,
   "id": "f383a4fc",
   "metadata": {
    "ExecuteTime": {
     "end_time": "2022-08-06T11:37:58.987359Z",
     "start_time": "2022-08-06T11:37:56.658605Z"
    }
   },
   "outputs": [
    {
     "name": "stderr",
     "output_type": "stream",
     "text": [
      "                                                                                                         \r"
     ]
    },
    {
     "data": {
      "text/html": [
       "<video src=\"media/jupyter/ErdosRenyiGraph@2023-01-18@15-24-08.mp4\" controls autoplay loop style=\"max-width: 60%;\"  >\n",
       "      Your browser does not support the <code>video</code> element.\n",
       "    </video>"
      ],
      "text/plain": [
       "<IPython.core.display.Video object>"
      ]
     },
     "metadata": {},
     "output_type": "display_data"
    }
   ],
   "source": [
    "%manim -v WARNING -qm ErdosRenyiGraph"
   ]
  },
  {
   "cell_type": "code",
   "execution_count": 22,
   "id": "56c3665b",
   "metadata": {
    "ExecuteTime": {
     "end_time": "2022-08-06T11:38:10.307767Z",
     "start_time": "2022-08-06T11:38:10.292633Z"
    }
   },
   "outputs": [],
   "source": [
    "class CodeFromString(Scene):\n",
    "    def construct(self):\n",
    "        code = '''from manim import Scene, Square\n",
    "\n",
    "class FadeInSquare(Scene):\n",
    "    def construct(self):\n",
    "        s = Square()\n",
    "        self.play(FadeIn(s))\n",
    "        self.play(s.animate.scale(2))\n",
    "        self.wait()\n",
    "'''\n",
    "        rendered_code = Code(code=code, tab_width=4, background=\"window\",\n",
    "                            language=\"Python\", font=\"Monospace\")\n",
    "        self.play(Write(rendered_code))\n",
    "        self.wait(2)"
   ]
  },
  {
   "cell_type": "code",
   "execution_count": 23,
   "id": "4fb98098",
   "metadata": {
    "ExecuteTime": {
     "start_time": "2022-08-06T11:38:15.751Z"
    }
   },
   "outputs": [
    {
     "name": "stderr",
     "output_type": "stream",
     "text": [
      "                                                                                          \r"
     ]
    },
    {
     "data": {
      "text/html": [
       "<video src=\"media/jupyter/CodeFromString@2023-01-18@15-24-15.mp4\" controls autoplay loop style=\"max-width: 60%;\"  >\n",
       "      Your browser does not support the <code>video</code> element.\n",
       "    </video>"
      ],
      "text/plain": [
       "<IPython.core.display.Video object>"
      ]
     },
     "metadata": {},
     "output_type": "display_data"
    }
   ],
   "source": [
    "%manim -v WARNING -qm CodeFromString"
   ]
  },
  {
   "cell_type": "code",
   "execution_count": null,
   "id": "98182199",
   "metadata": {},
   "outputs": [],
   "source": []
  }
 ],
 "metadata": {
  "kernelspec": {
   "display_name": "base",
   "language": "python",
   "name": "python3"
  },
  "language_info": {
   "codemirror_mode": {
    "name": "ipython",
    "version": 3
   },
   "file_extension": ".py",
   "mimetype": "text/x-python",
   "name": "python",
   "nbconvert_exporter": "python",
   "pygments_lexer": "ipython3",
   "version": "3.9.12"
  },
  "latex_envs": {
   "LaTeX_envs_menu_present": true,
   "autoclose": false,
   "autocomplete": false,
   "bibliofile": "biblio.bib",
   "cite_by": "apalike",
   "current_citInitial": 1,
   "eqLabelWithNumbers": true,
   "eqNumInitial": 1,
   "hotkeys": {
    "equation": "Ctrl-E",
    "itemize": "Ctrl-I"
   },
   "labels_anchors": false,
   "latex_user_defs": false,
   "report_style_numbering": false,
   "user_envs_cfg": false
  },
  "toc": {
   "base_numbering": 1,
   "nav_menu": {},
   "number_sections": true,
   "sideBar": true,
   "skip_h1_title": false,
   "title_cell": "Table of Contents",
   "title_sidebar": "Contents",
   "toc_cell": true,
   "toc_position": {},
   "toc_section_display": true,
   "toc_window_display": true
  },
  "varInspector": {
   "cols": {
    "lenName": 16,
    "lenType": 16,
    "lenVar": 40
   },
   "kernels_config": {
    "python": {
     "delete_cmd_postfix": "",
     "delete_cmd_prefix": "del ",
     "library": "var_list.py",
     "varRefreshCmd": "print(var_dic_list())"
    },
    "r": {
     "delete_cmd_postfix": ") ",
     "delete_cmd_prefix": "rm(",
     "library": "var_list.r",
     "varRefreshCmd": "cat(var_dic_list()) "
    }
   },
   "types_to_exclude": [
    "module",
    "function",
    "builtin_function_or_method",
    "instance",
    "_Feature"
   ],
   "window_display": false
  },
  "vscode": {
   "interpreter": {
    "hash": "eb4fa49255c4ffd49ab8f6a8494673640d8eb08e0462b4ce9fd3bf3e69f7fc2a"
   }
  }
 },
 "nbformat": 4,
 "nbformat_minor": 5
}

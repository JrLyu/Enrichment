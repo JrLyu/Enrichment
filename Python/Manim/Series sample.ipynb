{
 "cells": [
  {
   "cell_type": "code",
   "execution_count": 1,
   "metadata": {},
   "outputs": [
    {
     "name": "stderr",
     "output_type": "stream",
     "text": [
      "/Users/richardlyu/opt/anaconda3/lib/python3.9/site-packages/scipy/__init__.py:146: UserWarning: A NumPy version >=1.16.5 and <1.23.0 is required for this version of SciPy (detected version 1.23.1\n",
      "  warnings.warn(f\"A NumPy version >={np_minversion} and <{np_maxversion}\"\n"
     ]
    },
    {
     "data": {
      "text/html": [
       "<pre style=\"white-space:pre;overflow-x:auto;line-height:normal;font-family:Menlo,'DejaVu Sans Mono',consolas,'Courier New',monospace\">Manim Community <span style=\"color: #008000; text-decoration-color: #008000\">v0.16.0.post0</span>\n",
       "\n",
       "</pre>\n"
      ],
      "text/plain": [
       "Manim Community \u001b[32mv0.\u001b[0m\u001b[32m16.0\u001b[0m\u001b[32m.post0\u001b[0m\n",
       "\n"
      ]
     },
     "metadata": {},
     "output_type": "display_data"
    }
   ],
   "source": [
    "from manim import *\n",
    "import jupyter_manim\n",
    "\n",
    "# Set the width of the video. \n",
    "config.media_width = \"60%\""
   ]
  },
  {
   "cell_type": "code",
   "execution_count": 4,
   "metadata": {},
   "outputs": [],
   "source": [
    "class Series(Scene):\n",
    "    def construct(self):\n",
    "        question = MathTex(r\"\\text{Consider the series }{{ \\sum_{n=1}^\\infty\\frac{n+1}{n^3+1} }}.\")\n",
    "        eq1 = MathTex(r\"\\sum_{n=1}^\\infty {{ \\frac{n+1}{n^3+1} }}\")\n",
    "        eq2 = MathTex(r\"{{ \\frac{n+1}{n^3+1} }}\")\n",
    "        eq3 = MathTex(\n",
    "            r\"{{ \\frac{n+1}{n^3+1} }}\", \n",
    "            r\"<\\frac{n+1}{n^3}=\",\n",
    "            r\"{{ \\frac{1}{n^2} }}\",\n",
    "            r\"+\",\n",
    "            r\"{{ \\frac{1}{n^3} }}\"\n",
    "        )\n",
    "        eq4 = MathTex(r\"\\sum_{n=1}^\\infty {{ \\frac{1}{n^2} }}\")\n",
    "        eq5 = MathTex(r\"\\sum_{n=1}^\\infty {{ \\frac{1}{n^2} }}\", r\"\\text{ is a convergent }p\\text{-series, with }p=2.\")\n",
    "        eq6 = MathTex(r\"\\sum_{n=1}^\\infty {{ \\frac{1}{n^3} }}\")\n",
    "        eq7 = MathTex(r\"\\sum_{n=1}^\\infty {{ \\frac{1}{n^3} }}\", r\"\\text{ is a convergent }p\\text{-series, with }p=3.\")\n",
    "        eq8 = MathTex(\n",
    "            r\"\\therefore\\sum_{n=1}^\\infty\\frac{n+1}{n^3}=\\sum_{n=1}^\\infty\\left(\\frac{1}{n^2}+\\frac{1}{n^3}\\right)=\\sum_{n=1}^\\infty\\frac{1}{n^2}+\\sum_{n=1}^\\infty\\frac{1}{n^3}\",\n",
    "            )\n",
    "        text1 = Text(\"Converges\")\n",
    "        text2 = Text(\"By comparison test, \")\n",
    "        \n",
    "        self.play(Write(question))\n",
    "        self.wait()\n",
    "        self.play(Write(eq1), question.animate.next_to(eq1, UP))\n",
    "        self.wait(2)\n",
    "        self.play(TransformMatchingTex(eq1, eq2))\n",
    "        self.wait()\n",
    "        self.play(TransformMatchingTex(eq2, eq3))\n",
    "        self.wait()\n",
    "        self.play(eq3.animate.next_to(eq4, DOWN))\n",
    "        box1 = SurroundingRectangle(eq3[2], buff=0.1)\n",
    "        self.play(Create(box1))\n",
    "        self.wait()\n",
    "        self.play(TransformMatchingTex(eq4, eq5))\n",
    "        self.wait(4)\n",
    "        self.remove(eq5, box1)\n",
    "        self.wait()\n",
    "        self.play(eq3.animate.next_to(eq6, DOWN))\n",
    "        box2 = SurroundingRectangle(eq3[4], buff=0.1)\n",
    "        self.play(Create(box2))\n",
    "        self.wait()\n",
    "        self.play((TransformMatchingTex(eq6, eq7)))\n",
    "        self.wait(4)\n",
    "        self.remove(eq7, box2)\n",
    "        self.play(eq3.animate.next_to(question, DOWN))\n",
    "        self.wait()\n",
    "        self.play(eq8.animate.next_to(eq3, DOWN))\n",
    "        self.wait(3)\n",
    "        self.play(Write(text1), text1.animate.next_to(eq8, DOWN))\n",
    "        self.wait(3)\n",
    "        self.remove(text1, eq3, eq8)\n",
    "        self.play(text2.animate.next_to(question, DOWN))\n",
    "        self.play(Write(eq1), eq1.animate.next_to(text2, DOWN))\n",
    "        self.play(Write(text1), text1.animate.next_to(eq1, DOWN))\n",
    "        self.wait(3)\n",
    "        self.remove(question, text2, eq1, text1)"
   ]
  },
  {
   "cell_type": "code",
   "execution_count": 5,
   "metadata": {},
   "outputs": [
    {
     "name": "stderr",
     "output_type": "stream",
     "text": [
      "                                                                                                                                                                                                                                                                              \r"
     ]
    },
    {
     "data": {
      "text/html": [
       "<video src=\"media/jupyter/Series@2023-01-18@15-25-27.mp4\" controls autoplay loop style=\"max-width: 60%;\"  >\n",
       "      Your browser does not support the <code>video</code> element.\n",
       "    </video>"
      ],
      "text/plain": [
       "<IPython.core.display.Video object>"
      ]
     },
     "metadata": {},
     "output_type": "display_data"
    }
   ],
   "source": [
    "%manim -v WARNING -qm Series"
   ]
  },
  {
   "cell_type": "code",
   "execution_count": null,
   "metadata": {},
   "outputs": [],
   "source": []
  }
 ],
 "metadata": {
  "kernelspec": {
   "display_name": "base",
   "language": "python",
   "name": "python3"
  },
  "language_info": {
   "codemirror_mode": {
    "name": "ipython",
    "version": 3
   },
   "file_extension": ".py",
   "mimetype": "text/x-python",
   "name": "python",
   "nbconvert_exporter": "python",
   "pygments_lexer": "ipython3",
   "version": "3.9.12"
  },
  "orig_nbformat": 4,
  "vscode": {
   "interpreter": {
    "hash": "eb4fa49255c4ffd49ab8f6a8494673640d8eb08e0462b4ce9fd3bf3e69f7fc2a"
   }
  }
 },
 "nbformat": 4,
 "nbformat_minor": 2
}

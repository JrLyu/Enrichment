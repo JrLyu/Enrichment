{
 "cells": [
  {
   "cell_type": "markdown",
   "id": "a561be94",
   "metadata": {},
   "source": [
    "# Hello World!"
   ]
  },
  {
   "cell_type": "code",
   "execution_count": 17,
   "id": "e1e3149e",
   "metadata": {},
   "outputs": [
    {
     "name": "stdout",
     "output_type": "stream",
     "text": [
      "Hello Python interpreter!\n"
     ]
    }
   ],
   "source": [
    "print(\"Hello Python interpreter!\")"
   ]
  },
  {
   "cell_type": "markdown",
   "id": "ea8089d8",
   "metadata": {},
   "source": [
    "Defining a variable"
   ]
  },
  {
   "cell_type": "code",
   "execution_count": 2,
   "id": "e9a4a3dd",
   "metadata": {},
   "outputs": [
    {
     "name": "stdout",
     "output_type": "stream",
     "text": [
      "Hello Python world!\n"
     ]
    }
   ],
   "source": [
    "message = \"Hello Python world!\" #message is a variable\n",
    "print(message)"
   ]
  },
  {
   "cell_type": "markdown",
   "id": "7ab4406d",
   "metadata": {},
   "source": [
    "You can always change the value of a variable. Python will only remember the value of the newest command. "
   ]
  },
  {
   "cell_type": "code",
   "execution_count": 3,
   "id": "3e5d870a",
   "metadata": {},
   "outputs": [
    {
     "name": "stdout",
     "output_type": "stream",
     "text": [
      "Hello Python world!\n",
      "Hello Python Crash Course world!\n"
     ]
    }
   ],
   "source": [
    "print(message)\n",
    "message = \"Hello Python Crash Course world!\"\n",
    "print(message)"
   ]
  },
  {
   "cell_type": "markdown",
   "id": "6fc7171d",
   "metadata": {},
   "source": [
    "# String"
   ]
  },
  {
   "cell_type": "code",
   "execution_count": 4,
   "id": "e4de55d9",
   "metadata": {},
   "outputs": [
    {
     "name": "stdout",
     "output_type": "stream",
     "text": [
      "Ada Lovelace\n"
     ]
    }
   ],
   "source": [
    "name = \"ada lovelace\"\n",
    "print(name.title())"
   ]
  },
  {
   "cell_type": "code",
   "execution_count": 5,
   "id": "d618ef45",
   "metadata": {},
   "outputs": [
    {
     "name": "stdout",
     "output_type": "stream",
     "text": [
      "ADA LOVELACE\n",
      "ada lovelace\n"
     ]
    }
   ],
   "source": [
    "print(name.upper())\n",
    "print(name.lower())"
   ]
  },
  {
   "cell_type": "markdown",
   "id": "974b438a",
   "metadata": {},
   "source": [
    "Adding \"f\" allows inserting strings within a string."
   ]
  },
  {
   "cell_type": "code",
   "execution_count": 6,
   "id": "c7ca70ea",
   "metadata": {},
   "outputs": [
    {
     "name": "stdout",
     "output_type": "stream",
     "text": [
      "ada lovelace\n"
     ]
    }
   ],
   "source": [
    "first_name = \"ada\"\n",
    "last_name = \"lovelace\"\n",
    "full_name = f\"{first_name} {last_name}\"\n",
    "print(full_name)"
   ]
  },
  {
   "cell_type": "code",
   "execution_count": 7,
   "id": "aeabfd2a",
   "metadata": {},
   "outputs": [
    {
     "name": "stdout",
     "output_type": "stream",
     "text": [
      "Hello,Ada Lovelace!\n"
     ]
    }
   ],
   "source": [
    "print(f\"Hello,{full_name.title()}!\")"
   ]
  },
  {
   "cell_type": "code",
   "execution_count": 8,
   "id": "760c3892",
   "metadata": {},
   "outputs": [
    {
     "name": "stdout",
     "output_type": "stream",
     "text": [
      "Hello,Ada Lovelace!\n"
     ]
    }
   ],
   "source": [
    "message = f\"Hello,{full_name.title()}!\"\n",
    "print(message)"
   ]
  },
  {
   "cell_type": "code",
   "execution_count": 9,
   "id": "e211d13d",
   "metadata": {},
   "outputs": [
    {
     "name": "stdout",
     "output_type": "stream",
     "text": [
      "python\n",
      "\tpython\n"
     ]
    }
   ],
   "source": [
    "#Adding a space: \\t\n",
    "print(\"python\")\n",
    "print(\"\\tpython\")"
   ]
  },
  {
   "cell_type": "code",
   "execution_count": 11,
   "id": "435c36d5",
   "metadata": {},
   "outputs": [
    {
     "name": "stdout",
     "output_type": "stream",
     "text": [
      "Languages:\n",
      "Python\n",
      "C\n",
      "JavaScript\n"
     ]
    }
   ],
   "source": [
    "#changing line: \\n\n",
    "print(\"Languages:\\nPython\\nC\\nJavaScript\")"
   ]
  },
  {
   "cell_type": "code",
   "execution_count": 16,
   "id": "8e01f88d",
   "metadata": {},
   "outputs": [
    {
     "data": {
      "text/plain": [
       "'python '"
      ]
     },
     "execution_count": 16,
     "metadata": {},
     "output_type": "execute_result"
    }
   ],
   "source": [
    "#Deleting extra space: rstrip()\n",
    "favoriate_language = 'python '\n",
    "favoriate_language\n",
    "favoriate_language.rstrip()\n",
    "#favoriate_language.rstrip() does not change the value of favoriate_language: \n",
    "favoriate_language"
   ]
  },
  {
   "cell_type": "code",
   "execution_count": 18,
   "id": "d4177439",
   "metadata": {},
   "outputs": [
    {
     "data": {
      "text/plain": [
       "'python'"
      ]
     },
     "execution_count": 18,
     "metadata": {},
     "output_type": "execute_result"
    }
   ],
   "source": [
    "#Deleting extra space forever: \n",
    "favoriate_language = favoriate_language.rstrip()\n",
    "favoriate_language"
   ]
  },
  {
   "cell_type": "code",
   "execution_count": 22,
   "id": "b9417eb5",
   "metadata": {},
   "outputs": [
    {
     "data": {
      "text/plain": [
       "' python'"
      ]
     },
     "execution_count": 22,
     "metadata": {},
     "output_type": "execute_result"
    }
   ],
   "source": [
    "favoriate_language = ' python '\n",
    "favoriate_language.rstrip() #Deleting space on the right"
   ]
  },
  {
   "cell_type": "code",
   "execution_count": 20,
   "id": "b6f537eb",
   "metadata": {},
   "outputs": [
    {
     "data": {
      "text/plain": [
       "'python '"
      ]
     },
     "execution_count": 20,
     "metadata": {},
     "output_type": "execute_result"
    }
   ],
   "source": [
    "favorite_language.lstrip() #Deleting space on the left"
   ]
  },
  {
   "cell_type": "code",
   "execution_count": 21,
   "id": "f63b4919",
   "metadata": {},
   "outputs": [
    {
     "data": {
      "text/plain": [
       "'python'"
      ]
     },
     "execution_count": 21,
     "metadata": {},
     "output_type": "execute_result"
    }
   ],
   "source": [
    "favorite_language.strip() #Deleting all spaces"
   ]
  },
  {
   "cell_type": "markdown",
   "id": "9f45f1b8",
   "metadata": {},
   "source": [
    "## Exercise"
   ]
  },
  {
   "cell_type": "code",
   "execution_count": 25,
   "id": "265b092f",
   "metadata": {},
   "outputs": [
    {
     "name": "stdout",
     "output_type": "stream",
     "text": [
      "Zhengxing Wang\n",
      "Charles Wang\n",
      "Hello Charles, would you like to learn some Python today?\n"
     ]
    }
   ],
   "source": [
    "first_name = \"zhengxing\"\n",
    "last_name = \"wang\"\n",
    "eng_name = \"charles\"\n",
    "full_name = f\"{first_name} {last_name}\"\n",
    "eng_full_name = f\"{eng_name} {last_name}\"\n",
    "print(full_name.title())\n",
    "print(eng_full_name.title())\n",
    "print(f\"Hello {eng_name.title()}, would you like to learn some Python today?\")"
   ]
  },
  {
   "cell_type": "code",
   "execution_count": 29,
   "id": "a0c6dfae",
   "metadata": {},
   "outputs": [
    {
     "name": "stdout",
     "output_type": "stream",
     "text": [
      "Alber Camus once said,\"Real generosity toward the future lies in giving all to the present.\"\n"
     ]
    }
   ],
   "source": [
    "famous_first_name = \"alber\"\n",
    "famous_last_name = \"camus\"\n",
    "famous_name = f\"{famous_first_name} {famous_last_name}\"\n",
    "saying = \"Real generosity toward the future lies in giving all to the present.\"\n",
    "print(f'{famous_name.title()} once said,\"{saying}\"')"
   ]
  },
  {
   "cell_type": "markdown",
   "id": "587ab986",
   "metadata": {},
   "source": [
    "# Number and Calculation"
   ]
  },
  {
   "cell_type": "markdown",
   "id": "1f177443",
   "metadata": {},
   "source": [
    "Python can calculate integers. "
   ]
  },
  {
   "cell_type": "code",
   "execution_count": 30,
   "id": "c75ba06d",
   "metadata": {},
   "outputs": [
    {
     "data": {
      "text/plain": [
       "5"
      ]
     },
     "execution_count": 30,
     "metadata": {},
     "output_type": "execute_result"
    }
   ],
   "source": [
    "2 + 3"
   ]
  },
  {
   "cell_type": "code",
   "execution_count": 31,
   "id": "6ba10262",
   "metadata": {},
   "outputs": [
    {
     "data": {
      "text/plain": [
       "1"
      ]
     },
     "execution_count": 31,
     "metadata": {},
     "output_type": "execute_result"
    }
   ],
   "source": [
    "3 - 2"
   ]
  },
  {
   "cell_type": "code",
   "execution_count": 32,
   "id": "aa307107",
   "metadata": {},
   "outputs": [
    {
     "data": {
      "text/plain": [
       "6"
      ]
     },
     "execution_count": 32,
     "metadata": {},
     "output_type": "execute_result"
    }
   ],
   "source": [
    "2 * 3"
   ]
  },
  {
   "cell_type": "code",
   "execution_count": 33,
   "id": "c725901a",
   "metadata": {},
   "outputs": [
    {
     "data": {
      "text/plain": [
       "1.5"
      ]
     },
     "execution_count": 33,
     "metadata": {},
     "output_type": "execute_result"
    }
   ],
   "source": [
    "3 / 2"
   ]
  },
  {
   "cell_type": "markdown",
   "id": "4b18a052",
   "metadata": {},
   "source": [
    "Python uses \"**\" to interpret sqaure."
   ]
  },
  {
   "cell_type": "code",
   "execution_count": 34,
   "id": "a04035ec",
   "metadata": {},
   "outputs": [
    {
     "data": {
      "text/plain": [
       "9"
      ]
     },
     "execution_count": 34,
     "metadata": {},
     "output_type": "execute_result"
    }
   ],
   "source": [
    "3 ** 2"
   ]
  },
  {
   "cell_type": "code",
   "execution_count": 35,
   "id": "970bf42e",
   "metadata": {},
   "outputs": [
    {
     "data": {
      "text/plain": [
       "27"
      ]
     },
     "execution_count": 35,
     "metadata": {},
     "output_type": "execute_result"
    }
   ],
   "source": [
    "3 ** 3"
   ]
  },
  {
   "cell_type": "code",
   "execution_count": 36,
   "id": "3e1c069f",
   "metadata": {},
   "outputs": [
    {
     "data": {
      "text/plain": [
       "1000000"
      ]
     },
     "execution_count": 36,
     "metadata": {},
     "output_type": "execute_result"
    }
   ],
   "source": [
    "10 ** 6"
   ]
  },
  {
   "cell_type": "markdown",
   "id": "613414a5",
   "metadata": {},
   "source": [
    "Python will follow the order of calculation. "
   ]
  },
  {
   "cell_type": "code",
   "execution_count": 37,
   "id": "ef74cd81",
   "metadata": {},
   "outputs": [
    {
     "data": {
      "text/plain": [
       "14"
      ]
     },
     "execution_count": 37,
     "metadata": {},
     "output_type": "execute_result"
    }
   ],
   "source": [
    "2 + 3*4"
   ]
  },
  {
   "cell_type": "code",
   "execution_count": 38,
   "id": "3548c0eb",
   "metadata": {},
   "outputs": [
    {
     "data": {
      "text/plain": [
       "20"
      ]
     },
     "execution_count": 38,
     "metadata": {},
     "output_type": "execute_result"
    }
   ],
   "source": [
    "(2+3) * 4"
   ]
  },
  {
   "cell_type": "markdown",
   "id": "fdcf33bc",
   "metadata": {},
   "source": [
    "Floating Point Numbers: Numbers that have a decimal point. "
   ]
  },
  {
   "cell_type": "code",
   "execution_count": 39,
   "id": "9ea20aeb",
   "metadata": {},
   "outputs": [
    {
     "data": {
      "text/plain": [
       "0.2"
      ]
     },
     "execution_count": 39,
     "metadata": {},
     "output_type": "execute_result"
    }
   ],
   "source": [
    "0.1 + 0.1"
   ]
  },
  {
   "cell_type": "code",
   "execution_count": 40,
   "id": "1b5d9c79",
   "metadata": {},
   "outputs": [
    {
     "data": {
      "text/plain": [
       "0.4"
      ]
     },
     "execution_count": 40,
     "metadata": {},
     "output_type": "execute_result"
    }
   ],
   "source": [
    "0.2 + 0.2"
   ]
  },
  {
   "cell_type": "code",
   "execution_count": 41,
   "id": "23793964",
   "metadata": {},
   "outputs": [
    {
     "data": {
      "text/plain": [
       "0.2"
      ]
     },
     "execution_count": 41,
     "metadata": {},
     "output_type": "execute_result"
    }
   ],
   "source": [
    "2 * 0.1"
   ]
  },
  {
   "cell_type": "code",
   "execution_count": 42,
   "id": "6784ac16",
   "metadata": {},
   "outputs": [
    {
     "data": {
      "text/plain": [
       "0.4"
      ]
     },
     "execution_count": 42,
     "metadata": {},
     "output_type": "execute_result"
    }
   ],
   "source": [
    "2 * 0.2"
   ]
  },
  {
   "cell_type": "code",
   "execution_count": 43,
   "id": "89662127",
   "metadata": {},
   "outputs": [
    {
     "data": {
      "text/plain": [
       "0.30000000000000004"
      ]
     },
     "execution_count": 43,
     "metadata": {},
     "output_type": "execute_result"
    }
   ],
   "source": [
    "0.2 + 0.1"
   ]
  },
  {
   "cell_type": "code",
   "execution_count": 44,
   "id": "c9a5588b",
   "metadata": {},
   "outputs": [
    {
     "data": {
      "text/plain": [
       "0.30000000000000004"
      ]
     },
     "execution_count": 44,
     "metadata": {},
     "output_type": "execute_result"
    }
   ],
   "source": [
    "3 * 0.1"
   ]
  },
  {
   "cell_type": "code",
   "execution_count": 45,
   "id": "65265b07",
   "metadata": {},
   "outputs": [
    {
     "data": {
      "text/plain": [
       "2.0"
      ]
     },
     "execution_count": 45,
     "metadata": {},
     "output_type": "execute_result"
    }
   ],
   "source": [
    "4/2"
   ]
  },
  {
   "cell_type": "code",
   "execution_count": 46,
   "id": "0afa14bf",
   "metadata": {},
   "outputs": [
    {
     "data": {
      "text/plain": [
       "3.0"
      ]
     },
     "execution_count": 46,
     "metadata": {},
     "output_type": "execute_result"
    }
   ],
   "source": [
    "1 + 2.0"
   ]
  },
  {
   "cell_type": "code",
   "execution_count": 47,
   "id": "9e60c348",
   "metadata": {},
   "outputs": [
    {
     "data": {
      "text/plain": [
       "6.0"
      ]
     },
     "execution_count": 47,
     "metadata": {},
     "output_type": "execute_result"
    }
   ],
   "source": [
    "2 * 3.0"
   ]
  },
  {
   "cell_type": "code",
   "execution_count": 48,
   "id": "d25dc151",
   "metadata": {},
   "outputs": [
    {
     "data": {
      "text/plain": [
       "9.0"
      ]
     },
     "execution_count": 48,
     "metadata": {},
     "output_type": "execute_result"
    }
   ],
   "source": [
    "3.0 ** 2"
   ]
  },
  {
   "cell_type": "markdown",
   "id": "98c79b9f",
   "metadata": {},
   "source": [
    "You can use the underline function to write very big number. When printing the number, python will not report those underlines. "
   ]
  },
  {
   "cell_type": "code",
   "execution_count": 49,
   "id": "d239540d",
   "metadata": {},
   "outputs": [
    {
     "name": "stdout",
     "output_type": "stream",
     "text": [
      "14000000000\n"
     ]
    }
   ],
   "source": [
    "universe_age = 14_000_000_000\n",
    "print(universe_age)"
   ]
  },
  {
   "cell_type": "markdown",
   "id": "97a64e87",
   "metadata": {},
   "source": [
    "You can define multiple variables at the same time. "
   ]
  },
  {
   "cell_type": "code",
   "execution_count": 50,
   "id": "9a3b02fa",
   "metadata": {},
   "outputs": [],
   "source": [
    "x, y, z = 0, 0, 0"
   ]
  },
  {
   "cell_type": "markdown",
   "id": "48a4e35e",
   "metadata": {},
   "source": [
    "When defining a constant (who's value remains unchanged over the period of coding), we use CAPITAL letters for naming. "
   ]
  },
  {
   "cell_type": "code",
   "execution_count": 51,
   "id": "bc5165db",
   "metadata": {},
   "outputs": [],
   "source": [
    "MAX_CONNECTIONS = 5000"
   ]
  },
  {
   "cell_type": "markdown",
   "id": "5db95a67",
   "metadata": {},
   "source": [
    "# List"
   ]
  },
  {
   "cell_type": "code",
   "execution_count": null,
   "id": "75e49600",
   "metadata": {},
   "outputs": [],
   "source": []
  }
 ],
 "metadata": {
  "kernelspec": {
   "display_name": "Python 3 (ipykernel)",
   "language": "python",
   "name": "python3"
  },
  "language_info": {
   "codemirror_mode": {
    "name": "ipython",
    "version": 3
   },
   "file_extension": ".py",
   "mimetype": "text/x-python",
   "name": "python",
   "nbconvert_exporter": "python",
   "pygments_lexer": "ipython3",
   "version": "3.10.1"
  }
 },
 "nbformat": 4,
 "nbformat_minor": 5
}

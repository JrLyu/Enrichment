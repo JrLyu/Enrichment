{
 "cells": [
  {
   "cell_type": "markdown",
   "metadata": {
    "toc": true
   },
   "source": [
    "<h1>Table of Contents<span class=\"tocSkip\"></span></h1>\n",
    "<div class=\"toc\"><ul class=\"toc-item\"><li><span><a href=\"#The-print()-Function\" data-toc-modified-id=\"The-print()-Function-1\"><span class=\"toc-item-num\">1&nbsp;&nbsp;</span>The <code>print()</code> Function</a></span></li></ul></div>"
   ]
  },
  {
   "cell_type": "markdown",
   "metadata": {},
   "source": [
    "## The `print()` Function"
   ]
  },
  {
   "attachments": {},
   "cell_type": "markdown",
   "metadata": {},
   "source": [
    "<span style=\"color:darkred\"><font size=5>***Question***</font></span>\n",
    "\n",
    "Division of two integers: \n",
    "```python\n",
    "a // b # integer division\n",
    "a / b # float point division\n",
    "```"
   ]
  },
  {
   "cell_type": "code",
   "execution_count": 1,
   "metadata": {
    "ExecuteTime": {
     "end_time": "2023-02-01T18:55:31.469452Z",
     "start_time": "2023-02-01T18:55:31.453342Z"
    }
   },
   "outputs": [
    {
     "name": "stdout",
     "output_type": "stream",
     "text": [
      "0\n",
      "0.6\n"
     ]
    }
   ],
   "source": [
    "print(f\"{3//5}\\n{3/5}\")"
   ]
  },
  {
   "attachments": {},
   "cell_type": "markdown",
   "metadata": {
    "solution": "hidden",
    "solution_first": true
   },
   "source": [
    "<span style=\"color:darkred\"><font size=5>***Question***</font></span>\n",
    "\n",
    "The included code stub will read an integer, $n$, from STDIN. Without using any string methods, try to print the following: $123...n$. Note that \"$...$\" represents the consecutive values in between. \n",
    "\n",
    "Example: input = 5, Output: Print the string $12345$.\n",
    "\n",
    "***Hint***:\n",
    "```python\n",
    "print(value, sep, end)\n",
    "# sep: separation of between values\n",
    "# end: what to print after finishing printing. Default = \"\\n\"\n",
    "```"
   ]
  },
  {
   "cell_type": "code",
   "execution_count": 1,
   "metadata": {
    "ExecuteTime": {
     "end_time": "2023-02-01T18:48:38.086139Z",
     "start_time": "2023-02-01T18:48:35.912584Z"
    },
    "solution": "hidden"
   },
   "outputs": [
    {
     "name": "stdout",
     "output_type": "stream",
     "text": [
      "5\n",
      "12345"
     ]
    }
   ],
   "source": [
    "if __name__ == '__main__':\n",
    "    n = int(input())\n",
    "    \n",
    "    for i in range(1,n+1):\n",
    "        print(i, end = \"\")"
   ]
  },
  {
   "attachments": {},
   "cell_type": "markdown",
   "metadata": {},
   "source": [
    "<span style=\"color:darkred\"><font size=5>***Question***</font></span>\n",
    "\n",
    "The `format()` function can align the output to our desired position. The basic syntax of `format()` is given as\n",
    "```python\n",
    "format(str, rule)\n",
    "```\n",
    " `str` is the text string and `rule` is the rule that we want python to follow when positioning our text string.\n",
    "\n",
    "In this specific question, we will use `>{int}s`, `^{int}s`, and `<{int}s` as our rules. `{int}` in all three rules specifies the total length of the text line. `>{int}s` makes the text string align to the right, `^{int}s` aligns in the middle (center), and `<{int}s` aligns at the left. \n",
    "\n",
    "In this question, since the length of the text line is determined by the number of starts (`integer`), we will take the variable `interger` as our `{int}` in `>{int}s`, `^{int}s`, and `<{int}s`. "
   ]
  },
  {
   "cell_type": "code",
   "execution_count": 1,
   "metadata": {
    "ExecuteTime": {
     "end_time": "2023-09-16T04:59:11.615792Z",
     "start_time": "2023-09-16T04:59:11.610736Z"
    }
   },
   "outputs": [
    {
     "name": "stdout",
     "output_type": "stream",
     "text": [
      "**************************************************\n",
      "                                             CARIO\n",
      "                      CARIO                       \n",
      "CARIO                                             \n",
      "**************************************************\n"
     ]
    }
   ],
   "source": [
    "# word = input(\"Enter a Word: \")\n",
    "# integer = int(input(\"Enter a number: \"))\n",
    "word = \"CARIO\"\n",
    "integer = 50\n",
    "\n",
    "print(\"*\" * integer)\n",
    "print(format(word, f\">{integer}s\"))\n",
    "print(format(word, f\"^{integer}s\"))\n",
    "print(format(word, f\"<{integer}s\"))\n",
    "print(\"*\" * integer)"
   ]
  },
  {
   "attachments": {},
   "cell_type": "markdown",
   "metadata": {},
   "source": []
  }
 ],
 "metadata": {
  "kernelspec": {
   "display_name": "Python 3 (ipykernel)",
   "language": "python",
   "name": "python3"
  },
  "language_info": {
   "codemirror_mode": {
    "name": "ipython",
    "version": 3
   },
   "file_extension": ".py",
   "mimetype": "text/x-python",
   "name": "python",
   "nbconvert_exporter": "python",
   "pygments_lexer": "ipython3",
   "version": "3.11.1"
  },
  "toc": {
   "base_numbering": 1,
   "nav_menu": {},
   "number_sections": true,
   "sideBar": true,
   "skip_h1_title": false,
   "title_cell": "Table of Contents",
   "title_sidebar": "Contents",
   "toc_cell": true,
   "toc_position": {},
   "toc_section_display": true,
   "toc_window_display": false
  },
  "varInspector": {
   "cols": {
    "lenName": 16,
    "lenType": 16,
    "lenVar": 40
   },
   "kernels_config": {
    "python": {
     "delete_cmd_postfix": "",
     "delete_cmd_prefix": "del ",
     "library": "var_list.py",
     "varRefreshCmd": "print(var_dic_list())"
    },
    "r": {
     "delete_cmd_postfix": ") ",
     "delete_cmd_prefix": "rm(",
     "library": "var_list.r",
     "varRefreshCmd": "cat(var_dic_list()) "
    }
   },
   "types_to_exclude": [
    "module",
    "function",
    "builtin_function_or_method",
    "instance",
    "_Feature"
   ],
   "window_display": false
  },
  "vscode": {
   "interpreter": {
    "hash": "aee8b7b246df8f9039afb4144a1f6fd8d2ca17a180786b69acc140d282b71a49"
   }
  }
 },
 "nbformat": 4,
 "nbformat_minor": 2
}

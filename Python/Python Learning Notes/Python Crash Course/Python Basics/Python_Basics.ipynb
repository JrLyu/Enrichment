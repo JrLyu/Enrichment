{
 "cells": [
  {
   "cell_type": "markdown",
   "id": "3949d144",
   "metadata": {
    "toc": true
   },
   "source": [
    "<h1>Table of Contents<span class=\"tocSkip\"></span></h1>\n",
    "<div class=\"toc\"><ul class=\"toc-item\"><li><span><a href=\"#Python-Basics\" data-toc-modified-id=\"Python-Basics-1\"><span class=\"toc-item-num\">1&nbsp;&nbsp;</span>Python Basics</a></span><ul class=\"toc-item\"><li><span><a href=\"#Strings\" data-toc-modified-id=\"Strings-1.1\"><span class=\"toc-item-num\">1.1&nbsp;&nbsp;</span>Strings</a></span><ul class=\"toc-item\"><li><span><a href=\"#Use-the-Print-Function\" data-toc-modified-id=\"Use-the-Print-Function-1.1.1\"><span class=\"toc-item-num\">1.1.1&nbsp;&nbsp;</span>Use the <code>Print</code> Function</a></span></li><li><span><a href=\"#String\" data-toc-modified-id=\"String-1.1.2\"><span class=\"toc-item-num\">1.1.2&nbsp;&nbsp;</span>String</a></span></li></ul></li><li><span><a href=\"#Number-and-Calculation\" data-toc-modified-id=\"Number-and-Calculation-1.2\"><span class=\"toc-item-num\">1.2&nbsp;&nbsp;</span>Number and Calculation</a></span></li><li><span><a href=\"#List\" data-toc-modified-id=\"List-1.3\"><span class=\"toc-item-num\">1.3&nbsp;&nbsp;</span>List</a></span><ul class=\"toc-item\"><li><span><a href=\"#Fixing,-Adding,-and-Deleting-Elements-in-a-List\" data-toc-modified-id=\"Fixing,-Adding,-and-Deleting-Elements-in-a-List-1.3.1\"><span class=\"toc-item-num\">1.3.1&nbsp;&nbsp;</span>Fixing, Adding, and Deleting Elements in a List</a></span></li><li><span><a href=\"#Sorting-the-List\" data-toc-modified-id=\"Sorting-the-List-1.3.2\"><span class=\"toc-item-num\">1.3.2&nbsp;&nbsp;</span>Sorting the List</a></span></li><li><span><a href=\"#Accessing-All-the-Elements-in-the-List\" data-toc-modified-id=\"Accessing-All-the-Elements-in-the-List-1.3.3\"><span class=\"toc-item-num\">1.3.3&nbsp;&nbsp;</span>Accessing All the Elements in the List</a></span></li><li><span><a href=\"#Creating-Numeric-List\" data-toc-modified-id=\"Creating-Numeric-List-1.3.4\"><span class=\"toc-item-num\">1.3.4&nbsp;&nbsp;</span>Creating Numeric List</a></span></li><li><span><a href=\"#Simple-Statistics-to-a-Numeric-List\" data-toc-modified-id=\"Simple-Statistics-to-a-Numeric-List-1.3.5\"><span class=\"toc-item-num\">1.3.5&nbsp;&nbsp;</span>Simple Statistics to a Numeric List</a></span></li><li><span><a href=\"#Accessing-a-Part-of-the-List\" data-toc-modified-id=\"Accessing-a-Part-of-the-List-1.3.6\"><span class=\"toc-item-num\">1.3.6&nbsp;&nbsp;</span>Accessing a Part of the List</a></span></li><li><span><a href=\"#Copy-the-List\" data-toc-modified-id=\"Copy-the-List-1.3.7\"><span class=\"toc-item-num\">1.3.7&nbsp;&nbsp;</span>Copy the List</a></span></li></ul></li><li><span><a href=\"#Tuple\" data-toc-modified-id=\"Tuple-1.4\"><span class=\"toc-item-num\">1.4&nbsp;&nbsp;</span>Tuple</a></span></li><li><span><a href=\"#The-if-Syntax\" data-toc-modified-id=\"The-if-Syntax-1.5\"><span class=\"toc-item-num\">1.5&nbsp;&nbsp;</span>The <code>if</code> Syntax</a></span><ul class=\"toc-item\"><li><span><a href=\"#Conditional-Test\" data-toc-modified-id=\"Conditional-Test-1.5.1\"><span class=\"toc-item-num\">1.5.1&nbsp;&nbsp;</span>Conditional Test</a></span></li><li><span><a href=\"#The-if-Syntax\" data-toc-modified-id=\"The-if-Syntax-1.5.2\"><span class=\"toc-item-num\">1.5.2&nbsp;&nbsp;</span>The <code>if</code> Syntax</a></span></li><li><span><a href=\"#if-Syntax-and-Lists\" data-toc-modified-id=\"if-Syntax-and-Lists-1.5.3\"><span class=\"toc-item-num\">1.5.3&nbsp;&nbsp;</span><code>if</code> Syntax and Lists</a></span></li></ul></li><li><span><a href=\"#Dictionary-in-Python\" data-toc-modified-id=\"Dictionary-in-Python-1.6\"><span class=\"toc-item-num\">1.6&nbsp;&nbsp;</span>Dictionary in Python</a></span><ul class=\"toc-item\"><li><span><a href=\"#Accessing-All-Key-Value-Pairs-in-A-Dictionary\" data-toc-modified-id=\"Accessing-All-Key-Value-Pairs-in-A-Dictionary-1.6.1\"><span class=\"toc-item-num\">1.6.1&nbsp;&nbsp;</span>Accessing All Key-Value Pairs in A Dictionary</a></span></li><li><span><a href=\"#Nested-Function\" data-toc-modified-id=\"Nested-Function-1.6.2\"><span class=\"toc-item-num\">1.6.2&nbsp;&nbsp;</span>Nested Function</a></span><ul class=\"toc-item\"><li><span><a href=\"#Dictionary-List\" data-toc-modified-id=\"Dictionary-List-1.6.2.1\"><span class=\"toc-item-num\">1.6.2.1&nbsp;&nbsp;</span>Dictionary List</a></span></li><li><span><a href=\"#Saving-Lists-in-a-Dictionary\" data-toc-modified-id=\"Saving-Lists-in-a-Dictionary-1.6.2.2\"><span class=\"toc-item-num\">1.6.2.2&nbsp;&nbsp;</span>Saving Lists in a Dictionary</a></span></li><li><span><a href=\"#Dictionary-in-Dictionary\" data-toc-modified-id=\"Dictionary-in-Dictionary-1.6.2.3\"><span class=\"toc-item-num\">1.6.2.3&nbsp;&nbsp;</span>Dictionary in Dictionary</a></span></li></ul></li></ul></li><li><span><a href=\"#User's-Input-and-the-while-Loop\" data-toc-modified-id=\"User's-Input-and-the-while-Loop-1.7\"><span class=\"toc-item-num\">1.7&nbsp;&nbsp;</span>User's Input and the <code>while</code> Loop</a></span><ul class=\"toc-item\"><li><span><a href=\"#The-Function-input()\" data-toc-modified-id=\"The-Function-input()-1.7.1\"><span class=\"toc-item-num\">1.7.1&nbsp;&nbsp;</span>The Function <code>input()</code></a></span></li><li><span><a href=\"#Introduction-to-the-while-Loop\" data-toc-modified-id=\"Introduction-to-the-while-Loop-1.7.2\"><span class=\"toc-item-num\">1.7.2&nbsp;&nbsp;</span>Introduction to the <code>while</code> Loop</a></span></li><li><span><a href=\"#while-Loop,-List,-and-Dictionary\" data-toc-modified-id=\"while-Loop,-List,-and-Dictionary-1.7.3\"><span class=\"toc-item-num\">1.7.3&nbsp;&nbsp;</span><code>while</code> Loop, List, and Dictionary</a></span></li></ul></li><li><span><a href=\"#Function\" data-toc-modified-id=\"Function-1.8\"><span class=\"toc-item-num\">1.8&nbsp;&nbsp;</span>Function</a></span><ul class=\"toc-item\"><li><span><a href=\"#Define-Functions\" data-toc-modified-id=\"Define-Functions-1.8.1\"><span class=\"toc-item-num\">1.8.1&nbsp;&nbsp;</span>Define Functions</a></span></li><li><span><a href=\"#Return-Values-from-a-Function\" data-toc-modified-id=\"Return-Values-from-a-Function-1.8.2\"><span class=\"toc-item-num\">1.8.2&nbsp;&nbsp;</span>Return Values from a Function</a></span></li><li><span><a href=\"#List-in-Function\" data-toc-modified-id=\"List-in-Function-1.8.3\"><span class=\"toc-item-num\">1.8.3&nbsp;&nbsp;</span>List in Function</a></span></li><li><span><a href=\"#Undefined-Number-of-Parameters\" data-toc-modified-id=\"Undefined-Number-of-Parameters-1.8.4\"><span class=\"toc-item-num\">1.8.4&nbsp;&nbsp;</span>Undefined Number of Parameters</a></span></li><li><span><a href=\"#Storing-Functions-into-a-Module\" data-toc-modified-id=\"Storing-Functions-into-a-Module-1.8.5\"><span class=\"toc-item-num\">1.8.5&nbsp;&nbsp;</span>Storing Functions into a Module</a></span></li></ul></li><li><span><a href=\"#Class\" data-toc-modified-id=\"Class-1.9\"><span class=\"toc-item-num\">1.9&nbsp;&nbsp;</span>Class</a></span><ul class=\"toc-item\"><li><span><a href=\"#Introduction-to-Class\" data-toc-modified-id=\"Introduction-to-Class-1.9.1\"><span class=\"toc-item-num\">1.9.1&nbsp;&nbsp;</span>Introduction to Class</a></span></li><li><span><a href=\"#An-Application-of-Class\" data-toc-modified-id=\"An-Application-of-Class-1.9.2\"><span class=\"toc-item-num\">1.9.2&nbsp;&nbsp;</span>An Application of Class</a></span></li><li><span><a href=\"#Inheritance-From-a-Class\" data-toc-modified-id=\"Inheritance-From-a-Class-1.9.3\"><span class=\"toc-item-num\">1.9.3&nbsp;&nbsp;</span>Inheritance From a Class</a></span></li><li><span><a href=\"#Importing-a-Class\" data-toc-modified-id=\"Importing-a-Class-1.9.4\"><span class=\"toc-item-num\">1.9.4&nbsp;&nbsp;</span>Importing a Class</a></span></li></ul></li><li><span><a href=\"#Documentation-and-Errors\" data-toc-modified-id=\"Documentation-and-Errors-1.10\"><span class=\"toc-item-num\">1.10&nbsp;&nbsp;</span>Documentation and Errors</a></span><ul class=\"toc-item\"><li><span><a href=\"#Importing-Documents\" data-toc-modified-id=\"Importing-Documents-1.10.1\"><span class=\"toc-item-num\">1.10.1&nbsp;&nbsp;</span>Importing Documents</a></span></li><li><span><a href=\"#Writing-Files\" data-toc-modified-id=\"Writing-Files-1.10.2\"><span class=\"toc-item-num\">1.10.2&nbsp;&nbsp;</span>Writing Files</a></span></li><li><span><a href=\"#Errors\" data-toc-modified-id=\"Errors-1.10.3\"><span class=\"toc-item-num\">1.10.3&nbsp;&nbsp;</span>Errors</a></span></li><li><span><a href=\"#Storing-Data\" data-toc-modified-id=\"Storing-Data-1.10.4\"><span class=\"toc-item-num\">1.10.4&nbsp;&nbsp;</span>Storing Data</a></span></li></ul></li><li><span><a href=\"#Test-Code\" data-toc-modified-id=\"Test-Code-1.11\"><span class=\"toc-item-num\">1.11&nbsp;&nbsp;</span>Test Code</a></span><ul class=\"toc-item\"><li><span><a href=\"#Testing-a-Function\" data-toc-modified-id=\"Testing-a-Function-1.11.1\"><span class=\"toc-item-num\">1.11.1&nbsp;&nbsp;</span>Testing a Function</a></span></li></ul></li></ul></li></ul></div>"
   ]
  },
  {
   "cell_type": "markdown",
   "id": "a561be94",
   "metadata": {},
   "source": [
    "# Python Basics"
   ]
  },
  {
   "cell_type": "markdown",
   "id": "74bebaea",
   "metadata": {
    "heading_collapsed": true
   },
   "source": [
    "## Strings"
   ]
  },
  {
   "cell_type": "markdown",
   "id": "d093c266",
   "metadata": {
    "heading_collapsed": true,
    "hidden": true
   },
   "source": [
    "### Use the `Print` Function"
   ]
  },
  {
   "cell_type": "code",
   "execution_count": 1,
   "id": "e1e3149e",
   "metadata": {
    "hidden": true
   },
   "outputs": [
    {
     "name": "stdout",
     "output_type": "stream",
     "text": [
      "Hello Python interpreter!\n"
     ]
    }
   ],
   "source": [
    "print(\"Hello Python interpreter!\")"
   ]
  },
  {
   "cell_type": "markdown",
   "id": "ea8089d8",
   "metadata": {
    "hidden": true
   },
   "source": [
    "Defining a variable"
   ]
  },
  {
   "cell_type": "code",
   "execution_count": 2,
   "id": "e9a4a3dd",
   "metadata": {
    "hidden": true
   },
   "outputs": [
    {
     "name": "stdout",
     "output_type": "stream",
     "text": [
      "Hello Python world!\n"
     ]
    }
   ],
   "source": [
    "message = \"Hello Python world!\" #message is a variable\n",
    "print(message)"
   ]
  },
  {
   "cell_type": "markdown",
   "id": "7ab4406d",
   "metadata": {
    "hidden": true
   },
   "source": [
    "You can always change the value of a variable. Python will only remember the value of the newest command. "
   ]
  },
  {
   "cell_type": "code",
   "execution_count": 3,
   "id": "3e5d870a",
   "metadata": {
    "hidden": true
   },
   "outputs": [
    {
     "name": "stdout",
     "output_type": "stream",
     "text": [
      "Hello Python world!\n",
      "Hello Python Crash Course world!\n"
     ]
    }
   ],
   "source": [
    "print(message)\n",
    "message = \"Hello Python Crash Course world!\"\n",
    "print(message)"
   ]
  },
  {
   "cell_type": "markdown",
   "id": "6fc7171d",
   "metadata": {
    "heading_collapsed": true,
    "hidden": true
   },
   "source": [
    "### String"
   ]
  },
  {
   "cell_type": "code",
   "execution_count": 4,
   "id": "e4de55d9",
   "metadata": {
    "hidden": true
   },
   "outputs": [
    {
     "name": "stdout",
     "output_type": "stream",
     "text": [
      "Ada Lovelace\n"
     ]
    }
   ],
   "source": [
    "name = \"ada lovelace\"\n",
    "print(name.title())"
   ]
  },
  {
   "cell_type": "code",
   "execution_count": 5,
   "id": "d618ef45",
   "metadata": {
    "hidden": true
   },
   "outputs": [
    {
     "name": "stdout",
     "output_type": "stream",
     "text": [
      "ADA LOVELACE\n",
      "ada lovelace\n"
     ]
    }
   ],
   "source": [
    "print(name.upper())\n",
    "print(name.lower())"
   ]
  },
  {
   "cell_type": "markdown",
   "id": "974b438a",
   "metadata": {
    "hidden": true
   },
   "source": [
    "Adding `f` allows inserting strings within a string."
   ]
  },
  {
   "cell_type": "code",
   "execution_count": 6,
   "id": "c7ca70ea",
   "metadata": {
    "hidden": true
   },
   "outputs": [
    {
     "name": "stdout",
     "output_type": "stream",
     "text": [
      "ada lovelace\n"
     ]
    }
   ],
   "source": [
    "first_name = \"ada\"\n",
    "last_name = \"lovelace\"\n",
    "full_name = f\"{first_name} {last_name}\"\n",
    "print(full_name)"
   ]
  },
  {
   "cell_type": "code",
   "execution_count": 7,
   "id": "aeabfd2a",
   "metadata": {
    "hidden": true
   },
   "outputs": [
    {
     "name": "stdout",
     "output_type": "stream",
     "text": [
      "Hello,Ada Lovelace!\n"
     ]
    }
   ],
   "source": [
    "print(f\"Hello,{full_name.title()}!\")"
   ]
  },
  {
   "cell_type": "code",
   "execution_count": 8,
   "id": "760c3892",
   "metadata": {
    "hidden": true
   },
   "outputs": [
    {
     "name": "stdout",
     "output_type": "stream",
     "text": [
      "Hello,Ada Lovelace!\n"
     ]
    }
   ],
   "source": [
    "message = f\"Hello,{full_name.title()}!\"\n",
    "print(message)"
   ]
  },
  {
   "cell_type": "code",
   "execution_count": 9,
   "id": "e211d13d",
   "metadata": {
    "hidden": true
   },
   "outputs": [
    {
     "name": "stdout",
     "output_type": "stream",
     "text": [
      "python\n",
      "\tpython\n"
     ]
    }
   ],
   "source": [
    "#Adding a space: \\t\n",
    "print(\"python\")\n",
    "print(\"\\tpython\")"
   ]
  },
  {
   "cell_type": "code",
   "execution_count": 11,
   "id": "435c36d5",
   "metadata": {
    "hidden": true
   },
   "outputs": [
    {
     "name": "stdout",
     "output_type": "stream",
     "text": [
      "Languages:\n",
      "Python\n",
      "C\n",
      "JavaScript\n"
     ]
    }
   ],
   "source": [
    "#changing line: \\n\n",
    "print(\"Languages:\\nPython\\nC\\nJavaScript\")"
   ]
  },
  {
   "cell_type": "code",
   "execution_count": 16,
   "id": "8e01f88d",
   "metadata": {
    "hidden": true
   },
   "outputs": [
    {
     "data": {
      "text/plain": [
       "'python '"
      ]
     },
     "execution_count": 16,
     "metadata": {},
     "output_type": "execute_result"
    }
   ],
   "source": [
    "#Deleting extra space: rstrip()\n",
    "favoriate_language = 'python '\n",
    "favoriate_language\n",
    "favoriate_language.rstrip()\n",
    "#favoriate_language.rstrip() does not change the value of favoriate_language: \n",
    "favoriate_language"
   ]
  },
  {
   "cell_type": "code",
   "execution_count": 18,
   "id": "d4177439",
   "metadata": {
    "hidden": true
   },
   "outputs": [
    {
     "data": {
      "text/plain": [
       "'python'"
      ]
     },
     "execution_count": 18,
     "metadata": {},
     "output_type": "execute_result"
    }
   ],
   "source": [
    "#Deleting extra space forever: \n",
    "favoriate_language = favoriate_language.rstrip()\n",
    "favoriate_language"
   ]
  },
  {
   "cell_type": "code",
   "execution_count": 22,
   "id": "b9417eb5",
   "metadata": {
    "hidden": true
   },
   "outputs": [
    {
     "data": {
      "text/plain": [
       "' python'"
      ]
     },
     "execution_count": 22,
     "metadata": {},
     "output_type": "execute_result"
    }
   ],
   "source": [
    "favoriate_language = ' python '\n",
    "favoriate_language.rstrip() #Deleting space on the right"
   ]
  },
  {
   "cell_type": "code",
   "execution_count": 20,
   "id": "b6f537eb",
   "metadata": {
    "hidden": true
   },
   "outputs": [
    {
     "data": {
      "text/plain": [
       "'python '"
      ]
     },
     "execution_count": 20,
     "metadata": {},
     "output_type": "execute_result"
    }
   ],
   "source": [
    "favorite_language.lstrip() #Deleting space on the left"
   ]
  },
  {
   "cell_type": "code",
   "execution_count": 21,
   "id": "f63b4919",
   "metadata": {
    "hidden": true
   },
   "outputs": [
    {
     "data": {
      "text/plain": [
       "'python'"
      ]
     },
     "execution_count": 21,
     "metadata": {},
     "output_type": "execute_result"
    }
   ],
   "source": [
    "favorite_language.strip() #Deleting all spaces"
   ]
  },
  {
   "cell_type": "markdown",
   "id": "8eedd81c",
   "metadata": {
    "hidden": true,
    "solution": "hidden",
    "solution2": "hidden",
    "solution2_first": true,
    "solution_first": true
   },
   "source": [
    "\\textbf{Exercise 1} Using the `f\"\"` syntax to generate some sentences to your friends. "
   ]
  },
  {
   "cell_type": "code",
   "execution_count": 3,
   "id": "265b092f",
   "metadata": {
    "hidden": true,
    "solution": "hidden"
   },
   "outputs": [
    {
     "name": "stdout",
     "output_type": "stream",
     "text": [
      "Zhengxing Wang\n",
      "Charles Wang\n",
      "Hello Charles, would you like to learn some Python today?\n"
     ]
    }
   ],
   "source": [
    "first_name = \"zhengxing\"\n",
    "last_name = \"wang\"\n",
    "eng_name = \"charles\"\n",
    "full_name = f\"{first_name} {last_name}\"\n",
    "eng_full_name = f\"{eng_name} {last_name}\"\n",
    "print(full_name.title())\n",
    "print(eng_full_name.title())\n",
    "print(f\"Hello {eng_name.title()}, would you like to learn some Python today?\")"
   ]
  },
  {
   "cell_type": "markdown",
   "id": "48dbb50c",
   "metadata": {
    "hidden": true,
    "solution": "hidden",
    "solution_first": true
   },
   "source": [
    "\\textbf{Exercise 2} Using the `f\"\"` syntax to record your favorite quote."
   ]
  },
  {
   "cell_type": "code",
   "execution_count": 29,
   "id": "a0c6dfae",
   "metadata": {
    "hidden": true,
    "solution": "hidden"
   },
   "outputs": [
    {
     "name": "stdout",
     "output_type": "stream",
     "text": [
      "Alber Camus once said,\"Real generosity toward the future lies in giving all to the present.\"\n"
     ]
    }
   ],
   "source": [
    "famous_first_name = \"alber\"\n",
    "famous_last_name = \"camus\"\n",
    "famous_name = f\"{famous_first_name} {famous_last_name}\"\n",
    "saying = \"Real generosity toward the future lies in giving all to the present.\"\n",
    "print(f'{famous_name.title()} once said,\"{saying}\"')"
   ]
  },
  {
   "cell_type": "markdown",
   "id": "587ab986",
   "metadata": {
    "heading_collapsed": true
   },
   "source": [
    "## Number and Calculation"
   ]
  },
  {
   "cell_type": "markdown",
   "id": "1f177443",
   "metadata": {
    "hidden": true
   },
   "source": [
    "Python can calculate integers. "
   ]
  },
  {
   "cell_type": "code",
   "execution_count": 30,
   "id": "c75ba06d",
   "metadata": {
    "hidden": true
   },
   "outputs": [
    {
     "data": {
      "text/plain": [
       "5"
      ]
     },
     "execution_count": 30,
     "metadata": {},
     "output_type": "execute_result"
    }
   ],
   "source": [
    "2 + 3"
   ]
  },
  {
   "cell_type": "code",
   "execution_count": 31,
   "id": "6ba10262",
   "metadata": {
    "hidden": true
   },
   "outputs": [
    {
     "data": {
      "text/plain": [
       "1"
      ]
     },
     "execution_count": 31,
     "metadata": {},
     "output_type": "execute_result"
    }
   ],
   "source": [
    "3 - 2"
   ]
  },
  {
   "cell_type": "code",
   "execution_count": 32,
   "id": "aa307107",
   "metadata": {
    "hidden": true
   },
   "outputs": [
    {
     "data": {
      "text/plain": [
       "6"
      ]
     },
     "execution_count": 32,
     "metadata": {},
     "output_type": "execute_result"
    }
   ],
   "source": [
    "2 * 3"
   ]
  },
  {
   "cell_type": "code",
   "execution_count": 33,
   "id": "c725901a",
   "metadata": {
    "hidden": true
   },
   "outputs": [
    {
     "data": {
      "text/plain": [
       "1.5"
      ]
     },
     "execution_count": 33,
     "metadata": {},
     "output_type": "execute_result"
    }
   ],
   "source": [
    "3 / 2"
   ]
  },
  {
   "cell_type": "markdown",
   "id": "4b18a052",
   "metadata": {
    "hidden": true
   },
   "source": [
    "Python uses `**` to interpret sqaure."
   ]
  },
  {
   "cell_type": "code",
   "execution_count": 34,
   "id": "a04035ec",
   "metadata": {
    "hidden": true
   },
   "outputs": [
    {
     "data": {
      "text/plain": [
       "9"
      ]
     },
     "execution_count": 34,
     "metadata": {},
     "output_type": "execute_result"
    }
   ],
   "source": [
    "3 ** 2"
   ]
  },
  {
   "cell_type": "code",
   "execution_count": 35,
   "id": "970bf42e",
   "metadata": {
    "hidden": true
   },
   "outputs": [
    {
     "data": {
      "text/plain": [
       "27"
      ]
     },
     "execution_count": 35,
     "metadata": {},
     "output_type": "execute_result"
    }
   ],
   "source": [
    "3 ** 3"
   ]
  },
  {
   "cell_type": "code",
   "execution_count": 36,
   "id": "3e1c069f",
   "metadata": {
    "hidden": true
   },
   "outputs": [
    {
     "data": {
      "text/plain": [
       "1000000"
      ]
     },
     "execution_count": 36,
     "metadata": {},
     "output_type": "execute_result"
    }
   ],
   "source": [
    "10 ** 6"
   ]
  },
  {
   "cell_type": "markdown",
   "id": "613414a5",
   "metadata": {
    "hidden": true
   },
   "source": [
    "Python will follow the order of calculation. "
   ]
  },
  {
   "cell_type": "code",
   "execution_count": 37,
   "id": "ef74cd81",
   "metadata": {
    "hidden": true
   },
   "outputs": [
    {
     "data": {
      "text/plain": [
       "14"
      ]
     },
     "execution_count": 37,
     "metadata": {},
     "output_type": "execute_result"
    }
   ],
   "source": [
    "2 + 3*4"
   ]
  },
  {
   "cell_type": "code",
   "execution_count": 38,
   "id": "3548c0eb",
   "metadata": {
    "hidden": true
   },
   "outputs": [
    {
     "data": {
      "text/plain": [
       "20"
      ]
     },
     "execution_count": 38,
     "metadata": {},
     "output_type": "execute_result"
    }
   ],
   "source": [
    "(2+3) * 4"
   ]
  },
  {
   "cell_type": "markdown",
   "id": "fdcf33bc",
   "metadata": {
    "hidden": true
   },
   "source": [
    "Floating Point Numbers: Numbers that have a decimal point. "
   ]
  },
  {
   "cell_type": "code",
   "execution_count": 39,
   "id": "9ea20aeb",
   "metadata": {
    "hidden": true
   },
   "outputs": [
    {
     "data": {
      "text/plain": [
       "0.2"
      ]
     },
     "execution_count": 39,
     "metadata": {},
     "output_type": "execute_result"
    }
   ],
   "source": [
    "0.1 + 0.1"
   ]
  },
  {
   "cell_type": "code",
   "execution_count": 40,
   "id": "1b5d9c79",
   "metadata": {
    "hidden": true
   },
   "outputs": [
    {
     "data": {
      "text/plain": [
       "0.4"
      ]
     },
     "execution_count": 40,
     "metadata": {},
     "output_type": "execute_result"
    }
   ],
   "source": [
    "0.2 + 0.2"
   ]
  },
  {
   "cell_type": "code",
   "execution_count": 41,
   "id": "23793964",
   "metadata": {
    "hidden": true
   },
   "outputs": [
    {
     "data": {
      "text/plain": [
       "0.2"
      ]
     },
     "execution_count": 41,
     "metadata": {},
     "output_type": "execute_result"
    }
   ],
   "source": [
    "2 * 0.1"
   ]
  },
  {
   "cell_type": "code",
   "execution_count": 42,
   "id": "6784ac16",
   "metadata": {
    "hidden": true
   },
   "outputs": [
    {
     "data": {
      "text/plain": [
       "0.4"
      ]
     },
     "execution_count": 42,
     "metadata": {},
     "output_type": "execute_result"
    }
   ],
   "source": [
    "2 * 0.2"
   ]
  },
  {
   "cell_type": "code",
   "execution_count": 43,
   "id": "89662127",
   "metadata": {
    "hidden": true
   },
   "outputs": [
    {
     "data": {
      "text/plain": [
       "0.30000000000000004"
      ]
     },
     "execution_count": 43,
     "metadata": {},
     "output_type": "execute_result"
    }
   ],
   "source": [
    "0.2 + 0.1"
   ]
  },
  {
   "cell_type": "code",
   "execution_count": 44,
   "id": "c9a5588b",
   "metadata": {
    "hidden": true
   },
   "outputs": [
    {
     "data": {
      "text/plain": [
       "0.30000000000000004"
      ]
     },
     "execution_count": 44,
     "metadata": {},
     "output_type": "execute_result"
    }
   ],
   "source": [
    "3 * 0.1"
   ]
  },
  {
   "cell_type": "code",
   "execution_count": 45,
   "id": "65265b07",
   "metadata": {
    "hidden": true
   },
   "outputs": [
    {
     "data": {
      "text/plain": [
       "2.0"
      ]
     },
     "execution_count": 45,
     "metadata": {},
     "output_type": "execute_result"
    }
   ],
   "source": [
    "4/2"
   ]
  },
  {
   "cell_type": "code",
   "execution_count": 46,
   "id": "0afa14bf",
   "metadata": {
    "hidden": true
   },
   "outputs": [
    {
     "data": {
      "text/plain": [
       "3.0"
      ]
     },
     "execution_count": 46,
     "metadata": {},
     "output_type": "execute_result"
    }
   ],
   "source": [
    "1 + 2.0"
   ]
  },
  {
   "cell_type": "code",
   "execution_count": 47,
   "id": "9e60c348",
   "metadata": {
    "hidden": true
   },
   "outputs": [
    {
     "data": {
      "text/plain": [
       "6.0"
      ]
     },
     "execution_count": 47,
     "metadata": {},
     "output_type": "execute_result"
    }
   ],
   "source": [
    "2 * 3.0"
   ]
  },
  {
   "cell_type": "code",
   "execution_count": 48,
   "id": "d25dc151",
   "metadata": {
    "hidden": true
   },
   "outputs": [
    {
     "data": {
      "text/plain": [
       "9.0"
      ]
     },
     "execution_count": 48,
     "metadata": {},
     "output_type": "execute_result"
    }
   ],
   "source": [
    "3.0 ** 2"
   ]
  },
  {
   "cell_type": "markdown",
   "id": "98c79b9f",
   "metadata": {
    "hidden": true
   },
   "source": [
    "You can use the underline function to write very big number. When printing the number, python will not report those underlines. "
   ]
  },
  {
   "cell_type": "code",
   "execution_count": 49,
   "id": "d239540d",
   "metadata": {
    "hidden": true
   },
   "outputs": [
    {
     "name": "stdout",
     "output_type": "stream",
     "text": [
      "14000000000\n"
     ]
    }
   ],
   "source": [
    "universe_age = 14_000_000_000\n",
    "print(universe_age)"
   ]
  },
  {
   "cell_type": "markdown",
   "id": "97a64e87",
   "metadata": {
    "hidden": true
   },
   "source": [
    "You can define multiple variables at the same time. "
   ]
  },
  {
   "cell_type": "code",
   "execution_count": 50,
   "id": "9a3b02fa",
   "metadata": {
    "hidden": true
   },
   "outputs": [],
   "source": [
    "x, y, z = 0, 0, 0"
   ]
  },
  {
   "cell_type": "markdown",
   "id": "48a4e35e",
   "metadata": {
    "hidden": true
   },
   "source": [
    "When defining a constant (who's value remains unchanged over the period of coding), we use CAPITAL letters for naming. "
   ]
  },
  {
   "cell_type": "code",
   "execution_count": 51,
   "id": "bc5165db",
   "metadata": {
    "hidden": true
   },
   "outputs": [],
   "source": [
    "MAX_CONNECTIONS = 5000"
   ]
  },
  {
   "cell_type": "markdown",
   "id": "cdb9b8b7",
   "metadata": {
    "hidden": true
   },
   "source": [
    "The sign `%` will return the reminder if the first number is divided by the second one. It will only return the reminder, so we will not get the quotient. If the reminder is 0, meaning the first number is a multiple of the second one, Python will return `0`."
   ]
  },
  {
   "cell_type": "code",
   "execution_count": 22,
   "id": "20e58ce5",
   "metadata": {
    "ExecuteTime": {
     "end_time": "2022-08-03T13:01:11.995568Z",
     "start_time": "2022-08-03T13:01:11.979273Z"
    },
    "hidden": true
   },
   "outputs": [
    {
     "data": {
      "text/plain": [
       "1"
      ]
     },
     "execution_count": 22,
     "metadata": {},
     "output_type": "execute_result"
    }
   ],
   "source": [
    "4 % 3"
   ]
  },
  {
   "cell_type": "code",
   "execution_count": 23,
   "id": "8b3a63f4",
   "metadata": {
    "ExecuteTime": {
     "end_time": "2022-08-03T13:01:18.689298Z",
     "start_time": "2022-08-03T13:01:18.679430Z"
    },
    "hidden": true
   },
   "outputs": [
    {
     "data": {
      "text/plain": [
       "1"
      ]
     },
     "execution_count": 23,
     "metadata": {},
     "output_type": "execute_result"
    }
   ],
   "source": [
    "7 % 3"
   ]
  },
  {
   "cell_type": "markdown",
   "id": "5db95a67",
   "metadata": {
    "heading_collapsed": true
   },
   "source": [
    "## List"
   ]
  },
  {
   "cell_type": "markdown",
   "id": "4fb4a98c",
   "metadata": {
    "hidden": true
   },
   "source": [
    "In Python, `[` and `]` represents a list, in which comman (`,`) is used to separate elements."
   ]
  },
  {
   "cell_type": "code",
   "execution_count": 2,
   "id": "7fafc30f",
   "metadata": {
    "hidden": true
   },
   "outputs": [],
   "source": [
    "bicycles = ['trek','cannondale','redline','specialized']"
   ]
  },
  {
   "cell_type": "markdown",
   "id": "f91d31e9",
   "metadata": {
    "hidden": true
   },
   "source": [
    "Printing a list, Python will return everything inside the list, including `[]`."
   ]
  },
  {
   "cell_type": "code",
   "execution_count": 3,
   "id": "7e1723e6",
   "metadata": {
    "hidden": true
   },
   "outputs": [
    {
     "name": "stdout",
     "output_type": "stream",
     "text": [
      "['trek', 'cannondale', 'redline', 'specialized']\n"
     ]
    }
   ],
   "source": [
    "print(bicycles)"
   ]
  },
  {
   "cell_type": "markdown",
   "id": "b1f853ba",
   "metadata": {
    "hidden": true
   },
   "source": [
    "As this is definitely something we do not wish our users to see, extracting elements from the list is important. In Python, the code counts from `0`. (i.e., `0` represents the first element in the list.) We can use the syntax `list_name[0]` to extract the first elements from the list `list_name`."
   ]
  },
  {
   "cell_type": "code",
   "execution_count": 7,
   "id": "ce974eb9",
   "metadata": {
    "hidden": true
   },
   "outputs": [
    {
     "name": "stdout",
     "output_type": "stream",
     "text": [
      "trek\n",
      "Trek\n"
     ]
    }
   ],
   "source": [
    "print(bicycles[0])\n",
    "#Functions available for strings are also available for extracting elements in lists. \n",
    "print(bicycles[0].title())"
   ]
  },
  {
   "cell_type": "markdown",
   "id": "6635380c",
   "metadata": {
    "hidden": true
   },
   "source": [
    "If you extract the `-1` element from the list, Python will return the last element in the list. "
   ]
  },
  {
   "cell_type": "code",
   "execution_count": 8,
   "id": "fa115940",
   "metadata": {
    "hidden": true
   },
   "outputs": [
    {
     "name": "stdout",
     "output_type": "stream",
     "text": [
      "specialized\n"
     ]
    }
   ],
   "source": [
    "print(bicycles[-1])"
   ]
  },
  {
   "cell_type": "code",
   "execution_count": 11,
   "id": "acea4134",
   "metadata": {
    "hidden": true
   },
   "outputs": [
    {
     "name": "stdout",
     "output_type": "stream",
     "text": [
      "My first bicycle was a Trek.\n"
     ]
    }
   ],
   "source": [
    "message = f\"My first bicycle was a {bicycles[0].title()}.\"\n",
    "print(message)"
   ]
  },
  {
   "cell_type": "markdown",
   "id": "b0c6ab5f",
   "metadata": {
    "hidden": true,
    "solution": "hidden",
    "solution_first": true
   },
   "source": [
    "\\textbf{Exercise} Create a list containing several names of your friends. Then use the `for` loop to send a message to all your friends."
   ]
  },
  {
   "cell_type": "code",
   "execution_count": 1,
   "id": "3dfe9f4f",
   "metadata": {
    "ExecuteTime": {
     "end_time": "2022-08-03T12:22:53.954100Z",
     "start_time": "2022-08-03T12:22:53.947250Z"
    },
    "hidden": true,
    "solution": "hidden"
   },
   "outputs": [
    {
     "name": "stdout",
     "output_type": "stream",
     "text": [
      "Hello, Jisoo Lim!\n",
      "Hello, Charles Wang!\n",
      "Hello, Cici Chen!\n",
      "Hello, Joanna Zhang!\n",
      "Hello, William Wu!\n"
     ]
    }
   ],
   "source": [
    "friend_name = ['Jisoo Lim','Charles Wang','Cici Chen','Joanna Zhang','William Wu']\n",
    "\n",
    "for i in range(5):\n",
    "    message = f\"Hello, {friend_name[i]}!\"\n",
    "    print(message)"
   ]
  },
  {
   "cell_type": "markdown",
   "id": "0744a12a",
   "metadata": {
    "hidden": true
   },
   "source": [
    "### Fixing, Adding, and Deleting Elements in a List"
   ]
  },
  {
   "cell_type": "markdown",
   "id": "48ed118b",
   "metadata": {
    "hidden": true
   },
   "source": [
    "You can change an element simpying using the `=`."
   ]
  },
  {
   "cell_type": "code",
   "execution_count": 14,
   "id": "38a05f26",
   "metadata": {
    "hidden": true
   },
   "outputs": [
    {
     "name": "stdout",
     "output_type": "stream",
     "text": [
      "['honda', 'yamaha', 'suzuki']\n"
     ]
    }
   ],
   "source": [
    "motocycles = ['honda','yamaha','suzuki']\n",
    "print(motocycles)"
   ]
  },
  {
   "cell_type": "code",
   "execution_count": 15,
   "id": "2a6ff669",
   "metadata": {
    "hidden": true
   },
   "outputs": [
    {
     "name": "stdout",
     "output_type": "stream",
     "text": [
      "['ducati', 'yamaha', 'suzuki']\n"
     ]
    }
   ],
   "source": [
    "motocycles[0] = 'ducati'\n",
    "print(motocycles)"
   ]
  },
  {
   "cell_type": "markdown",
   "id": "1fad45cf",
   "metadata": {
    "hidden": true
   },
   "source": [
    "Adding elements at the end of the list: `append`."
   ]
  },
  {
   "cell_type": "code",
   "execution_count": 16,
   "id": "29bc97a2",
   "metadata": {
    "hidden": true
   },
   "outputs": [
    {
     "name": "stdout",
     "output_type": "stream",
     "text": [
      "['honda', 'yamaha', 'suzuki', 'ducati']\n"
     ]
    }
   ],
   "source": [
    "motocycles = ['honda','yamaha','suzuki']\n",
    "motocycles.append('ducati')\n",
    "print(motocycles)"
   ]
  },
  {
   "cell_type": "markdown",
   "id": "d79c5a38",
   "metadata": {
    "hidden": true
   },
   "source": [
    "By using append, you can create an empty list, and then adding elements into the empty list. "
   ]
  },
  {
   "cell_type": "code",
   "execution_count": 17,
   "id": "918ef7bb",
   "metadata": {
    "hidden": true
   },
   "outputs": [
    {
     "name": "stdout",
     "output_type": "stream",
     "text": [
      "['honda', 'yamaha', 'suzuki']\n"
     ]
    }
   ],
   "source": [
    "motocycles = []\n",
    "\n",
    "motocycles.append('honda')\n",
    "motocycles.append('yamaha')\n",
    "motocycles.append('suzuki')\n",
    "\n",
    "print(motocycles)"
   ]
  },
  {
   "cell_type": "markdown",
   "id": "24bb6f25",
   "metadata": {
    "hidden": true
   },
   "source": [
    "Inserting elements into a list: `insert()`. The syntax is `list_name.insert(position,'element')`."
   ]
  },
  {
   "cell_type": "code",
   "execution_count": 18,
   "id": "821b1099",
   "metadata": {
    "hidden": true
   },
   "outputs": [
    {
     "name": "stdout",
     "output_type": "stream",
     "text": [
      "['ducati', 'honda', 'yamaha', 'suzuki']\n"
     ]
    }
   ],
   "source": [
    "motocycles = ['honda','yamaha','suzuki']\n",
    "\n",
    "motocycles.insert(0,'ducati')\n",
    "print(motocycles)"
   ]
  },
  {
   "cell_type": "markdown",
   "id": "ff032f13",
   "metadata": {
    "hidden": true
   },
   "source": [
    "Deleting elements from a list: `del`. The syntax is `del list_name[position]`. When you delete an element using `del`, you cannot access the value of them any more. "
   ]
  },
  {
   "cell_type": "code",
   "execution_count": 20,
   "id": "c9d7bf25",
   "metadata": {
    "hidden": true
   },
   "outputs": [
    {
     "name": "stdout",
     "output_type": "stream",
     "text": [
      "['yamaha', 'suzuki']\n"
     ]
    }
   ],
   "source": [
    "motocycles = ['honda','yamaha','suzuki']\n",
    "del motocycles[0]\n",
    "    \n",
    "print(motocycles)"
   ]
  },
  {
   "cell_type": "code",
   "execution_count": 21,
   "id": "b2e65f15",
   "metadata": {
    "hidden": true
   },
   "outputs": [
    {
     "name": "stdout",
     "output_type": "stream",
     "text": [
      "['honda', 'suzuki']\n"
     ]
    }
   ],
   "source": [
    "motocycles = ['honda','yamaha','suzuki']\n",
    "del motocycles[1]\n",
    "\n",
    "print(motocycles)"
   ]
  },
  {
   "cell_type": "markdown",
   "id": "337a68bf",
   "metadata": {
    "hidden": true
   },
   "source": [
    "The `pop()` function allows you to delete the last element from a list, while allowing you to continue access the value of the deleted element in the future. "
   ]
  },
  {
   "cell_type": "code",
   "execution_count": 22,
   "id": "77d2b8ba",
   "metadata": {
    "hidden": true
   },
   "outputs": [
    {
     "name": "stdout",
     "output_type": "stream",
     "text": [
      "['honda', 'yamaha', 'suzuki']\n",
      "['honda', 'yamaha']\n",
      "suzuki\n"
     ]
    }
   ],
   "source": [
    "motocycles = ['honda','yamaha','suzuki']\n",
    "print(motocycles)\n",
    "\n",
    "#In the following line, Python will delete the last element in motocycles. \n",
    "#At the same time, Python will store the value of the last element into popped_motocycles.\n",
    "popped_motocycles = motocycles.pop()\n",
    "print(motocycles) #The result indicates the last element has been deleted from the list. \n",
    "print(popped_motocycles) #The last element is stored in this variable. "
   ]
  },
  {
   "cell_type": "markdown",
   "id": "bac56dc6",
   "metadata": {
    "hidden": true
   },
   "source": [
    "When adding an arugment into `pop()`, you can specify which element you want Python to delete. For example, `pop(0)` deletes the first element in the list, meanwhile storing the value into a newly defined variable. "
   ]
  },
  {
   "cell_type": "code",
   "execution_count": 23,
   "id": "a9cda45d",
   "metadata": {
    "hidden": true
   },
   "outputs": [
    {
     "name": "stdout",
     "output_type": "stream",
     "text": [
      "The first motorcycle I owned was a Honda\n"
     ]
    }
   ],
   "source": [
    "motocycles = ['honda','yamaha','suzuki']\n",
    "\n",
    "first_owned = motocycles.pop(0)\n",
    "print(f\"The first motorcycle I owned was a {first_owned.title()}\")"
   ]
  },
  {
   "cell_type": "markdown",
   "id": "6d91dbad",
   "metadata": {
    "hidden": true
   },
   "source": [
    "Sometimes, you do not know the extact position of the element, but you know the value of the element. In this case, you should consider to use `remove(element)` to remove the element from the list. "
   ]
  },
  {
   "cell_type": "code",
   "execution_count": 24,
   "id": "13a55006",
   "metadata": {
    "hidden": true
   },
   "outputs": [
    {
     "name": "stdout",
     "output_type": "stream",
     "text": [
      "['honda', 'yamaha', 'suzuki']\n",
      "['honda', 'suzuki']\n"
     ]
    }
   ],
   "source": [
    "motocycles = ['honda','yamaha','suzuki']\n",
    "print(motocycles)\n",
    "\n",
    "motocycles.remove('yamaha')\n",
    "print(motocycles)"
   ]
  },
  {
   "cell_type": "markdown",
   "id": "328f63b7",
   "metadata": {
    "hidden": true
   },
   "source": [
    "Removing an element using `remove()` while continuing using it in the future. "
   ]
  },
  {
   "cell_type": "code",
   "execution_count": 25,
   "id": "17b0b7b7",
   "metadata": {
    "hidden": true
   },
   "outputs": [
    {
     "name": "stdout",
     "output_type": "stream",
     "text": [
      "['honda', 'yamaha', 'suzuki']\n",
      "['honda', 'yamaha', 'suzuki', 'ducati']\n",
      "['honda', 'yamaha', 'suzuki']\n",
      "\n",
      " A Ducati is too expensive for me\n"
     ]
    }
   ],
   "source": [
    "motocycles = ['honda','yamaha','suzuki']\n",
    "print(motocycles)\n",
    "\n",
    "too_expensive = 'ducati'\n",
    "\n",
    "motocycles.append(too_expensive)\n",
    "print(motocycles)\n",
    "\n",
    "motocycles.remove(too_expensive)\n",
    "print(motocycles)\n",
    "print(f\"\\n A {too_expensive.title()} is too expensive for me\")"
   ]
  },
  {
   "cell_type": "markdown",
   "id": "2a26282f",
   "metadata": {
    "hidden": true
   },
   "source": [
    "Note: `remove()` can only delete the first specified value. If a value appears multiple times in the list, and you want to delete all of them, you need to use the `while` or `for` loop to make sure all values are deleted. "
   ]
  },
  {
   "cell_type": "markdown",
   "id": "07bb5545",
   "metadata": {
    "heading_collapsed": true,
    "hidden": true
   },
   "source": [
    "### Sorting the List"
   ]
  },
  {
   "cell_type": "markdown",
   "id": "3783cd0f",
   "metadata": {
    "hidden": true
   },
   "source": [
    "By using the function `sort()`, we can sort the list in the ascending order according to the alphabet permeably. "
   ]
  },
  {
   "cell_type": "code",
   "execution_count": 1,
   "id": "03bdd605",
   "metadata": {
    "hidden": true
   },
   "outputs": [
    {
     "name": "stdout",
     "output_type": "stream",
     "text": [
      "['audi', 'bmw', 'subaru', 'toyota']\n"
     ]
    }
   ],
   "source": [
    "cars = ['bmw','audi','toyota','subaru']\n",
    "cars.sort()\n",
    "print(cars)"
   ]
  },
  {
   "cell_type": "markdown",
   "id": "e5b63ff1",
   "metadata": {
    "hidden": true
   },
   "source": [
    "Adding an argument `reverse=True` into the function `sort()`, we can sort the list in the descending order according to the alphabetic order. i.e., `list_name.sort(reverse=True)`. Again, this sorting is permable to the list, meaning you cannot access the list with the original order anymore. "
   ]
  },
  {
   "cell_type": "code",
   "execution_count": 2,
   "id": "173c3a2d",
   "metadata": {
    "hidden": true
   },
   "outputs": [
    {
     "name": "stdout",
     "output_type": "stream",
     "text": [
      "['toyota', 'subaru', 'bmw', 'audi']\n"
     ]
    }
   ],
   "source": [
    "cars = ['bmw','audi','toyota','subaru']\n",
    "cars.sort(reverse=True)\n",
    "print(cars)"
   ]
  },
  {
   "cell_type": "markdown",
   "id": "eee3bdf0",
   "metadata": {
    "hidden": true
   },
   "source": [
    "By using the function `sorted()`, we can sort the list temporarily. The syntax is `sorted(list_name)`."
   ]
  },
  {
   "cell_type": "code",
   "execution_count": 3,
   "id": "9fffa5c8",
   "metadata": {
    "hidden": true
   },
   "outputs": [
    {
     "name": "stdout",
     "output_type": "stream",
     "text": [
      "Here is the original list: \n",
      "['bmw', 'audi', 'toyota', 'subaru']\n",
      "\n",
      "Here is the sorted list: \n",
      "['audi', 'bmw', 'subaru', 'toyota']\n",
      "\n",
      "It does not affect the original list: \n",
      "['bmw', 'audi', 'toyota', 'subaru']\n"
     ]
    }
   ],
   "source": [
    "cars = ['bmw','audi','toyota','subaru']\n",
    "\n",
    "print(f\"Here is the original list: \\n{cars}\")\n",
    "print(f\"\\nHere is the sorted list: \\n{sorted(cars)}\")\n",
    "print(f\"\\nIt does not affect the original list: \\n{cars}\")"
   ]
  },
  {
   "cell_type": "markdown",
   "id": "fa0719d3",
   "metadata": {
    "hidden": true
   },
   "source": [
    "The argument `reverse=True` is also appliable to the function `sorted()`."
   ]
  },
  {
   "cell_type": "code",
   "execution_count": 6,
   "id": "c88a8989",
   "metadata": {
    "hidden": true
   },
   "outputs": [
    {
     "name": "stdout",
     "output_type": "stream",
     "text": [
      "['toyota', 'subaru', 'bmw', 'audi']\n",
      "\n",
      " ['bmw', 'audi', 'toyota', 'subaru']\n"
     ]
    }
   ],
   "source": [
    "cars = ['bmw','audi','toyota','subaru']\n",
    "\n",
    "print(f\"{sorted(cars,reverse=True)}\")\n",
    "print(f\"\\n {cars}\")"
   ]
  },
  {
   "cell_type": "markdown",
   "id": "f10f02a9",
   "metadata": {
    "hidden": true
   },
   "source": [
    "To print the list in the reverse order, we can use the `reverse()` function. N.B.: It prints the list in the reverse order according to the original order, instead of the descending order according to the alphabet. The `reverse()` function also permeably changes the order of the list. In order to access the original order, apply the `reverse()` function again to the list. "
   ]
  },
  {
   "cell_type": "code",
   "execution_count": 7,
   "id": "eb03c4db",
   "metadata": {
    "hidden": true
   },
   "outputs": [
    {
     "name": "stdout",
     "output_type": "stream",
     "text": [
      "['bmw', 'audi', 'toyota', 'subaru']\n",
      "['subaru', 'toyota', 'audi', 'bmw']\n"
     ]
    }
   ],
   "source": [
    "cars = ['bmw','audi','toyota','subaru']\n",
    "print(cars)\n",
    "\n",
    "cars.reverse()\n",
    "print(cars)"
   ]
  },
  {
   "cell_type": "markdown",
   "id": "bd15effd",
   "metadata": {
    "hidden": true
   },
   "source": [
    "To identify the length of the list (i.e., number of elements in the list), we can use the `len()` function. Note: Python counts the number of elements in the list starting from `1`. "
   ]
  },
  {
   "cell_type": "code",
   "execution_count": 8,
   "id": "794e7bf7",
   "metadata": {
    "hidden": true
   },
   "outputs": [
    {
     "data": {
      "text/plain": [
       "4"
      ]
     },
     "execution_count": 8,
     "metadata": {},
     "output_type": "execute_result"
    }
   ],
   "source": [
    "cars = ['bmw','audi','toyota','subaru']\n",
    "len(cars)"
   ]
  },
  {
   "cell_type": "markdown",
   "id": "5685b7ac",
   "metadata": {
    "heading_collapsed": true,
    "hidden": true
   },
   "source": [
    "### Accessing All the Elements in the List"
   ]
  },
  {
   "cell_type": "markdown",
   "id": "5f66b7a1",
   "metadata": {
    "hidden": true
   },
   "source": [
    "You can use the `for` loop to access all the elements in the list. "
   ]
  },
  {
   "cell_type": "code",
   "execution_count": 10,
   "id": "a65ec3c0",
   "metadata": {
    "hidden": true
   },
   "outputs": [
    {
     "name": "stdout",
     "output_type": "stream",
     "text": [
      "alice\n",
      "david\n",
      "carolina\n"
     ]
    }
   ],
   "source": [
    "magicians = ['alice','david','carolina']\n",
    "for magician in magicians:\n",
    "    print(magician)"
   ]
  },
  {
   "cell_type": "markdown",
   "id": "2351b61e",
   "metadata": {
    "hidden": true
   },
   "source": [
    "In every iteration, Python will go over all codes inside the `for` loop, and then go on to the next element in thel ist. "
   ]
  },
  {
   "cell_type": "code",
   "execution_count": 13,
   "id": "57773430",
   "metadata": {
    "hidden": true
   },
   "outputs": [
    {
     "name": "stdout",
     "output_type": "stream",
     "text": [
      "Alice,that was a great trick!\n",
      "I can't wait to see your next tricke,Alice.\n",
      "\n",
      "David,that was a great trick!\n",
      "I can't wait to see your next tricke,David.\n",
      "\n",
      "Carolina,that was a great trick!\n",
      "I can't wait to see your next tricke,Carolina.\n",
      "\n"
     ]
    }
   ],
   "source": [
    "magicians = ['alice','david','carolina']\n",
    "for magician in magicians: \n",
    "    print(f'{magician.title()},that was a great trick!')\n",
    "    print(f\"I can't wait to see your next tricke,{magician.title()}.\\n\")"
   ]
  },
  {
   "cell_type": "markdown",
   "id": "b1b42a5f",
   "metadata": {
    "hidden": true
   },
   "source": [
    "You can tell Python to run other codes after the `for` loop is completed. To do so, you just write codes without any indents. "
   ]
  },
  {
   "cell_type": "code",
   "execution_count": 14,
   "id": "ac6b5a30",
   "metadata": {
    "hidden": true
   },
   "outputs": [
    {
     "name": "stdout",
     "output_type": "stream",
     "text": [
      "Alice,that was a great trick!\n",
      "I can't wait to see your next tricke,Alice.\n",
      "\n",
      "David,that was a great trick!\n",
      "I can't wait to see your next tricke,David.\n",
      "\n",
      "Carolina,that was a great trick!\n",
      "I can't wait to see your next tricke,Carolina.\n",
      "\n",
      "Thank you, everyone. That was a great magic show!\n"
     ]
    }
   ],
   "source": [
    "magicians = ['alice','david','carolina']\n",
    "for magician in magicians: \n",
    "    print(f'{magician.title()},that was a great trick!')\n",
    "    print(f\"I can't wait to see your next tricke,{magician.title()}.\\n\")\n",
    "\n",
    "print(f\"Thank you, everyone. That was a great magic show!\")"
   ]
  },
  {
   "cell_type": "markdown",
   "id": "a7367e47",
   "metadata": {
    "hidden": true
   },
   "source": [
    "Indents and colons(:) are very important in a `for` loop. Be careful when writing codes independently. "
   ]
  },
  {
   "cell_type": "code",
   "execution_count": 16,
   "id": "0ae73dbf",
   "metadata": {
    "hidden": true
   },
   "outputs": [
    {
     "name": "stdout",
     "output_type": "stream",
     "text": [
      "Alice,that was a great trick!\n",
      "David,that was a great trick!\n",
      "Carolina,that was a great trick!\n",
      "I can't wait to see your next tricke,Carolina.\n",
      "\n"
     ]
    }
   ],
   "source": [
    "magicians = ['alice','david','carolina']\n",
    "for magician in magicians: \n",
    "    print(f'{magician.title()},that was a great trick!')\n",
    "print(f\"I can't wait to see your next tricke,{magician.title()}.\\n\")\n",
    "#Because the last line has an incorrect indent, Python will not count it into the for loop.\n",
    "#As in the last iteration, magincian is assigned with the value 'carolina', \n",
    "#Pythoon will use the last value 'carolina' in the code after the for loop. \n",
    "#Hence, only Carolina will receive our second message, as shown by the results. "
   ]
  },
  {
   "cell_type": "markdown",
   "id": "abfa6cd5",
   "metadata": {
    "heading_collapsed": true,
    "hidden": true
   },
   "source": [
    "### Creating Numeric List"
   ]
  },
  {
   "cell_type": "markdown",
   "id": "f3503237",
   "metadata": {
    "hidden": true
   },
   "source": [
    "By using the function `range()`, Python allows you to create a list of numbers. "
   ]
  },
  {
   "cell_type": "code",
   "execution_count": 17,
   "id": "0926da70",
   "metadata": {
    "hidden": true
   },
   "outputs": [
    {
     "name": "stdout",
     "output_type": "stream",
     "text": [
      "1\n",
      "2\n",
      "3\n",
      "4\n"
     ]
    }
   ],
   "source": [
    "for value in range(1,5):\n",
    "    print(value)"
   ]
  },
  {
   "cell_type": "markdown",
   "id": "467e6605",
   "metadata": {
    "hidden": true
   },
   "source": [
    "Although it seems the value `5` is included in the `range()` function, Python is not printing the value of it. This is because the `range()` function includes the left-hand-side value but excludes the right-hand-side value. This is very common in other programming languages as well. \n",
    "\n",
    "You can also only include one argument in the `range()` function, and then the list is starting from 0. For example, `range(n)` creates a list of numbers starting from `0` and terminating at `n-1`."
   ]
  },
  {
   "cell_type": "code",
   "execution_count": 18,
   "id": "f08feb5f",
   "metadata": {
    "hidden": true
   },
   "outputs": [
    {
     "name": "stdout",
     "output_type": "stream",
     "text": [
      "0\n",
      "1\n",
      "2\n",
      "3\n",
      "4\n",
      "5\n"
     ]
    }
   ],
   "source": [
    "for value in range(6):\n",
    "    print(value)"
   ]
  },
  {
   "cell_type": "markdown",
   "id": "081dcd37",
   "metadata": {
    "hidden": true
   },
   "source": [
    "You can create lists using the `range()` function. In this case, you also need the `list()` function."
   ]
  },
  {
   "cell_type": "code",
   "execution_count": 19,
   "id": "f9a40ce6",
   "metadata": {
    "hidden": true
   },
   "outputs": [
    {
     "name": "stdout",
     "output_type": "stream",
     "text": [
      "[1, 2, 3, 4, 5]\n"
     ]
    }
   ],
   "source": [
    "numbers = list(range(1,6))\n",
    "print(numbers)"
   ]
  },
  {
   "cell_type": "markdown",
   "id": "39488457",
   "metadata": {
    "hidden": true
   },
   "source": [
    "You can also add a third argument in the `range()` function to specify the increasement of each step. For example, `range(2,11,2)` tells Python to create a list starting from `2` and terminating at `10`, with an increasement of `2` of each step. In order words, it contains all the even numbers in the range from one to ten. "
   ]
  },
  {
   "cell_type": "code",
   "execution_count": 20,
   "id": "590785ce",
   "metadata": {
    "hidden": true
   },
   "outputs": [
    {
     "name": "stdout",
     "output_type": "stream",
     "text": [
      "[2, 4, 6, 8, 10]\n"
     ]
    }
   ],
   "source": [
    "even_numbers = list(range(2,11,2))\n",
    "print(even_numbers)"
   ]
  },
  {
   "cell_type": "markdown",
   "id": "80826352",
   "metadata": {
    "hidden": true,
    "solution": "hidden",
    "solution_first": true
   },
   "source": [
    "\\textbf{Exercise 1} Create a list of numbers that contains values of one to ten squared. "
   ]
  },
  {
   "cell_type": "code",
   "execution_count": 21,
   "id": "d61c257c",
   "metadata": {
    "hidden": true,
    "solution": "hidden"
   },
   "outputs": [
    {
     "name": "stdout",
     "output_type": "stream",
     "text": [
      "[1, 4, 9, 16, 25, 36, 49, 64, 81, 100]\n"
     ]
    }
   ],
   "source": [
    "sqaures = [] #Create an empty list\n",
    "for value in range(1,11): #Make sure value goes through from every values from one to ten\n",
    "    sqaure = value ** 2 #Calculate the values of the square\n",
    "    sqaures.append(sqaure) #Add sqaure to the end of the empty list\n",
    "    \n",
    "print(sqaures)"
   ]
  },
  {
   "cell_type": "code",
   "execution_count": 23,
   "id": "19f0332a",
   "metadata": {
    "hidden": true,
    "solution": "hidden"
   },
   "outputs": [
    {
     "name": "stdout",
     "output_type": "stream",
     "text": [
      "[1, 4, 9, 16, 25, 36, 49, 64, 81, 100]\n"
     ]
    }
   ],
   "source": [
    "#A simpler way that avoids using the temporary variable sqaure\n",
    "sqaures = [] \n",
    "for value in range(1,11): \n",
    "    sqaures.append(value ** 2)\n",
    "    \n",
    "print(sqaures)"
   ]
  },
  {
   "cell_type": "markdown",
   "id": "bf958d35",
   "metadata": {
    "hidden": true,
    "solution": "hidden",
    "solution_first": true
   },
   "source": [
    "\\textbf{Exercise 2} Create a list containing all odd numbers from one to twenty. And then print them using the `for` loop."
   ]
  },
  {
   "cell_type": "code",
   "execution_count": 29,
   "id": "9c8407b4",
   "metadata": {
    "hidden": true,
    "solution": "hidden"
   },
   "outputs": [
    {
     "name": "stdout",
     "output_type": "stream",
     "text": [
      "1\n",
      "2\n",
      "3\n",
      "4\n",
      "5\n",
      "6\n",
      "7\n",
      "8\n",
      "9\n",
      "10\n",
      "11\n",
      "12\n",
      "13\n",
      "14\n",
      "15\n",
      "16\n",
      "17\n",
      "18\n",
      "19\n",
      "20\n"
     ]
    }
   ],
   "source": [
    "odd_numbers = list(range(1,21,1))\n",
    "for odd_number in odd_numbers:\n",
    "    print(odd_number)"
   ]
  },
  {
   "cell_type": "markdown",
   "id": "3fe316d2",
   "metadata": {
    "hidden": true,
    "solution": "hidden",
    "solution_first": true
   },
   "source": [
    "**Exercise 3**  Create a list containing all numbers that are divisible by three from one to thirty, and then print them using the `for` loop."
   ]
  },
  {
   "cell_type": "code",
   "execution_count": 31,
   "id": "241836db",
   "metadata": {
    "hidden": true,
    "solution": "hidden"
   },
   "outputs": [
    {
     "name": "stdout",
     "output_type": "stream",
     "text": [
      "3\n",
      "6\n",
      "9\n",
      "12\n",
      "15\n",
      "18\n",
      "21\n",
      "24\n",
      "27\n",
      "30\n"
     ]
    }
   ],
   "source": [
    "divisible_numbers = list(range(3,31,3))\n",
    "for divisible_number in divisible_numbers:\n",
    "    print(divisible_number)"
   ]
  },
  {
   "cell_type": "markdown",
   "id": "4b722cb3",
   "metadata": {
    "hidden": true,
    "solution": "hidden",
    "solution_first": true
   },
   "source": [
    "**Exercise 4** Create a list containing the cubic of numbers from one to ten. Print the list using a `for` loop. "
   ]
  },
  {
   "cell_type": "code",
   "execution_count": 32,
   "id": "675bde2d",
   "metadata": {
    "hidden": true,
    "solution": "hidden"
   },
   "outputs": [
    {
     "name": "stdout",
     "output_type": "stream",
     "text": [
      "[1, 8, 27, 64, 125, 216, 343, 512, 729, 1000]\n"
     ]
    }
   ],
   "source": [
    "cubic_numbers = []\n",
    "for value in range(1,11):\n",
    "    cubic_numbers.append(value ** 3)\n",
    "print(cubic_numbers)"
   ]
  },
  {
   "cell_type": "markdown",
   "id": "efbe52c0",
   "metadata": {
    "heading_collapsed": true,
    "hidden": true
   },
   "source": [
    "### Simple Statistics to a Numeric List"
   ]
  },
  {
   "cell_type": "markdown",
   "id": "221a63dd",
   "metadata": {
    "hidden": true
   },
   "source": [
    "You can use functions like `min()`, `max()`, and `sum()` to find the minimum value, maximum value, and the sum of the list. "
   ]
  },
  {
   "cell_type": "code",
   "execution_count": 25,
   "id": "779f2da5",
   "metadata": {
    "hidden": true
   },
   "outputs": [
    {
     "name": "stdout",
     "output_type": "stream",
     "text": [
      "0\n",
      "9\n",
      "45\n"
     ]
    }
   ],
   "source": [
    "digits = [1,2,3,4,5,6,7,8,9,0]\n",
    "print(min(digits))\n",
    "print(max(digits))\n",
    "print(sum(digits))"
   ]
  },
  {
   "cell_type": "markdown",
   "id": "ef4d2a6f",
   "metadata": {
    "hidden": true
   },
   "source": [
    "List comprehension allows you to deal with more complicated situations with simple codes. Using the first example from the last exercise (*Create a list of numbers that contains values of one to ten sqaured.*), we can use list comprehension to make the code even simpler. The syntax of list comprehension is `list_name = [condition satisfied by the list]`."
   ]
  },
  {
   "cell_type": "code",
   "execution_count": 26,
   "id": "c58e1bde",
   "metadata": {
    "hidden": true
   },
   "outputs": [
    {
     "name": "stdout",
     "output_type": "stream",
     "text": [
      "[1, 4, 9, 16, 25, 36, 49, 64, 81, 100]\n"
     ]
    }
   ],
   "source": [
    "sqaures = [value ** 2 for value in range(1,11)]\n",
    "print(sqaures)"
   ]
  },
  {
   "cell_type": "markdown",
   "id": "7f907b0c",
   "metadata": {
    "hidden": true,
    "solution": "hidden",
    "solution_first": true
   },
   "source": [
    "\\textbf{Exercise} Using list comprehension, create a list containing the cubic of numbers from one to ten. Print the list. "
   ]
  },
  {
   "cell_type": "code",
   "execution_count": 33,
   "id": "76ffb2f0",
   "metadata": {
    "hidden": true,
    "solution": "hidden"
   },
   "outputs": [
    {
     "name": "stdout",
     "output_type": "stream",
     "text": [
      "[1, 8, 27, 64, 125, 216, 343, 512, 729, 1000]\n"
     ]
    }
   ],
   "source": [
    "cubics = [value ** 3 for value in range(1,11)]\n",
    "print(cubics)"
   ]
  },
  {
   "cell_type": "markdown",
   "id": "00c9ab52",
   "metadata": {
    "heading_collapsed": true,
    "hidden": true
   },
   "source": [
    "### Accessing a Part of the List"
   ]
  },
  {
   "cell_type": "markdown",
   "id": "e231eeea",
   "metadata": {
    "hidden": true
   },
   "source": [
    "Using the following syntax `list_name([n:m])`, you can access the `n`-th to the `m-1`-th elements in the list. "
   ]
  },
  {
   "cell_type": "code",
   "execution_count": 6,
   "id": "2bd1d8c7",
   "metadata": {
    "hidden": true
   },
   "outputs": [
    {
     "name": "stdout",
     "output_type": "stream",
     "text": [
      "['charles', 'martina', 'michael']\n",
      "['martina', 'michael', 'florence']\n",
      "['charles', 'martina', 'michael', 'florence', 'eli']\n",
      "['florence', 'eli']\n",
      "['michael', 'florence', 'eli']\n"
     ]
    }
   ],
   "source": [
    "players = ['charles','martina','michael','florence','eli']\n",
    "print(players[0:3])\n",
    "print(players[1:4])\n",
    "print(players[:5]) #If the first argument is blank, Python will start from the beginning. \n",
    "print(players[3:]) #If the second argument is blank, Python will end at the end. \n",
    "print(players[-3:]) #Using a negative argument, Python will return the last three elements from the list. "
   ]
  },
  {
   "cell_type": "markdown",
   "id": "039cbccc",
   "metadata": {
    "hidden": true
   },
   "source": [
    "You can combine the syntax above and the `for` loop. "
   ]
  },
  {
   "cell_type": "code",
   "execution_count": 9,
   "id": "1f85aa1a",
   "metadata": {
    "hidden": true
   },
   "outputs": [
    {
     "name": "stdout",
     "output_type": "stream",
     "text": [
      "Here are the first three players on my team: \n",
      "Charles\n",
      "Martina\n",
      "Michael\n"
     ]
    }
   ],
   "source": [
    "players = ['charles','martina','michael','florence','eli']\n",
    "\n",
    "print(\"Here are the first three players on my team: \")\n",
    "for player in players[:3]: \n",
    "    print(player.title())"
   ]
  },
  {
   "cell_type": "markdown",
   "id": "67b2c54e",
   "metadata": {
    "heading_collapsed": true,
    "hidden": true
   },
   "source": [
    "### Copy the List"
   ]
  },
  {
   "cell_type": "markdown",
   "id": "0e0c44c9",
   "metadata": {
    "hidden": true
   },
   "source": [
    "Using the following syntax `new_list = list_name[:]`, you can copy the original `list_name` to a new list `new_list`."
   ]
  },
  {
   "cell_type": "code",
   "execution_count": 12,
   "id": "de837f14",
   "metadata": {
    "hidden": true
   },
   "outputs": [
    {
     "name": "stdout",
     "output_type": "stream",
     "text": [
      "My favorite foods are: ['pizza', 'falafel', 'carrot cake']\n",
      "\n",
      " My friend's favorite foods are: ['pizza', 'falafel', 'carrot cake']\n"
     ]
    }
   ],
   "source": [
    "my_foods = ['pizza','falafel','carrot cake']\n",
    "friend_foods = my_foods[:]\n",
    "\n",
    "print(f\"My favorite foods are: {my_foods}\")\n",
    "print(f\"\\n My friend's favorite foods are: {friend_foods}\")"
   ]
  },
  {
   "cell_type": "markdown",
   "id": "18855a9d",
   "metadata": {
    "hidden": true
   },
   "source": [
    "In this way, the two lists are independent. i.e., adding elements to one list will not affect the other list."
   ]
  },
  {
   "cell_type": "code",
   "execution_count": 13,
   "id": "76b8b4bb",
   "metadata": {
    "hidden": true
   },
   "outputs": [
    {
     "name": "stdout",
     "output_type": "stream",
     "text": [
      "My favorite foods are: ['pizza', 'falafel', 'carrot cake', 'cannoli']\n",
      "\n",
      " My friend's favorite foods are:['pizza', 'falafel', 'carrot cake', 'ice crean']\n"
     ]
    }
   ],
   "source": [
    "my_foods = ['pizza','falafel','carrot cake']\n",
    "friend_foods = my_foods[:]\n",
    "\n",
    "my_foods.append('cannoli')\n",
    "friend_foods.append('ice crean')\n",
    "\n",
    "print(f\"My favorite foods are: {my_foods}\")\n",
    "print(f\"\\n My friend's favorite foods are:{friend_foods}\")"
   ]
  },
  {
   "cell_type": "markdown",
   "id": "687d31cb",
   "metadata": {
    "hidden": true
   },
   "source": [
    "However, if you use the following syntax, `new_list = list_name`, you will not get two independet lists. Updating one list, you will also get another list updated. "
   ]
  },
  {
   "cell_type": "code",
   "execution_count": 15,
   "id": "11e84369",
   "metadata": {
    "hidden": true
   },
   "outputs": [
    {
     "name": "stdout",
     "output_type": "stream",
     "text": [
      "My favorite foods are: ['pizza', 'falafel', 'carrot cake', 'cannoli', 'ice cream']\n",
      "\n",
      " My friend's favorite foods are: ['pizza', 'falafel', 'carrot cake', 'cannoli', 'ice cream']\n"
     ]
    }
   ],
   "source": [
    "my_foods = ['pizza','falafel','carrot cake']\n",
    "\n",
    "friend_foods = my_foods\n",
    "\n",
    "my_foods.append('cannoli')\n",
    "friend_foods.append('ice cream')\n",
    "\n",
    "print(f\"My favorite foods are: {my_foods}\")\n",
    "print(f\"\\n My friend's favorite foods are: {friend_foods}\")"
   ]
  },
  {
   "cell_type": "markdown",
   "id": "97a98f2e",
   "metadata": {
    "heading_collapsed": true
   },
   "source": [
    "## Tuple"
   ]
  },
  {
   "cell_type": "markdown",
   "id": "4615203f",
   "metadata": {
    "hidden": true
   },
   "source": [
    "A tuple is very similar to a list; however, it is recoginized by `(` and `)`, instead of `[]` for lists. Tuples are very suitable for storing dynamic data. "
   ]
  },
  {
   "cell_type": "code",
   "execution_count": 1,
   "id": "63f098e0",
   "metadata": {
    "hidden": true
   },
   "outputs": [
    {
     "name": "stdout",
     "output_type": "stream",
     "text": [
      "200\n",
      "50\n"
     ]
    }
   ],
   "source": [
    "dimensions = (200,50) #This is a tuple\n",
    "print(dimensions[0])\n",
    "print(dimensions[1])"
   ]
  },
  {
   "cell_type": "markdown",
   "id": "67f9a528",
   "metadata": {
    "hidden": true
   },
   "source": [
    "Python understand a tuple using `,`, which means, even if there is only one element in the tuple, you need to write `(3,)`. "
   ]
  },
  {
   "cell_type": "code",
   "execution_count": 4,
   "id": "2a830314",
   "metadata": {
    "hidden": true
   },
   "outputs": [
    {
     "name": "stdout",
     "output_type": "stream",
     "text": [
      "3\n"
     ]
    }
   ],
   "source": [
    "my_t = (3,)\n",
    "print(my_t[0])"
   ]
  },
  {
   "cell_type": "markdown",
   "id": "84566a02",
   "metadata": {
    "hidden": true
   },
   "source": [
    "You can use the `for` loop to access all elements in a tuple."
   ]
  },
  {
   "cell_type": "code",
   "execution_count": 5,
   "id": "1954ba55",
   "metadata": {
    "hidden": true
   },
   "outputs": [
    {
     "name": "stdout",
     "output_type": "stream",
     "text": [
      "200\n",
      "50\n"
     ]
    }
   ],
   "source": [
    "dimensions = (200,50)\n",
    "for dimension in dimensions:\n",
    "    print(dimension)"
   ]
  },
  {
   "cell_type": "markdown",
   "id": "8cadbf8a",
   "metadata": {
    "hidden": true
   },
   "source": [
    "Tuple object does not support item assignment, which means you cannot assign a value to an element in the tuple. i.e., codes such as `dimensions[0]=250` is invalid in Python. To modify a tuple, you need to define the entire tuple again. "
   ]
  },
  {
   "cell_type": "code",
   "execution_count": 6,
   "id": "0b74072c",
   "metadata": {
    "hidden": true
   },
   "outputs": [
    {
     "name": "stdout",
     "output_type": "stream",
     "text": [
      "Original dimensions:\n",
      "200\n",
      "50\n",
      "\n",
      "Modified dimensions:\n",
      "400\n",
      "10\n"
     ]
    }
   ],
   "source": [
    "dimensions = (200,50)\n",
    "print(\"Original dimensions:\")\n",
    "for dimension in dimensions:\n",
    "    print(dimension)\n",
    "\n",
    "dimensions = (400,10)\n",
    "print(\"\\nModified dimensions:\")\n",
    "for dimension in dimensions:\n",
    "    print(dimension)"
   ]
  },
  {
   "cell_type": "markdown",
   "id": "4b284dab",
   "metadata": {
    "heading_collapsed": true
   },
   "source": [
    "## The `if` Syntax"
   ]
  },
  {
   "cell_type": "markdown",
   "id": "1694c920",
   "metadata": {
    "heading_collapsed": true,
    "hidden": true
   },
   "source": [
    "### Conditional Test"
   ]
  },
  {
   "cell_type": "markdown",
   "id": "e8745bc8",
   "metadata": {
    "hidden": true
   },
   "source": [
    "The key of an `if` loop is to testify if a certain condition is met. Python  will indicate such results using either `True` or `False`. Using two equal signs (`==`), you can testify if two variables are equal. "
   ]
  },
  {
   "cell_type": "code",
   "execution_count": 8,
   "id": "f6813e76",
   "metadata": {
    "hidden": true
   },
   "outputs": [
    {
     "data": {
      "text/plain": [
       "True"
      ]
     },
     "execution_count": 8,
     "metadata": {},
     "output_type": "execute_result"
    }
   ],
   "source": [
    "car = 'bmw'\n",
    "car == 'bmw'"
   ]
  },
  {
   "cell_type": "code",
   "execution_count": 10,
   "id": "5ad935ac",
   "metadata": {
    "hidden": true
   },
   "outputs": [
    {
     "data": {
      "text/plain": [
       "False"
      ]
     },
     "execution_count": 10,
     "metadata": {},
     "output_type": "execute_result"
    }
   ],
   "source": [
    "car = 'audi'\n",
    "car == 'bmw'"
   ]
  },
  {
   "cell_type": "markdown",
   "id": "52ee0a8b",
   "metadata": {
    "hidden": true
   },
   "source": [
    "Conditional test is \"capital-letter-sensitive\", meaning you will get `False` if you run the code `Audi == audi`."
   ]
  },
  {
   "cell_type": "code",
   "execution_count": 12,
   "id": "841ee87d",
   "metadata": {
    "hidden": true
   },
   "outputs": [
    {
     "data": {
      "text/plain": [
       "False"
      ]
     },
     "execution_count": 12,
     "metadata": {},
     "output_type": "execute_result"
    }
   ],
   "source": [
    "car = 'audi'\n",
    "car == 'Audi'"
   ]
  },
  {
   "cell_type": "code",
   "execution_count": 16,
   "id": "356448f8",
   "metadata": {
    "hidden": true
   },
   "outputs": [
    {
     "data": {
      "text/plain": [
       "True"
      ]
     },
     "execution_count": 16,
     "metadata": {},
     "output_type": "execute_result"
    }
   ],
   "source": [
    "car = 'Audi'\n",
    "car.lower() == 'audi'"
   ]
  },
  {
   "cell_type": "markdown",
   "id": "11e41841",
   "metadata": {
    "hidden": true
   },
   "source": [
    "To testify if the two variables are ***not*** equal, you should use `!=`."
   ]
  },
  {
   "cell_type": "code",
   "execution_count": 17,
   "id": "41da8164",
   "metadata": {
    "hidden": true
   },
   "outputs": [
    {
     "name": "stdout",
     "output_type": "stream",
     "text": [
      "Hold the anchovies!\n"
     ]
    }
   ],
   "source": [
    "requested_topping = 'mushrooms'\n",
    "if requested_topping != 'anchovies':\n",
    "    print(\"Hold the anchovies!\")"
   ]
  },
  {
   "cell_type": "markdown",
   "id": "a8685e8d",
   "metadata": {
    "hidden": true
   },
   "source": [
    "You can also compare two numerical values by using `=`, `!=`, `>`, `<`, `>=`, or `<=`."
   ]
  },
  {
   "cell_type": "code",
   "execution_count": 18,
   "id": "7b8c43bd",
   "metadata": {
    "hidden": true
   },
   "outputs": [
    {
     "name": "stdout",
     "output_type": "stream",
     "text": [
      "S/he is an adult!\n"
     ]
    }
   ],
   "source": [
    "#To test if one is an adult. \n",
    "age = 18\n",
    "if age == 18:\n",
    "    print(\"S/he is an adult!\")"
   ]
  },
  {
   "cell_type": "code",
   "execution_count": 21,
   "id": "f43a48dd",
   "metadata": {
    "hidden": true
   },
   "outputs": [
    {
     "name": "stdout",
     "output_type": "stream",
     "text": [
      "That is not the correct answer. Please try again!\n"
     ]
    }
   ],
   "source": [
    "#To test if the answer to a question is correct. \n",
    "answer = 17\n",
    "if answer != 42: \n",
    "    print(\"That is not the correct answer. Please try again!\")"
   ]
  },
  {
   "cell_type": "markdown",
   "id": "1c8abaf3",
   "metadata": {
    "hidden": true
   },
   "source": [
    "Sometimes, you can use `and` and `or` to test if multiple conditions are met. "
   ]
  },
  {
   "cell_type": "code",
   "execution_count": 22,
   "id": "32231e94",
   "metadata": {
    "hidden": true
   },
   "outputs": [
    {
     "data": {
      "text/plain": [
       "False"
      ]
     },
     "execution_count": 22,
     "metadata": {},
     "output_type": "execute_result"
    }
   ],
   "source": [
    "age_0 = 22\n",
    "age_1 = 18\n",
    "age_0 >=21 and age_1 >= 21"
   ]
  },
  {
   "cell_type": "markdown",
   "id": "c2a1afec",
   "metadata": {
    "hidden": true
   },
   "source": [
    "You can use `(` and `)` to indicate the conditional testing you are running, but this is not mandatory. "
   ]
  },
  {
   "cell_type": "code",
   "execution_count": 25,
   "id": "91a4226d",
   "metadata": {
    "hidden": true
   },
   "outputs": [
    {
     "data": {
      "text/plain": [
       "True"
      ]
     },
     "execution_count": 25,
     "metadata": {},
     "output_type": "execute_result"
    }
   ],
   "source": [
    "age_0 = 22\n",
    "age_1 = 22\n",
    "(age_0 >= 21) and (age_1 >= 21)"
   ]
  },
  {
   "cell_type": "markdown",
   "id": "22007a7f",
   "metadata": {
    "hidden": true
   },
   "source": [
    "When using or to connect two conditional testing, Python will return `True` if any one condition is met. If none conditon is met, Python will return `False`. "
   ]
  },
  {
   "cell_type": "code",
   "execution_count": 26,
   "id": "7fd6dca2",
   "metadata": {
    "hidden": true
   },
   "outputs": [
    {
     "data": {
      "text/plain": [
       "True"
      ]
     },
     "execution_count": 26,
     "metadata": {},
     "output_type": "execute_result"
    }
   ],
   "source": [
    "age_0 = 22\n",
    "age_1 = 18\n",
    "age_0 >=21 or age_1 >= 21"
   ]
  },
  {
   "cell_type": "code",
   "execution_count": 27,
   "id": "37e5b477",
   "metadata": {
    "hidden": true
   },
   "outputs": [
    {
     "data": {
      "text/plain": [
       "False"
      ]
     },
     "execution_count": 27,
     "metadata": {},
     "output_type": "execute_result"
    }
   ],
   "source": [
    "age_0 = 18\n",
    "age_1 = 18\n",
    "age_0 >=21 or age_1 >= 21"
   ]
  },
  {
   "cell_type": "markdown",
   "id": "df532c05",
   "metadata": {
    "hidden": true
   },
   "source": [
    "You can also testify if one element is contained in a list, using the syntax `element in list_name`."
   ]
  },
  {
   "cell_type": "code",
   "execution_count": 28,
   "id": "34fb2c1a",
   "metadata": {
    "hidden": true
   },
   "outputs": [
    {
     "data": {
      "text/plain": [
       "True"
      ]
     },
     "execution_count": 28,
     "metadata": {},
     "output_type": "execute_result"
    }
   ],
   "source": [
    "requested_toppings = ['mushrooms','onions','pineapple']\n",
    "'mushrooms' in requested_toppings"
   ]
  },
  {
   "cell_type": "code",
   "execution_count": 31,
   "id": "d9593bdf",
   "metadata": {
    "hidden": true
   },
   "outputs": [
    {
     "data": {
      "text/plain": [
       "False"
      ]
     },
     "execution_count": 31,
     "metadata": {},
     "output_type": "execute_result"
    }
   ],
   "source": [
    "requested_toppings = ['mushrooms','onions','pineapple']\n",
    "'pepperoni' in requested_toppings"
   ]
  },
  {
   "cell_type": "markdown",
   "id": "bf6b474f",
   "metadata": {
    "hidden": true
   },
   "source": [
    "You can testify if one element is ***not*** contained in a list, using `element not in list_name`."
   ]
  },
  {
   "cell_type": "code",
   "execution_count": 33,
   "id": "58e351e7",
   "metadata": {
    "hidden": true
   },
   "outputs": [
    {
     "name": "stdout",
     "output_type": "stream",
     "text": [
      "Marie, you can post a response if you wish.\n"
     ]
    }
   ],
   "source": [
    "banned_users = ['andrew','carolina','david']\n",
    "user = 'marie'\n",
    "\n",
    "if user not in banned_users:\n",
    "    print(f\"{user.title()}, you can post a response if you wish.\")"
   ]
  },
  {
   "cell_type": "markdown",
   "id": "5ec23947",
   "metadata": {
    "heading_collapsed": true,
    "hidden": true
   },
   "source": [
    "### The `if` Syntax"
   ]
  },
  {
   "cell_type": "markdown",
   "id": "15ed321f",
   "metadata": {
    "hidden": true
   },
   "source": [
    "The simplest `if` syntax goes as follows: \n",
    "\n",
    "    if conditional_test: \n",
    "        do something"
   ]
  },
  {
   "cell_type": "code",
   "execution_count": 34,
   "id": "ecc82139",
   "metadata": {
    "hidden": true
   },
   "outputs": [
    {
     "name": "stdout",
     "output_type": "stream",
     "text": [
      "You are old enough to vote!\n"
     ]
    }
   ],
   "source": [
    "age = 19\n",
    "if age >= 18:\n",
    "    print(\"You are old enough to vote!\")"
   ]
  },
  {
   "cell_type": "markdown",
   "id": "4c1262bf",
   "metadata": {
    "hidden": true
   },
   "source": [
    "Sometimes, you will use the `if-else` syntax to specify what to do if the condition is not met. The syntax goes as \n",
    "\n",
    "    if conditional_test: \n",
    "        do something\n",
    "    else: \n",
    "        do something else"
   ]
  },
  {
   "cell_type": "code",
   "execution_count": 35,
   "id": "692d56de",
   "metadata": {
    "hidden": true
   },
   "outputs": [
    {
     "name": "stdout",
     "output_type": "stream",
     "text": [
      "Sorry, you are too young to vote. \n",
      "Please register to vote as soon as you turn 18!\n"
     ]
    }
   ],
   "source": [
    "age = 17\n",
    "if age >= 18: \n",
    "    print(\"You are old enough to vote!\")\n",
    "    print(\"Have you registered to vote yet? \")\n",
    "else: \n",
    "    print(\"Sorry, you are too young to vote. \")\n",
    "    print(\"Please register to vote as soon as you turn 18!\")"
   ]
  },
  {
   "cell_type": "markdown",
   "id": "be004c3e",
   "metadata": {
    "hidden": true
   },
   "source": [
    "Sometimes, you will use the `if-elif-else` structure. The syntax is: \n",
    "    \n",
    "    if conditional_test:\n",
    "        something\n",
    "    elif conditional_test:\n",
    "        something\n",
    "    else something"
   ]
  },
  {
   "cell_type": "code",
   "execution_count": 36,
   "id": "ef8a280b",
   "metadata": {
    "hidden": true
   },
   "outputs": [
    {
     "name": "stdout",
     "output_type": "stream",
     "text": [
      "Your admission cost is $25.\n"
     ]
    }
   ],
   "source": [
    "age = 12\n",
    "\n",
    "if age < 4:\n",
    "    print(\"Your admission cost is $0.\")\n",
    "elif age < 18:\n",
    "    print(\"Your admission cost is $25.\")\n",
    "else: \n",
    "    print(\"Your admission cost is $40.\")"
   ]
  },
  {
   "cell_type": "code",
   "execution_count": 37,
   "id": "416289ce",
   "metadata": {
    "hidden": true
   },
   "outputs": [
    {
     "name": "stdout",
     "output_type": "stream",
     "text": [
      "Your admission cost is $25.\n"
     ]
    }
   ],
   "source": [
    "#A simpler version: \n",
    "age = 12\n",
    "if age < 4:\n",
    "    price = 0\n",
    "elif age < 18:\n",
    "    price = 25\n",
    "else: \n",
    "    price = 40\n",
    "    \n",
    "print(f\"Your admission cost is ${price}.\")"
   ]
  },
  {
   "cell_type": "markdown",
   "id": "093904b6",
   "metadata": {
    "hidden": true
   },
   "source": [
    "You are allowed to include multiple `elif` structure in your code. You are also allowed to omit the `else` sturcture in your code. "
   ]
  },
  {
   "cell_type": "code",
   "execution_count": 42,
   "id": "fb524231",
   "metadata": {
    "hidden": true
   },
   "outputs": [
    {
     "name": "stdout",
     "output_type": "stream",
     "text": [
      "Your admission cost is $40.\n"
     ]
    }
   ],
   "source": [
    "age = 50\n",
    "\n",
    "if age < 4:\n",
    "    price = 0\n",
    "elif age < 18:\n",
    "    price = 25\n",
    "elif age < 65:\n",
    "    price = 40\n",
    "elif age >=65:\n",
    "    price = 20\n",
    "\n",
    "print(f\"Your admission cost is ${price}.\")"
   ]
  },
  {
   "cell_type": "markdown",
   "id": "13adb748",
   "metadata": {
    "hidden": true
   },
   "source": [
    "You can use multiple `if` structure to testify more than one condition. If you use the `if-elif-else` structure in the following example, you will not get the expected outcomes because Python will skip conditonal tests followed once the first conditional test is passed. "
   ]
  },
  {
   "cell_type": "code",
   "execution_count": 43,
   "id": "604cbef8",
   "metadata": {
    "hidden": true
   },
   "outputs": [
    {
     "name": "stdout",
     "output_type": "stream",
     "text": [
      "Adding mushrooms.\n",
      "Adding extra chees.\n",
      "\n",
      "Finished making your pizza!\n"
     ]
    }
   ],
   "source": [
    "requested_toppings = ['mushrooms','extra cheese']\n",
    "\n",
    "if 'mushrooms' in requested_toppings:\n",
    "    print(\"Adding mushrooms.\")\n",
    "if 'pepperoni' in requested_toppings:\n",
    "    print(\"Adding pepperoni.\")\n",
    "if 'extra cheese' in requested_toppings:\n",
    "    print(\"Adding extra chees.\")\n",
    "\n",
    "print(\"\\nFinished making your pizza!\")"
   ]
  },
  {
   "cell_type": "markdown",
   "id": "25950ff4",
   "metadata": {
    "heading_collapsed": true,
    "hidden": true
   },
   "source": [
    "### `if` Syntax and Lists"
   ]
  },
  {
   "cell_type": "markdown",
   "id": "5264214e",
   "metadata": {
    "hidden": true
   },
   "source": [
    "You can include an `if` syntax in a `for` loop. "
   ]
  },
  {
   "cell_type": "code",
   "execution_count": 44,
   "id": "e0bba62b",
   "metadata": {
    "hidden": true
   },
   "outputs": [
    {
     "name": "stdout",
     "output_type": "stream",
     "text": [
      "Adding mushrooms.\n",
      "Sorry, we are oout of green peppers right now.\n",
      "Adding extra cheese.\n",
      "\n",
      "Finished making your pizza!\n"
     ]
    }
   ],
   "source": [
    "requested_toppings = ['mushrooms','green peppers','extra cheese']\n",
    "for requested_topping in requested_toppings:\n",
    "    if requested_topping == 'green peppers':\n",
    "        print(\"Sorry, we are oout of green peppers right now.\")\n",
    "    else:\n",
    "        print(f\"Adding {requested_topping}.\")\n",
    "\n",
    "print(\"\\nFinished making your pizza!\")"
   ]
  },
  {
   "cell_type": "markdown",
   "id": "20bb85e5",
   "metadata": {
    "hidden": true
   },
   "source": [
    "You can also use the `if` syntax to determine if a list is empty. "
   ]
  },
  {
   "cell_type": "code",
   "execution_count": 47,
   "id": "9756b216",
   "metadata": {
    "hidden": true
   },
   "outputs": [
    {
     "name": "stdout",
     "output_type": "stream",
     "text": [
      "Are you sure you want a plain pizza? \n"
     ]
    }
   ],
   "source": [
    "requested_toppings = [] #This is an empty list. \n",
    "\n",
    "if requested_toppings: #If the list is not empty\n",
    "    for requested_topping in requested_toppings:\n",
    "        print(f\"Adding {requested_topping}.\")\n",
    "    print(\"\\nFinished making your pizza!\")\n",
    "else: #If the list is empty\n",
    "    print(\"Are you sure you want a plain pizza? \")"
   ]
  },
  {
   "cell_type": "markdown",
   "id": "e64a40d7",
   "metadata": {
    "hidden": true
   },
   "source": [
    "You can include multiple lists in the `if` syntax."
   ]
  },
  {
   "cell_type": "code",
   "execution_count": 49,
   "id": "5729cdf9",
   "metadata": {
    "hidden": true
   },
   "outputs": [
    {
     "name": "stdout",
     "output_type": "stream",
     "text": [
      "Adding mushrooms.\n",
      "Sorry, we don't have french fries.\n",
      "Adding extra cheese.\n",
      "\n",
      "Finished making your pizza!\n"
     ]
    }
   ],
   "source": [
    "available_toppings = ['mushrooms','olives','green peppers','pepperoni','pineapple','extra cheese']\n",
    "\n",
    "requested_toppings = ['mushrooms','french fries','extra cheese']\n",
    "\n",
    "for requested_topping in requested_toppings:\n",
    "    if requested_topping in available_toppings:\n",
    "        print(f\"Adding {requested_topping}.\")\n",
    "    else:\n",
    "        print(f\"Sorry, we don't have {requested_topping}.\")\n",
    "        \n",
    "print(\"\\nFinished making your pizza!\")"
   ]
  },
  {
   "cell_type": "markdown",
   "id": "6b858ec5",
   "metadata": {
    "heading_collapsed": true
   },
   "source": [
    "## Dictionary in Python"
   ]
  },
  {
   "cell_type": "markdown",
   "id": "017a4fa1",
   "metadata": {
    "hidden": true
   },
   "source": [
    "In Python, a dictionary is a key-value pair. Each \"key\" is paried with a \"value\" in the dictioanry, and you can access the value bysuing the connected value. Dictionary is recognized in Python using `{` and `}`. "
   ]
  },
  {
   "cell_type": "code",
   "execution_count": 50,
   "id": "4daa9e25",
   "metadata": {
    "hidden": true
   },
   "outputs": [
    {
     "name": "stdout",
     "output_type": "stream",
     "text": [
      "green\n",
      "5\n"
     ]
    }
   ],
   "source": [
    "alien_0 = {'color': 'green', 'points': 5}\n",
    "\n",
    "print(alien_0['color'])\n",
    "print(alien_0['points'])"
   ]
  },
  {
   "cell_type": "code",
   "execution_count": 53,
   "id": "2325e4dc",
   "metadata": {
    "hidden": true
   },
   "outputs": [
    {
     "name": "stdout",
     "output_type": "stream",
     "text": [
      "You just earned 5 points!\n"
     ]
    }
   ],
   "source": [
    "alien_0 = {'color': 'green', 'points': 5}\n",
    "\n",
    "new_points = alien_0['points']\n",
    "print(f\"You just earned {new_points} points!\")"
   ]
  },
  {
   "cell_type": "markdown",
   "id": "ac1fe97d",
   "metadata": {
    "hidden": true
   },
   "source": [
    "You can add more key-value pairs in a dictionary. "
   ]
  },
  {
   "cell_type": "code",
   "execution_count": 54,
   "id": "5c61c559",
   "metadata": {
    "hidden": true
   },
   "outputs": [
    {
     "name": "stdout",
     "output_type": "stream",
     "text": [
      "{'color': 'green', 'points': '5', 'x_position': 0, 'y_position': 25}\n"
     ]
    }
   ],
   "source": [
    "alien_0 = {'color': 'green', 'points': 5}\n",
    "\n",
    "alien_0['x_position'] = 0\n",
    "alien_0['y_position'] = 25\n",
    "\n",
    "print(alien_0)"
   ]
  },
  {
   "cell_type": "markdown",
   "id": "5b93b618",
   "metadata": {
    "hidden": true
   },
   "source": [
    "A dictionary can also be empty. "
   ]
  },
  {
   "cell_type": "code",
   "execution_count": 55,
   "id": "6867774a",
   "metadata": {
    "hidden": true
   },
   "outputs": [],
   "source": [
    "alien_0 = { } #This is an empty dictionary. "
   ]
  },
  {
   "cell_type": "markdown",
   "id": "1cdb1d00",
   "metadata": {
    "hidden": true
   },
   "source": [
    "You can also modify values in a dictionary. "
   ]
  },
  {
   "cell_type": "code",
   "execution_count": 56,
   "id": "3a1e3eee",
   "metadata": {
    "hidden": true
   },
   "outputs": [
    {
     "name": "stdout",
     "output_type": "stream",
     "text": [
      "The alien is green.\n",
      "The alien is now yellow.\n"
     ]
    }
   ],
   "source": [
    "alien_0 = {'color': 'green', 'points': 5}\n",
    "\n",
    "print(f\"The alien is {alien_0['color']}.\")\n",
    "\n",
    "alien_0['color'] = 'yellow'\n",
    "print(f\"The alien is now {alien_0['color']}.\")"
   ]
  },
  {
   "cell_type": "code",
   "execution_count": 58,
   "id": "eb502109",
   "metadata": {
    "hidden": true
   },
   "outputs": [
    {
     "name": "stdout",
     "output_type": "stream",
     "text": [
      "Original position: 0.\n",
      "New position: 2.\n"
     ]
    }
   ],
   "source": [
    "#This is a more complex example.\n",
    "alien_0 = {'x_position': 0, 'y_position': 25, 'speed': 'medium'}\n",
    "print(f\"Original position: {alien_0['x_position']}.\")\n",
    "\n",
    "#Moving the alien to the right according to the speed of the alien.\n",
    "if alien_0['speed'] == 'slow':\n",
    "    x_increment = 1\n",
    "elif alien_0['speed'] == 'medium':\n",
    "    x_increment = 2\n",
    "else:\n",
    "    x_increment = 3\n",
    "\n",
    "alien_0['x_position'] = alien_0['x_position'] + x_increment\n",
    "\n",
    "print(f\"New position: {alien_0['x_position']}.\")"
   ]
  },
  {
   "cell_type": "markdown",
   "id": "5547096b",
   "metadata": {
    "hidden": true
   },
   "source": [
    "To delete a key-value pair in a directionary, you can use teh `del` function. "
   ]
  },
  {
   "cell_type": "code",
   "execution_count": 59,
   "id": "2e274401",
   "metadata": {
    "hidden": true
   },
   "outputs": [
    {
     "name": "stdout",
     "output_type": "stream",
     "text": [
      "{'color': 'green'}\n"
     ]
    }
   ],
   "source": [
    "alien_0 = {'color': 'green', 'points': 5}\n",
    "\n",
    "del alien_0['points']\n",
    "print(alien_0)"
   ]
  },
  {
   "cell_type": "code",
   "execution_count": 60,
   "id": "beeff3dc",
   "metadata": {
    "hidden": true
   },
   "outputs": [
    {
     "name": "stdout",
     "output_type": "stream",
     "text": [
      "Sarah's favorite language is C.\n"
     ]
    }
   ],
   "source": [
    "#This is an example of using a directionary to store results from a survey.\n",
    "favorite_languages = {\n",
    "    'jen': 'python',\n",
    "    'sarah': 'c',\n",
    "    'edward': 'ruby',\n",
    "    'phil': 'python',\n",
    "}\n",
    "\n",
    "language = favorite_languages['sarah'].title()\n",
    "print(f\"Sarah's favorite language is {language}.\")"
   ]
  },
  {
   "cell_type": "markdown",
   "id": "657aecb8",
   "metadata": {
    "hidden": true
   },
   "source": [
    "You can also use the function `get()` to access values in the directionary. "
   ]
  },
  {
   "cell_type": "code",
   "execution_count": 61,
   "id": "7e59e91e",
   "metadata": {
    "hidden": true
   },
   "outputs": [
    {
     "name": "stdout",
     "output_type": "stream",
     "text": [
      "No point value assigned.\n"
     ]
    }
   ],
   "source": [
    "alien_0 = {'color': 'green', 'speed': 'slow'}\n",
    "\n",
    "#In alien_0, we do not have the key named 'points', so if we run alien_0['points'], we will get an error.\n",
    "#To avoid getting the error, we could use get() instead.\n",
    "point_value = alien_0.get('points', 'No point value assigned.')\n",
    "#If we do have a value for 'points', Python will assign that value to the variable point_value.\n",
    "#If we do not have such a key/value, Python will assign the second value in get() to the variable.\n",
    "print(point_value)"
   ]
  },
  {
   "cell_type": "markdown",
   "id": "24e0460c",
   "metadata": {
    "hidden": true
   },
   "source": [
    "### Accessing All Key-Value Pairs in A Dictionary"
   ]
  },
  {
   "cell_type": "markdown",
   "id": "116f491d",
   "metadata": {
    "hidden": true
   },
   "source": [
    "We can use a `for` loop to access all key-value pairs in a dictionary. However, since there are both the key and the value assigned in the dictionary, we need two variables in the `for` loop."
   ]
  },
  {
   "cell_type": "code",
   "execution_count": 62,
   "id": "211dbf48",
   "metadata": {
    "hidden": true
   },
   "outputs": [
    {
     "name": "stdout",
     "output_type": "stream",
     "text": [
      "\n",
      "Key: username\n",
      "Value: efermi\n",
      "\n",
      "Key: first\n",
      "Value: enrico\n",
      "\n",
      "Key: last\n",
      "Value: fermi\n"
     ]
    }
   ],
   "source": [
    "user_0 = {\n",
    "    'username': 'efermi',\n",
    "    'first': 'enrico',\n",
    "    'last': 'fermi',\n",
    "}\n",
    "\n",
    "for key,value in user_0.items(): \n",
    "    print(f\"\\nKey: {key}\")\n",
    "    print(f\"Value: {value}\")"
   ]
  },
  {
   "cell_type": "markdown",
   "id": "bef26570",
   "metadata": {
    "hidden": true
   },
   "source": [
    "In the example above, `key` and `value` are two variables. `key` is assigned to keys in the dictionary, and `value` is assigned with teh values in the dictionary. Moreover, after `in`, the `user_0` is the name of the dictionary, whereas `.items()` is the approach of accessing. The approach `.items()` returns both the key and the value. "
   ]
  },
  {
   "cell_type": "code",
   "execution_count": 63,
   "id": "a6704cd5",
   "metadata": {
    "hidden": true
   },
   "outputs": [
    {
     "name": "stdout",
     "output_type": "stream",
     "text": [
      "Jen's favorite language is Python.\n",
      "Sarah's favorite language is C.\n",
      "Edward's favorite language is Ruby.\n",
      "Phil's favorite language is Python.\n"
     ]
    }
   ],
   "source": [
    "favorite_languages = {\n",
    "    'jen': 'python',\n",
    "    'sarah': 'c',\n",
    "    'edward': 'ruby',\n",
    "    'phil': 'python',\n",
    "}\n",
    "\n",
    "for name,language in favorite_languages.items():\n",
    "    print(f\"{name.title()}'s favorite language is {language.title()}.\")"
   ]
  },
  {
   "cell_type": "markdown",
   "id": "f1deed10",
   "metadata": {
    "hidden": true
   },
   "source": [
    "Sometimes, we only wants to access all keys in a dictionary. If we only wants the key to be returned, we use the `.keys()` approach. Python will automatically access all keys only in a dictionary if the approach arugment is omitted (i.e., if `.items()` or `.keys()` is omitted. "
   ]
  },
  {
   "cell_type": "code",
   "execution_count": 64,
   "id": "dbaf4d72",
   "metadata": {
    "hidden": true
   },
   "outputs": [
    {
     "name": "stdout",
     "output_type": "stream",
     "text": [
      "Jen\n",
      "Sarah\n",
      "Edward\n",
      "Phil\n"
     ]
    }
   ],
   "source": [
    "favorite_languages = {\n",
    "    'jen': 'python',\n",
    "    'sarah': 'c',\n",
    "    'edward': 'ruby',\n",
    "    'phil': 'python',\n",
    "}\n",
    "\n",
    "for name in favorite_languages.keys():\n",
    "    print(name.title())"
   ]
  },
  {
   "cell_type": "code",
   "execution_count": 70,
   "id": "13874994",
   "metadata": {
    "hidden": true
   },
   "outputs": [
    {
     "name": "stdout",
     "output_type": "stream",
     "text": [
      "Hi Jen.\n",
      "Hi Sarah.\n",
      "\tSarah, I see you love C!\n",
      "Hi Edward.\n",
      "Hi Phil.\n",
      "\tPhil, I see you love Python!\n",
      "\n",
      "Erin, please take your poll!\n"
     ]
    }
   ],
   "source": [
    "#A more complex example. \n",
    "favorite_languages = {\n",
    "    'jen': 'python',\n",
    "    'sarah': 'c',\n",
    "    'edward': 'ruby',\n",
    "    'phil': 'python',\n",
    "}\n",
    "\n",
    "friends = ['phil', 'sarah']\n",
    "for name in favorite_languages.keys():\n",
    "    print(f\"Hi {name.title()}.\")\n",
    "    \n",
    "    if name in friends:\n",
    "        language = favorite_languages[name].title()\n",
    "        print(f\"\\t{name.title()}, I see you love {language}!\")\n",
    "        \n",
    "if 'erin' not in favorite_languages.keys(): #We can also testify if one has completed the survey.\n",
    "    print(\"\\nErin, please take your poll!\")"
   ]
  },
  {
   "cell_type": "markdown",
   "id": "2e002e25",
   "metadata": {
    "hidden": true
   },
   "source": [
    "Sometimes, we might want to access all the keys in the dictionary according to a specified order. In this case, we can use the `sorted()` function. "
   ]
  },
  {
   "cell_type": "code",
   "execution_count": 71,
   "id": "80aec81e",
   "metadata": {
    "hidden": true
   },
   "outputs": [
    {
     "name": "stdout",
     "output_type": "stream",
     "text": [
      "Edward, thank you for taking the poll.\n",
      "Jen, thank you for taking the poll.\n",
      "Phil, thank you for taking the poll.\n",
      "Sarah, thank you for taking the poll.\n"
     ]
    }
   ],
   "source": [
    "favorite_languages = {\n",
    "    'jen': 'python',\n",
    "    'sarah': 'c',\n",
    "    'edward': 'ruby',\n",
    "    'phil': 'python',\n",
    "}\n",
    "\n",
    "for name in sorted(favorite_languages.keys()): #This sorts all the keys in ascending order. \n",
    "    print(f\"{name.title()}, thank you for taking the poll.\")"
   ]
  },
  {
   "cell_type": "markdown",
   "id": "33c4347d",
   "metadata": {
    "hidden": true
   },
   "source": [
    "If we want to access all the values in the dictionary, we use `.values()` as our approach. "
   ]
  },
  {
   "cell_type": "code",
   "execution_count": 72,
   "id": "59a6fcae",
   "metadata": {
    "hidden": true
   },
   "outputs": [
    {
     "name": "stdout",
     "output_type": "stream",
     "text": [
      "The following languages have been mentioned:\n",
      "Python\n",
      "C\n",
      "Ruby\n",
      "Python\n"
     ]
    }
   ],
   "source": [
    "favorite_languages = {\n",
    "    'jen': 'python',\n",
    "    'sarah': 'c',\n",
    "    'edward': 'ruby',\n",
    "    'phil': 'python',\n",
    "}\n",
    "\n",
    "print(\"The following languages have been mentioned:\")\n",
    "for language in favorite_languages.values():\n",
    "    print(language.title())"
   ]
  },
  {
   "cell_type": "markdown",
   "id": "744da6f5",
   "metadata": {
    "hidden": true
   },
   "source": [
    "However, as we can see, the value \"Python\" is repeated presented. To make every elements unique, we use the `set()` function. "
   ]
  },
  {
   "cell_type": "code",
   "execution_count": 73,
   "id": "136d2efa",
   "metadata": {
    "hidden": true
   },
   "outputs": [
    {
     "name": "stdout",
     "output_type": "stream",
     "text": [
      "The following languages have been mentioned:\n",
      "C\n",
      "Ruby\n",
      "Python\n"
     ]
    }
   ],
   "source": [
    "favorite_languages = {\n",
    "    'jen': 'python',\n",
    "    'sarah': 'c',\n",
    "    'edward': 'ruby',\n",
    "    'phil': 'python',\n",
    "}\n",
    "\n",
    "print(\"The following languages have been mentioned:\")\n",
    "for language in set(favorite_languages.values()):\n",
    "    print(language.title())"
   ]
  },
  {
   "cell_type": "markdown",
   "id": "2acd2b12",
   "metadata": {
    "hidden": true
   },
   "source": [
    "It is important to distinguish between a dictionary and a set because both of them are defined using `{}`. When there is no key-value pair (i.e., you do not see `:`), you are defining a set, and the output of a set will automatically omit repeated elements. "
   ]
  },
  {
   "cell_type": "markdown",
   "id": "669a8a20",
   "metadata": {
    "hidden": true
   },
   "source": [
    "### Nested Function"
   ]
  },
  {
   "cell_type": "markdown",
   "id": "5280e190",
   "metadata": {
    "hidden": true
   },
   "source": [
    "#### Dictionary List"
   ]
  },
  {
   "cell_type": "code",
   "execution_count": 2,
   "id": "7a249b00",
   "metadata": {
    "ExecuteTime": {
     "end_time": "2022-08-03T12:34:56.617129Z",
     "start_time": "2022-08-03T12:34:56.608517Z"
    },
    "hidden": true
   },
   "outputs": [
    {
     "name": "stdout",
     "output_type": "stream",
     "text": [
      "{'color': 'green', 'points': 5}\n",
      "{'color': 'yellow', 'points': 10}\n",
      "{'color': 'red', 'points': 15}\n"
     ]
    }
   ],
   "source": [
    "alien_0 = {'color': 'green', 'points': 5}\n",
    "\n",
    "alien_1 = {'color': 'yellow', 'points': 10}\n",
    "\n",
    "alien_2 = {'color': 'red', 'points': 15}\n",
    "\n",
    "aliens = [alien_0, alien_1, alien_2]  #This is a dictionary list.\n",
    "\n",
    "for alien in aliens:\n",
    "    print(alien)"
   ]
  },
  {
   "cell_type": "code",
   "execution_count": 4,
   "id": "eecd225c",
   "metadata": {
    "ExecuteTime": {
     "end_time": "2022-08-03T12:38:49.302053Z",
     "start_time": "2022-08-03T12:38:49.286408Z"
    },
    "hidden": true
   },
   "outputs": [
    {
     "name": "stdout",
     "output_type": "stream",
     "text": [
      "{'color': 'yellow', 'points': 10, 'speed': 'medium'}\n",
      "{'color': 'yellow', 'points': 10, 'speed': 'medium'}\n",
      "{'color': 'yellow', 'points': 10, 'speed': 'medium'}\n",
      "{'color': 'green', 'points': 5, 'speed': 'slow'}\n",
      "{'color': 'green', 'points': 5, 'speed': 'slow'}\n",
      "...\n"
     ]
    }
   ],
   "source": [
    "#This is a more complex example:\n",
    "aliens = []  #This is an empty list.\n",
    "\n",
    "#Now we are creating 30 green aliens, and adding them to the empty list.\n",
    "for alien_number in range(30):\n",
    "    new_alien = {'color': 'green', 'points': 5, 'speed': 'slow'}\n",
    "    aliens.append(new_alien)\n",
    "\n",
    "#Changing color for the first three aliens:\n",
    "for alien in aliens[:3]:\n",
    "    if alien['color'] == 'green':\n",
    "        alien['color'] = 'yellow'\n",
    "        alien['speed'] = 'medium'\n",
    "        alien['points'] = 10\n",
    "\n",
    "#Return the first 5 aliens:\n",
    "for alien in aliens[:5]:\n",
    "    print(alien)\n",
    "print(\"...\")"
   ]
  },
  {
   "cell_type": "markdown",
   "id": "deb971ab",
   "metadata": {
    "hidden": true
   },
   "source": [
    "#### Saving Lists in a Dictionary"
   ]
  },
  {
   "cell_type": "code",
   "execution_count": 11,
   "id": "b9f0270b",
   "metadata": {
    "ExecuteTime": {
     "end_time": "2022-08-03T12:43:29.577030Z",
     "start_time": "2022-08-03T12:43:29.565601Z"
    },
    "hidden": true
   },
   "outputs": [
    {
     "name": "stdout",
     "output_type": "stream",
     "text": [
      "You ordered a thick-crust pizza with the following toppings: \n",
      "\tmushrooms\n",
      "\textra cheese\n"
     ]
    }
   ],
   "source": [
    "pizza = {\n",
    "    'crust': 'thick',\n",
    "    'toppings': ['mushrooms','extra cheese'],\n",
    "}\n",
    "\n",
    "print(f\"You ordered a {pizza['crust']}-crust pizza \"\n",
    "     \"with the following toppings: \")\n",
    "\n",
    "for topping in pizza['toppings']:\n",
    "    print(f\"\\t{topping}\")"
   ]
  },
  {
   "cell_type": "code",
   "execution_count": 14,
   "id": "3075706a",
   "metadata": {
    "ExecuteTime": {
     "end_time": "2022-08-03T12:45:34.576943Z",
     "start_time": "2022-08-03T12:45:34.566294Z"
    },
    "hidden": true
   },
   "outputs": [
    {
     "name": "stdout",
     "output_type": "stream",
     "text": [
      "\n",
      "Jen's favoriate language are:\n",
      "\tPython\n",
      "\tRuby\n",
      "\n",
      "Sarah's favoriate language are:\n",
      "\tC\n",
      "\n",
      "Edward's favoriate language are:\n",
      "\tRuby\n",
      "\tGo\n",
      "\n",
      "Phil's favoriate language are:\n",
      "\tPython\n",
      "\tHaskell\n"
     ]
    }
   ],
   "source": [
    "favorite_languages = {\n",
    "    'jen': ['python', 'ruby'],\n",
    "    'sarah': ['c'],\n",
    "    'edward': ['ruby', 'go'],\n",
    "    'phil': ['python', 'haskell'],\n",
    "}\n",
    "\n",
    "for name, languages in favorite_languages.items():\n",
    "    print(f\"\\n{name.title()}'s favoriate language are:\")\n",
    "    for language in languages:\n",
    "        print(f\"\\t{language.title()}\")"
   ]
  },
  {
   "cell_type": "markdown",
   "id": "85e0b0af",
   "metadata": {
    "hidden": true
   },
   "source": [
    "#### Dictionary in Dictionary"
   ]
  },
  {
   "cell_type": "code",
   "execution_count": 16,
   "id": "fa087f33",
   "metadata": {
    "ExecuteTime": {
     "end_time": "2022-08-03T12:49:30.262329Z",
     "start_time": "2022-08-03T12:49:30.245913Z"
    },
    "hidden": true
   },
   "outputs": [
    {
     "name": "stdout",
     "output_type": "stream",
     "text": [
      "\n",
      "Username: aeinsten\n",
      "\tFull name: Albert Einstein\n",
      "\tLocation: Princeton\n",
      "\n",
      "Username: mcurie\n",
      "\tFull name: Marie Curie\n",
      "\tLocation: Paris\n"
     ]
    }
   ],
   "source": [
    "users = {\n",
    "    'aeinsten': {\n",
    "        'first': 'albert',\n",
    "        'last': 'einstein',\n",
    "        'location': 'princeton',\n",
    "    },\n",
    "    \n",
    "    'mcurie': {\n",
    "        'first': 'marie',\n",
    "        'last': 'curie',\n",
    "        'location': 'paris',\n",
    "    },\n",
    "}\n",
    "\n",
    "for username, user_info in users.items():\n",
    "    print(f\"\\nUsername: {username}\")\n",
    "    full_name = f\"{user_info['first']} {user_info['last']}\"\n",
    "    location = user_info['location']\n",
    "    \n",
    "    print(f\"\\tFull name: {full_name.title()}\")\n",
    "    print(f\"\\tLocation: {location.title()}\")"
   ]
  },
  {
   "cell_type": "markdown",
   "id": "cb87a935",
   "metadata": {
    "heading_collapsed": true
   },
   "source": [
    "## User's Input and the `while` Loop"
   ]
  },
  {
   "cell_type": "markdown",
   "id": "89aac54e",
   "metadata": {
    "heading_collapsed": true,
    "hidden": true
   },
   "source": [
    "### The Function `input()`"
   ]
  },
  {
   "cell_type": "code",
   "execution_count": 17,
   "id": "2e6f41b0",
   "metadata": {
    "ExecuteTime": {
     "end_time": "2022-08-03T12:52:13.816322Z",
     "start_time": "2022-08-03T12:52:02.965450Z"
    },
    "hidden": true
   },
   "outputs": [
    {
     "name": "stdout",
     "output_type": "stream",
     "text": [
      "Tell me something, and I will repeat it back to you: Hello world!\n",
      "Hello world!\n"
     ]
    }
   ],
   "source": [
    "message = input(\"Tell me something, and I will repeat it back to you: \")\n",
    "print(message)"
   ]
  },
  {
   "cell_type": "code",
   "execution_count": 18,
   "id": "ec7b24b7",
   "metadata": {
    "ExecuteTime": {
     "end_time": "2022-08-03T12:52:43.336631Z",
     "start_time": "2022-08-03T12:52:40.099281Z"
    },
    "hidden": true
   },
   "outputs": [
    {
     "name": "stdout",
     "output_type": "stream",
     "text": [
      "Please enter your name: richard\n",
      "\n",
      " Hello, Richard!\n"
     ]
    }
   ],
   "source": [
    "name = input(\"Please enter your name: \")\n",
    "print(f\"\\n Hello, {name.title()}!\")"
   ]
  },
  {
   "cell_type": "code",
   "execution_count": 19,
   "id": "c80bc4de",
   "metadata": {
    "ExecuteTime": {
     "end_time": "2022-08-03T12:55:08.300453Z",
     "start_time": "2022-08-03T12:55:02.930473Z"
    },
    "hidden": true
   },
   "outputs": [
    {
     "name": "stdout",
     "output_type": "stream",
     "text": [
      "If you tell us who you are, we can personalize the message you see. \n",
      "What is your first name? charles\n",
      "Hellow, Charles!\n"
     ]
    }
   ],
   "source": [
    "prompt = \"If you tell us who you are, we can personalize the message you see. \"\n",
    "prompt += \"\\nWhat is your first name? \" #This is a way to create multiple-line string using +=\n",
    "\n",
    "name = input(prompt)\n",
    "print(f\"Hellow, {name.title()}!\")"
   ]
  },
  {
   "cell_type": "markdown",
   "id": "90dea8a1",
   "metadata": {
    "hidden": true
   },
   "source": [
    "As you can see, the users' input will be considered as a text string by Python automatically. However, we, many times, what to convert the users' input into numeric values. We can use the function `int()` to get numerical values from the users. "
   ]
  },
  {
   "cell_type": "code",
   "execution_count": 20,
   "id": "01649cee",
   "metadata": {
    "ExecuteTime": {
     "end_time": "2022-08-03T12:57:43.640141Z",
     "start_time": "2022-08-03T12:57:41.193245Z"
    },
    "hidden": true
   },
   "outputs": [
    {
     "name": "stdout",
     "output_type": "stream",
     "text": [
      "How old are you? 18\n",
      "You are old enough to vote!\n"
     ]
    }
   ],
   "source": [
    "age = input(\"How old are you? \")\n",
    "age = int(age)\n",
    "if age >= 18: \n",
    "    print(\"You are old enough to vote!\")"
   ]
  },
  {
   "cell_type": "code",
   "execution_count": 21,
   "id": "6a3cb9be",
   "metadata": {
    "ExecuteTime": {
     "end_time": "2022-08-03T12:58:47.046883Z",
     "start_time": "2022-08-03T12:58:43.862543Z"
    },
    "hidden": true
   },
   "outputs": [
    {
     "name": "stdout",
     "output_type": "stream",
     "text": [
      "How tall are you, in inches? 50\n",
      "\n",
      "You're tall enough to ride!\n"
     ]
    }
   ],
   "source": [
    "height = int(input(\"How tall are you, in inches? \"))\n",
    "\n",
    "if height >= 48: \n",
    "    print(\"\\nYou're tall enough to ride!\")\n",
    "else:\n",
    "    print(\"\\nYou'll be able to ride when you're a littel older.\")"
   ]
  },
  {
   "cell_type": "code",
   "execution_count": 24,
   "id": "f4a687e8",
   "metadata": {
    "ExecuteTime": {
     "end_time": "2022-08-03T13:02:22.855180Z",
     "start_time": "2022-08-03T13:02:20.266321Z"
    },
    "hidden": true
   },
   "outputs": [
    {
     "name": "stdout",
     "output_type": "stream",
     "text": [
      "Enter a number, and I'll tell you if it's even or odd: 7032\n",
      "\n",
      "The number 7032 is even. \n"
     ]
    }
   ],
   "source": [
    "number  = int(input(\"Enter a number, and I'll tell you if it's even or odd: \"))\n",
    "\n",
    "if number % 2 == 0: \n",
    "    print(f\"\\nThe number {number} is even. \")\n",
    "else:\n",
    "    print(f\"\\nThe number {number} is odd. \")"
   ]
  },
  {
   "cell_type": "markdown",
   "id": "c4477c66",
   "metadata": {
    "heading_collapsed": true,
    "hidden": true
   },
   "source": [
    "### Introduction to the `while` Loop"
   ]
  },
  {
   "cell_type": "markdown",
   "id": "c662c009",
   "metadata": {
    "hidden": true
   },
   "source": [
    "The following syntax is a very basic `while` loop: \n",
    "\n",
    "    while condition: \n",
    "        do something\n",
    "        \n",
    "As long as the condition is met, Python will repeat the action until the condition is not met. "
   ]
  },
  {
   "cell_type": "code",
   "execution_count": 25,
   "id": "d5b5f277",
   "metadata": {
    "ExecuteTime": {
     "end_time": "2022-08-03T13:04:48.872882Z",
     "start_time": "2022-08-03T13:04:48.863416Z"
    },
    "hidden": true
   },
   "outputs": [
    {
     "name": "stdout",
     "output_type": "stream",
     "text": [
      "1\n",
      "2\n",
      "3\n",
      "4\n",
      "5\n"
     ]
    }
   ],
   "source": [
    "current_number = 1\n",
    "while current_number <= 5:\n",
    "    print(current_number)\n",
    "    current_number = current_number + 1"
   ]
  },
  {
   "cell_type": "markdown",
   "id": "16174815",
   "metadata": {
    "hidden": true
   },
   "source": [
    "Ways to break the `while` loop: \n",
    "1. Combining the `while` loop and the `input()` function, you can let users to control when the code will stop."
   ]
  },
  {
   "cell_type": "code",
   "execution_count": 3,
   "id": "3971c51e",
   "metadata": {
    "ExecuteTime": {
     "end_time": "2022-08-03T15:01:01.681804Z",
     "start_time": "2022-08-03T15:00:59.680891Z"
    },
    "hidden": true
   },
   "outputs": [
    {
     "name": "stdout",
     "output_type": "stream",
     "text": [
      "\n",
      "Tell me something, and I will repeat it back to you: \n",
      "Enter 'quit' to end the program. quit\n"
     ]
    }
   ],
   "source": [
    "prompt = \"\\nTell me something, and I will repeat it back to you: \"\n",
    "prompt += \"\\nEnter 'quit' to end the program. \"\n",
    "message = \"\"\n",
    "\n",
    "while message != 'quit':\n",
    "    message = input(prompt)\n",
    "    if message != 'quit':\n",
    "        print(message)"
   ]
  },
  {
   "cell_type": "markdown",
   "id": "fb9c478d",
   "metadata": {
    "hidden": true
   },
   "source": [
    "2. You can use a sign to indicate if the `while` loop will continue to run. "
   ]
  },
  {
   "cell_type": "code",
   "execution_count": 4,
   "id": "38fcf390",
   "metadata": {
    "ExecuteTime": {
     "end_time": "2022-08-03T15:03:57.175190Z",
     "start_time": "2022-08-03T15:03:53.255406Z"
    },
    "hidden": true
   },
   "outputs": [
    {
     "name": "stdout",
     "output_type": "stream",
     "text": [
      "\n",
      "Tell me something, and I will repeat it back to you: \n",
      "Enter 'quit' to end the program. happy\n",
      "happy\n",
      "\n",
      "Tell me something, and I will repeat it back to you: \n",
      "Enter 'quit' to end the program. quit\n"
     ]
    }
   ],
   "source": [
    "prompt = \"\\nTell me something, and I will repeat it back to you: \"\n",
    "prompt += \"\\nEnter 'quit' to end the program. \"\n",
    "message = \"\"\n",
    "\n",
    "active = True\n",
    "while active: #This syntax means while active = True, the loop will run.\n",
    "    message = input(prompt)\n",
    "    \n",
    "    if message == 'quit':\n",
    "        active = False\n",
    "    else:\n",
    "        print(message)"
   ]
  },
  {
   "cell_type": "markdown",
   "id": "fddfe738",
   "metadata": {
    "hidden": true
   },
   "source": [
    "3. You can also use `break` to exit the `while` loop."
   ]
  },
  {
   "cell_type": "code",
   "execution_count": 5,
   "id": "43605c1c",
   "metadata": {
    "ExecuteTime": {
     "end_time": "2022-08-03T15:06:41.495214Z",
     "start_time": "2022-08-03T15:06:28.136408Z"
    },
    "hidden": true
   },
   "outputs": [
    {
     "name": "stdout",
     "output_type": "stream",
     "text": [
      "\n",
      "Please enter the name of a city you have visited: \n",
      "(Enter 'quit' when you are finished.)Suzhou\n",
      "I'd love to go to Suzhou!\n",
      "\n",
      "Please enter the name of a city you have visited: \n",
      "(Enter 'quit' when you are finished.)Changsha\n",
      "I'd love to go to Changsha!\n",
      "\n",
      "Please enter the name of a city you have visited: \n",
      "(Enter 'quit' when you are finished.)Wuhan\n",
      "I'd love to go to Wuhan!\n",
      "\n",
      "Please enter the name of a city you have visited: \n",
      "(Enter 'quit' when you are finished.)quit\n"
     ]
    }
   ],
   "source": [
    "prompt = \"\\nPlease enter the name of a city you have visited: \"\n",
    "prompt += \"\\n(Enter 'quit' when you are finished.)\"\n",
    "\n",
    "while True: \n",
    "    city = input(prompt)\n",
    "    \n",
    "    if city == 'quit':\n",
    "        break\n",
    "    else:\n",
    "        print(f\"I'd love to go to {city.title()}!\")"
   ]
  },
  {
   "cell_type": "markdown",
   "id": "a76fa738",
   "metadata": {
    "hidden": true
   },
   "source": [
    "If you want your code to testify for a certain condition before going further in a `while` loop, you should consider to use the `continue` syntax. By using `continue`, your code will run through everything after `continue` if the condition is met. Your code will return to the beginning without running anything after `continue` if the condition is not met. "
   ]
  },
  {
   "cell_type": "code",
   "execution_count": 8,
   "id": "2fa025fc",
   "metadata": {
    "ExecuteTime": {
     "end_time": "2022-08-03T15:13:28.993778Z",
     "start_time": "2022-08-03T15:13:28.983242Z"
    },
    "code_folding": [],
    "hidden": true
   },
   "outputs": [
    {
     "name": "stdout",
     "output_type": "stream",
     "text": [
      "1\n",
      "3\n",
      "5\n",
      "7\n",
      "9\n"
     ]
    }
   ],
   "source": [
    "current_number = 0\n",
    "while current_number < 10:\n",
    "    current_number += 1\n",
    "    if current_number % 2 == 0:\n",
    "        continue\n",
    "    print(current_number)"
   ]
  },
  {
   "cell_type": "markdown",
   "id": "9f176542",
   "metadata": {
    "hidden": true
   },
   "source": [
    "You should avoid infinite `while` loops. If you accidentally run an infinite `while` loop, you can use cmd+C (for MacOS) or ctrl+C (for Windows) to stop the loop."
   ]
  },
  {
   "cell_type": "markdown",
   "id": "9faeed87",
   "metadata": {
    "heading_collapsed": true,
    "hidden": true
   },
   "source": [
    "### `while` Loop, List, and Dictionary"
   ]
  },
  {
   "cell_type": "markdown",
   "id": "9ea1c169",
   "metadata": {
    "hidden": true
   },
   "source": [
    "Moving elements from one list to another list. "
   ]
  },
  {
   "cell_type": "code",
   "execution_count": 9,
   "id": "ae409521",
   "metadata": {
    "ExecuteTime": {
     "end_time": "2022-08-03T15:22:30.525613Z",
     "start_time": "2022-08-03T15:22:30.512125Z"
    },
    "hidden": true
   },
   "outputs": [
    {
     "name": "stdout",
     "output_type": "stream",
     "text": [
      "Verifying user:Candace.\n",
      "Verifying user:Brian.\n",
      "Verifying user:Alice.\n",
      "\n",
      "The following users have been confirmed: \n",
      "Candace\n",
      "Brian\n",
      "Alice\n"
     ]
    }
   ],
   "source": [
    "unconfirmed_users = ['alice', 'brian', 'candace']\n",
    "confirmed_users = []\n",
    "\n",
    "#Confirm all the users until there's no users.\n",
    "#Move all confirmed users into the empty list.\n",
    "while unconfirmed_users:\n",
    "    current_user = unconfirmed_users.pop()\n",
    "\n",
    "    print(f\"Verifying user:{current_user.title()}.\")\n",
    "    confirmed_users.append(current_user)\n",
    "\n",
    "#Print all verified users.\n",
    "print(\"\\nThe following users have been confirmed: \")\n",
    "for confirmed_user in confirmed_users:\n",
    "    print(confirmed_user.title())"
   ]
  },
  {
   "cell_type": "markdown",
   "id": "de8c10fd",
   "metadata": {
    "hidden": true
   },
   "source": [
    "Deleting all elements in a list with a certain value. "
   ]
  },
  {
   "cell_type": "code",
   "execution_count": 10,
   "id": "9b52e9e3",
   "metadata": {
    "ExecuteTime": {
     "end_time": "2022-08-03T15:24:18.574671Z",
     "start_time": "2022-08-03T15:24:18.566506Z"
    },
    "hidden": true
   },
   "outputs": [
    {
     "name": "stdout",
     "output_type": "stream",
     "text": [
      "['dog', 'cat', 'dog', 'goldfish', 'cat', 'rabbit', 'cat']\n",
      "['dog', 'dog', 'goldfish', 'rabbit']\n"
     ]
    }
   ],
   "source": [
    "pets = ['dog', 'cat', 'dog', 'goldfish', 'cat', 'rabbit', 'cat']\n",
    "print(pets)\n",
    "\n",
    "while 'cat' in pets:\n",
    "    pets.remove('cat')\n",
    "\n",
    "print(pets)"
   ]
  },
  {
   "cell_type": "markdown",
   "id": "58b8dc65",
   "metadata": {
    "hidden": true
   },
   "source": [
    "Use users' input to fill a dictionary. "
   ]
  },
  {
   "cell_type": "code",
   "execution_count": 13,
   "id": "be64185a",
   "metadata": {
    "ExecuteTime": {
     "end_time": "2022-08-03T15:30:29.176221Z",
     "start_time": "2022-08-03T15:30:11.406287Z"
    },
    "hidden": true
   },
   "outputs": [
    {
     "name": "stdout",
     "output_type": "stream",
     "text": [
      "\n",
      "What is your name?richard\n",
      "Which mountain would you like to climb someday? tianpingshan\n",
      "Would you like to let another person respond? (yes/ no) yes\n",
      "\n",
      "What is your name?charles\n",
      "Which mountain would you like to climb someday? guanshan\n",
      "Would you like to let another person respond? (yes/ no) no\n",
      "\n",
      "--- Poll Results ---\n",
      "Richard would like to climb Tianpingshan.\n",
      "Charles would like to climb Guanshan.\n"
     ]
    }
   ],
   "source": [
    "responses = { }\n",
    "\n",
    "#Set a sign to indicate if the survey continues.\n",
    "polling_active = True\n",
    "\n",
    "while polling_active:\n",
    "    #Collect responses from the users.\n",
    "    name = input(\"\\nWhat is your name? \")\n",
    "    response = input(\"Which mountain would you like to climb someday? \")\n",
    "    \n",
    "    #Store the responses to the dictionary.\n",
    "    responses[name] = response\n",
    "    \n",
    "    #Testify if there's other people willing to take the survey.\n",
    "    repeat = input(\"Would you like to let another person respond? (yes/ no) \")\n",
    "    if repeat == 'no':\n",
    "        polling_active = False\n",
    "\n",
    "#Survey completed. Return the results. \n",
    "print(\"\\n--- Poll Results ---\")\n",
    "for name,response in responses.items():\n",
    "    print(f\"{name.title()} would like to climb {response.title()}.\")"
   ]
  },
  {
   "cell_type": "markdown",
   "id": "6d85c57c",
   "metadata": {
    "heading_collapsed": true
   },
   "source": [
    "## Function"
   ]
  },
  {
   "cell_type": "markdown",
   "id": "29b29ded",
   "metadata": {
    "heading_collapsed": true,
    "hidden": true
   },
   "source": [
    "### Define Functions"
   ]
  },
  {
   "cell_type": "markdown",
   "id": "1c448674",
   "metadata": {
    "hidden": true
   },
   "source": [
    "By using the `def` syntax, you can define a function in Python. "
   ]
  },
  {
   "cell_type": "code",
   "execution_count": 14,
   "id": "91b05bea",
   "metadata": {
    "ExecuteTime": {
     "end_time": "2022-08-03T15:36:15.405317Z",
     "start_time": "2022-08-03T15:36:15.395006Z"
    },
    "hidden": true
   },
   "outputs": [
    {
     "name": "stdout",
     "output_type": "stream",
     "text": [
      "Hello, Jesse!\n"
     ]
    }
   ],
   "source": [
    "def greet_user(username):\n",
    "    \"\"\"Print a simple greeting.\"\"\"\n",
    "    print(f\"Hello, {username.title()}!\")\n",
    "\n",
    "\n",
    "greet_user('jesse')"
   ]
  },
  {
   "cell_type": "markdown",
   "id": "730814c6",
   "metadata": {
    "hidden": true
   },
   "source": [
    "In the above example, `username` is a parameter (a nominal variable), where as `'jesse'` is an argument (an actual variable). When going through the function `greet_user`, the argument `'jesse'` is assigned to the parameter `username`. "
   ]
  },
  {
   "cell_type": "markdown",
   "id": "746ca04f",
   "metadata": {
    "hidden": true
   },
   "source": [
    "Sometimes, we need to include multiple parameters in other defined function. As a result, we will also need to include multiple arguments when calling the function later. There are different ways to match an argument to a parameter, including ***position arguments*** and ***keyword arguments***."
   ]
  },
  {
   "cell_type": "markdown",
   "id": "c3f1e514",
   "metadata": {
    "ExecuteTime": {
     "end_time": "2022-08-03T15:43:11.005374Z",
     "start_time": "2022-08-03T15:43:10.995973Z"
    },
    "hidden": true
   },
   "source": [
    "1. Position Arguments\n",
    "\n",
    "When using position arguments to match arguments to parameter, the order of every argument and the order of each parameter should be exactly the same. "
   ]
  },
  {
   "cell_type": "code",
   "execution_count": 17,
   "id": "7322bb8f",
   "metadata": {
    "ExecuteTime": {
     "end_time": "2022-08-03T15:44:59.152391Z",
     "start_time": "2022-08-03T15:44:59.140924Z"
    },
    "hidden": true
   },
   "outputs": [
    {
     "name": "stdout",
     "output_type": "stream",
     "text": [
      "\n",
      "I have a hamster\n",
      "My hamster's name is Harry.\n"
     ]
    }
   ],
   "source": [
    "def describe_pet(animal_type, pet_name):\n",
    "    \"\"\"Print the information of the pet.\"\"\"\n",
    "    print(f\"\\nI have a {animal_type}\")\n",
    "    print(f\"My {animal_type}'s name is {pet_name.title()}.\")\n",
    "\n",
    "\n",
    "describe_pet('hamster', 'harry')"
   ]
  },
  {
   "cell_type": "markdown",
   "id": "7c1f5318",
   "metadata": {
    "hidden": true
   },
   "source": [
    "You can call the argument multiple times after defining the function. "
   ]
  },
  {
   "cell_type": "code",
   "execution_count": 18,
   "id": "6ece7d73",
   "metadata": {
    "ExecuteTime": {
     "end_time": "2022-08-03T15:47:03.394587Z",
     "start_time": "2022-08-03T15:47:03.382853Z"
    },
    "hidden": true
   },
   "outputs": [
    {
     "name": "stdout",
     "output_type": "stream",
     "text": [
      "\n",
      "I have a hamster\n",
      "My hamster's name is Harry.\n",
      "\n",
      "I have a dog\n",
      "My dog's name is Willie.\n"
     ]
    }
   ],
   "source": [
    "def describe_pet(animal_type, pet_name):\n",
    "    \"\"\"Print the information of the pet.\"\"\"\n",
    "    print(f\"\\nI have a {animal_type}\")\n",
    "    print(f\"My {animal_type}'s name is {pet_name.title()}.\")\n",
    "\n",
    "\n",
    "describe_pet('hamster', 'harry')\n",
    "describe_pet('dog', 'willie')"
   ]
  },
  {
   "cell_type": "markdown",
   "id": "46998d63",
   "metadata": {
    "hidden": true
   },
   "source": [
    "The position of the arguments is essential to correctly call the function."
   ]
  },
  {
   "cell_type": "code",
   "execution_count": 19,
   "id": "e69bde73",
   "metadata": {
    "ExecuteTime": {
     "end_time": "2022-08-03T15:47:55.578742Z",
     "start_time": "2022-08-03T15:47:55.572455Z"
    },
    "hidden": true
   },
   "outputs": [
    {
     "name": "stdout",
     "output_type": "stream",
     "text": [
      "\n",
      "I have a hamster\n",
      "My hamster's name is Harry.\n",
      "\n",
      "I have a harry\n",
      "My harry's name is Hamster.\n"
     ]
    }
   ],
   "source": [
    "def describe_pet(animal_type, pet_name):\n",
    "    \"\"\"Print the information of the pet.\"\"\"\n",
    "    print(f\"\\nI have a {animal_type}\")\n",
    "    print(f\"My {animal_type}'s name is {pet_name.title()}.\")\n",
    "\n",
    "\n",
    "describe_pet('hamster', 'harry')\n",
    "describe_pet('harry', 'hamster')"
   ]
  },
  {
   "cell_type": "markdown",
   "id": "b462c572",
   "metadata": {
    "hidden": true
   },
   "source": [
    "2. Keyword Arguments\n",
    "\n",
    "Using keyword argument, we assign values to a key-value pair. As a result, you will not mix the position of two arguments, and the position of arguments and parameters are not important. "
   ]
  },
  {
   "cell_type": "code",
   "execution_count": 20,
   "id": "e259567a",
   "metadata": {
    "ExecuteTime": {
     "end_time": "2022-08-03T15:50:25.616742Z",
     "start_time": "2022-08-03T15:50:25.605725Z"
    },
    "hidden": true
   },
   "outputs": [
    {
     "name": "stdout",
     "output_type": "stream",
     "text": [
      "\n",
      "I have a hamster\n",
      "My hamster's name is Harry.\n",
      "\n",
      "I have a harry\n",
      "My harry's name is Hamster.\n"
     ]
    }
   ],
   "source": [
    "def describe_pet(animal_type, pet_name):\n",
    "    \"\"\"Print the information of the pet.\"\"\"\n",
    "    print(f\"\\nI have a {animal_type}\")\n",
    "    print(f\"My {animal_type}'s name is {pet_name.title()}.\")\n",
    "\n",
    "\n",
    "describe_pet(animal_type='hamster', pet_name='harry')\n",
    "describe_pet(animal_type='harry', pet_name='hamster')"
   ]
  },
  {
   "cell_type": "markdown",
   "id": "6ff2e9b4",
   "metadata": {
    "hidden": true
   },
   "source": [
    "When defining a function, you can set default values to some parameters. When calling the function afterwards, Python will automatically use the default value as the argument to the parameter. "
   ]
  },
  {
   "cell_type": "code",
   "execution_count": 23,
   "id": "f6a9e3f8",
   "metadata": {
    "ExecuteTime": {
     "end_time": "2022-08-03T15:55:44.384078Z",
     "start_time": "2022-08-03T15:55:44.376084Z"
    },
    "hidden": true
   },
   "outputs": [
    {
     "name": "stdout",
     "output_type": "stream",
     "text": [
      "\n",
      "I have a dog\n",
      "My dog's name is Willie.\n",
      "\n",
      "I have a dog\n",
      "My dog's name is Willie.\n",
      "\n",
      "I have a hamster\n",
      "My hamster's name is Harry.\n"
     ]
    }
   ],
   "source": [
    "def describe_pet(pet_name, animal_type='dog'):  #'dog' is assigned to animal_type as the defualt value.\n",
    "    \"\"\"Print the information of the pet.\"\"\"\n",
    "    print(f\"\\nI have a {animal_type}\")\n",
    "    print(f\"My {animal_type}'s name is {pet_name.title()}.\")\n",
    "\n",
    "\n",
    "describe_pet(pet_name='willie')\n",
    "\n",
    "#Using position argument, you can also call this function properly, the simplest way to call this function.\n",
    "describe_pet('willie')\n",
    "\n",
    "#If animal_type is not intended to be 'dog', you need to specify animal_type using keyword argument.\n",
    "describe_pet(animal_type='hamster', pet_name='harry')"
   ]
  },
  {
   "cell_type": "markdown",
   "id": "16c92a52",
   "metadata": {
    "hidden": true
   },
   "source": [
    "From the example above, there are many equivalent calls to the function. The way of calling the function is not important, as long as the outcomes are the same. Choose the way makes the most sense to you. However, you need to avoid argument errors when calling a function by making sure the arguments and parameters are matched properly. "
   ]
  },
  {
   "cell_type": "markdown",
   "id": "bbabc3eb",
   "metadata": {
    "heading_collapsed": true,
    "hidden": true
   },
   "source": [
    "### Return Values from a Function"
   ]
  },
  {
   "cell_type": "markdown",
   "id": "83df95f0",
   "metadata": {
    "hidden": true
   },
   "source": [
    "Functions not only can return a outcome but also can process our data and return a specific value or a specific group of values. The returned value from a function is called the return value of the function. In Python, we use `return` at the end when defining a the function to specify which values to return. "
   ]
  },
  {
   "cell_type": "code",
   "execution_count": 1,
   "id": "ac903174",
   "metadata": {
    "hidden": true
   },
   "outputs": [
    {
     "name": "stdout",
     "output_type": "stream",
     "text": [
      "Jimi Hendirx\n"
     ]
    }
   ],
   "source": [
    "def get_formatted_name(first_name, last_name):\n",
    "    \"\"\"Return formatted names.\"\"\"\n",
    "    full_name = f\"{first_name} {last_name}\"\n",
    "    return full_name.title()\n",
    "\n",
    "\n",
    "musician = get_formatted_name('jimi', 'hendirx')\n",
    "print(musician)"
   ]
  },
  {
   "cell_type": "markdown",
   "id": "72c90fc0",
   "metadata": {
    "hidden": true
   },
   "source": [
    "The return value can be designed to be selective. For example, not all people have a middle name, which means we can set the parameter middle_name to be selective by the users. "
   ]
  },
  {
   "cell_type": "code",
   "execution_count": 2,
   "id": "4c333143",
   "metadata": {
    "hidden": true
   },
   "outputs": [
    {
     "name": "stdout",
     "output_type": "stream",
     "text": [
      "Jimi   Hendrix\n",
      "John Lee Hooker\n"
     ]
    }
   ],
   "source": [
    "def get_formatted_name(first_name, last_name, middle_name=' '):\n",
    "    \"\"\"Return formatted names.\"\"\"\n",
    "    if middle_name:  #If middle_name is not empty\n",
    "        full_name = f\"{first_name} {middle_name} {last_name}\"\n",
    "    else:  #IF middle_name is empty\n",
    "        full_name = f\"{first_name} {last_name}\"\n",
    "    return full_name.title()\n",
    "\n",
    "\n",
    "musician = get_formatted_name('jimi', 'hendrix')\n",
    "print(musician)\n",
    "\n",
    "musician = get_formatted_name('john', 'hooker', 'lee')\n",
    "print(musician)"
   ]
  },
  {
   "cell_type": "markdown",
   "id": "3e0c2e4e",
   "metadata": {
    "hidden": true
   },
   "source": [
    "Not only some values can be returned, a dictionary can also be returned by a function."
   ]
  },
  {
   "cell_type": "code",
   "execution_count": 5,
   "id": "e8ee6e50",
   "metadata": {
    "hidden": true
   },
   "outputs": [
    {
     "name": "stdout",
     "output_type": "stream",
     "text": [
      "{'first': 'jimi', 'last': 'hendrix', 'age': 27}\n"
     ]
    }
   ],
   "source": [
    "def build_person(first_name, last_name, age=None): #The value None is equivalent to False\n",
    "    \"\"\"Return a dictionary that contains information relating to a person.\"\"\"\n",
    "    person = {'first': first_name, 'last': last_name}\n",
    "    if age: #If age is True\n",
    "        person['age'] = age\n",
    "    return person\n",
    "\n",
    "\n",
    "musician = build_person('jimi', 'hendrix', age=27)\n",
    "print(musician)"
   ]
  },
  {
   "cell_type": "markdown",
   "id": "f2af0cb0",
   "metadata": {
    "hidden": true
   },
   "source": [
    "A `while` loop can be integrated with the use of functions. "
   ]
  },
  {
   "cell_type": "code",
   "execution_count": 6,
   "id": "477e60a2",
   "metadata": {
    "hidden": true
   },
   "outputs": [
    {
     "name": "stdout",
     "output_type": "stream",
     "text": [
      "\n",
      "Please tell me your name: \n",
      "(enter 'q' at any time to quit)\n",
      "First name: richard\n",
      "Last name: lyu\n",
      "\n",
      "Hello, Richard Lyu!\n",
      "\n",
      "Please tell me your name: \n",
      "(enter 'q' at any time to quit)\n",
      "First name: q\n"
     ]
    }
   ],
   "source": [
    "def get_formatted_name(first_name, last_name):\n",
    "    \"\"\"Return formatted names.\"\"\"\n",
    "    full_name = f\"{first_name} {last_name}\"\n",
    "    return full_name.title()\n",
    "\n",
    "\n",
    "while True:\n",
    "    print(\"\\nPlease tell me your name: \")\n",
    "    print(\"(enter 'q' at any time to quit)\")\n",
    "    \n",
    "    f_name = input(\"First name: \")\n",
    "    if f_name == 'q': \n",
    "        break\n",
    "    \n",
    "    l_name = input(\"Last name: \")\n",
    "    if l_name == 'q':\n",
    "        break\n",
    "    \n",
    "    formatted_name = get_formatted_name(f_name, l_name)\n",
    "    print(f\"\\nHello, {formatted_name}!\")"
   ]
  },
  {
   "cell_type": "markdown",
   "id": "f6acf71b",
   "metadata": {
    "heading_collapsed": true,
    "hidden": true
   },
   "source": [
    "### List in Function"
   ]
  },
  {
   "cell_type": "code",
   "execution_count": 7,
   "id": "75ee4f6c",
   "metadata": {
    "hidden": true
   },
   "outputs": [
    {
     "name": "stdout",
     "output_type": "stream",
     "text": [
      "Hello, Hannah!\n",
      "Hello, Ty!\n",
      "Hello, Margot!\n"
     ]
    }
   ],
   "source": [
    "def greet_users(names):\n",
    "    \"\"\"Send greetings to everyone in the list.\"\"\"\n",
    "    for name in names:\n",
    "        msg = f\"Hello, {name.title()}!\"\n",
    "        print(msg)\n",
    "\n",
    "\n",
    "usernames = ['hannah', 'ty', 'margot']\n",
    "greet_users(usernames)"
   ]
  },
  {
   "cell_type": "markdown",
   "id": "802581dc",
   "metadata": {
    "hidden": true
   },
   "source": [
    "Modifying the list in the function."
   ]
  },
  {
   "cell_type": "code",
   "execution_count": 8,
   "id": "fce644e4",
   "metadata": {
    "hidden": true
   },
   "outputs": [
    {
     "name": "stdout",
     "output_type": "stream",
     "text": [
      "Printing model: dodecahedron\n",
      "Printing model: robot pendant\n",
      "Printing model: phone case\n",
      "\n",
      "The following model have been printed:\n",
      "dodecahedron\n",
      "robot pendant\n",
      "phone case\n"
     ]
    }
   ],
   "source": [
    "#Create a list including designs that are about to print. \n",
    "unprinted_designs = ['phone case', 'robot pendant', 'dodecahedron']\n",
    "completed_models = [ ]\n",
    "\n",
    "#Mock the printing process, until there is nothing to print. \n",
    "#After completinng printing, move the design into completed_modles.\n",
    "while unprinted_designs: #While unprinted_designs is not empty\n",
    "    current_design = unprinted_designs.pop()\n",
    "    print(f\"Printing model: {current_design}\")\n",
    "    completed_models.append(current_design)\n",
    "\n",
    "print(\"\\nThe following model have been printed:\")\n",
    "for completed_model in completed_models:\n",
    "    print(completed_model)"
   ]
  },
  {
   "cell_type": "code",
   "execution_count": 10,
   "id": "7ed1be99",
   "metadata": {
    "hidden": true
   },
   "outputs": [
    {
     "name": "stdout",
     "output_type": "stream",
     "text": [
      "Printing model: dodecahedron\n",
      "Printing model: robot pendant\n",
      "Printing model: phone case\n",
      "\n",
      "The following model have been printed: \n",
      "dodecahedron\n",
      "robot pendant\n",
      "phone case\n"
     ]
    }
   ],
   "source": [
    "#Using function, we can write the code in a different way. \n",
    "def print_models(unprinted_designs, completed_models):\n",
    "    \"\"\"\n",
    "    Mock the printing process, until there is nothing to print. \n",
    "    After completinng printing, move the design into completed_modles.\n",
    "    \"\"\"\n",
    "    while unprinted_designs: \n",
    "        current_design = unprinted_designs.pop()\n",
    "        print(f\"Printing model: {current_design}\")\n",
    "        completed_models.append(current_design)\n",
    "\n",
    "        \n",
    "def show_completed_models(completed_models):\n",
    "    \"\"\"Print everything finished printing\"\"\"\n",
    "    print(\"\\nThe following model have been printed: \")\n",
    "    for completed_model in completed_models: \n",
    "        print(completed_model)\n",
    "        \n",
    "unprinted_designs = ['phone case', 'robot pendant', 'dodecahedron']\n",
    "completed_models = [ ]\n",
    "\n",
    "print_models(unprinted_designs, completed_models)\n",
    "show_completed_models(completed_models)"
   ]
  },
  {
   "cell_type": "markdown",
   "id": "b90b9260",
   "metadata": {
    "hidden": true
   },
   "source": [
    "Although it seems defining function makes the code longer and more complicated, using function makes the code easier to be extended into other circumstances."
   ]
  },
  {
   "cell_type": "markdown",
   "id": "18bfa409",
   "metadata": {
    "hidden": true
   },
   "source": [
    "Sometimes, we will prohibit the function to modify our lists. For example, in the previous example, we might consider not deleting elements from unprinted_designs after printing. In this case, we will use the following syntax, `function_name(list_name[:])`. The slice notation `[:]` means creating a copy of the list. "
   ]
  },
  {
   "cell_type": "code",
   "execution_count": 12,
   "id": "ae82cbaf",
   "metadata": {
    "hidden": true
   },
   "outputs": [
    {
     "name": "stdout",
     "output_type": "stream",
     "text": [
      "Printing model: dodecahedron\n",
      "Printing model: robot pendant\n",
      "Printing model: phone case\n",
      "['phone case', 'robot pendant', 'dodecahedron']\n",
      "\n",
      "The following model have been printed: \n",
      "dodecahedron\n",
      "robot pendant\n",
      "phone case\n"
     ]
    }
   ],
   "source": [
    "unprinted_designs = ['phone case', 'robot pendant', 'dodecahedron']\n",
    "completed_models = [ ]\n",
    "\n",
    "#Creating a copy of unprinted_designs\n",
    "print_models(unprinted_designs[:], completed_models)\n",
    "print(unprinted_designs)\n",
    "show_completed_models(completed_models)"
   ]
  },
  {
   "cell_type": "markdown",
   "id": "620c920e",
   "metadata": {
    "heading_collapsed": true,
    "hidden": true
   },
   "source": [
    "### Undefined Number of Parameters"
   ]
  },
  {
   "cell_type": "markdown",
   "id": "a6e0c6ce",
   "metadata": {
    "hidden": true
   },
   "source": [
    "Sometimes, we cannot expect exactly how many parameters we will include into a function. In this case, we can use the syntax `function_name(*parameter)` to make Python allow all numbers of parameters into the function. In other words, no matter how many arguments we end up inputing, Python will process the function properly. \n",
    "\n",
    "The `*` sign makes Python to create an empty list named parameter. All arguments received will be positioned into this list. "
   ]
  },
  {
   "cell_type": "code",
   "execution_count": 13,
   "id": "6422c80b",
   "metadata": {
    "hidden": true
   },
   "outputs": [
    {
     "name": "stdout",
     "output_type": "stream",
     "text": [
      "('pepperoni',)\n",
      "('mushrooms', 'green peppers', 'extra cheese')\n"
     ]
    }
   ],
   "source": [
    "def make_pizza(*toppings):\n",
    "    \"\"\"Pring all toppings ordered by the customers.\"\"\"\n",
    "    print(toppings)\n",
    "    \n",
    "    \n",
    "make_pizza('pepperoni')\n",
    "make_pizza('mushrooms', 'green peppers', 'extra cheese')"
   ]
  },
  {
   "cell_type": "code",
   "execution_count": 14,
   "id": "4d9fcd8d",
   "metadata": {
    "hidden": true
   },
   "outputs": [
    {
     "name": "stdout",
     "output_type": "stream",
     "text": [
      "\n",
      "Making a pizza with the following toppings: \n",
      "- pepperoni\n",
      "\n",
      "Making a pizza with the following toppings: \n",
      "- mushrooms\n",
      "- green peppers\n",
      "- extra cheese\n"
     ]
    }
   ],
   "source": [
    "def make_pizza(*toppings):\n",
    "    \"\"\"Describe the process of making pizza.\"\"\"\n",
    "    print(\"\\nMaking a pizza with the following toppings: \")\n",
    "    for topping in toppings:\n",
    "        print(f\"- {topping}\")\n",
    "\n",
    "        \n",
    "make_pizza('pepperoni')\n",
    "make_pizza('mushrooms', 'green peppers', 'extra cheese')"
   ]
  },
  {
   "cell_type": "markdown",
   "id": "6039446a",
   "metadata": {
    "hidden": true
   },
   "source": [
    "You can integrate the use of position argument and undefined number of arguments. "
   ]
  },
  {
   "cell_type": "code",
   "execution_count": 15,
   "id": "2c186523",
   "metadata": {
    "hidden": true
   },
   "outputs": [
    {
     "name": "stdout",
     "output_type": "stream",
     "text": [
      "\n",
      "Making a 16-inch pizza with the following toppings: \n",
      "- pepperoni\n",
      "\n",
      "Making a 12-inch pizza with the following toppings: \n",
      "- mushrooms\n",
      "- green peppers\n",
      "- extra cheese\n"
     ]
    }
   ],
   "source": [
    "def make_pizza(size, *toppings):\n",
    "    \"\"\"Describe the process of making pizza.\"\"\"\n",
    "    print(f\"\\nMaking a {size}-inch pizza with the following toppings: \")\n",
    "    for topping in toppings:\n",
    "        print(f\"- {topping}\")\n",
    "        \n",
    "        \n",
    "make_pizza(16, 'pepperoni')\n",
    "make_pizza(12, 'mushrooms', 'green peppers', 'extra cheese')"
   ]
  },
  {
   "cell_type": "markdown",
   "id": "00cd09b7",
   "metadata": {
    "hidden": true
   },
   "source": [
    "You can also use the following syntax to include undefined number of parameters in a function: `function_name(**parameter)`. The two `*` signs makes Python to create an empty dictionary named `parameter`, and all received key-value pairs will be stored into this empty dictionary. "
   ]
  },
  {
   "cell_type": "code",
   "execution_count": 16,
   "id": "15a29d87",
   "metadata": {
    "hidden": true
   },
   "outputs": [
    {
     "name": "stdout",
     "output_type": "stream",
     "text": [
      "{'location': 'princeton', 'field': 'pysics', 'first_name': 'albert', 'last_name': 'einstein'}\n"
     ]
    }
   ],
   "source": [
    "def build_profile(first, last, **user_info):\n",
    "    \"\"\"Create a dictionary that includes everything regarding the user.\"\"\"\n",
    "    user_info['first_name'] = first\n",
    "    user_info['last_name'] = last\n",
    "    return user_info\n",
    "\n",
    "\n",
    "user_profile = build_profile('albert',\n",
    "                             'einstein',\n",
    "                             location='princeton',\n",
    "                             field='pysics')\n",
    "\n",
    "print(user_profile)"
   ]
  },
  {
   "cell_type": "markdown",
   "id": "d63accd4",
   "metadata": {
    "heading_collapsed": true,
    "hidden": true
   },
   "source": [
    "### Storing Functions into a Module"
   ]
  },
  {
   "cell_type": "markdown",
   "id": "da3e19fb",
   "metadata": {
    "hidden": true
   },
   "source": [
    "A Python module is a file with the extension name of `.py`. You can import any Python modules into your work space if they are in the same file folder. When importing, use `import module_name` syntax. The example in this section is the previously defined function `make_pizza`. When calling functions defined in this module, you need to use the following syntax `module_name.function_name(arguments)`."
   ]
  },
  {
   "cell_type": "code",
   "execution_count": 17,
   "id": "7e6c10c2",
   "metadata": {
    "hidden": true
   },
   "outputs": [
    {
     "name": "stdout",
     "output_type": "stream",
     "text": [
      "\n",
      "Making a 16-inch pizza with the following toppings: \n",
      "- pepperoni\n",
      "\n",
      "Making a 12-inch pizza with the following toppings: \n",
      "- mushrooms\n",
      "- green peppers\n",
      "- extra cheese\n"
     ]
    }
   ],
   "source": [
    "import pizza\n",
    "\n",
    "pizza.make_pizza(16, 'pepperoni')\n",
    "pizza.make_pizza(12, 'mushrooms', 'green peppers', 'extra cheese')"
   ]
  },
  {
   "cell_type": "markdown",
   "id": "2cf07dab",
   "metadata": {
    "hidden": true
   },
   "source": [
    "If you module contains multiple functions and you only want to include some into your code, you can use the following syntax: \n",
    "\n",
    "`from module_name import function_name`.\n",
    "\n",
    "You can even specify more than one functions to import: \n",
    "\n",
    "`for module_name import function_0, function_1, function_2`.\n",
    "\n",
    "Importing functions in this way, you only need the `function_name` when calling the function. "
   ]
  },
  {
   "cell_type": "code",
   "execution_count": 18,
   "id": "b47568e5",
   "metadata": {
    "hidden": true
   },
   "outputs": [
    {
     "name": "stdout",
     "output_type": "stream",
     "text": [
      "\n",
      "Making a 16-inch pizza with the following toppings: \n",
      "- pepperoni\n",
      "\n",
      "Making a 12-inch pizza with the following toppings: \n",
      "- mushrooms\n",
      "- green peppers\n",
      "- extra cheese\n"
     ]
    }
   ],
   "source": [
    "from pizza import make_pizza\n",
    "\n",
    "make_pizza(16, 'pepperoni')\n",
    "make_pizza(12, 'mushrooms', 'green peppers', 'extra cheese')"
   ]
  },
  {
   "cell_type": "markdown",
   "id": "b0b797a5",
   "metadata": {
    "hidden": true
   },
   "source": [
    "You can also use `as` to assign a different name to the function or module. You should use the following syntax when assigning a different name: \n",
    "\n",
    "`form module_name import function_name as name`.\n",
    "\n",
    "When calling the function afterwards, you only need to use `name` instead of `function_name`."
   ]
  },
  {
   "cell_type": "code",
   "execution_count": 19,
   "id": "0c343971",
   "metadata": {
    "hidden": true
   },
   "outputs": [
    {
     "name": "stdout",
     "output_type": "stream",
     "text": [
      "\n",
      "Making a 16-inch pizza with the following toppings: \n",
      "- pepperoni\n",
      "\n",
      "Making a 12-inch pizza with the following toppings: \n",
      "- mushrooms\n",
      "- green peppers\n",
      "- extra cheese\n"
     ]
    }
   ],
   "source": [
    "from pizza import make_pizza as mp\n",
    "\n",
    "mp(16, 'pepperoni')\n",
    "mp(12, 'mushrooms', 'green peppers', 'extra cheese')"
   ]
  },
  {
   "cell_type": "markdown",
   "id": "518aae4c",
   "metadata": {
    "hidden": true
   },
   "source": [
    "Apart from assigning a different name to the function, you can also assign a different name to the module. The syntax goes by: \n",
    "\n",
    "`import module_name as name`."
   ]
  },
  {
   "cell_type": "markdown",
   "id": "ed48ff35",
   "metadata": {
    "hidden": true
   },
   "source": [
    "If you want to import all functions from a module, you should consider to use the `*` sign. The syntax goes by: \n",
    "\n",
    "`from module_name import *`."
   ]
  },
  {
   "cell_type": "markdown",
   "id": "017fe71e",
   "metadata": {
    "heading_collapsed": true
   },
   "source": [
    "## Class"
   ]
  },
  {
   "cell_type": "markdown",
   "id": "b825aa33",
   "metadata": {
    "heading_collapsed": true,
    "hidden": true
   },
   "source": [
    "### Introduction to Class"
   ]
  },
  {
   "cell_type": "markdown",
   "id": "f02acd13",
   "metadata": {
    "hidden": true
   },
   "source": [
    "***Class*** is the simples way of coding according to the object. You can model anything using a class. \n",
    "\n",
    "You create a class to model a general situation of an object, and then you can create a specific object using that general class. \n",
    "\n",
    "Taking dogs as an example. We know dogs have their names and ages, and we also know dogs can sit and roll over. We can use a class to tell Python such acknowledgments. "
   ]
  },
  {
   "cell_type": "code",
   "execution_count": 25,
   "id": "c107a105",
   "metadata": {
    "hidden": true
   },
   "outputs": [],
   "source": [
    "class Dog: \n",
    "    \"\"\"Attempt to model dogs\"\"\"\n",
    "    \n",
    "    def __init__(self, name, age):\n",
    "        \"\"\"Initial characteristics, name, and age\"\"\"\n",
    "        self.name = name\n",
    "        self.age = age\n",
    "        \n",
    "    def sit(self): \n",
    "        \"\"\"Model dogs sitting down when receiving the command.\"\"\"\n",
    "        print(f\"{self.name} is now sitting.\")\n",
    "    \n",
    "    def roll_over(self):\n",
    "        \"\"\"Model dogs rolling over when receiving the command. \"\"\"\n",
    "        print(f\"{self.name} rooled over! \")"
   ]
  },
  {
   "cell_type": "markdown",
   "id": "b00b74aa",
   "metadata": {
    "hidden": true
   },
   "source": [
    "The functions defined in a class is called ***methods***. All characteristics related to functions are applicable in methods. The first method in the class Dog is called `__init__`, which is a special method that Python will automatically run it when creating an actual object using the class. There are two underscores (`_`) in front of and behind `init`. \n",
    "\n",
    "The parameter `self` is essential and must be positioned at the first. When creating an actual object using the class, Python will automatically input everything into the argument `self`. This argument is a reference to itself, which means you do not actually need to put an argument when creating the object. For example, if you create a dog using the syntax `my_dog = Dog(name, age)`, `my_dog` is automatically assigned as the argument of `self`, and the `name` and `age` are respectively considered to be the arguments of the two parameters afterwards. "
   ]
  },
  {
   "cell_type": "code",
   "execution_count": 24,
   "id": "b09ef049",
   "metadata": {
    "hidden": true
   },
   "outputs": [
    {
     "name": "stdout",
     "output_type": "stream",
     "text": [
      "My dog's name is Willie.\n",
      "My dog is 6 years old.\n"
     ]
    }
   ],
   "source": [
    "class Dog:\n",
    "    \"\"\"Attempt to model dogs\"\"\"\n",
    "    def __init__(self, name, age):\n",
    "        \"\"\"Initial characteristics, name, and age\"\"\"\n",
    "        self.name = name\n",
    "        self.age = age\n",
    "\n",
    "    def sit(self):\n",
    "        \"\"\"Model dogs sitting down when receiving the command.\"\"\"\n",
    "        print(f\"{self.name} is now sitting.\")\n",
    "\n",
    "    def roll_over(self):\n",
    "        \"\"\"Model dogs rolling over when receiving the command. \"\"\"\n",
    "        print(f\"{self.name} rooled over! \")\n",
    "\n",
    "\n",
    "#Creating an actual dog.\n",
    "my_dog = Dog('Willie', 6)\n",
    "\n",
    "print(f\"My dog's name is {my_dog.name}.\")\n",
    "print(f\"My dog is {my_dog.age} years old.\")"
   ]
  },
  {
   "cell_type": "markdown",
   "id": "7a489c56",
   "metadata": {
    "hidden": true
   },
   "source": [
    "The syntax `my_dog.name` asks Python to access the attribute named `name` of the object `my_dog`. You can also use the syntax `my_dog.method()` to access a method defined in the class. "
   ]
  },
  {
   "cell_type": "code",
   "execution_count": 28,
   "id": "26575482",
   "metadata": {
    "hidden": true
   },
   "outputs": [
    {
     "name": "stdout",
     "output_type": "stream",
     "text": [
      "Willie is now sitting.\n",
      "Willie rooled over! \n"
     ]
    }
   ],
   "source": [
    "class Dog:\n",
    "    \"\"\"Attempt to model dogs\"\"\"\n",
    "    def __init__(self, name, age):\n",
    "        \"\"\"Initial characteristics, name, and age\"\"\"\n",
    "        self.name = name\n",
    "        self.age = age\n",
    "\n",
    "    def sit(self):\n",
    "        \"\"\"Model dogs sitting down when receiving the command.\"\"\"\n",
    "        print(f\"{self.name} is now sitting.\")\n",
    "\n",
    "    def roll_over(self):\n",
    "        \"\"\"Model dogs rolling over when receiving the command. \"\"\"\n",
    "        print(f\"{self.name} rooled over! \")\n",
    "\n",
    "\n",
    "#Creating an actual dog.\n",
    "my_dog = Dog('Willie', 6)\n",
    "\n",
    "#Calling methods\n",
    "my_dog.sit()\n",
    "my_dog.roll_over()"
   ]
  },
  {
   "cell_type": "markdown",
   "id": "bf61c47b",
   "metadata": {
    "hidden": true
   },
   "source": [
    "You can also define multiple objects using the same class. "
   ]
  },
  {
   "cell_type": "code",
   "execution_count": 29,
   "id": "a1e83e0e",
   "metadata": {
    "hidden": true
   },
   "outputs": [
    {
     "name": "stdout",
     "output_type": "stream",
     "text": [
      "My dog's name is Willie.\n",
      "My dog is 6 years old. \n",
      "Willie is now sitting.\n",
      "Your dog's name is Lucy.\n",
      "Your dog is 3 years old.\n",
      "Lucy rooled over! \n"
     ]
    }
   ],
   "source": [
    "class Dog:\n",
    "    \"\"\"Attempt to model dogs\"\"\"\n",
    "    def __init__(self, name, age):\n",
    "        \"\"\"Initial characteristics, name, and age\"\"\"\n",
    "        self.name = name\n",
    "        self.age = age\n",
    "\n",
    "    def sit(self):\n",
    "        \"\"\"Model dogs sitting down when receiving the command.\"\"\"\n",
    "        print(f\"{self.name} is now sitting.\")\n",
    "\n",
    "    def roll_over(self):\n",
    "        \"\"\"Model dogs rolling over when receiving the command. \"\"\"\n",
    "        print(f\"{self.name} rooled over! \")\n",
    "\n",
    "my_dog = Dog('Willie', 6)\n",
    "your_dog = Dog('Lucy', 3)\n",
    "\n",
    "print(f\"My dog's name is {my_dog.name}.\")\n",
    "print(f\"My dog is {my_dog.age} years old. \")\n",
    "my_dog.sit()\n",
    "\n",
    "print(f\"Your dog's name is {your_dog.name}.\")\n",
    "print(f\"Your dog is {your_dog.age} years old.\")\n",
    "your_dog.roll_over()"
   ]
  },
  {
   "cell_type": "markdown",
   "id": "bcee0fcf",
   "metadata": {
    "heading_collapsed": true,
    "hidden": true
   },
   "source": [
    "### An Application of Class"
   ]
  },
  {
   "cell_type": "markdown",
   "id": "087bcc4f",
   "metadata": {
    "hidden": true
   },
   "source": [
    "You can set default values to some attributes in a class. "
   ]
  },
  {
   "cell_type": "code",
   "execution_count": 32,
   "id": "ab12b9c2",
   "metadata": {
    "hidden": true
   },
   "outputs": [
    {
     "name": "stdout",
     "output_type": "stream",
     "text": [
      "2019 Audi A4\n",
      "This car has 0 miles on it.\n"
     ]
    }
   ],
   "source": [
    "class Car:\n",
    "    def __init__(self, make, model, year):\n",
    "        \"\"\"Initializing characteristics\"\"\"\n",
    "        self.make = make\n",
    "        self.model = model\n",
    "        self.year = year\n",
    "        self.odometer_reading = 0\n",
    "\n",
    "    def get_descriptive_name(self):\n",
    "        long_name = f\"{self.year} {self.make} {self.model}\"\n",
    "        return long_name.title()\n",
    "    \n",
    "    def read_odometer(self):\n",
    "        print(f\"This car has {self.odometer_reading} miles on it.\")\n",
    "\n",
    "\n",
    "my_new_car = Car('audi', 'a4', '2019')\n",
    "print(my_new_car.get_descriptive_name())\n",
    "my_new_car.read_odometer()"
   ]
  },
  {
   "cell_type": "markdown",
   "id": "721ced09",
   "metadata": {
    "hidden": true
   },
   "source": [
    "When you want to change the value of the attributes, you have different approaches to do so. \n",
    "\n",
    "1. Directly changing the value. "
   ]
  },
  {
   "cell_type": "code",
   "execution_count": 33,
   "id": "574c12a9",
   "metadata": {
    "hidden": true
   },
   "outputs": [
    {
     "name": "stdout",
     "output_type": "stream",
     "text": [
      "2019 Audi A4\n",
      "This car has 23 miles on it.\n"
     ]
    }
   ],
   "source": [
    "class Car:\n",
    "    def __init__(self, make, model, year):\n",
    "        \"\"\"Initializing characteristics\"\"\"\n",
    "        self.make = make\n",
    "        self.model = model\n",
    "        self.year = year\n",
    "        self.odometer_reading = 0\n",
    "\n",
    "    def get_descriptive_name(self):\n",
    "        long_name = f\"{self.year} {self.make} {self.model}\"\n",
    "        return long_name.title()\n",
    "    \n",
    "    def read_odometer(self):\n",
    "        print(f\"This car has {self.odometer_reading} miles on it.\")\n",
    "\n",
    "\n",
    "my_new_car = Car('audi', 'a4', '2019')\n",
    "print(my_new_car.get_descriptive_name())\n",
    "\n",
    "#Directlying changing the value\n",
    "my_new_car.odometer_reading = 23\n",
    "my_new_car.read_odometer()"
   ]
  },
  {
   "cell_type": "markdown",
   "id": "1bfb6320",
   "metadata": {
    "hidden": true
   },
   "source": [
    "2. You can modify the value via a method"
   ]
  },
  {
   "cell_type": "code",
   "execution_count": 36,
   "id": "beb67dd7",
   "metadata": {
    "hidden": true
   },
   "outputs": [
    {
     "name": "stdout",
     "output_type": "stream",
     "text": [
      "2019 Audi A4\n",
      "This car has 23 miles on it.\n",
      "You can't roll back an odometer!\n",
      "This car has 23 miles on it.\n"
     ]
    }
   ],
   "source": [
    "class Car:\n",
    "    def __init__(self, make, model, year):\n",
    "        \"\"\"Initializing characteristics\"\"\"\n",
    "        self.make = make\n",
    "        self.model = model\n",
    "        self.year = year\n",
    "        self.odometer_reading = 0\n",
    "\n",
    "    def get_descriptive_name(self):\n",
    "        long_name = f\"{self.year} {self.make} {self.model}\"\n",
    "        return long_name.title()\n",
    "    \n",
    "    def read_odometer(self):\n",
    "        print(f\"This car has {self.odometer_reading} miles on it.\")\n",
    "    \n",
    "    #Add a new method to modify the value. \n",
    "    def update_odometer_reading(self, mileage):\n",
    "        if mileage >= self.odometer_reading: #Only allows the user to increase the value of odometer_reading. \n",
    "            self.odometer_reading = mileage\n",
    "        else:\n",
    "            print(\"You can't roll back an odometer!\")\n",
    "\n",
    "\n",
    "my_new_car = Car('audi', 'a4', '2019')\n",
    "print(my_new_car.get_descriptive_name())\n",
    "\n",
    "my_new_car.update_odometer_reading(23)\n",
    "my_new_car.read_odometer()\n",
    "\n",
    "my_new_car.update_odometer_reading(20)\n",
    "my_new_car.read_odometer()"
   ]
  },
  {
   "cell_type": "markdown",
   "id": "1d285a11",
   "metadata": {
    "hidden": true
   },
   "source": [
    "3.  You can define the method to gradually increase the value of a attribute. "
   ]
  },
  {
   "cell_type": "code",
   "execution_count": 40,
   "id": "7bd4f813",
   "metadata": {
    "hidden": true
   },
   "outputs": [
    {
     "name": "stdout",
     "output_type": "stream",
     "text": [
      "2015 Subaru Outback\n",
      "This car has 23500 miles on it.\n",
      "This car has 23600 miles on it.\n",
      "You can't roll back an odometer!\n"
     ]
    }
   ],
   "source": [
    "class Car:\n",
    "    def __init__(self, make, model, year):\n",
    "        \"\"\"Initializing characteristics\"\"\"\n",
    "        self.make = make\n",
    "        self.model = model\n",
    "        self.year = year\n",
    "        self.odometer_reading = 0\n",
    "\n",
    "    def get_descriptive_name(self):\n",
    "        long_name = f\"{self.year} {self.make} {self.model}\"\n",
    "        return long_name.title()\n",
    "    \n",
    "    def read_odometer(self):\n",
    "        print(f\"This car has {self.odometer_reading} miles on it.\")\n",
    "    \n",
    "    def update_odometer(self, mileage):\n",
    "        if mileage >= self.odometer_reading: \n",
    "            self.odometer_reading = mileage\n",
    "        else:\n",
    "            print(\"You can't roll back an odometer!\")\n",
    "    \n",
    "    #Define a new method to increase the odometer by a certain value. \n",
    "    def increment_odometer(self, miles):\n",
    "        \"\"\"Increase the odometer by a certain value.\"\"\"\n",
    "        if miles >= 0: \n",
    "            self.odometer_reading += miles\n",
    "        else:\n",
    "            print(\"You can't roll back an odometer!\")\n",
    "        \n",
    "my_used_car = Car('subaru', 'outback', '2015')\n",
    "print(my_used_car.get_descriptive_name())\n",
    "\n",
    "my_used_car.update_odometer(23_500)\n",
    "my_used_car.read_odometer()\n",
    "\n",
    "my_used_car.increment_odometer(100)\n",
    "my_used_car.read_odometer()\n",
    "\n",
    "my_used_car.increment_odometer(-100)"
   ]
  },
  {
   "cell_type": "markdown",
   "id": "50a34ef6",
   "metadata": {
    "heading_collapsed": true,
    "hidden": true
   },
   "source": [
    "### Inheritance From a Class"
   ]
  },
  {
   "cell_type": "markdown",
   "id": "199ef1b0",
   "metadata": {
    "hidden": true
   },
   "source": [
    "You do not have to start creating a class from empty. In most times, we inherit a class from a pre-defined class. The following example defines a new class called `ElectricCar` from our previously defined class `Car`. The newly defined class retains all attributes and methods from the previously defined class. "
   ]
  },
  {
   "cell_type": "code",
   "execution_count": 42,
   "id": "070fd76a",
   "metadata": {
    "code_folding": [
     0
    ],
    "hidden": true
   },
   "outputs": [
    {
     "name": "stdout",
     "output_type": "stream",
     "text": [
      "2019 Tesla Model S\n"
     ]
    }
   ],
   "source": [
    "class Car:\n",
    "    def __init__(self, make, model, year):\n",
    "        \"\"\"Initializing characteristics\"\"\"\n",
    "        self.make = make\n",
    "        self.model = model\n",
    "        self.year = year\n",
    "        self.odometer_reading = 0\n",
    "\n",
    "    def get_descriptive_name(self):\n",
    "        long_name = f\"{self.year} {self.make} {self.model}\"\n",
    "        return long_name.title()\n",
    "\n",
    "    def read_odometer(self):\n",
    "        print(f\"This car has {self.odometer_reading} miles on it.\")\n",
    "\n",
    "    def update_odometer(self, mileage):\n",
    "        if mileage >= self.odometer_reading:\n",
    "            self.odometer_reading = mileage\n",
    "        else:\n",
    "            print(\"You can't roll back an odometer!\")\n",
    "\n",
    "    def increment_odometer(self, miles):\n",
    "        \"\"\"Increase the odometer by a certain value.\"\"\"\n",
    "        if miles >= 0:\n",
    "            self.odometer_reading += miles\n",
    "        else:\n",
    "            print(\"You can't roll back an odometer!\")\n",
    "\n",
    "\n",
    "class ElectricCar(Car):\n",
    "    \"\"\"Special characteristics for an electic Car.\"\"\"\n",
    "    def __init__(self, make, model, year):\n",
    "        \"\"\"Initializing the features from the father/super class.\"\"\"\n",
    "        super().__init__(make, model, year)\n",
    "\n",
    "\n",
    "my_tesla = ElectricCar('tesla', 'model s', 2019)\n",
    "print(my_tesla.get_descriptive_name())"
   ]
  },
  {
   "cell_type": "markdown",
   "id": "9a698d84",
   "metadata": {
    "hidden": true
   },
   "source": [
    "The ***father class*** is also called the ***super class***; hence, the function `super()` is a special one that allows you to call methods from the father class. \n",
    "\n",
    "After the new class is initialized, we can start adding unique attributes and methods to the new class. "
   ]
  },
  {
   "cell_type": "code",
   "execution_count": 44,
   "id": "40b9cd78",
   "metadata": {
    "code_folding": [
     0
    ],
    "hidden": true
   },
   "outputs": [
    {
     "name": "stdout",
     "output_type": "stream",
     "text": [
      "2019 Tesla Model S\n",
      "This car has a 75-kWh batter.\n"
     ]
    }
   ],
   "source": [
    "class Car:\n",
    "    def __init__(self, make, model, year):\n",
    "        \"\"\"Initializing characteristics\"\"\"\n",
    "        self.make = make\n",
    "        self.model = model\n",
    "        self.year = year\n",
    "        self.odometer_reading = 0\n",
    "\n",
    "    def get_descriptive_name(self):\n",
    "        long_name = f\"{self.year} {self.make} {self.model}\"\n",
    "        return long_name.title()\n",
    "\n",
    "    def read_odometer(self):\n",
    "        print(f\"This car has {self.odometer_reading} miles on it.\")\n",
    "\n",
    "    def update_odometer(self, mileage):\n",
    "        if mileage >= self.odometer_reading:\n",
    "            self.odometer_reading = mileage\n",
    "        else:\n",
    "            print(\"You can't roll back an odometer!\")\n",
    "\n",
    "    def increment_odometer(self, miles):\n",
    "        \"\"\"Increase the odometer by a certain value.\"\"\"\n",
    "        if miles >= 0:\n",
    "            self.odometer_reading += miles\n",
    "        else:\n",
    "            print(\"You can't roll back an odometer!\")\n",
    "\n",
    "\n",
    "class ElectricCar(Car):\n",
    "    \"\"\"Special characteristics for an electic Car.\"\"\"\n",
    "    def __init__(self, make, model, year):\n",
    "        \"\"\"Initializing the features from the father/super class.\"\"\"\n",
    "        super().__init__(make, model, year)\n",
    "        self.battery_size = 75  #Adding the battery_size attribute, and setting the default value to be 75.\n",
    "\n",
    "    #Electric Cars have unique batteries. So we are adding a battery info method here.\n",
    "    def describe_batter(self):\n",
    "        \"\"\"Print the battery information.\"\"\"\n",
    "        print(f\"This car has a {self.battery_size}-kWh batter.\")\n",
    "\n",
    "\n",
    "my_tesla = ElectricCar('tesla', 'model s', 2019)\n",
    "print(my_tesla.get_descriptive_name())\n",
    "my_tesla.describe_batter()"
   ]
  },
  {
   "cell_type": "markdown",
   "id": "334d4970",
   "metadata": {
    "hidden": true
   },
   "source": [
    "Some methods in the father class are not applicable to the son class. In this case, you can rewrite the methods in the son class.\n",
    "\n",
    "For example, in the father class, we added a new method called `fill_gas_tank()` to add gas into the car. However, for electric cars, they do not fill gas any more, hence not applicable to the method. We can rewrite the method to tell the user this contradiction. "
   ]
  },
  {
   "cell_type": "code",
   "execution_count": 45,
   "id": "d147c79a",
   "metadata": {
    "code_folding": [
     0
    ],
    "hidden": true
   },
   "outputs": [
    {
     "name": "stdout",
     "output_type": "stream",
     "text": [
      "This car doesn't need a gas tank! \n"
     ]
    }
   ],
   "source": [
    "class Car:\n",
    "    def __init__(self, make, model, year):\n",
    "        \"\"\"Initializing characteristics\"\"\"\n",
    "        self.make = make\n",
    "        self.model = model\n",
    "        self.year = year\n",
    "        self.odometer_reading = 0\n",
    "\n",
    "    def get_descriptive_name(self):\n",
    "        long_name = f\"{self.year} {self.make} {self.model}\"\n",
    "        return long_name.title()\n",
    "\n",
    "    def read_odometer(self):\n",
    "        print(f\"This car has {self.odometer_reading} miles on it.\")\n",
    "\n",
    "    def update_odometer(self, mileage):\n",
    "        if mileage >= self.odometer_reading:\n",
    "            self.odometer_reading = mileage\n",
    "        else:\n",
    "            print(\"You can't roll back an odometer!\")\n",
    "\n",
    "    def increment_odometer(self, miles):\n",
    "        \"\"\"Increase the odometer by a certain value.\"\"\"\n",
    "        if miles >= 0:\n",
    "            self.odometer_reading += miles\n",
    "        else:\n",
    "            print(\"You can't roll back an odometer!\")\n",
    "    \n",
    "    #This is the newly added method. \n",
    "    def fill_gas_tank(self):\n",
    "        print(\"The gas tank is filled.\")\n",
    "\n",
    "\n",
    "class ElectricCar(Car):\n",
    "    \"\"\"Special characteristics for an electic Car.\"\"\"\n",
    "    def __init__(self, make, model, year):\n",
    "        \"\"\"Initializing the features from the father/super class.\"\"\"\n",
    "        super().__init__(make, model, year)\n",
    "        self.battery_size = 75  \n",
    "        \n",
    "    def describe_batter(self):\n",
    "        \"\"\"Print the battery information.\"\"\"\n",
    "        print(f\"This car has a {self.battery_size}-kWh batter.\")\n",
    "    \n",
    "    #Rewrite the method which is previously defined in the father class. \n",
    "    def fill_gas_tank(self): \n",
    "        \"\"\"Rewrite the method which is previously defined in the father class. \"\"\"\n",
    "        print(\"This car doesn't need a gas tank! \")\n",
    "        \n",
    "\n",
    "my_tesla = ElectricCar('tesla', 'model s', 2019)\n",
    "my_tesla.fill_gas_tank()"
   ]
  },
  {
   "cell_type": "markdown",
   "id": "e08c1d3a",
   "metadata": {
    "hidden": true
   },
   "source": [
    "You can use a class, or an actual object, as an attribute in another class. \n",
    "\n",
    "For example, we might find the battery information for an electric car very complicated. So we can consider to make it an independent class, and assign the class into the attribute called `battery` in the class `ElectricCar`."
   ]
  },
  {
   "cell_type": "code",
   "execution_count": 54,
   "id": "8fadfbf6",
   "metadata": {
    "code_folding": [
     0
    ],
    "hidden": true
   },
   "outputs": [
    {
     "name": "stdout",
     "output_type": "stream",
     "text": [
      "This car has a 75-kWh battery.\n",
      "This car can go about 260 miles on a full charge\n"
     ]
    }
   ],
   "source": [
    "class Car:\n",
    "    def __init__(self, make, model, year):\n",
    "        \"\"\"Initializing characteristics\"\"\"\n",
    "        self.make = make\n",
    "        self.model = model\n",
    "        self.year = year\n",
    "        self.odometer_reading = 0\n",
    "\n",
    "    def get_descriptive_name(self):\n",
    "        long_name = f\"{self.year} {self.make} {self.model}\"\n",
    "        return long_name.title()\n",
    "\n",
    "    def read_odometer(self):\n",
    "        print(f\"This car has {self.odometer_reading} miles on it.\")\n",
    "\n",
    "    def update_odometer(self, mileage):\n",
    "        if mileage >= self.odometer_reading:\n",
    "            self.odometer_reading = mileage\n",
    "        else:\n",
    "            print(\"You can't roll back an odometer!\")\n",
    "\n",
    "    def increment_odometer(self, miles):\n",
    "        \"\"\"Increase the odometer by a certain value.\"\"\"\n",
    "        if miles >= 0:\n",
    "            self.odometer_reading += miles\n",
    "        else:\n",
    "            print(\"You can't roll back an odometer!\")\n",
    "    \n",
    "    def fill_gas_tank(self):\n",
    "        print(\"The gas tank is filled.\")\n",
    "\n",
    "\n",
    "#Define a new class called Battery\n",
    "class Battery:\n",
    "    def __init__(self, battery_size=75):\n",
    "        self.battery_size = battery_size\n",
    "        \n",
    "    def describe_battery(self):\n",
    "        print(f\"This car has a {self.battery_size}-kWh battery.\")\n",
    "    \n",
    "    def get_range(self):\n",
    "        if self.battery_size == 75:\n",
    "            range = 260\n",
    "        elif self.battery_size == 100: \n",
    "            range = 315\n",
    "        \n",
    "        print(f\"This car can go about {range} miles on a full charge\")\n",
    "\n",
    "        \n",
    "class ElectricCar(Car):\n",
    "    \"\"\"Special characteristics for an electic Car.\"\"\"\n",
    "    def __init__(self, make, model, year):\n",
    "        \"\"\"Initializing the features from the father/super class.\"\"\"\n",
    "        super().__init__(make, model, year)\n",
    "        self.battery = Battery() #Refer the attribute to thhe class battery\n",
    "        \n",
    "    def describe_batter(self):\n",
    "        \"\"\"Print the battery information.\"\"\"\n",
    "        print(f\"This car has a {self.battery_size}-kWh batter.\")\n",
    "     \n",
    "    def fill_gas_tank(self): \n",
    "        \"\"\"Rewrite the method which is previously defined in the father class. \"\"\"\n",
    "        print(\"This car doesn't need a gas tank! \")\n",
    "        \n",
    "        \n",
    "my_tesla = ElectricCar('telsa','model s', 2019)\n",
    "my_tesla.battery.describe_battery()\n",
    "my_tesla.battery.get_range()"
   ]
  },
  {
   "cell_type": "markdown",
   "id": "fffa6367",
   "metadata": {
    "heading_collapsed": true,
    "hidden": true
   },
   "source": [
    "### Importing a Class"
   ]
  },
  {
   "cell_type": "markdown",
   "id": "ce6ce62d",
   "metadata": {
    "hidden": true
   },
   "source": [
    "Similar to importing functions from a module, you can also importing classes from a module if your work place and the module are in the same file folder.\n",
    "\n",
    "To import a class, you should use the following syntax: `from module_name import class_name`.\n",
    "\n",
    "When calling the class, you just need to use the `class_name`.\n",
    "\n",
    "The following is an example using the module named `car.py`, which contains the previously-defined classes `Car`, `Battery`, and `ElectricCar`. "
   ]
  },
  {
   "cell_type": "code",
   "execution_count": 57,
   "id": "76f4ea53",
   "metadata": {
    "hidden": true
   },
   "outputs": [
    {
     "name": "stdout",
     "output_type": "stream",
     "text": [
      "2019 Audi A4\n",
      "This car has 23 miles on it.\n"
     ]
    }
   ],
   "source": [
    "from car import Car\n",
    "\n",
    "my_new_car = Car('audi', 'a4', '2019')\n",
    "print(my_new_car.get_descriptive_name())\n",
    "\n",
    "my_new_car.odometer_reading = 23\n",
    "my_new_car.read_odometer()"
   ]
  },
  {
   "cell_type": "markdown",
   "id": "6a5297fd",
   "metadata": {
    "hidden": true
   },
   "source": [
    "You can import multiple classes from a single module. The syntax goes by: `from module_name import class_0, class_1, class_2`. When calling the class, the need to use the `class_name()`. "
   ]
  },
  {
   "cell_type": "code",
   "execution_count": 58,
   "id": "f6d6b704",
   "metadata": {
    "hidden": true
   },
   "outputs": [
    {
     "name": "stdout",
     "output_type": "stream",
     "text": [
      "2019 Volkswagen Beetle\n",
      "2019 Tesla Roadster\n"
     ]
    }
   ],
   "source": [
    "from car import Car, Battery, ElectricCar\n",
    "\n",
    "my_beetle = Car('volkswagen', 'beetle', 2019)\n",
    "print(my_beetle.get_descriptive_name())\n",
    "\n",
    "my_tesla = ElectricCar('tesla', 'roadster', 2019)\n",
    "print(my_tesla.get_descriptive_name())"
   ]
  },
  {
   "cell_type": "markdown",
   "id": "42395eba",
   "metadata": {
    "hidden": true
   },
   "source": [
    "You can also import the entire module without specifying the classes you are importing by using the syntax `import module_name`. When calling the class afterwards, you need to use `module_name.class_name()`."
   ]
  },
  {
   "cell_type": "code",
   "execution_count": 59,
   "id": "b2e59dd4",
   "metadata": {
    "hidden": true
   },
   "outputs": [
    {
     "name": "stdout",
     "output_type": "stream",
     "text": [
      "2019 Volkswagen Beetle\n",
      "2019 Tesla Roadster\n"
     ]
    }
   ],
   "source": [
    "import car\n",
    "\n",
    "my_beetle = car.Car('volkswagen', 'beetle', 2019)\n",
    "print(my_beetle.get_descriptive_name())\n",
    "\n",
    "my_tesla = car.ElectricCar('tesla', 'roadster', 2019)\n",
    "print(my_tesla.get_descriptive_name())"
   ]
  },
  {
   "cell_type": "markdown",
   "id": "82f323b7",
   "metadata": {
    "hidden": true
   },
   "source": [
    "Similar to importing functions, you can use the star sign (`*`) to import all classes from a module. The syntax goes by: `from module_name import *`. However, this method is not recommended as it may cause confusions when reading the code afterwards. "
   ]
  },
  {
   "cell_type": "markdown",
   "id": "237b7433",
   "metadata": {
    "hidden": true
   },
   "source": [
    "You can import a module into another module as well. \n",
    "\n",
    "In the following example, the class `Car` is stored in the module `car_.py`, whereas the classes `Battery` and `ElectricCar` are stored in the module `electric_car.py`. "
   ]
  },
  {
   "cell_type": "code",
   "execution_count": 62,
   "id": "012bf409",
   "metadata": {
    "hidden": true
   },
   "outputs": [
    {
     "name": "stdout",
     "output_type": "stream",
     "text": [
      "2019 Volkswagen Beetle\n",
      "2019 Tesla Roadster\n"
     ]
    }
   ],
   "source": [
    "from car_ import Car\n",
    "from electric_car import ElectricCar\n",
    "\n",
    "my_beetle = Car('volkswagen', 'beetle', 2019)\n",
    "print(my_beetle.get_descriptive_name())\n",
    "\n",
    "my_tesla = ElectricCar('tesla', 'roadster', 2019)\n",
    "print(my_tesla.get_descriptive_name())"
   ]
  },
  {
   "cell_type": "markdown",
   "id": "167516c4",
   "metadata": {
    "hidden": true
   },
   "source": [
    "You can also use `as` to create a different name for the class, which will make your code easier to read."
   ]
  },
  {
   "cell_type": "code",
   "execution_count": 64,
   "id": "e013cb7e",
   "metadata": {
    "hidden": true
   },
   "outputs": [
    {
     "name": "stdout",
     "output_type": "stream",
     "text": [
      "2019 Tesla Roadster\n"
     ]
    }
   ],
   "source": [
    "from electric_car import ElectricCar as EC\n",
    "\n",
    "my_tesla = EC('tesla', 'roadster', 2019)\n",
    "print(my_tesla.get_descriptive_name())"
   ]
  },
  {
   "cell_type": "markdown",
   "id": "669747f9",
   "metadata": {
    "hidden": true
   },
   "source": [
    "Python contains a series of modules called the standard library. The standard library is automatically included when downloading Python. When using them, you just need to import them to your work place. "
   ]
  },
  {
   "cell_type": "code",
   "execution_count": 67,
   "id": "413591e6",
   "metadata": {
    "hidden": true
   },
   "outputs": [
    {
     "name": "stdout",
     "output_type": "stream",
     "text": [
      "6\n"
     ]
    }
   ],
   "source": [
    "from random import randint\n",
    "\n",
    "number = randint(1, 6)  #This gives a random integer from 1 to 6.\n",
    "print(number)"
   ]
  },
  {
   "cell_type": "code",
   "execution_count": 69,
   "id": "d75ce073",
   "metadata": {
    "hidden": true
   },
   "outputs": [
    {
     "name": "stdout",
     "output_type": "stream",
     "text": [
      "florence\n"
     ]
    }
   ],
   "source": [
    "from random import choice\n",
    "\n",
    "players = ['charles', 'martina', 'michael', 'florence', 'eli']\n",
    "first_up = choice(players) #Randomly choose an element from the list players.\n",
    "print(first_up)"
   ]
  },
  {
   "cell_type": "markdown",
   "id": "dce981f4",
   "metadata": {},
   "source": [
    "## Documentation and Errors"
   ]
  },
  {
   "cell_type": "markdown",
   "id": "5d95582e",
   "metadata": {},
   "source": [
    "### Importing Documents"
   ]
  },
  {
   "cell_type": "markdown",
   "id": "802805c8",
   "metadata": {},
   "source": [
    "To read the entire document, you can use the following codes: \n",
    "\n",
    "``with open(file_name) as file_object:\n",
    "    contents = file_object.read()\n",
    "print(contents.rstrip())``"
   ]
  },
  {
   "cell_type": "markdown",
   "id": "68706817",
   "metadata": {},
   "source": [
    "You can also use the file path to open desired files: \n",
    "    \n",
    "``file_path = 'file path way'\n",
    "with open(file_path) as file_object:\n",
    "    contents = file_object.read()``"
   ]
  },
  {
   "cell_type": "markdown",
   "id": "e996dd8b",
   "metadata": {},
   "source": [
    "Sometimes, you want to read the file line by line. You can use the following syntax: \n",
    "\n",
    "``filename = 'file_name'\n",
    "with open(filename) as file_object:\n",
    "    for line in file_object:\n",
    "        print(line.rstrip())``"
   ]
  },
  {
   "cell_type": "markdown",
   "id": "0e7d0d59",
   "metadata": {},
   "source": [
    "``filename = 'file_name'\n",
    "with open(filename) as file_object:\n",
    "    lines = file_object.readlines()\n",
    "for line in lines:\n",
    "    print(line.rstrip())``"
   ]
  },
  {
   "cell_type": "markdown",
   "id": "9296249e",
   "metadata": {},
   "source": [
    "To use data from the document: \n",
    "``filename = 'file_name'\n",
    "with open(filename) as file_object:\n",
    "    lines = file_object.readlines()\n",
    "list_name = ' '\n",
    "for line in lines: \n",
    "    list_name += line.rstrip()\n",
    "print(list_name)\n",
    "print(len(list_name))``"
   ]
  },
  {
   "cell_type": "code",
   "execution_count": 1,
   "id": "a875f592",
   "metadata": {},
   "outputs": [
    {
     "name": "stdout",
     "output_type": "stream",
     "text": [
      "3.14159265358979323846264338327950288419716939937510...\n",
      "1000002\n"
     ]
    }
   ],
   "source": [
    "#The following example reads a file containing 1 million digits of pi.\n",
    "filename = 'pi_million_digits.txt'\n",
    "\n",
    "with open(filename) as file_object:\n",
    "    lines = file_object.readlines()\n",
    "    \n",
    "    \n",
    "pi_string = ''\n",
    "for line in lines: \n",
    "    pi_string += line.strip()\n",
    "\n",
    "print(f\"{pi_string[:52]}...\")\n",
    "print(len(pi_string))"
   ]
  },
  {
   "cell_type": "code",
   "execution_count": 13,
   "id": "7576eb0a",
   "metadata": {},
   "outputs": [
    {
     "name": "stdout",
     "output_type": "stream",
     "text": [
      "Enter your birthday, in the form mmddyy: 110503\n",
      "Your birthday appears in the first million digits of pi!\n"
     ]
    }
   ],
   "source": [
    "#With the first 1 million digits of pi, we can testify if our birthday is contained in pi. \n",
    "filename = 'pi_million_digits.txt'\n",
    "\n",
    "with open(filename) as file_object:\n",
    "    lines = file_object.readlines()\n",
    "    \n",
    "    \n",
    "pi_string = ''\n",
    "for line in lines: \n",
    "    pi_string += line.strip()\n",
    "\n",
    "birthday = input(\"Enter your birthday, in the form mmddyy: \")\n",
    "if birthday in pi_string:\n",
    "    print(\"Your birthday appears in the first million digits of pi!\")\n",
    "else:\n",
    "    print(\"Your birthday does not appear in the first million digits of pi. \")"
   ]
  },
  {
   "cell_type": "markdown",
   "id": "24b82c7b",
   "metadata": {},
   "source": [
    "### Writing Files"
   ]
  },
  {
   "cell_type": "markdown",
   "id": "0ae1f2f8",
   "metadata": {},
   "source": [
    "You can include a second argument in the `open()` function. `'w'` means the writing mode, `'r'` means the reading mode, `'a'` means addition mode, and `'r+'` means reading and writing mode. If the second argument is not included, Python will automatically start the reading mode. \n",
    "\n",
    "In the writing mode, you will over turn the original document, meaning clean everything in the document first, and then write new messages into the document. However, in the addition mode, Python will attach the messages to the pre-existing ones. "
   ]
  },
  {
   "cell_type": "code",
   "execution_count": 15,
   "id": "5105eba1",
   "metadata": {},
   "outputs": [],
   "source": [
    "filename = 'programming.txt'\n",
    "\n",
    "with open(filename, 'w') as file_object:\n",
    "    file_object.write(\"I love programming. \\n\")\n",
    "    file_object.write(\"I love creating new games. \\n\")"
   ]
  },
  {
   "cell_type": "code",
   "execution_count": 16,
   "id": "453dfdd8",
   "metadata": {},
   "outputs": [],
   "source": [
    "filename = 'programming.txt'\n",
    "\n",
    "with open(filename, 'a') as file_object:\n",
    "    file_object.write(\"I also love finding meaning in large datasets. \\n\")\n",
    "    file_object.write(\"I love creating apps that can run in a browser. \\n\")"
   ]
  },
  {
   "cell_type": "markdown",
   "id": "0ee580d8",
   "metadata": {},
   "source": [
    "### Errors"
   ]
  },
  {
   "cell_type": "markdown",
   "id": "dffb393b",
   "metadata": {},
   "source": [
    "You can use the `try-except` structure to test if a code can run. "
   ]
  },
  {
   "cell_type": "code",
   "execution_count": 17,
   "id": "6a33e2c2",
   "metadata": {},
   "outputs": [
    {
     "name": "stdout",
     "output_type": "stream",
     "text": [
      "You can't divide by zero!\n"
     ]
    }
   ],
   "source": [
    "try:\n",
    "    print(5/0)\n",
    "except ZeroDivisionError:\n",
    "    print(\"You can't divide by zero!\")"
   ]
  },
  {
   "cell_type": "markdown",
   "id": "0b0d1a89",
   "metadata": {},
   "source": [
    "If Python find no error in the `try` statement, it will skip codes in the `except` structure. However, if there's an error in the `try` statement, Python will find the corresponding `except` structure and run the codes afterwards. \n",
    "\n",
    "You can also include a `else` structure to tell Python what to do next if the code returns no error. "
   ]
  },
  {
   "cell_type": "code",
   "execution_count": 21,
   "id": "0b01b36f",
   "metadata": {},
   "outputs": [
    {
     "name": "stdout",
     "output_type": "stream",
     "text": [
      "Give me two numbers, and I'll divide them.\n",
      "Enter 'q' to quit.\n",
      "\n",
      "First number: 1\n",
      "\n",
      "Second number: 0\n",
      "You can't divide by 0!\n",
      "\n",
      "First number: 1\n",
      "\n",
      "Second number: 5\n",
      "0.2\n",
      "\n",
      "First number: q\n"
     ]
    }
   ],
   "source": [
    "print(\"Give me two numbers, and I'll divide them.\")\n",
    "print(\"Enter 'q' to quit.\")\n",
    "\n",
    "while True:\n",
    "    first_number = input(\"\\nFirst number: \")\n",
    "    if first_number == 'q':\n",
    "        break\n",
    "    second_number = input(\"\\nSecond number: \")\n",
    "    if second_number == 'q':\n",
    "        break\n",
    "    try:\n",
    "        answer = int(first_number) / int(second_number)\n",
    "    except ZeroDivisionError:\n",
    "        print(\"You can't divide by 0!\")\n",
    "    else:\n",
    "        print(answer)"
   ]
  },
  {
   "cell_type": "code",
   "execution_count": 22,
   "id": "64f52bb2",
   "metadata": {},
   "outputs": [
    {
     "name": "stdout",
     "output_type": "stream",
     "text": [
      "Sorry, the file happy.txt does not exist. \n"
     ]
    }
   ],
   "source": [
    "filename = 'happy.txt'\n",
    "try:\n",
    "    with open(filename, encoding='utf-8') as f:\n",
    "        contents = f.read\n",
    "except FileNotFoundError:\n",
    "    print(f\"Sorry, the file {filename} does not exist. \")"
   ]
  },
  {
   "cell_type": "code",
   "execution_count": 24,
   "id": "40450fd1",
   "metadata": {},
   "outputs": [
    {
     "name": "stdout",
     "output_type": "stream",
     "text": [
      "The file alice.txt has about 29465 words.\n",
      "The file siddhartha.txt has about 42172 words.\n",
      "The file moby_dick.txt has about 215830 words.\n",
      "The file little_women.txt has about 189079 words.\n",
      "Sorry, the file confusion.txt does not exist. \n"
     ]
    }
   ],
   "source": [
    "#Counting words of famous books\n",
    "def count_words(filename):\n",
    "    \"\"\"Calculate how many words are included in a file.\"\"\"\n",
    "    try: \n",
    "        with open(filename, encoding='utf-8') as f:\n",
    "            contents = f.read()\n",
    "    except FileNotFoundError:\n",
    "        print(f\"Sorry, the file {filename} does not exist. \")\n",
    "    else: \n",
    "        words = contents.split()\n",
    "        num_words = len(words)\n",
    "        print(f\"The file {filename} has about {num_words} words.\")\n",
    "    \n",
    "    \n",
    "filenames = ['alice.txt', 'siddhartha.txt', 'moby_dick.txt', 'little_women.txt', 'confusion.txt']\n",
    "for filename in filenames: \n",
    "    count_words(filename)"
   ]
  },
  {
   "cell_type": "markdown",
   "id": "a1661025",
   "metadata": {},
   "source": [
    "You can also use the `pass` syntax to tell Python to do nothing. "
   ]
  },
  {
   "cell_type": "code",
   "execution_count": 25,
   "id": "e7250ee4",
   "metadata": {},
   "outputs": [
    {
     "name": "stdout",
     "output_type": "stream",
     "text": [
      "The file alice.txt has about 29465 words.\n",
      "The file siddhartha.txt has about 42172 words.\n",
      "The file moby_dick.txt has about 215830 words.\n",
      "The file little_women.txt has about 189079 words.\n"
     ]
    }
   ],
   "source": [
    "def count_words(filename):\n",
    "    \"\"\"Calculate how many words are included in a file.\"\"\"\n",
    "    try: \n",
    "        with open(filename, encoding='utf-8') as f:\n",
    "            contents = f.read()\n",
    "    except FileNotFoundError:\n",
    "        pass\n",
    "    else: \n",
    "        words = contents.split()\n",
    "        num_words = len(words)\n",
    "        print(f\"The file {filename} has about {num_words} words.\")\n",
    "    \n",
    "\n",
    "#Becase we use pass, even if 'confusion.txt' does not exist, Python will not return anything.\n",
    "filenames = ['alice.txt', 'siddhartha.txt', 'moby_dick.txt', 'little_women.txt', 'confusion.txt']\n",
    "for filename in filenames: \n",
    "    count_words(filename)"
   ]
  },
  {
   "cell_type": "markdown",
   "id": "bc0b09e9",
   "metadata": {},
   "source": [
    "### Storing Data"
   ]
  },
  {
   "cell_type": "markdown",
   "id": "eb35af82",
   "metadata": {},
   "source": [
    "You can use the moduel `json` to store data. \n",
    "\n",
    "1. Using `json.dump()` and `json.load()`."
   ]
  },
  {
   "cell_type": "code",
   "execution_count": 26,
   "id": "7c197cf9",
   "metadata": {},
   "outputs": [],
   "source": [
    "import json\n",
    "\n",
    "numbers = [2, 3, 5, 7, 11, 13]\n",
    "\n",
    "filename = 'numbers.json'\n",
    "with open(filename, 'w') as f:\n",
    "    json.dump(numbers, f) #Storing numbers into numbers.json under the same folder as the work space. "
   ]
  },
  {
   "cell_type": "code",
   "execution_count": 27,
   "id": "99d33045",
   "metadata": {},
   "outputs": [
    {
     "name": "stdout",
     "output_type": "stream",
     "text": [
      "[2, 3, 5, 7, 11, 13]\n"
     ]
    }
   ],
   "source": [
    "import json\n",
    "\n",
    "filename = 'numbers.json'\n",
    "with open(filename) as f:\n",
    "    numbers_load = json.load(f) #Reading a .json file.\n",
    "\n",
    "print(numbers_load)"
   ]
  },
  {
   "cell_type": "code",
   "execution_count": 1,
   "id": "a7a94c2d",
   "metadata": {
    "ExecuteTime": {
     "end_time": "2022-08-04T11:46:02.799589Z",
     "start_time": "2022-08-04T11:46:02.789916Z"
    }
   },
   "outputs": [
    {
     "name": "stdout",
     "output_type": "stream",
     "text": [
      "Welcome back, richard!\n"
     ]
    }
   ],
   "source": [
    "#Example: storing and reading username file\n",
    "import json\n",
    "\n",
    "filename = 'username.json'\n",
    "\n",
    "try: \n",
    "    with open(filename) as f:\n",
    "        username = json.load(f)\n",
    "except FileNotFoundError: \n",
    "    username = input(\"What is your name? \")\n",
    "    with open(filename, 'w') as f:\n",
    "        json.dump(username, f)\n",
    "        print(f\"We'll remember you when you come back, {username}!\")\n",
    "else: \n",
    "    print(f\"Welcome back, {username}!\")"
   ]
  },
  {
   "cell_type": "code",
   "execution_count": 2,
   "id": "264a20e3",
   "metadata": {
    "ExecuteTime": {
     "end_time": "2022-08-04T11:46:05.009446Z",
     "start_time": "2022-08-04T11:46:04.998591Z"
    }
   },
   "outputs": [
    {
     "name": "stdout",
     "output_type": "stream",
     "text": [
      "Welcome back, richard!\n"
     ]
    }
   ],
   "source": [
    "#We can create a function to greet our users, so we do not need to repeat codes over and over. \n",
    "import json\n",
    "\n",
    "\n",
    "def greet_user():\n",
    "    \"\"\"Name the user and send greetings to them.\"\"\"\n",
    "    filename = 'username.json'\n",
    "    try:\n",
    "        with open(filename) as f:\n",
    "            username = json.load(f)\n",
    "    except FileNotFoundError:\n",
    "        username = input(\"What is your name? \")\n",
    "        with open(filename, 'w') as f:\n",
    "            json.dump(username, f)\n",
    "            print(f\"We'll remember you when you come back, {username}!\")\n",
    "    else:\n",
    "        print(f\"Welcome back, {username}!\")\n",
    "\n",
    "\n",
    "greet_user()"
   ]
  },
  {
   "cell_type": "code",
   "execution_count": 5,
   "id": "1c3786a6",
   "metadata": {
    "ExecuteTime": {
     "end_time": "2022-08-04T11:49:52.046679Z",
     "start_time": "2022-08-04T11:49:52.032740Z"
    }
   },
   "outputs": [
    {
     "name": "stdout",
     "output_type": "stream",
     "text": [
      "Welcome back, richard!\n"
     ]
    }
   ],
   "source": [
    "#We can resturcture the codes into the following form:\n",
    "import json\n",
    "\n",
    "\n",
    "def get_stored_username():\n",
    "    \"\"\"Get stored username if we have stored it.\"\"\"\n",
    "    filename = 'username.json'\n",
    "    try:\n",
    "        with open(filename) as f:\n",
    "            username = json.load(f)\n",
    "    except FileNotFoundError:\n",
    "        return None\n",
    "    else:\n",
    "        return username\n",
    "\n",
    "\n",
    "def get_new_username():\n",
    "    username = input(\"What is your name? \")\n",
    "    with open(filename, 'w') as f:\n",
    "        json.dump(username, f)\n",
    "\n",
    "\n",
    "def greet_user():\n",
    "    username = get_stored_username()\n",
    "    if username:\n",
    "        print(f\"Welcome back, {username}!\")\n",
    "    else:\n",
    "        get_new_username()\n",
    "        print(f\"We'll remember you when you come back, {username}!\")\n",
    "\n",
    "\n",
    "greet_user()"
   ]
  },
  {
   "cell_type": "markdown",
   "id": "ed1847ab",
   "metadata": {},
   "source": [
    "## Test Code"
   ]
  },
  {
   "cell_type": "markdown",
   "id": "e9e748fe",
   "metadata": {},
   "source": [
    "By using the library `unittest`, we can test our function."
   ]
  }
 ],
 "metadata": {
  "interpreter": {
   "hash": "aee8b7b246df8f9039afb4144a1f6fd8d2ca17a180786b69acc140d282b71a49"
  },
  "kernelspec": {
   "display_name": "Python 3 (ipykernel)",
   "language": "python",
   "name": "python3"
  },
  "language_info": {
   "codemirror_mode": {
    "name": "ipython",
    "version": 3
   },
   "file_extension": ".py",
   "mimetype": "text/x-python",
   "name": "python",
   "nbconvert_exporter": "python",
   "pygments_lexer": "ipython3",
   "version": "3.9.12"
  },
  "latex_envs": {
   "LaTeX_envs_menu_present": true,
   "autoclose": true,
   "autocomplete": true,
   "bibliofile": "biblio.bib",
   "cite_by": "apalike",
   "current_citInitial": 1,
   "eqLabelWithNumbers": true,
   "eqNumInitial": 1,
   "hotkeys": {
    "equation": "Ctrl-E",
    "itemize": "Ctrl-I"
   },
   "labels_anchors": false,
   "latex_user_defs": false,
   "report_style_numbering": false,
   "user_envs_cfg": false
  },
  "toc": {
   "base_numbering": 1,
   "nav_menu": {
    "height": "301px",
    "width": "233px"
   },
   "number_sections": true,
   "sideBar": true,
   "skip_h1_title": false,
   "title_cell": "Table of Contents",
   "title_sidebar": "Contents",
   "toc_cell": true,
   "toc_position": {
    "height": "calc(100% - 180px)",
    "left": "10px",
    "top": "150px",
    "width": "266.4px"
   },
   "toc_section_display": true,
   "toc_window_display": true
  },
  "varInspector": {
   "cols": {
    "lenName": 16,
    "lenType": 16,
    "lenVar": 40
   },
   "kernels_config": {
    "python": {
     "delete_cmd_postfix": "",
     "delete_cmd_prefix": "del ",
     "library": "var_list.py",
     "varRefreshCmd": "print(var_dic_list())"
    },
    "r": {
     "delete_cmd_postfix": ") ",
     "delete_cmd_prefix": "rm(",
     "library": "var_list.r",
     "varRefreshCmd": "cat(var_dic_list()) "
    }
   },
   "position": {
    "height": "190.85px",
    "left": "1152px",
    "right": "20px",
    "top": "120px",
    "width": "340px"
   },
   "types_to_exclude": [
    "module",
    "function",
    "builtin_function_or_method",
    "instance",
    "_Feature"
   ],
   "window_display": false
  }
 },
 "nbformat": 4,
 "nbformat_minor": 5
}

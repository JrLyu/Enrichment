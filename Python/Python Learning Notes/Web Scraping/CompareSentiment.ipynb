{
 "cells": [
  {
   "cell_type": "code",
   "execution_count": 1,
   "id": "initial_id",
   "metadata": {
    "collapsed": true,
    "ExecuteTime": {
     "end_time": "2023-10-17T23:30:18.972248Z",
     "start_time": "2023-10-17T23:30:17.789305Z"
    }
   },
   "outputs": [],
   "source": [
    "# Import modules\n",
    "from nltk.sentiment.vader import SentimentIntensityAnalyzer\n",
    "import pandas as pd"
   ]
  },
  {
   "cell_type": "code",
   "execution_count": 2,
   "outputs": [],
   "source": [
    "# Import the dataset\n",
    "TSLA = pd.read_csv(\"TSLA.csv\")\n",
    "LCID = pd.read_csv(\"LCID.csv\")"
   ],
   "metadata": {
    "collapsed": false,
    "ExecuteTime": {
     "end_time": "2023-10-17T23:30:20.096024Z",
     "start_time": "2023-10-17T23:30:20.083316Z"
    }
   },
   "id": "341b842235218f7d"
  },
  {
   "cell_type": "code",
   "execution_count": 3,
   "outputs": [],
   "source": [
    "analyzer = SentimentIntensityAnalyzer()"
   ],
   "metadata": {
    "collapsed": false,
    "ExecuteTime": {
     "end_time": "2023-10-17T23:31:34.965218Z",
     "start_time": "2023-10-17T23:31:34.944881Z"
    }
   },
   "id": "ecdb52e06dacd5f9"
  },
  {
   "cell_type": "code",
   "execution_count": 4,
   "outputs": [],
   "source": [
    "title = []\n",
    "compound = []\n",
    "\n",
    "for i in range(len(TSLA)):\n",
    "    sentimentDic = analyzer.polarity_scores(TSLA.iloc[i, 1])\n",
    "    title.append(TSLA.iloc[i, 1])\n",
    "    compound.append(sentimentDic[\"compound\"])\n",
    "\n",
    "TSLASentiment = pd.DataFrame({'Title': title, \"TSLA\": compound})"
   ],
   "metadata": {
    "collapsed": false,
    "ExecuteTime": {
     "end_time": "2023-10-17T23:31:39.812970Z",
     "start_time": "2023-10-17T23:31:39.807840Z"
    }
   },
   "id": "94a8579e05e7cdd3"
  },
  {
   "cell_type": "code",
   "execution_count": 5,
   "outputs": [],
   "source": [
    "title = []\n",
    "compound = []\n",
    "\n",
    "for i in range(len(LCID)):\n",
    "    sentimentDic = analyzer.polarity_scores(LCID.iloc[i, 1])\n",
    "    title.append(LCID.iloc[i, 1])\n",
    "    compound.append(sentimentDic[\"compound\"])\n",
    "\n",
    "LCIDSentiment = pd.DataFrame({'Title': title, \"LCID\": compound})"
   ],
   "metadata": {
    "collapsed": false,
    "ExecuteTime": {
     "end_time": "2023-10-17T23:31:52.481508Z",
     "start_time": "2023-10-17T23:31:52.475057Z"
    }
   },
   "id": "14bc865984945fb4"
  },
  {
   "cell_type": "code",
   "execution_count": 10,
   "outputs": [
    {
     "data": {
      "text/plain": "        Compound\ncount  16.000000\nmean   -0.005575\nstd     0.161382\nmin    -0.273200\n25%    -0.128000\n50%     0.000000\n75%     0.000000\nmax     0.296000",
      "text/html": "<div>\n<style scoped>\n    .dataframe tbody tr th:only-of-type {\n        vertical-align: middle;\n    }\n\n    .dataframe tbody tr th {\n        vertical-align: top;\n    }\n\n    .dataframe thead th {\n        text-align: right;\n    }\n</style>\n<table border=\"1\" class=\"dataframe\">\n  <thead>\n    <tr style=\"text-align: right;\">\n      <th></th>\n      <th>Compound</th>\n    </tr>\n  </thead>\n  <tbody>\n    <tr>\n      <th>count</th>\n      <td>16.000000</td>\n    </tr>\n    <tr>\n      <th>mean</th>\n      <td>-0.005575</td>\n    </tr>\n    <tr>\n      <th>std</th>\n      <td>0.161382</td>\n    </tr>\n    <tr>\n      <th>min</th>\n      <td>-0.273200</td>\n    </tr>\n    <tr>\n      <th>25%</th>\n      <td>-0.128000</td>\n    </tr>\n    <tr>\n      <th>50%</th>\n      <td>0.000000</td>\n    </tr>\n    <tr>\n      <th>75%</th>\n      <td>0.000000</td>\n    </tr>\n    <tr>\n      <th>max</th>\n      <td>0.296000</td>\n    </tr>\n  </tbody>\n</table>\n</div>"
     },
     "execution_count": 10,
     "metadata": {},
     "output_type": "execute_result"
    }
   ],
   "source": [
    "LCIDSentiment.describe()"
   ],
   "metadata": {
    "collapsed": false,
    "ExecuteTime": {
     "end_time": "2023-10-17T23:32:33.412804Z",
     "start_time": "2023-10-17T23:32:33.389066Z"
    }
   },
   "id": "778128de80636e90"
  },
  {
   "cell_type": "code",
   "execution_count": null,
   "outputs": [],
   "source": [],
   "metadata": {
    "collapsed": false
   },
   "id": "5b5a39fe98f19838"
  }
 ],
 "metadata": {
  "kernelspec": {
   "display_name": "Python 3",
   "language": "python",
   "name": "python3"
  },
  "language_info": {
   "codemirror_mode": {
    "name": "ipython",
    "version": 2
   },
   "file_extension": ".py",
   "mimetype": "text/x-python",
   "name": "python",
   "nbconvert_exporter": "python",
   "pygments_lexer": "ipython2",
   "version": "2.7.6"
  }
 },
 "nbformat": 4,
 "nbformat_minor": 5
}

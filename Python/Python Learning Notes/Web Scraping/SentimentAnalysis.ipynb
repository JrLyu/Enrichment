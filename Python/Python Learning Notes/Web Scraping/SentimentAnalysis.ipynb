{
 "cells": [
  {
   "cell_type": "code",
   "execution_count": 1,
   "metadata": {
    "ExecuteTime": {
     "end_time": "2023-10-17T14:11:00.255400Z",
     "start_time": "2023-10-17T14:10:58.424398Z"
    }
   },
   "outputs": [],
   "source": [
    "# Import modules\n",
    "from nltk.sentiment.vader import SentimentIntensityAnalyzer\n",
    "import pandas as pd"
   ]
  },
  {
   "cell_type": "code",
   "execution_count": 2,
   "metadata": {
    "ExecuteTime": {
     "end_time": "2023-10-17T14:14:05.695142Z",
     "start_time": "2023-10-17T14:14:05.663865Z"
    }
   },
   "outputs": [
    {
     "data": {
      "text/html": [
       "<div>\n",
       "<style scoped>\n",
       "    .dataframe tbody tr th:only-of-type {\n",
       "        vertical-align: middle;\n",
       "    }\n",
       "\n",
       "    .dataframe tbody tr th {\n",
       "        vertical-align: top;\n",
       "    }\n",
       "\n",
       "    .dataframe thead th {\n",
       "        text-align: right;\n",
       "    }\n",
       "</style>\n",
       "<table border=\"1\" class=\"dataframe\">\n",
       "  <thead>\n",
       "    <tr style=\"text-align: right;\">\n",
       "      <th></th>\n",
       "      <th>Unnamed: 0</th>\n",
       "      <th>0</th>\n",
       "    </tr>\n",
       "  </thead>\n",
       "  <tbody>\n",
       "    <tr>\n",
       "      <th>0</th>\n",
       "      <td>0</td>\n",
       "      <td>Healthcare: No clear AI winner yet, say expert...</td>\n",
       "    </tr>\n",
       "    <tr>\n",
       "      <th>1</th>\n",
       "      <td>1</td>\n",
       "      <td>Microsoft-Activision deal approved by UK regul...</td>\n",
       "    </tr>\n",
       "    <tr>\n",
       "      <th>2</th>\n",
       "      <td>2</td>\n",
       "      <td>Microsoft closes $69 billion takeover of Activ...</td>\n",
       "    </tr>\n",
       "    <tr>\n",
       "      <th>3</th>\n",
       "      <td>3</td>\n",
       "      <td>Lululemon Athletica &amp; Hubbell Set to Join S&amp;P ...</td>\n",
       "    </tr>\n",
       "    <tr>\n",
       "      <th>4</th>\n",
       "      <td>4</td>\n",
       "      <td>Is Microsoft a Buy?</td>\n",
       "    </tr>\n",
       "  </tbody>\n",
       "</table>\n",
       "</div>"
      ],
      "text/plain": [
       "   Unnamed: 0                                                  0\n",
       "0           0  Healthcare: No clear AI winner yet, say expert...\n",
       "1           1  Microsoft-Activision deal approved by UK regul...\n",
       "2           2  Microsoft closes $69 billion takeover of Activ...\n",
       "3           3  Lululemon Athletica & Hubbell Set to Join S&P ...\n",
       "4           4                                Is Microsoft a Buy?"
      ]
     },
     "execution_count": 2,
     "metadata": {},
     "output_type": "execute_result"
    }
   ],
   "source": [
    "# Import the dataset\n",
    "df = pd.read_csv(\"Market_News\")\n",
    "df.head()"
   ]
  },
  {
   "cell_type": "code",
   "execution_count": 4,
   "metadata": {
    "ExecuteTime": {
     "end_time": "2023-10-13T22:28:58.300370Z",
     "start_time": "2023-10-13T22:28:58.065636Z"
    },
    "collapsed": false
   },
   "outputs": [
    {
     "name": "stderr",
     "output_type": "stream",
     "text": [
      "[nltk_data] Downloading package vader_lexicon to\n",
      "[nltk_data]     /Users/richardlyu/nltk_data...\n"
     ]
    },
    {
     "data": {
      "text/plain": [
       "True"
      ]
     },
     "execution_count": 4,
     "metadata": {},
     "output_type": "execute_result"
    }
   ],
   "source": [
    "# Uncomment if necessary\n",
    "# import nltk\n",
    "# nltk.download('vader_lexicon')"
   ]
  },
  {
   "cell_type": "code",
   "execution_count": 3,
   "metadata": {
    "ExecuteTime": {
     "end_time": "2023-10-17T14:14:09.236262Z",
     "start_time": "2023-10-17T14:14:09.215089Z"
    },
    "collapsed": false
   },
   "outputs": [],
   "source": [
    "analyzer = SentimentIntensityAnalyzer()"
   ]
  },
  {
   "cell_type": "code",
   "execution_count": 4,
   "metadata": {
    "ExecuteTime": {
     "end_time": "2023-10-17T14:14:13.076126Z",
     "start_time": "2023-10-17T14:14:13.056039Z"
    },
    "collapsed": false
   },
   "outputs": [
    {
     "data": {
      "text/plain": [
       "{'neg': 0.0, 'neu': 0.323, 'pos': 0.677, 'compound': 0.4939}"
      ]
     },
     "execution_count": 4,
     "metadata": {},
     "output_type": "execute_result"
    }
   ],
   "source": [
    "# Sentiment analysis example\n",
    "analyzer.polarity_scores(\"This is a good sentence.\")"
   ]
  },
  {
   "cell_type": "code",
   "execution_count": 5,
   "metadata": {
    "ExecuteTime": {
     "end_time": "2023-10-17T14:14:15.752237Z",
     "start_time": "2023-10-17T14:14:15.748227Z"
    },
    "collapsed": false
   },
   "outputs": [],
   "source": [
    "# Initialize empty list\n",
    "title = []\n",
    "neg = []\n",
    "neu = []\n",
    "pos = []\n",
    "compound = []"
   ]
  },
  {
   "cell_type": "code",
   "execution_count": 6,
   "metadata": {
    "ExecuteTime": {
     "end_time": "2023-10-17T14:14:17.078194Z",
     "start_time": "2023-10-17T14:14:17.075100Z"
    },
    "collapsed": false
   },
   "outputs": [],
   "source": [
    "# Conduct the sentiment analysis, and save results in to lists\n",
    "for i in range(len(df)):\n",
    "    sentimentDic = analyzer.polarity_scores(df.iloc[i, 1])\n",
    "    title.append(df.iloc[i, 1])\n",
    "    neg.append(sentimentDic[\"neg\"])\n",
    "    neu.append(sentimentDic[\"neu\"])\n",
    "    pos.append(sentimentDic[\"pos\"])\n",
    "    compound.append(sentimentDic[\"compound\"])"
   ]
  },
  {
   "cell_type": "code",
   "execution_count": 7,
   "metadata": {
    "ExecuteTime": {
     "end_time": "2023-10-17T14:14:18.149294Z",
     "start_time": "2023-10-17T14:14:18.138440Z"
    },
    "collapsed": false
   },
   "outputs": [],
   "source": [
    "# Form a new data frame\n",
    "sentiment = pd.DataFrame({'Title': title, 'Negative': neg, \"Neutral\": neu, \"Positive\": pos, \"Compound\": compound})"
   ]
  },
  {
   "cell_type": "code",
   "execution_count": 8,
   "metadata": {
    "ExecuteTime": {
     "end_time": "2023-10-17T14:14:18.862552Z",
     "start_time": "2023-10-17T14:14:18.840236Z"
    },
    "collapsed": false
   },
   "outputs": [
    {
     "data": {
      "text/html": [
       "<div>\n",
       "<style scoped>\n",
       "    .dataframe tbody tr th:only-of-type {\n",
       "        vertical-align: middle;\n",
       "    }\n",
       "\n",
       "    .dataframe tbody tr th {\n",
       "        vertical-align: top;\n",
       "    }\n",
       "\n",
       "    .dataframe thead th {\n",
       "        text-align: right;\n",
       "    }\n",
       "</style>\n",
       "<table border=\"1\" class=\"dataframe\">\n",
       "  <thead>\n",
       "    <tr style=\"text-align: right;\">\n",
       "      <th></th>\n",
       "      <th>Title</th>\n",
       "      <th>Negative</th>\n",
       "      <th>Neutral</th>\n",
       "      <th>Positive</th>\n",
       "      <th>Compound</th>\n",
       "    </tr>\n",
       "  </thead>\n",
       "  <tbody>\n",
       "    <tr>\n",
       "      <th>0</th>\n",
       "      <td>Healthcare: No clear AI winner yet, say expert...</td>\n",
       "      <td>0.133</td>\n",
       "      <td>0.482</td>\n",
       "      <td>0.386</td>\n",
       "      <td>0.6369</td>\n",
       "    </tr>\n",
       "    <tr>\n",
       "      <th>1</th>\n",
       "      <td>Microsoft-Activision deal approved by UK regul...</td>\n",
       "      <td>0.000</td>\n",
       "      <td>0.714</td>\n",
       "      <td>0.286</td>\n",
       "      <td>0.4215</td>\n",
       "    </tr>\n",
       "    <tr>\n",
       "      <th>2</th>\n",
       "      <td>Microsoft closes $69 billion takeover of Activ...</td>\n",
       "      <td>0.000</td>\n",
       "      <td>1.000</td>\n",
       "      <td>0.000</td>\n",
       "      <td>0.0000</td>\n",
       "    </tr>\n",
       "    <tr>\n",
       "      <th>3</th>\n",
       "      <td>Lululemon Athletica &amp; Hubbell Set to Join S&amp;P ...</td>\n",
       "      <td>0.000</td>\n",
       "      <td>0.784</td>\n",
       "      <td>0.216</td>\n",
       "      <td>0.5267</td>\n",
       "    </tr>\n",
       "    <tr>\n",
       "      <th>4</th>\n",
       "      <td>Is Microsoft a Buy?</td>\n",
       "      <td>0.000</td>\n",
       "      <td>1.000</td>\n",
       "      <td>0.000</td>\n",
       "      <td>0.0000</td>\n",
       "    </tr>\n",
       "    <tr>\n",
       "      <th>5</th>\n",
       "      <td>Microsoft spent two years trying to buy Activi...</td>\n",
       "      <td>0.000</td>\n",
       "      <td>0.847</td>\n",
       "      <td>0.153</td>\n",
       "      <td>0.4404</td>\n",
       "    </tr>\n",
       "    <tr>\n",
       "      <th>6</th>\n",
       "      <td>Microsoft officially owns Activision Blizzard,...</td>\n",
       "      <td>0.224</td>\n",
       "      <td>0.776</td>\n",
       "      <td>0.000</td>\n",
       "      <td>-0.3818</td>\n",
       "    </tr>\n",
       "    <tr>\n",
       "      <th>7</th>\n",
       "      <td>Microsoft closes $69 billion Activision deal a...</td>\n",
       "      <td>0.000</td>\n",
       "      <td>1.000</td>\n",
       "      <td>0.000</td>\n",
       "      <td>0.0000</td>\n",
       "    </tr>\n",
       "    <tr>\n",
       "      <th>8</th>\n",
       "      <td>3 Red-Hot Growth Stocks to Buy in 2023 and Beyond</td>\n",
       "      <td>0.000</td>\n",
       "      <td>0.755</td>\n",
       "      <td>0.245</td>\n",
       "      <td>0.3818</td>\n",
       "    </tr>\n",
       "    <tr>\n",
       "      <th>9</th>\n",
       "      <td>How a slick accounting maneuver led to a $29 b...</td>\n",
       "      <td>0.000</td>\n",
       "      <td>1.000</td>\n",
       "      <td>0.000</td>\n",
       "      <td>0.0000</td>\n",
       "    </tr>\n",
       "    <tr>\n",
       "      <th>10</th>\n",
       "      <td>Microsoft's Next Act: Betting On AI To Regain ...</td>\n",
       "      <td>0.000</td>\n",
       "      <td>1.000</td>\n",
       "      <td>0.000</td>\n",
       "      <td>0.0000</td>\n",
       "    </tr>\n",
       "    <tr>\n",
       "      <th>11</th>\n",
       "      <td>Microsoft Closed Its Activision Deal. These St...</td>\n",
       "      <td>0.000</td>\n",
       "      <td>0.726</td>\n",
       "      <td>0.274</td>\n",
       "      <td>0.5267</td>\n",
       "    </tr>\n",
       "    <tr>\n",
       "      <th>12</th>\n",
       "      <td>Microsoft and Activision Finally Close Merger....</td>\n",
       "      <td>0.000</td>\n",
       "      <td>1.000</td>\n",
       "      <td>0.000</td>\n",
       "      <td>0.0000</td>\n",
       "    </tr>\n",
       "    <tr>\n",
       "      <th>13</th>\n",
       "      <td>Microsoft closes $69 billion takeover of Activ...</td>\n",
       "      <td>0.000</td>\n",
       "      <td>1.000</td>\n",
       "      <td>0.000</td>\n",
       "      <td>0.0000</td>\n",
       "    </tr>\n",
       "    <tr>\n",
       "      <th>14</th>\n",
       "      <td>World faces 'most dangerous time' in decades, ...</td>\n",
       "      <td>0.313</td>\n",
       "      <td>0.522</td>\n",
       "      <td>0.165</td>\n",
       "      <td>-0.3094</td>\n",
       "    </tr>\n",
       "    <tr>\n",
       "      <th>15</th>\n",
       "      <td>Microsoft completes $69B Activision Blizzard a...</td>\n",
       "      <td>0.000</td>\n",
       "      <td>1.000</td>\n",
       "      <td>0.000</td>\n",
       "      <td>0.0000</td>\n",
       "    </tr>\n",
       "    <tr>\n",
       "      <th>16</th>\n",
       "      <td>Microsoft and Activision Finally Close Merger....</td>\n",
       "      <td>0.000</td>\n",
       "      <td>1.000</td>\n",
       "      <td>0.000</td>\n",
       "      <td>0.0000</td>\n",
       "    </tr>\n",
       "    <tr>\n",
       "      <th>17</th>\n",
       "      <td>UK Authority Approves Microsoft's $69B Activis...</td>\n",
       "      <td>0.000</td>\n",
       "      <td>0.653</td>\n",
       "      <td>0.347</td>\n",
       "      <td>0.7579</td>\n",
       "    </tr>\n",
       "  </tbody>\n",
       "</table>\n",
       "</div>"
      ],
      "text/plain": [
       "                                                Title  Negative  Neutral  \\\n",
       "0   Healthcare: No clear AI winner yet, say expert...     0.133    0.482   \n",
       "1   Microsoft-Activision deal approved by UK regul...     0.000    0.714   \n",
       "2   Microsoft closes $69 billion takeover of Activ...     0.000    1.000   \n",
       "3   Lululemon Athletica & Hubbell Set to Join S&P ...     0.000    0.784   \n",
       "4                                 Is Microsoft a Buy?     0.000    1.000   \n",
       "5   Microsoft spent two years trying to buy Activi...     0.000    0.847   \n",
       "6   Microsoft officially owns Activision Blizzard,...     0.224    0.776   \n",
       "7   Microsoft closes $69 billion Activision deal a...     0.000    1.000   \n",
       "8   3 Red-Hot Growth Stocks to Buy in 2023 and Beyond     0.000    0.755   \n",
       "9   How a slick accounting maneuver led to a $29 b...     0.000    1.000   \n",
       "10  Microsoft's Next Act: Betting On AI To Regain ...     0.000    1.000   \n",
       "11  Microsoft Closed Its Activision Deal. These St...     0.000    0.726   \n",
       "12  Microsoft and Activision Finally Close Merger....     0.000    1.000   \n",
       "13  Microsoft closes $69 billion takeover of Activ...     0.000    1.000   \n",
       "14  World faces 'most dangerous time' in decades, ...     0.313    0.522   \n",
       "15  Microsoft completes $69B Activision Blizzard a...     0.000    1.000   \n",
       "16  Microsoft and Activision Finally Close Merger....     0.000    1.000   \n",
       "17  UK Authority Approves Microsoft's $69B Activis...     0.000    0.653   \n",
       "\n",
       "    Positive  Compound  \n",
       "0      0.386    0.6369  \n",
       "1      0.286    0.4215  \n",
       "2      0.000    0.0000  \n",
       "3      0.216    0.5267  \n",
       "4      0.000    0.0000  \n",
       "5      0.153    0.4404  \n",
       "6      0.000   -0.3818  \n",
       "7      0.000    0.0000  \n",
       "8      0.245    0.3818  \n",
       "9      0.000    0.0000  \n",
       "10     0.000    0.0000  \n",
       "11     0.274    0.5267  \n",
       "12     0.000    0.0000  \n",
       "13     0.000    0.0000  \n",
       "14     0.165   -0.3094  \n",
       "15     0.000    0.0000  \n",
       "16     0.000    0.0000  \n",
       "17     0.347    0.7579  "
      ]
     },
     "execution_count": 8,
     "metadata": {},
     "output_type": "execute_result"
    }
   ],
   "source": [
    "sentiment"
   ]
  },
  {
   "cell_type": "code",
   "execution_count": 9,
   "metadata": {
    "ExecuteTime": {
     "end_time": "2023-10-17T14:14:21.081815Z",
     "start_time": "2023-10-17T14:14:21.066172Z"
    },
    "collapsed": false
   },
   "outputs": [
    {
     "data": {
      "text/html": [
       "<div>\n",
       "<style scoped>\n",
       "    .dataframe tbody tr th:only-of-type {\n",
       "        vertical-align: middle;\n",
       "    }\n",
       "\n",
       "    .dataframe tbody tr th {\n",
       "        vertical-align: top;\n",
       "    }\n",
       "\n",
       "    .dataframe thead th {\n",
       "        text-align: right;\n",
       "    }\n",
       "</style>\n",
       "<table border=\"1\" class=\"dataframe\">\n",
       "  <thead>\n",
       "    <tr style=\"text-align: right;\">\n",
       "      <th></th>\n",
       "      <th>Negative</th>\n",
       "      <th>Neutral</th>\n",
       "      <th>Positive</th>\n",
       "      <th>Compound</th>\n",
       "    </tr>\n",
       "  </thead>\n",
       "  <tbody>\n",
       "    <tr>\n",
       "      <th>count</th>\n",
       "      <td>18.000000</td>\n",
       "      <td>18.000000</td>\n",
       "      <td>18.000000</td>\n",
       "      <td>18.000000</td>\n",
       "    </tr>\n",
       "    <tr>\n",
       "      <th>mean</th>\n",
       "      <td>0.037222</td>\n",
       "      <td>0.847722</td>\n",
       "      <td>0.115111</td>\n",
       "      <td>0.166706</td>\n",
       "    </tr>\n",
       "    <tr>\n",
       "      <th>std</th>\n",
       "      <td>0.091038</td>\n",
       "      <td>0.177724</td>\n",
       "      <td>0.142474</td>\n",
       "      <td>0.324811</td>\n",
       "    </tr>\n",
       "    <tr>\n",
       "      <th>min</th>\n",
       "      <td>0.000000</td>\n",
       "      <td>0.482000</td>\n",
       "      <td>0.000000</td>\n",
       "      <td>-0.381800</td>\n",
       "    </tr>\n",
       "    <tr>\n",
       "      <th>25%</th>\n",
       "      <td>0.000000</td>\n",
       "      <td>0.733250</td>\n",
       "      <td>0.000000</td>\n",
       "      <td>0.000000</td>\n",
       "    </tr>\n",
       "    <tr>\n",
       "      <th>50%</th>\n",
       "      <td>0.000000</td>\n",
       "      <td>0.923500</td>\n",
       "      <td>0.000000</td>\n",
       "      <td>0.000000</td>\n",
       "    </tr>\n",
       "    <tr>\n",
       "      <th>75%</th>\n",
       "      <td>0.000000</td>\n",
       "      <td>1.000000</td>\n",
       "      <td>0.237750</td>\n",
       "      <td>0.435675</td>\n",
       "    </tr>\n",
       "    <tr>\n",
       "      <th>max</th>\n",
       "      <td>0.313000</td>\n",
       "      <td>1.000000</td>\n",
       "      <td>0.386000</td>\n",
       "      <td>0.757900</td>\n",
       "    </tr>\n",
       "  </tbody>\n",
       "</table>\n",
       "</div>"
      ],
      "text/plain": [
       "        Negative    Neutral   Positive   Compound\n",
       "count  18.000000  18.000000  18.000000  18.000000\n",
       "mean    0.037222   0.847722   0.115111   0.166706\n",
       "std     0.091038   0.177724   0.142474   0.324811\n",
       "min     0.000000   0.482000   0.000000  -0.381800\n",
       "25%     0.000000   0.733250   0.000000   0.000000\n",
       "50%     0.000000   0.923500   0.000000   0.000000\n",
       "75%     0.000000   1.000000   0.237750   0.435675\n",
       "max     0.313000   1.000000   0.386000   0.757900"
      ]
     },
     "execution_count": 9,
     "metadata": {},
     "output_type": "execute_result"
    }
   ],
   "source": [
    "sentiment.describe()"
   ]
  }
 ],
 "metadata": {
  "kernelspec": {
   "display_name": "base",
   "language": "python",
   "name": "python3"
  },
  "language_info": {
   "codemirror_mode": {
    "name": "ipython",
    "version": 3
   },
   "file_extension": ".py",
   "mimetype": "text/x-python",
   "name": "python",
   "nbconvert_exporter": "python",
   "pygments_lexer": "ipython3",
   "version": "3.9.13"
  }
 },
 "nbformat": 4,
 "nbformat_minor": 2
}

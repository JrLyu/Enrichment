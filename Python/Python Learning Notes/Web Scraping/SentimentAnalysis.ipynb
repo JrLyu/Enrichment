{
 "cells": [
  {
   "cell_type": "code",
   "execution_count": 6,
   "metadata": {
    "ExecuteTime": {
     "end_time": "2023-10-17T23:26:31.671356Z",
     "start_time": "2023-10-17T23:26:31.664859Z"
    }
   },
   "outputs": [],
   "source": [
    "# Import modules\n",
    "from nltk.sentiment.vader import SentimentIntensityAnalyzer\n",
    "import pandas as pd"
   ]
  },
  {
   "cell_type": "code",
   "execution_count": 8,
   "metadata": {
    "ExecuteTime": {
     "end_time": "2023-10-17T23:26:40.396285Z",
     "start_time": "2023-10-17T23:26:40.367827Z"
    }
   },
   "outputs": [
    {
     "data": {
      "text/plain": "   Unnamed: 0                                                  0\n0           0  Goldman's profit declines amid costly retreat ...\n1           1      Bank of America profit rises 10%Yahoo Finance\n2           2  Bank execs warn of risks despite solid earning...\n3           3  Bank earnings: Could credit quality be this qu...\n4           4  JPMorgan Chase Shows Its Resilience -- Is the ...",
      "text/html": "<div>\n<style scoped>\n    .dataframe tbody tr th:only-of-type {\n        vertical-align: middle;\n    }\n\n    .dataframe tbody tr th {\n        vertical-align: top;\n    }\n\n    .dataframe thead th {\n        text-align: right;\n    }\n</style>\n<table border=\"1\" class=\"dataframe\">\n  <thead>\n    <tr style=\"text-align: right;\">\n      <th></th>\n      <th>Unnamed: 0</th>\n      <th>0</th>\n    </tr>\n  </thead>\n  <tbody>\n    <tr>\n      <th>0</th>\n      <td>0</td>\n      <td>Goldman's profit declines amid costly retreat ...</td>\n    </tr>\n    <tr>\n      <th>1</th>\n      <td>1</td>\n      <td>Bank of America profit rises 10%Yahoo Finance</td>\n    </tr>\n    <tr>\n      <th>2</th>\n      <td>2</td>\n      <td>Bank execs warn of risks despite solid earning...</td>\n    </tr>\n    <tr>\n      <th>3</th>\n      <td>3</td>\n      <td>Bank earnings: Could credit quality be this qu...</td>\n    </tr>\n    <tr>\n      <th>4</th>\n      <td>4</td>\n      <td>JPMorgan Chase Shows Its Resilience -- Is the ...</td>\n    </tr>\n  </tbody>\n</table>\n</div>"
     },
     "execution_count": 8,
     "metadata": {},
     "output_type": "execute_result"
    }
   ],
   "source": [
    "# Import the dataset\n",
    "df = pd.read_csv(\"Market_News.csv\")\n",
    "df.head()"
   ]
  },
  {
   "cell_type": "code",
   "execution_count": 9,
   "metadata": {
    "collapsed": false,
    "ExecuteTime": {
     "end_time": "2023-10-17T23:26:41.610352Z",
     "start_time": "2023-10-17T23:26:41.586641Z"
    }
   },
   "outputs": [],
   "source": [
    "# Uncomment if necessary\n",
    "# import nltk\n",
    "# nltk.download('vader_lexicon')"
   ]
  },
  {
   "cell_type": "code",
   "execution_count": 10,
   "metadata": {
    "collapsed": false,
    "ExecuteTime": {
     "end_time": "2023-10-17T23:26:42.576366Z",
     "start_time": "2023-10-17T23:26:42.565100Z"
    }
   },
   "outputs": [],
   "source": [
    "analyzer = SentimentIntensityAnalyzer()"
   ]
  },
  {
   "cell_type": "code",
   "execution_count": 11,
   "metadata": {
    "collapsed": false,
    "ExecuteTime": {
     "end_time": "2023-10-17T23:26:43.879970Z",
     "start_time": "2023-10-17T23:26:43.875595Z"
    }
   },
   "outputs": [
    {
     "data": {
      "text/plain": "{'neg': 0.0, 'neu': 0.323, 'pos': 0.677, 'compound': 0.4939}"
     },
     "execution_count": 11,
     "metadata": {},
     "output_type": "execute_result"
    }
   ],
   "source": [
    "# Sentiment analysis example\n",
    "analyzer.polarity_scores(\"This is a good sentence.\")"
   ]
  },
  {
   "cell_type": "code",
   "execution_count": 12,
   "metadata": {
    "collapsed": false,
    "ExecuteTime": {
     "end_time": "2023-10-17T23:26:44.619520Z",
     "start_time": "2023-10-17T23:26:44.614582Z"
    }
   },
   "outputs": [],
   "source": [
    "# Initialize empty list\n",
    "title = []\n",
    "neg = []\n",
    "neu = []\n",
    "pos = []\n",
    "compound = []"
   ]
  },
  {
   "cell_type": "code",
   "execution_count": 13,
   "metadata": {
    "collapsed": false,
    "ExecuteTime": {
     "end_time": "2023-10-17T23:26:45.336790Z",
     "start_time": "2023-10-17T23:26:45.333479Z"
    }
   },
   "outputs": [],
   "source": [
    "# Conduct the sentiment analysis, and save results in to lists\n",
    "for i in range(len(df)):\n",
    "    sentimentDic = analyzer.polarity_scores(df.iloc[i, 1])\n",
    "    title.append(df.iloc[i, 1])\n",
    "    neg.append(sentimentDic[\"neg\"])\n",
    "    neu.append(sentimentDic[\"neu\"])\n",
    "    pos.append(sentimentDic[\"pos\"])\n",
    "    compound.append(sentimentDic[\"compound\"])"
   ]
  },
  {
   "cell_type": "code",
   "execution_count": 14,
   "metadata": {
    "collapsed": false,
    "ExecuteTime": {
     "end_time": "2023-10-17T23:26:46.054859Z",
     "start_time": "2023-10-17T23:26:46.050805Z"
    }
   },
   "outputs": [],
   "source": [
    "# Form a new data frame\n",
    "sentiment = pd.DataFrame({'Title': title, 'Negative': neg, \"Neutral\": neu, \"Positive\": pos, \"Compound\": compound})"
   ]
  },
  {
   "cell_type": "code",
   "execution_count": 15,
   "metadata": {
    "collapsed": false,
    "ExecuteTime": {
     "end_time": "2023-10-17T23:26:46.961449Z",
     "start_time": "2023-10-17T23:26:46.940163Z"
    }
   },
   "outputs": [
    {
     "data": {
      "text/plain": "                                                Title  Negative  Neutral  \\\n0   Goldman's profit declines amid costly retreat ...     0.116    0.496   \n1       Bank of America profit rises 10%Yahoo Finance     0.000    0.674   \n2   Bank execs warn of risks despite solid earning...     0.382    0.618   \n3   Bank earnings: Could credit quality be this qu...     0.185    0.615   \n4   JPMorgan Chase Shows Its Resilience -- Is the ...     0.000    1.000   \n5   Earnings season kicks off with a stark warning...     0.179    0.821   \n6   Why you should carefully consider what Jamie D...     0.000    0.897   \n7   ‘Most dangerous time the world has seen in dec...     0.249    0.751   \n8   Chase Travel Welcomes Four Seasons Hotels and ...     0.000    0.891   \n9   Is JPMorgan Diversified Return Emerging Market...     0.000    0.784   \n10  Is Invesco DB US Dollar Index Bullish ETF (UUP...     0.000    0.784   \n11  Is iShares Core Dividend Growth ETF (DGRO) a S...     0.000    0.604   \n12  JPMorgan Returns to Green Bond Market for Firs...     0.000    1.000   \n13  Wells Fargo, JPMorgan Sell $13 Billion of Bond...     0.000    0.800   \n14  JPMorgan Chase to Present at the BancAnalysts ...     0.000    1.000   \n15  Raymond James Teams with JPMorgan Chase for Ta...     0.000    1.000   \n\n    Positive  Compound  \n0      0.388    0.5106  \n1      0.326    0.4404  \n2      0.000   -0.4486  \n3      0.200    0.0516  \n4      0.000    0.0000  \n5      0.000   -0.3400  \n6      0.103    0.1280  \n7      0.000   -0.8074  \n8      0.109    0.4019  \n9      0.216    0.5106  \n10     0.216    0.5106  \n11     0.396    0.7096  \n12     0.000    0.0000  \n13     0.200    0.2500  \n14     0.000    0.0000  \n15     0.000    0.0000  ",
      "text/html": "<div>\n<style scoped>\n    .dataframe tbody tr th:only-of-type {\n        vertical-align: middle;\n    }\n\n    .dataframe tbody tr th {\n        vertical-align: top;\n    }\n\n    .dataframe thead th {\n        text-align: right;\n    }\n</style>\n<table border=\"1\" class=\"dataframe\">\n  <thead>\n    <tr style=\"text-align: right;\">\n      <th></th>\n      <th>Title</th>\n      <th>Negative</th>\n      <th>Neutral</th>\n      <th>Positive</th>\n      <th>Compound</th>\n    </tr>\n  </thead>\n  <tbody>\n    <tr>\n      <th>0</th>\n      <td>Goldman's profit declines amid costly retreat ...</td>\n      <td>0.116</td>\n      <td>0.496</td>\n      <td>0.388</td>\n      <td>0.5106</td>\n    </tr>\n    <tr>\n      <th>1</th>\n      <td>Bank of America profit rises 10%Yahoo Finance</td>\n      <td>0.000</td>\n      <td>0.674</td>\n      <td>0.326</td>\n      <td>0.4404</td>\n    </tr>\n    <tr>\n      <th>2</th>\n      <td>Bank execs warn of risks despite solid earning...</td>\n      <td>0.382</td>\n      <td>0.618</td>\n      <td>0.000</td>\n      <td>-0.4486</td>\n    </tr>\n    <tr>\n      <th>3</th>\n      <td>Bank earnings: Could credit quality be this qu...</td>\n      <td>0.185</td>\n      <td>0.615</td>\n      <td>0.200</td>\n      <td>0.0516</td>\n    </tr>\n    <tr>\n      <th>4</th>\n      <td>JPMorgan Chase Shows Its Resilience -- Is the ...</td>\n      <td>0.000</td>\n      <td>1.000</td>\n      <td>0.000</td>\n      <td>0.0000</td>\n    </tr>\n    <tr>\n      <th>5</th>\n      <td>Earnings season kicks off with a stark warning...</td>\n      <td>0.179</td>\n      <td>0.821</td>\n      <td>0.000</td>\n      <td>-0.3400</td>\n    </tr>\n    <tr>\n      <th>6</th>\n      <td>Why you should carefully consider what Jamie D...</td>\n      <td>0.000</td>\n      <td>0.897</td>\n      <td>0.103</td>\n      <td>0.1280</td>\n    </tr>\n    <tr>\n      <th>7</th>\n      <td>‘Most dangerous time the world has seen in dec...</td>\n      <td>0.249</td>\n      <td>0.751</td>\n      <td>0.000</td>\n      <td>-0.8074</td>\n    </tr>\n    <tr>\n      <th>8</th>\n      <td>Chase Travel Welcomes Four Seasons Hotels and ...</td>\n      <td>0.000</td>\n      <td>0.891</td>\n      <td>0.109</td>\n      <td>0.4019</td>\n    </tr>\n    <tr>\n      <th>9</th>\n      <td>Is JPMorgan Diversified Return Emerging Market...</td>\n      <td>0.000</td>\n      <td>0.784</td>\n      <td>0.216</td>\n      <td>0.5106</td>\n    </tr>\n    <tr>\n      <th>10</th>\n      <td>Is Invesco DB US Dollar Index Bullish ETF (UUP...</td>\n      <td>0.000</td>\n      <td>0.784</td>\n      <td>0.216</td>\n      <td>0.5106</td>\n    </tr>\n    <tr>\n      <th>11</th>\n      <td>Is iShares Core Dividend Growth ETF (DGRO) a S...</td>\n      <td>0.000</td>\n      <td>0.604</td>\n      <td>0.396</td>\n      <td>0.7096</td>\n    </tr>\n    <tr>\n      <th>12</th>\n      <td>JPMorgan Returns to Green Bond Market for Firs...</td>\n      <td>0.000</td>\n      <td>1.000</td>\n      <td>0.000</td>\n      <td>0.0000</td>\n    </tr>\n    <tr>\n      <th>13</th>\n      <td>Wells Fargo, JPMorgan Sell $13 Billion of Bond...</td>\n      <td>0.000</td>\n      <td>0.800</td>\n      <td>0.200</td>\n      <td>0.2500</td>\n    </tr>\n    <tr>\n      <th>14</th>\n      <td>JPMorgan Chase to Present at the BancAnalysts ...</td>\n      <td>0.000</td>\n      <td>1.000</td>\n      <td>0.000</td>\n      <td>0.0000</td>\n    </tr>\n    <tr>\n      <th>15</th>\n      <td>Raymond James Teams with JPMorgan Chase for Ta...</td>\n      <td>0.000</td>\n      <td>1.000</td>\n      <td>0.000</td>\n      <td>0.0000</td>\n    </tr>\n  </tbody>\n</table>\n</div>"
     },
     "execution_count": 15,
     "metadata": {},
     "output_type": "execute_result"
    }
   ],
   "source": [
    "sentiment"
   ]
  },
  {
   "cell_type": "code",
   "execution_count": 9,
   "metadata": {
    "ExecuteTime": {
     "end_time": "2023-10-17T14:14:21.081815Z",
     "start_time": "2023-10-17T14:14:21.066172Z"
    },
    "collapsed": false
   },
   "outputs": [
    {
     "data": {
      "text/html": [
       "<div>\n",
       "<style scoped>\n",
       "    .dataframe tbody tr th:only-of-type {\n",
       "        vertical-align: middle;\n",
       "    }\n",
       "\n",
       "    .dataframe tbody tr th {\n",
       "        vertical-align: top;\n",
       "    }\n",
       "\n",
       "    .dataframe thead th {\n",
       "        text-align: right;\n",
       "    }\n",
       "</style>\n",
       "<table border=\"1\" class=\"dataframe\">\n",
       "  <thead>\n",
       "    <tr style=\"text-align: right;\">\n",
       "      <th></th>\n",
       "      <th>Negative</th>\n",
       "      <th>Neutral</th>\n",
       "      <th>Positive</th>\n",
       "      <th>Compound</th>\n",
       "    </tr>\n",
       "  </thead>\n",
       "  <tbody>\n",
       "    <tr>\n",
       "      <th>count</th>\n",
       "      <td>18.000000</td>\n",
       "      <td>18.000000</td>\n",
       "      <td>18.000000</td>\n",
       "      <td>18.000000</td>\n",
       "    </tr>\n",
       "    <tr>\n",
       "      <th>mean</th>\n",
       "      <td>0.037222</td>\n",
       "      <td>0.847722</td>\n",
       "      <td>0.115111</td>\n",
       "      <td>0.166706</td>\n",
       "    </tr>\n",
       "    <tr>\n",
       "      <th>std</th>\n",
       "      <td>0.091038</td>\n",
       "      <td>0.177724</td>\n",
       "      <td>0.142474</td>\n",
       "      <td>0.324811</td>\n",
       "    </tr>\n",
       "    <tr>\n",
       "      <th>min</th>\n",
       "      <td>0.000000</td>\n",
       "      <td>0.482000</td>\n",
       "      <td>0.000000</td>\n",
       "      <td>-0.381800</td>\n",
       "    </tr>\n",
       "    <tr>\n",
       "      <th>25%</th>\n",
       "      <td>0.000000</td>\n",
       "      <td>0.733250</td>\n",
       "      <td>0.000000</td>\n",
       "      <td>0.000000</td>\n",
       "    </tr>\n",
       "    <tr>\n",
       "      <th>50%</th>\n",
       "      <td>0.000000</td>\n",
       "      <td>0.923500</td>\n",
       "      <td>0.000000</td>\n",
       "      <td>0.000000</td>\n",
       "    </tr>\n",
       "    <tr>\n",
       "      <th>75%</th>\n",
       "      <td>0.000000</td>\n",
       "      <td>1.000000</td>\n",
       "      <td>0.237750</td>\n",
       "      <td>0.435675</td>\n",
       "    </tr>\n",
       "    <tr>\n",
       "      <th>max</th>\n",
       "      <td>0.313000</td>\n",
       "      <td>1.000000</td>\n",
       "      <td>0.386000</td>\n",
       "      <td>0.757900</td>\n",
       "    </tr>\n",
       "  </tbody>\n",
       "</table>\n",
       "</div>"
      ],
      "text/plain": [
       "        Negative    Neutral   Positive   Compound\n",
       "count  18.000000  18.000000  18.000000  18.000000\n",
       "mean    0.037222   0.847722   0.115111   0.166706\n",
       "std     0.091038   0.177724   0.142474   0.324811\n",
       "min     0.000000   0.482000   0.000000  -0.381800\n",
       "25%     0.000000   0.733250   0.000000   0.000000\n",
       "50%     0.000000   0.923500   0.000000   0.000000\n",
       "75%     0.000000   1.000000   0.237750   0.435675\n",
       "max     0.313000   1.000000   0.386000   0.757900"
      ]
     },
     "execution_count": 9,
     "metadata": {},
     "output_type": "execute_result"
    }
   ],
   "source": [
    "sentiment.describe()"
   ]
  },
  {
   "cell_type": "code",
   "execution_count": null,
   "outputs": [],
   "source": [],
   "metadata": {
    "collapsed": false
   }
  }
 ],
 "metadata": {
  "kernelspec": {
   "display_name": "base",
   "language": "python",
   "name": "python3"
  },
  "language_info": {
   "codemirror_mode": {
    "name": "ipython",
    "version": 3
   },
   "file_extension": ".py",
   "mimetype": "text/x-python",
   "name": "python",
   "nbconvert_exporter": "python",
   "pygments_lexer": "ipython3",
   "version": "3.9.13"
  }
 },
 "nbformat": 4,
 "nbformat_minor": 2
}
